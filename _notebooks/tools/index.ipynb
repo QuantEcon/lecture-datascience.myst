{
 "cells": [
  {
   "cell_type": "markdown",
   "id": "e9332472",
   "metadata": {},
   "source": [
    "# Data Science Tools\n",
    "\n",
    "In this part of the course we will piece together the skills that we have learned so far, to build a set of tools that we can use to analyze and understand data."
   ]
  },
  {
   "cell_type": "markdown",
   "id": "e2ce8c7a",
   "metadata": {},
   "source": [
    "##  [Intermediate Plotting](https://datascience.quantecon.org/matplotlib.html)"
   ]
  },
  {
   "cell_type": "markdown",
   "id": "df114c3d",
   "metadata": {},
   "source": [
    "##  [Mapping in Python](https://datascience.quantecon.org/maps.html)"
   ]
  },
  {
   "cell_type": "markdown",
   "id": "c92c53d5",
   "metadata": {},
   "source": [
    "##  [Data Visualization: Rules and Guidelines](https://datascience.quantecon.org/visualization_rules.html)"
   ]
  },
  {
   "cell_type": "markdown",
   "id": "81608b03",
   "metadata": {},
   "source": [
    "##  [Regression](https://datascience.quantecon.org/regression.html)"
   ]
  },
  {
   "cell_type": "markdown",
   "id": "b2aeafda",
   "metadata": {},
   "source": [
    "##  [Classification](https://datascience.quantecon.org/classification.html)"
   ]
  }
 ],
 "metadata": {
  "date": 1738727698.2651472,
  "filename": "index.md",
  "kernelspec": {
   "display_name": "Python",
   "language": "python3",
   "name": "python3"
  },
  "title": "Data Science Tools"
 },
 "nbformat": 4,
 "nbformat_minor": 5
}