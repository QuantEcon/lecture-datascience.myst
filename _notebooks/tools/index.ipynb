{
 "cells": [
  {
   "cell_type": "markdown",
   "id": "68e535f7",
   "metadata": {},
   "source": [
    "# Data Science Tools\n",
    "\n",
    "In this part of the course we will piece together the skills that we have learned so far, to build a set of tools that we can use to analyze and understand data."
   ]
  },
  {
   "cell_type": "markdown",
   "id": "199c9ada",
   "metadata": {},
   "source": [
    "##  [Intermediate Plotting](https://datascience.quantecon.org/matplotlib.html)"
   ]
  },
  {
   "cell_type": "markdown",
   "id": "cbd55339",
   "metadata": {},
   "source": [
    "##  [Mapping in Python](https://datascience.quantecon.org/maps.html)"
   ]
  },
  {
   "cell_type": "markdown",
   "id": "6f690d68",
   "metadata": {},
   "source": [
    "##  [Data Visualization: Rules and Guidelines](https://datascience.quantecon.org/visualization_rules.html)"
   ]
  },
  {
   "cell_type": "markdown",
   "id": "9a0666fd",
   "metadata": {},
   "source": [
    "##  [Regression](https://datascience.quantecon.org/regression.html)"
   ]
  },
  {
   "cell_type": "markdown",
   "id": "a4eaf2b2",
   "metadata": {},
   "source": [
    "##  [Classification](https://datascience.quantecon.org/classification.html)"
   ]
  }
 ],
 "metadata": {
  "date": 1688529289.8246715,
  "filename": "index.md",
  "kernelspec": {
   "display_name": "Python",
   "language": "python3",
   "name": "python3"
  },
  "title": "Data Science Tools"
 },
 "nbformat": 4,
 "nbformat_minor": 5
}