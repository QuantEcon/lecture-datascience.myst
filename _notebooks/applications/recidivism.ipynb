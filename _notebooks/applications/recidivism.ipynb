{
 "cells": [
  {
   "cell_type": "markdown",
   "id": "09f53580",
   "metadata": {},
   "source": [
    "# Case Study: Recidivism\n",
    "\n",
    "**Co-authors**\n",
    "\n",
    "> - [Paul Schrimpf *UBC*](https://economics.ubc.ca/faculty-and-staff/paul-schrimpf/)  \n",
    "- [Arnav Sood *UBC*](https://arnavsood.com)  \n",
    "\n",
    "\n",
    "\n",
    "**Prerequisites**\n",
    "\n",
    "- [matplotlib Introduction](https://datascience.quantecon.org/../pandas/matplotlib.html)  \n",
    "- [Visualization Rules](https://datascience.quantecon.org/visualization_rules.html)  \n",
    "- [Regression](https://datascience.quantecon.org/regression.html)  \n",
    "\n",
    "\n",
    "**Outcomes**\n",
    "\n",
    "- See an end-to-end data science exercise  \n",
    "- Application of regression  "
   ]
  },
  {
   "cell_type": "code",
   "execution_count": null,
   "id": "f513aed4",
   "metadata": {
    "hide-output": false
   },
   "outputs": [],
   "source": [
    "# Uncomment following line to install on colab\n",
    "#! pip install fiona geopandas xgboost gensim folium pyLDAvis descartes"
   ]
  },
  {
   "cell_type": "code",
   "execution_count": null,
   "id": "5799d825",
   "metadata": {
    "hide-output": false
   },
   "outputs": [],
   "source": [
    "import matplotlib.pyplot as plt\n",
    "import numpy as np\n",
    "import pandas as pd\n",
    "import seaborn as sns\n",
    "\n",
    "from sklearn import (\n",
    "    linear_model, metrics, neural_network, pipeline, preprocessing, model_selection\n",
    ")\n",
    "\n",
    "%matplotlib inline"
   ]
  },
  {
   "cell_type": "markdown",
   "id": "37737960",
   "metadata": {},
   "source": [
    "## Introduction to Recidivism\n",
    "\n",
    "Recidivism is the tendency for an individual who has previously committed a crime to commit another crime\n",
    "in the future.\n",
    "\n",
    "One key input to a judge’s sentencing decision is how likely a given convict is to re-offend, or recidivate.\n",
    "\n",
    "In an effort to assist the legal system with sentencing guidelines, data scientists have attempted\n",
    "to predict an individual’s risk of recidivism from known observables.\n",
    "\n",
    "Some are concerned that this process may exhibit prejudice, either through biased inputs\n",
    "or through statistical discrimination.\n",
    "\n",
    "For example,\n",
    "\n",
    "1. Biased inputs: Imagine that a judge often writes harsher sentences to people of a particular race or gender. If an algorithm is trained to reproduce the sentences of this judge, the bias will be propagated by the algorithm.  \n",
    "1. Statistical discrimination: Imagine that two variables (say race and income) are correlated, and one of them (say income) is correlated with the risk of recidivism. If income is unobserved, then an otherwise unbiased method would discriminate based on race, even if race has nothing to say about recidivism after controlling for income.  \n",
    "\n",
    "\n",
    "This has given rise to serious discussions about the moral obligations data scientists have to\n",
    "those who are affected by their tools.\n",
    "\n",
    "We will not take a stance today on our moral obligations, but we believe this is an important\n",
    "precursor to any statistical work with public policy applications.\n",
    "\n",
    "One predictive tool used by various courts in the United States is\n",
    "called COMPAS (Correctional Offender Management Profiling for Alternative Sanctions).\n",
    "\n",
    "We will be following a [Pro Publica](https://www.propublica.org/article/machine-bias-risk-assessments-in-criminal-sentencing)\n",
    "article that analyzes the output of COMPAS.\n",
    "\n",
    "The findings of the article include:\n",
    "\n",
    "- Black defendants were often predicted to be at a higher risk of recidivism than they actually were.  \n",
    "- White defendants were often predicted to be less risky than they were.  \n",
    "- Black defendants were twice as likely as white defendants to be misclassified as being a higher\n",
    "  risk of violent recidivism.  \n",
    "- Even when controlling for prior crimes, future recidivism, age, and gender, black defendants were\n",
    "  77 percent more likely to be assigned higher risk scores than white defendants.  "
   ]
  },
  {
   "cell_type": "markdown",
   "id": "24a9a0b9",
   "metadata": {},
   "source": [
    "## Data Description\n",
    "\n",
    "The authors of this article filed a public records request with the Broward County Sheriff’s office\n",
    "in Florida.\n",
    "\n",
    "Luckily for us, they did a significant amount of the legwork which is described in this\n",
    "[methodology article](https://www.propublica.org/article/how-we-analyzed-the-compas-recidivism-algorithm).\n",
    "\n",
    "We download the data below."
   ]
  },
  {
   "cell_type": "code",
   "execution_count": null,
   "id": "bb6e1f11",
   "metadata": {
    "hide-output": false
   },
   "outputs": [],
   "source": [
    "data_url = \"https://raw.githubusercontent.com/propublica/compas-analysis\"\n",
    "data_url += \"/master/compas-scores-two-years.csv\"\n",
    "\n",
    "df = pd.read_csv(data_url)\n",
    "df.head()"
   ]
  },
  {
   "cell_type": "markdown",
   "id": "075d5c97",
   "metadata": {},
   "source": [
    "We summarize some of the variables that we will use.\n",
    "\n",
    "- `first`: An individual’s first name  \n",
    "- `last`: An individual’s last name  \n",
    "- `sex`: An individual’s sex  \n",
    "- `age`: An individual’s age  \n",
    "- `race`: An individual’s race. It takes values of Caucasian, Hispanic, African-American, Native American, Asian, or Other  \n",
    "- `priors_count`: Number of previous arrests  \n",
    "- `decile_score`: The COMPAS risk score  \n",
    "- `two_year_recid`: Whether the individual had been jailed for a new crime in next two years  "
   ]
  },
  {
   "cell_type": "markdown",
   "id": "cfc536de",
   "metadata": {},
   "source": [
    "## Descriptive Statistics\n",
    "\n",
    "The first thing we do with our data is to drop any classes without “enough” observations.\n",
    "\n",
    "One of our focuses will be on inter-race differences in scores and recidivism, so we only\n",
    "keep data on races with at least 500 observations in our data set.\n",
    "\n",
    "Just be aware that this kind of seemingly and even genuinely benign or “technical” decision can still perpetuate inequality by exclusion.\n",
    "\n",
    "For example, Asians are a small minority, so they’re not really present in the data, and therefore they’re absent from the policy discussion — we have no inferential knowledge on how COMPAS scores work for them."
   ]
  },
  {
   "cell_type": "code",
   "execution_count": null,
   "id": "5b48f89f",
   "metadata": {
    "hide-output": false
   },
   "outputs": [],
   "source": [
    "race_count = df.groupby([\"race\"])[\"name\"].count()\n",
    "at_least_500 = list(race_count[race_count > 500].index)\n",
    "print(\"The following race have at least 500 observations:\", at_least_500)\n",
    "df = df.loc[df[\"race\"].isin(at_least_500), :]"
   ]
  },
  {
   "cell_type": "markdown",
   "id": "286c7861",
   "metadata": {},
   "source": [
    "Next, we explore the remaining data using plots and tables."
   ]
  },
  {
   "cell_type": "markdown",
   "id": "890b5eac",
   "metadata": {},
   "source": [
    "### Age, Sex, and Race\n",
    "\n",
    "Let’s look at how the dataset is broken down into age, sex, and race."
   ]
  },
  {
   "cell_type": "code",
   "execution_count": null,
   "id": "0e7409e1",
   "metadata": {
    "hide-output": false
   },
   "outputs": [],
   "source": [
    "def create_groupcount_barplot(df, group_col, figsize, **kwargs):\n",
    "    \"call df.groupby(group_col), then count number of records and plot\"\n",
    "    counts = df.groupby(group_col)[\"name\"].count().sort_index()\n",
    "\n",
    "    fig, ax = plt.subplots(figsize=figsize)\n",
    "    counts.plot(kind=\"bar\", **kwargs)\n",
    "\n",
    "    ax.spines[\"right\"].set_visible(False)\n",
    "    ax.spines[\"top\"].set_visible(False)\n",
    "    ax.set_xlabel(\"\")\n",
    "    ax.set_ylabel(\"\")\n",
    "\n",
    "    return fig, ax"
   ]
  },
  {
   "cell_type": "code",
   "execution_count": null,
   "id": "f69af46e",
   "metadata": {
    "hide-output": false
   },
   "outputs": [],
   "source": [
    "age_cs = [\"Less than 25\", \"25 - 45\", \"Greater than 45\"]\n",
    "df[\"age_cat\"] = pd.Categorical(df[\"age_cat\"], categories=age_cs, ordered=True)\n",
    "fig, ax = create_groupcount_barplot(df, \"age_cat\", (14, 8), color=\"DarkBlue\", rot=0)"
   ]
  },
  {
   "cell_type": "code",
   "execution_count": null,
   "id": "a3309775",
   "metadata": {
    "hide-output": false
   },
   "outputs": [],
   "source": [
    "sex_cs = [\"Female\", \"Male\"]\n",
    "df[\"sex\"] = pd.Categorical(df[\"sex\"], categories=sex_cs, ordered=True)\n",
    "create_groupcount_barplot(df, \"sex\", (6, 8), color=\"DarkBlue\", rot=0)"
   ]
  },
  {
   "cell_type": "code",
   "execution_count": null,
   "id": "e201f27c",
   "metadata": {
    "hide-output": false
   },
   "outputs": [],
   "source": [
    "race_cs = [\"African-American\", \"Caucasian\", \"Hispanic\"]\n",
    "df[\"race\"] = pd.Categorical(df[\"race\"], categories=race_cs, ordered=True)\n",
    "create_groupcount_barplot(df, \"race\", (12, 8), color=\"DarkBlue\", rot=0)"
   ]
  },
  {
   "cell_type": "markdown",
   "id": "0ea1f135",
   "metadata": {},
   "source": [
    "From this, we learn that our population is mostly between 25-45, male, and\n",
    "is mostly African-American or Caucasian."
   ]
  },
  {
   "cell_type": "markdown",
   "id": "fa662b0d",
   "metadata": {},
   "source": [
    "### Recidivism\n",
    "\n",
    "We now look into how recidivism is split across groups."
   ]
  },
  {
   "cell_type": "code",
   "execution_count": null,
   "id": "4407658d",
   "metadata": {
    "hide-output": false
   },
   "outputs": [],
   "source": [
    "recid = df.groupby([\"age_cat\", \"sex\", \"race\"])[\"two_year_recid\"].mean().unstack(level=\"race\")\n",
    "recid"
   ]
  },
  {
   "cell_type": "markdown",
   "id": "d73274c4",
   "metadata": {},
   "source": [
    "In the table, we see that the young have higher recidivism rates than the old, except for among\n",
    "Caucasian females.\n",
    "\n",
    "Also, African-American males are at a particularly high risk of recidivism even as they get older."
   ]
  },
  {
   "cell_type": "markdown",
   "id": "062c94c6",
   "metadata": {},
   "source": [
    "### Risk Scores\n",
    "\n",
    "Each individual in the dataset was assigned a `decile_score` ranging from 1 to 10.\n",
    "\n",
    "This score represents the perceived risk of recidivism with 1 being the lowest risk and 10 being the highest.\n",
    "\n",
    "We show a bar plot of all decile scores below."
   ]
  },
  {
   "cell_type": "code",
   "execution_count": null,
   "id": "715253c9",
   "metadata": {
    "hide-output": false
   },
   "outputs": [],
   "source": [
    "create_groupcount_barplot(df, \"decile_score\", (12, 8), color=\"DarkBlue\", rot=0)"
   ]
  },
  {
   "cell_type": "markdown",
   "id": "8079806c",
   "metadata": {},
   "source": [
    "How do these scores differ by race?"
   ]
  },
  {
   "cell_type": "code",
   "execution_count": null,
   "id": "0712cf44",
   "metadata": {
    "hide-output": false
   },
   "outputs": [],
   "source": [
    "dfgb = df.groupby(\"race\")\n",
    "race_count = df.groupby(\"race\")[\"name\"].count()\n",
    "\n",
    "fig, ax = plt.subplots(3, figsize=(14, 8))\n",
    "\n",
    "for (i, race) in enumerate([\"African-American\", \"Caucasian\", \"Hispanic\"]):\n",
    "    (\n",
    "        (dfgb\n",
    "            .get_group(race)\n",
    "            .groupby(\"decile_score\")[\"name\"].count() / race_count[race]\n",
    "        )\n",
    "        .plot(kind=\"bar\", ax=ax[i], color=\"#353535\")\n",
    "    )\n",
    "    ax[i].set_ylabel(race)\n",
    "    ax[i].set_xlabel(\"\")\n",
    "    # set equal y limit for visual comparison\n",
    "    ax[i].set_ylim(0, 0.32)\n",
    "\n",
    "fig.suptitle(\"Score Frequency by Race\")"
   ]
  },
  {
   "cell_type": "markdown",
   "id": "d63b66ce",
   "metadata": {},
   "source": [
    "While Caucasians and Hispanics both see the majority of their score distribution on low values,\n",
    "African-Americans are almost equally likely to receive any score."
   ]
  },
  {
   "cell_type": "markdown",
   "id": "13176a3c",
   "metadata": {},
   "source": [
    "### Risk Scores and Recidivism\n",
    "\n",
    "Now we can explore the relationship between the risk score and actual two year recidivism.\n",
    "\n",
    "The first measure we look at is the frequency of recidivism by decile score – these numbers\n",
    "tell us what percentage of people assigned a particular risk score committed a new crime within two\n",
    "years of being released."
   ]
  },
  {
   "cell_type": "code",
   "execution_count": null,
   "id": "c1a31a59",
   "metadata": {
    "hide-output": false
   },
   "outputs": [],
   "source": [
    "df.groupby(\"decile_score\")[\"two_year_recid\"].mean()"
   ]
  },
  {
   "cell_type": "markdown",
   "id": "09b23304",
   "metadata": {},
   "source": [
    "Let’s also look at the correlation."
   ]
  },
  {
   "cell_type": "code",
   "execution_count": null,
   "id": "5e455d61",
   "metadata": {
    "hide-output": false
   },
   "outputs": [],
   "source": [
    "df[[\"decile_score\", \"two_year_recid\"]].corr()"
   ]
  },
  {
   "cell_type": "markdown",
   "id": "26571e37",
   "metadata": {},
   "source": [
    "As the risk score increases, the percentage of people committing a new crime does as well, with a\n",
    "positive correlation (~0.35).\n",
    "\n",
    "This is good news – it means that the score is producing at least some signal about an individual’s recidivism risk.\n",
    "\n",
    "One of the key critiques from Pro Publica, though, was that the inaccuracies were nonuniform — that is, the tool was systematically wrong about certain populations.\n",
    "\n",
    "Let’s now separate the correlations by race and see what happens."
   ]
  },
  {
   "cell_type": "code",
   "execution_count": null,
   "id": "6772fb13",
   "metadata": {
    "hide-output": false
   },
   "outputs": [],
   "source": [
    "recid_rates = df.pivot_table(index=\"decile_score\", columns=\"race\", values=\"two_year_recid\")\n",
    "\n",
    "recid_rates"
   ]
  },
  {
   "cell_type": "markdown",
   "id": "4034a357",
   "metadata": {},
   "source": [
    "Or, in plotted form,"
   ]
  },
  {
   "cell_type": "code",
   "execution_count": null,
   "id": "135c48ba",
   "metadata": {
    "hide-output": false
   },
   "outputs": [],
   "source": [
    "fig, ax = plt.subplots(3, sharex=\"all\")\n",
    "\n",
    "for (i, _race) in enumerate([\"African-American\", \"Caucasian\", \"Hispanic\"]):\n",
    "    _rr_vals = recid_rates[_race].values\n",
    "\n",
    "    ax[i].bar(np.arange(1, 11), _rr_vals, color=\"#c60000\")\n",
    "    ax[i].bar(np.arange(1, 11), 1 - _rr_vals, bottom=_rr_vals, color=\"#353535\")\n",
    "    ax[i].set_ylabel(_race)\n",
    "    ax[i].spines[\"left\"].set_visible(False)\n",
    "    ax[i].spines[\"right\"].set_visible(False)\n",
    "    ax[i].spines[\"top\"].set_visible(False)\n",
    "    ax[i].spines[\"bottom\"].set_visible(False)\n",
    "    ax[i].yaxis.tick_right()\n",
    "    ax[i].xaxis.set_ticks_position(\"none\")\n",
    "\n",
    "fig.suptitle(\"Recidivism Rates by Race\")"
   ]
  },
  {
   "cell_type": "markdown",
   "id": "d28166b0",
   "metadata": {},
   "source": [
    "## Regression\n",
    "\n",
    "In what follows, we will be doing something slightly different than what was done in the Pro Publica\n",
    "article.\n",
    "\n",
    "First, we will explore what happens when we try to predict the COMPAS risk scores using the\n",
    "observable data that we have.\n",
    "\n",
    "Second, we will use binary probability models to predict whether an individual is at risk of\n",
    "recidivism.\n",
    "\n",
    "We will do this first using the COMPAS risk scores, and then afterwards we will try to write our own\n",
    "model based on raw observables, like age, race and sex."
   ]
  },
  {
   "cell_type": "markdown",
   "id": "cdcdbae1",
   "metadata": {},
   "source": [
    "### Preprocessing\n",
    "\n",
    "We would like to use some features that are inherently non-numerical such as sex, age group, and\n",
    "race in our model.\n",
    "\n",
    "Before we can do that, we need to encode these string values as numerical values\n",
    "so our machine learning algorithms can understand them – an econometrician would call this,\n",
    "creating dummy variables.\n",
    "\n",
    "`sklearn` can automatically do this for us using `OneHotEncoder`.\n",
    "\n",
    "Essentially, we make one column for each possible value of a categorical\n",
    "variable and then we set just one of these columns equal to a 1 if the observation has that\n",
    "column’s category, and set all other columns to 0.\n",
    "\n",
    "Let’s do an example.\n",
    "\n",
    "Imagine we have the array below."
   ]
  },
  {
   "cell_type": "code",
   "execution_count": null,
   "id": "bdb79000",
   "metadata": {
    "hide-output": false
   },
   "outputs": [],
   "source": [
    "sex = np.array([[\"Male\"], [\"Female\"], [\"Male\"], [\"Male\"], [\"Female\"]])"
   ]
  },
  {
   "cell_type": "markdown",
   "id": "928c7f92",
   "metadata": {},
   "source": [
    "The way to encode this would be to create the array below."
   ]
  },
  {
   "cell_type": "code",
   "execution_count": null,
   "id": "9a803c28",
   "metadata": {
    "hide-output": false
   },
   "outputs": [],
   "source": [
    "sex_encoded = np.array([\n",
    "    [0.0, 1.0],\n",
    "    [1.0, 0.0],\n",
    "    [0.0, 1.0],\n",
    "    [0.0, 1.0],\n",
    "    [1.0, 0.0]\n",
    "])"
   ]
  },
  {
   "cell_type": "markdown",
   "id": "5e65d236",
   "metadata": {},
   "source": [
    "Using `sklearn` it would be:"
   ]
  },
  {
   "cell_type": "code",
   "execution_count": null,
   "id": "0f5c7fbd",
   "metadata": {
    "hide-output": false
   },
   "outputs": [],
   "source": [
    "ohe = preprocessing.OneHotEncoder(sparse=False)\n",
    "sex_ohe = ohe.fit_transform(sex)\n",
    "\n",
    "# This should shows 0s!\n",
    "sex_ohe - sex_encoded"
   ]
  },
  {
   "cell_type": "markdown",
   "id": "cdd0f495",
   "metadata": {},
   "source": [
    "We will use this encoding trick below as we create our data."
   ]
  },
  {
   "cell_type": "markdown",
   "id": "10aabcec",
   "metadata": {},
   "source": [
    "### Predicting COMPAS Scores\n",
    "\n",
    "First, we proceed by creating the `X` and `y` inputs into a manageable format.\n",
    "\n",
    "We encode the categorical variables using the `OneHotEncoder` described above, and then merge that with the non-categorical data.\n",
    "\n",
    "Finally, we split the data into training and validation (test) subsets."
   ]
  },
  {
   "cell_type": "code",
   "execution_count": null,
   "id": "01c29bab",
   "metadata": {
    "hide-output": false
   },
   "outputs": [],
   "source": [
    "def prep_data(df, continuous_variables, categories, y_var, test_size=0.15):\n",
    "\n",
    "    ohe = preprocessing.OneHotEncoder(sparse=False)\n",
    "\n",
    "    y = df[y_var].values\n",
    "    X = np.zeros((y.size, 0))\n",
    "\n",
    "    # Add continuous variables if exist\n",
    "    if len(continuous_variables) > 0:\n",
    "        X = np.hstack([X, df[continuous_variables].values])\n",
    "\n",
    "    if len(categories) > 0:\n",
    "        X = np.hstack([X, ohe.fit_transform(df[categories])])\n",
    "\n",
    "    X_train, X_test, y_train, y_test = model_selection.train_test_split(\n",
    "        X, y, test_size=test_size, random_state=42\n",
    "    )\n",
    "\n",
    "    return X_train, X_test, y_train, y_test"
   ]
  },
  {
   "cell_type": "markdown",
   "id": "474a0777",
   "metadata": {},
   "source": [
    "As we proceed, our goal will be to see which variables are most important for predicting the COMPAS\n",
    "scores.\n",
    "\n",
    "As we estimate these models, one of our metrics for success will be mean absolute error (MAE)."
   ]
  },
  {
   "cell_type": "code",
   "execution_count": null,
   "id": "701bf88d",
   "metadata": {
    "hide-output": false
   },
   "outputs": [],
   "source": [
    "def fit_and_report_maes(mod, X_train, X_test, y_train, y_test, y_transform=None, y_inv_transform=None):\n",
    "    if y_transform is not None:\n",
    "        mod.fit(X_train, y_transform(y_train))\n",
    "    else:\n",
    "        mod.fit(X_train, y_train)\n",
    "\n",
    "    yhat_train = mod.predict(X_train)\n",
    "    yhat_test = mod.predict(X_test)\n",
    "\n",
    "    if y_transform is not None:\n",
    "        yhat_train = y_inv_transform(yhat_train)\n",
    "        yhat_test = y_inv_transform(yhat_test)\n",
    "\n",
    "    return dict(\n",
    "        mae_train=metrics.mean_absolute_error(y_train, yhat_train),\n",
    "        mae_test=metrics.mean_absolute_error(y_test, yhat_test)\n",
    "    )"
   ]
  },
  {
   "cell_type": "markdown",
   "id": "b70d70f9",
   "metadata": {},
   "source": [
    "Let’s begin with a simple linear model which uses just prior arrests."
   ]
  },
  {
   "cell_type": "code",
   "execution_count": null,
   "id": "54358845",
   "metadata": {
    "hide-output": false
   },
   "outputs": [],
   "source": [
    "X_train, X_test, y_train, y_test = prep_data(\n",
    "    df, [\"priors_count\"], [], \"decile_score\"\n",
    ")\n",
    "\n",
    "fit_and_report_maes(linear_model.LinearRegression(), X_train, X_test, y_train, y_test)"
   ]
  },
  {
   "cell_type": "markdown",
   "id": "861e9f64",
   "metadata": {},
   "source": [
    "This simple model obtains a MAE of about 2 for both the test data and training data.\n",
    "\n",
    "This means, on average, that our model can predict the COMPAS score (which ranges from 1-10)\n",
    "within about 2 points.\n",
    "\n",
    "While the MAE is about 2, knowing what the errors on our prediction model look\n",
    "like is often very useful.\n",
    "\n",
    "Below, we create a histogram which shows the distribution of these errors. In our case, we\n",
    "take the difference between predicted value and actual value, so a positive value means that we\n",
    "overpredicted the COMPAS score and a negative value means we underpredicted it."
   ]
  },
  {
   "cell_type": "code",
   "execution_count": null,
   "id": "3bdacee7",
   "metadata": {
    "hide-output": false
   },
   "outputs": [],
   "source": [
    "lr_model = linear_model.LinearRegression()\n",
    "lr_model.fit(X_train, y_train)\n",
    "\n",
    "yhat_train = lr_model.predict(X_train)\n",
    "yhat_test = lr_model.predict(X_test)\n",
    "\n",
    "fig, ax = plt.subplots(1, 2, figsize=(12, 4), sharey=\"all\")\n",
    "\n",
    "ax[0].hist(yhat_train - y_train, density=True)\n",
    "ax[0].set_title(\"Training Data\")\n",
    "ax[1].hist(yhat_test - y_test, density=True)\n",
    "ax[1].set_title(\"Test Data\")"
   ]
  },
  {
   "cell_type": "markdown",
   "id": "b67fffa0",
   "metadata": {},
   "source": [
    "In both cases, the long left tails of errors suggest the existence of relevant features which would improve our model.\n",
    "\n",
    "The first thing we might consider investigating is whether there are non-linearities in how the\n",
    "number of priors enters the COMPAS score.\n",
    "\n",
    "First, we try using polynomial features in our exogenous variables."
   ]
  },
  {
   "cell_type": "code",
   "execution_count": null,
   "id": "12e11562",
   "metadata": {
    "hide-output": false
   },
   "outputs": [],
   "source": [
    "X_train, X_test, y_train, y_test = prep_data(\n",
    "    df, [\"priors_count\"], [], \"decile_score\"\n",
    ")\n",
    "\n",
    "# Transform data to quadratic\n",
    "pf = preprocessing.PolynomialFeatures(2, include_bias=False)\n",
    "X_train = pf.fit_transform(X_train)\n",
    "X_test = pf.fit_transform(X_test)\n",
    "\n",
    "fit_and_report_maes(linear_model.LinearRegression(), X_train, X_test, y_train, y_test)"
   ]
  },
  {
   "cell_type": "markdown",
   "id": "e22ac2db",
   "metadata": {},
   "source": [
    "We don’t see a very significant increase in performance, so we also try using log on the endogenous\n",
    "variables."
   ]
  },
  {
   "cell_type": "code",
   "execution_count": null,
   "id": "81098962",
   "metadata": {
    "hide-output": false
   },
   "outputs": [],
   "source": [
    "X_train, X_test, y_train, y_test = prep_data(\n",
    "    df, [\"priors_count\"], [], \"decile_score\"\n",
    ")\n",
    "\n",
    "fit_and_report_maes(\n",
    "    linear_model.LinearRegression(), X_train, X_test, y_train, y_test,\n",
    "    y_transform=np.log, y_inv_transform=np.exp\n",
    ")"
   ]
  },
  {
   "cell_type": "markdown",
   "id": "5f8458cf",
   "metadata": {},
   "source": [
    "Still no improvement… The next natural thing is to add more features to our regression."
   ]
  },
  {
   "cell_type": "code",
   "execution_count": null,
   "id": "bcd3e519",
   "metadata": {
    "hide-output": false
   },
   "outputs": [],
   "source": [
    "X_train, X_test, y_train, y_test = prep_data(\n",
    "    df, [\"priors_count\"], [\"age_cat\", \"race\", \"sex\"], \"decile_score\"\n",
    ")\n",
    "\n",
    "fit_and_report_maes(linear_model.LinearRegression(), X_train, X_test, y_train, y_test)"
   ]
  },
  {
   "cell_type": "markdown",
   "id": "794fd3ed",
   "metadata": {},
   "source": [
    "By allowing for indicator variables on age, race, and sex, we are able to slightly improve the MAE.\n",
    "The errors also seem to have a less extreme tail."
   ]
  },
  {
   "cell_type": "code",
   "execution_count": null,
   "id": "1f049f05",
   "metadata": {
    "hide-output": false
   },
   "outputs": [],
   "source": [
    "X_train, X_test, y_train, y_test = prep_data(\n",
    "    df, [\"priors_count\"], [\"age_cat\", \"race\", \"sex\"], \"decile_score\"\n",
    ")\n",
    "\n",
    "lr_model = linear_model.LinearRegression()\n",
    "lr_model.fit(X_train, y_train)\n",
    "\n",
    "yhat_train = lr_model.predict(X_train)\n",
    "yhat_test = lr_model.predict(X_test)\n",
    "\n",
    "fig, ax = plt.subplots(1, 2, figsize=(12, 4), sharey=\"all\")\n",
    "\n",
    "ax[0].hist(yhat_train - y_train, density=True)\n",
    "ax[0].set_title(\"Training Data\")\n",
    "ax[1].hist(yhat_test - y_test, density=True)\n",
    "ax[1].set_title(\"Test Data\")"
   ]
  },
  {
   "cell_type": "markdown",
   "id": "72c05184",
   "metadata": {},
   "source": [
    "The coefficients are listed below:"
   ]
  },
  {
   "cell_type": "code",
   "execution_count": null,
   "id": "00e9bc33",
   "metadata": {
    "hide-output": false
   },
   "outputs": [],
   "source": [
    "names = [\n",
    "    \"priors_count\", \"Less than 25\", \"25-45\", \"Greater than 45\", \"African-American\",\n",
    "    \"Caucasian\", \"Hispanic\", \"Female\", \"Male\"\n",
    "]\n",
    "for (_name, _coef) in zip(names, lr_model.coef_):\n",
    "    print(_name, \": \", _coef)"
   ]
  },
  {
   "cell_type": "markdown",
   "id": "17a88cc2",
   "metadata": {},
   "source": [
    "What stands out to you about these coefficients?"
   ]
  },
  {
   "cell_type": "markdown",
   "id": "a7a8295b",
   "metadata": {},
   "source": [
    "### Exercise\n",
    "\n",
    "See exercise 1 in the [exercise list](#app-rcd-ex)."
   ]
  },
  {
   "cell_type": "markdown",
   "id": "a393a35f",
   "metadata": {},
   "source": [
    "### Binary Probability Models\n",
    "\n",
    "Binary probability models are used to model “all or nothing” outcomes,\n",
    "like the occurrence of an event.\n",
    "\n",
    "Their output is the probability that an event of interest occurs.\n",
    "\n",
    "With this probability in hand, the researcher chooses an acceptable cutoff (perhaps 0.5)\n",
    "above which the event is predicted to occur.\n",
    "\n",
    ">**Note**\n",
    ">\n",
    ">Binary probability models can be thought of as a special case of\n",
    "classification.\n",
    "\n",
    "In classification, we are given a set of features and asked to predict\n",
    "one of a finite number of discrete labels.\n",
    "\n",
    "We will learn more about classification in an upcoming lecture!\n",
    "\n",
    "In our example, we will be interested in how the COMPAS scores do at predicting recidivism and how\n",
    "their ability to predict depends on race or sex.\n",
    "\n",
    "To assist us in evaluating the performance of various models we will use a new\n",
    "metric called the *confusion matrix*.\n",
    "\n",
    "Scikit-learn knows how to compute this metric and also provides a good description\n",
    "of what is computed.\n",
    "\n",
    "Let’s see what they have to say."
   ]
  },
  {
   "cell_type": "code",
   "execution_count": null,
   "id": "cbcb5ce2",
   "metadata": {
    "hide-output": false
   },
   "outputs": [],
   "source": [
    "help(metrics.confusion_matrix)"
   ]
  },
  {
   "cell_type": "code",
   "execution_count": null,
   "id": "d2c812ad",
   "metadata": {
    "hide-output": false
   },
   "outputs": [],
   "source": [
    "def report_cm(mod, X_train, X_test, y_train, y_test):\n",
    "     return dict(\n",
    "         cm_train=metrics.confusion_matrix(y_train, mod.predict(X_train)),\n",
    "         cm_test=metrics.confusion_matrix(y_test, mod.predict(X_test))\n",
    "     )"
   ]
  },
  {
   "cell_type": "markdown",
   "id": "a0244255",
   "metadata": {},
   "source": [
    "We will start by using logistic regression using only `decile_score`\n",
    "as a feature and then examine how the confusion matrices differ by\n",
    "race and sex."
   ]
  },
  {
   "cell_type": "code",
   "execution_count": null,
   "id": "0c8b121a",
   "metadata": {
    "hide-output": false
   },
   "outputs": [],
   "source": [
    "from patsy import dmatrices\n",
    "groups = [\n",
    "    \"overall\", \"African-American\", \"Caucasian\", \"Hispanic\", \"Female\", \"Male\"\n",
    "]\n",
    "\n",
    "ind = [\n",
    "    \"Portion_of_NoRecid_and_LowRisk\", \"Portion_of_Recid_and_LowRisk\",\n",
    "    \"Portion_of_NoRecid_and_HighRisk\", \"Portion_of_Recid_and_HighRisk\"\n",
    "]\n",
    "\n",
    "fmla = \"two_year_recid ~ C(decile_score)\"\n",
    "y,X = dmatrices(fmla, df)\n",
    "X_train, X_test, y_train, y_test, df_train, df_test = model_selection.train_test_split(\n",
    "    X,y.reshape(-1),df, test_size=0.25, random_state=42\n",
    ")\n",
    "\n",
    "\n",
    "decile_mod = linear_model.LogisticRegression(solver=\"lbfgs\").fit(X_train,y_train)\n",
    "\n",
    "def cm_tables(pred, y, df):\n",
    "    output = pd.DataFrame(index=ind, columns=groups)\n",
    "    for group in groups:\n",
    "        if group in [\"African-American\", \"Caucasian\", \"Hispanic\"]:\n",
    "            subset=(df.race==group)\n",
    "        elif group in [\"Female\", \"Male\"]:\n",
    "            subset=(df.sex==group)\n",
    "        else:\n",
    "            subset=np.full(y.shape, True)\n",
    "\n",
    "        y_sub = y[subset]\n",
    "        pred_sub = pred[subset]\n",
    "\n",
    "        cm = metrics.confusion_matrix(y_sub, pred_sub)\n",
    "\n",
    "        # Compute fraction for which the guess is correct\n",
    "        total = cm.sum()\n",
    "        vals = np.array(cm/total)\n",
    "        output.loc[:, group] = vals.reshape(-1)\n",
    "\n",
    "\n",
    "    def cond_probs(col, axis):\n",
    "        d=int(np.sqrt(len(col)))\n",
    "        pcm = np.array(col).reshape(d,d)\n",
    "        pcm = pcm/pcm.sum(axis=axis, keepdims=True)\n",
    "        return(pcm.reshape(-1))\n",
    "\n",
    "    given_outcome = output.copy()\n",
    "    given_outcome.index = [\"P(LowRisk|NoRecid)\",\"P(HighRisk|NoRecid)\",\"P(LowRisk|Recid)\",\"P(HighRisk|Recid)\"]\n",
    "    given_outcome=given_outcome.apply(lambda c: cond_probs(c,1))\n",
    "\n",
    "    given_pred = output.copy()\n",
    "    given_pred.index = [\"P(NoRecid|LowRisk)\",\"P(NoRecid|HighRisk)\",\"P(Recid|LowRisk)\",\"P(Recid|HighRisk)\"]\n",
    "    given_pred=given_pred.apply(lambda c: cond_probs(c,0))\n",
    "    return(output,given_outcome, given_pred)\n",
    "\n",
    "output, given_outcome, given_pred =cm_tables(decile_mod.predict(X_test),\n",
    "                                             y_test, df_test)\n",
    "output"
   ]
  },
  {
   "cell_type": "markdown",
   "id": "429a0a9d",
   "metadata": {},
   "source": [
    "`output` contains information on the percent of true negatives, false negatives, false positives,\n",
    "and true positives.\n",
    "\n",
    "What do you see?\n",
    "\n",
    "The joint probabilities (of prediction and outcome given race or sex) in the\n",
    "above table are a bit hard to interpret.\n",
    "\n",
    "Conditional probabilities can be easier to think about.\n",
    "\n",
    "Let’s look at the probability of outcomes given the prediction as well as race or sex."
   ]
  },
  {
   "cell_type": "code",
   "execution_count": null,
   "id": "c3740c7c",
   "metadata": {
    "hide-output": false
   },
   "outputs": [],
   "source": [
    "given_pred"
   ]
  },
  {
   "cell_type": "markdown",
   "id": "f328f652",
   "metadata": {},
   "source": [
    "As you can see, the distribution of outcomes conditional on predictions does\n",
    "not vary too much with race.\n",
    "\n",
    "Moreover, if anything, it discriminates in favor of African-Americans.\n",
    "\n",
    "The algorithm does appear to overpredict recidivism for women compared\n",
    "to men.\n",
    "\n",
    "This is an important concern.\n",
    "\n",
    "We will not discuss it too much though because (1) we will see below that\n",
    "when fairness is looked at in another way, women are favored over men,\n",
    "and (2) the company that produces COMPAS also produces a separate\n",
    "questionnaire and risk score designed only for women."
   ]
  },
  {
   "cell_type": "markdown",
   "id": "2767cff6",
   "metadata": {},
   "source": [
    "### False Positive and Negative Rates\n",
    "\n",
    "What if we flip this around and look at the distributions of\n",
    "predictions conditional on outcomes?\n",
    "\n",
    "Why look at these probabilities?\n",
    "\n",
    "One reason is that in law, it’s traditionally far\n",
    "worse to punish innocents than let the guilty free. This idea goes at\n",
    "least back to [1760 and Blackstone’s ratio](https://en.wikipedia.org/wiki/Blackstone%27s_ratio).\n",
    "\n",
    "> It is better that ten guilty persons escape than that one innocent\n",
    "suffer. -William Blackstone\n",
    "\n",
    "\n",
    "Blackstone’s ratio says that we should be particularly concerned about\n",
    "P(HighRisk | NoRecid).\n",
    "\n",
    "This probability is also called the false\n",
    "positive rate."
   ]
  },
  {
   "cell_type": "code",
   "execution_count": null,
   "id": "da0d1b3e",
   "metadata": {
    "hide-output": false
   },
   "outputs": [],
   "source": [
    "given_outcome"
   ]
  },
  {
   "cell_type": "markdown",
   "id": "004105d2",
   "metadata": {},
   "source": [
    "Now we see some large disparities by race in the false positive rate\n",
    "(and false negative rate). This is one of the main findings of the Pro\n",
    "Publica article.\n",
    "\n",
    "In response to Pro Publica, Northpointe, the company that produces\n",
    "COMPAS, argued that COMPAS is not biased because the probabilities of\n",
    "outcomes conditional on predictions (like P(NoRecid|LowRisk)) are\n",
    "approximately equal across races [[recidDMB16](#id16)].\n",
    "\n",
    "Following [[recidKLL+17](#id6)], we will call a prediction algorithm with this\n",
    "property  well-calibrated.\n",
    "\n",
    "Being well-calibrated is one criteria for fairness of a prediction algorithm.\n",
    "\n",
    "Pro Publica’s critique focuses on a different criteria – that the the\n",
    "probability of predicted categories conditional on true outcomes\n",
    "should be equal across groups (i.e. P(HighRisk|NoRecid) should be\n",
    "equal across races).\n",
    "\n",
    "[[recidKLL+17](#id6)] calls a prediction algorithm with this property balanced."
   ]
  },
  {
   "cell_type": "markdown",
   "id": "d7b54217",
   "metadata": {},
   "source": [
    "### Visualizing Calibration and Balance\n",
    "\n",
    "We can get a slightly more detailed look at calibration and balance by\n",
    "recognizing that prediction algorithms typically compute a predicted\n",
    "probability, not just a discrete predicted outcome.\n",
    "\n",
    "The predicted outcome will typically be assigned to the category with the highest\n",
    "predicted probability.\n",
    "\n",
    "We can examine calibration graphically by plotting the P(recidivism | predicted probability)"
   ]
  },
  {
   "cell_type": "code",
   "execution_count": null,
   "id": "f3ede7f4",
   "metadata": {
    "hide-output": false
   },
   "outputs": [],
   "source": [
    "import scipy\n",
    "\n",
    "def calibration_plot(pred, y, df, bins=20):\n",
    "    fig,ax = plt.subplots(3,2, figsize=(12,6), sharey=True, sharex=True)\n",
    "    for (g,group) in enumerate(groups):\n",
    "        if group in [\"African-American\", \"Caucasian\", \"Hispanic\"]:\n",
    "            subset=(df.race==group)\n",
    "        elif group in [\"Female\", \"Male\"]:\n",
    "            subset=(df.sex==group)\n",
    "        else:\n",
    "            subset=np.full(y.shape,True)\n",
    "        _ax = ax[np.unravel_index(g, ax.shape)]\n",
    "        y_sub = y[subset]\n",
    "        pred_sub = pred[subset]\n",
    "        mu, edges, n=scipy.stats.binned_statistic(pred_sub,y_sub,'mean',bins=bins)\n",
    "        se, edges,n=scipy.stats.binned_statistic(pred_sub,y_sub,\n",
    "                         lambda x: np.std(x)/np.sqrt(len(x)),bins=bins)\n",
    "        midpts = (edges[0:-1]+edges[1:])/2\n",
    "        _ax.errorbar(midpts, mu, yerr=1.64*se, fmt='o')\n",
    "        _ax.set_title(group)\n",
    "        _ax.set_ylabel(\"Observed recidivism\")\n",
    "        _ax.set_xlabel(\"Predicted P(recidivism)\")\n",
    "        x = np.linspace(*_ax.get_xlim())\n",
    "        _ax.plot(x, x)\n",
    "        _ax.set_xlim(0.0,1.0)\n",
    "    fig.tight_layout()\n",
    "    return(fig,ax)\n",
    "\n",
    "calibration_plot(decile_mod.predict_proba(X_test)[:,1],\n",
    "                 df_test[\"two_year_recid\"],\n",
    "                 df_test);"
   ]
  },
  {
   "cell_type": "markdown",
   "id": "13b9395b",
   "metadata": {},
   "source": [
    "This figure is one way to visualize how well-calibrated these\n",
    "predictions are.\n",
    "\n",
    "The dots are binned averages of observed recidivism, conditional on\n",
    "predicted recidivism being in some range.\n",
    "\n",
    "The error bars represent a 90% confidence interval.\n",
    "\n",
    "A perfectly calibrated prediction would have these dots all lie\n",
    "along the 45 degree line.\n",
    "\n",
    "For dots below the 45 degree line, the algorithm is overpredicting\n",
    "recidivism."
   ]
  },
  {
   "cell_type": "markdown",
   "id": "70642961",
   "metadata": {},
   "source": [
    "### Exercise\n",
    "\n",
    "See exercise 2 in the [exercise list](#app-rcd-ex).\n",
    "\n",
    "The algorithm appears fairly well-calibrated.\n",
    "\n",
    "It does not seem to be making systematic errors in one direction based on any particular\n",
    "race– but it does appear to be systematic overprediction for females compared to males.\n",
    "\n",
    "Now, let’s create a figure to examine balance.\n",
    "\n",
    "Balance is about the distribution of predictions conditional on outcomes,\n",
    "so we will plot histograms of predicted probabilities conditional on realized\n",
    "outcomes."
   ]
  },
  {
   "cell_type": "code",
   "execution_count": null,
   "id": "bd9813e9",
   "metadata": {
    "hide-output": false
   },
   "outputs": [],
   "source": [
    "import seaborn as sns\n",
    "def balance_hist_plot(pred, y, df, bins=20):\n",
    "    fig,ax = plt.subplots(3,2, figsize=(12,6), sharey=True, sharex=True)\n",
    "    for (g,group) in enumerate(groups):\n",
    "        if group in [\"African-American\", \"Caucasian\", \"Hispanic\"]:\n",
    "            subset=(df.race==group)\n",
    "        elif group in [\"Female\", \"Male\"]:\n",
    "            subset=(df.sex==group)\n",
    "        else:\n",
    "            subset=np.full(y.shape,True)\n",
    "        _ax = ax[np.unravel_index(g, ax.shape)]\n",
    "        y_sub = y[subset]\n",
    "        pred_sub = pred[subset]\n",
    "        sns.distplot(pred_sub[y_sub==0], hist=True, bins=bins, kde=False, ax=_ax,\n",
    "                     label=\"No recidivate\", norm_hist=True, axlabel=\"Predicted Probability\")\n",
    "        sns.distplot(pred_sub[y_sub==1], hist=True, bins=bins, kde=False, ax=_ax,\n",
    "                     label=\"Yes recidivate\", norm_hist=True, axlabel=\"Predicted Probability\")\n",
    "        _ax.set_title(group)\n",
    "\n",
    "    plt.legend()\n",
    "    fig.tight_layout()\n",
    "    return(fig,ax)\n",
    "\n",
    "balance_hist_plot(decile_mod.predict_proba(X_test)[:,1],\n",
    "                  df_test[\"two_year_recid\"],\n",
    "                  df_test);"
   ]
  },
  {
   "cell_type": "markdown",
   "id": "f7c0c98f",
   "metadata": {},
   "source": [
    "This figure is somewhat useful, but not for depicting balance\n",
    "especially clearly, so let’s try something else.\n",
    "\n",
    "To get false positive and false negative rates, we must assign the predicted\n",
    "probabilities to outcomes.\n",
    "\n",
    "The most common choice would be to predict recidivism if the predicted\n",
    "probability is greater than 0.5.\n",
    "\n",
    "However, if we want to adjust the false positive and false negative rates, we\n",
    "might want to choose some other threshold and predict recidivism if\n",
    "the predicted probability exceeds this threshold.\n",
    "\n",
    "Different thresholds will lead to different false negative and false\n",
    "positive rates, so let’s plot these rates as functions of the threshold."
   ]
  },
  {
   "cell_type": "code",
   "execution_count": null,
   "id": "3d96ecce",
   "metadata": {
    "hide-output": false
   },
   "outputs": [],
   "source": [
    "def balance_threshold_plot(pred, y, df, bins=20):\n",
    "    fig,ax = plt.subplots(2,2, figsize=(12,6), sharey=True,\n",
    "                          sharex=True)\n",
    "    x = np.linspace(min(pred), max(pred), bins)\n",
    "    # get colors defined by theme\n",
    "    colors=plt.rcParams[\"axes.prop_cycle\"].by_key()[\"color\"]\n",
    "    for (g, group) in enumerate(groups):\n",
    "        if group in [\"African-American\", \"Caucasian\", \"Hispanic\"]:\n",
    "            subset=(df.race==group)\n",
    "            r = 0\n",
    "        elif group in [\"Female\", \"Male\"]:\n",
    "            subset=(df.sex==group)\n",
    "            r = 1\n",
    "        else:\n",
    "            continue\n",
    "        y_sub = y[subset]\n",
    "        pred_sub = pred[subset]\n",
    "        _ax = ax[r,0]\n",
    "        fn = np.array([np.mean(pred_sub[y_sub==1]<xi) for xi in x])\n",
    "        c1 = sum(y_sub==1)\n",
    "        sen = np.sqrt(fn*(1-fn)/c1)\n",
    "        fp = np.array([np.mean(pred_sub[y_sub==0]>xi) for xi in x])\n",
    "        c0 = sum(y_sub==0)\n",
    "        sep = np.sqrt(fp*(1-fp)/c0)\n",
    "        p=_ax.plot(x, fn, color=colors[g])\n",
    "        _ax.fill_between(x, fn-1.64*sen, fn+1.64*sen, alpha=0.25, color=colors[g])\n",
    "        _ax.annotate(group, (x[bins//7*g], fn[bins//7*g]), color=colors[g])\n",
    "        _ax.set_ylabel(\"False +/- Rate\")\n",
    "        _ax.set_xlabel(\"Threshold\")\n",
    "        _ax.set_title(\"False Negative Rate\")\n",
    "\n",
    "        _ax = ax[r,1]\n",
    "        p=_ax.plot(x, fp, color=colors[g])\n",
    "        _ax.fill_between(x, fp-1.64*sep, fp+1.64*sep, alpha=0.25, color=colors[g])\n",
    "        _ax.set_xlabel(\"Threshold\")\n",
    "        _ax.set_title(\"False Positive Rate\")\n",
    "\n",
    "    fig.tight_layout()\n",
    "    return(fig,ax)\n",
    "\n",
    "balance_threshold_plot(decile_mod.predict_proba(X_test)[:,1],\n",
    "                       df_test[\"two_year_recid\"],\n",
    "                       df_test);"
   ]
  },
  {
   "cell_type": "markdown",
   "id": "57be4eb2",
   "metadata": {},
   "source": [
    "From this, we can more easily see the balance problem — regardless\n",
    "of which threshold we choose, African-Americans will have a higher\n",
    "false positive rate than Caucasians.\n",
    "\n",
    "We have seen that COMPAS scores are well-calibrated conditional on\n",
    "race, but not balanced.\n",
    "\n",
    "Can we create an alternative prediction that is both well-calibrated and balanced?"
   ]
  },
  {
   "cell_type": "markdown",
   "id": "c17f42cd",
   "metadata": {},
   "source": [
    "### Creating an Alternative Prediction\n",
    "\n",
    "As a starting exercise, let’s predict recidivism using the variables\n",
    "in this dataset other than race and COMPAS score.\n",
    "\n",
    "Almost all variables in this data are categorical.\n",
    "\n",
    "Any function of categorical variables can be represented as a linear\n",
    "function of indicator variables and their interactions.\n",
    "\n",
    "Given that linearity in indicators does not impose any substantiative restriction\n",
    "here, a penalized linear model like lasso seems like a good choice for prediction.\n",
    "\n",
    "To keep the computation time reasonable, we do not include all interaction\n",
    "and indicator terms here.\n",
    "\n",
    "To ensure that predicted probabilities are between 0 and 1, we fit a logistic\n",
    "regression with an $ \\ell-1 $ penalty."
   ]
  },
  {
   "cell_type": "code",
   "execution_count": null,
   "id": "583e5220",
   "metadata": {
    "hide-output": false
   },
   "outputs": [],
   "source": [
    "from sklearn import model_selection, linear_model\n",
    "from patsy import dmatrices\n",
    "\n",
    "# charge_desc has many values with one observations, we will\n",
    "# combine these descriptions into a single \"other.\" This could\n",
    "# be improved upon by looking at the text of descriptions and\n",
    "# combining.\n",
    "df.c_charge_desc = df.c_charge_desc.fillna(\"\")\n",
    "df[\"charge_cat\"] = df.c_charge_desc\n",
    "cnt = df.c_charge_desc.value_counts()[df.c_charge_desc]\n",
    "cnt.index = df.index\n",
    "df.loc[cnt<10,\"charge_cat\"] = \"other\"\n",
    "df.charge_cat = df.charge_cat.astype('category')\n",
    "df.sex = df.sex.astype('category')\n",
    "\n",
    "\n",
    "fmla = \"two_year_recid ~ sex*(age + juv_fel_count + juv_misd_count + juv_other_count + C(priors_count) + c_charge_degree + charge_cat)\"\n",
    "\n",
    "y,X = dmatrices(fmla, df)\n",
    "print(\"There are {} features\".format(X.shape[1]))\n",
    "X_train, X_test, y_train, y_test, df_train, df_test = model_selection.train_test_split(\n",
    "    X,pd.Series(y.reshape(-1),index=df.index),df, test_size=0.25, random_state=42\n",
    ")\n",
    "\n",
    "lasso_mod=linear_model.LogisticRegressionCV(cv=5,verbose=False,\n",
    "                                            Cs=10, penalty='l1',\n",
    "                                            max_iter=100,\n",
    "                                            scoring=\"neg_log_loss\",\n",
    "                                            solver=\"liblinear\").fit(X_train, y_train)"
   ]
  },
  {
   "cell_type": "markdown",
   "id": "73d96e3b",
   "metadata": {},
   "source": [
    "Let’s look at the regularization parameter chosen and the non-zero coefficients."
   ]
  },
  {
   "cell_type": "code",
   "execution_count": null,
   "id": "ea62fffa",
   "metadata": {
    "hide-output": false
   },
   "outputs": [],
   "source": [
    "# plots illustrating regularization parameter choice\n",
    "scores=lasso_mod.scores_[1.0].mean(axis=0)\n",
    "logpenalties=np.log(lasso_mod.Cs_)\n",
    "nnonzero=(np.abs(lasso_mod.coefs_paths_[1.0])>1e-6).sum(axis=2).mean(axis=0)\n",
    "colors=plt.rcParams[\"axes.prop_cycle\"].by_key()[\"color\"]\n",
    "fig, ax1 = plt.subplots()\n",
    "ax1.plot(logpenalties,scores, color=colors[0])\n",
    "ax1.set_ylabel(\"CV log likelihood\", color=colors[0])\n",
    "ax1.set_xlabel(\"-log(penalty)\")\n",
    "ax1.tick_params('y', colors=colors[0])\n",
    "ax2 = ax1.twinx()\n",
    "ax2.plot(logpenalties,nnonzero, color=colors[1])\n",
    "ax2.set_ylabel(\"nonzero coefficients\", color=colors[1])\n",
    "ax2.tick_params('y', colors=colors[1])\n",
    "ax2.grid(visible=False);"
   ]
  },
  {
   "cell_type": "markdown",
   "id": "ca42ec1e",
   "metadata": {},
   "source": [
    "Let’s also look at the nonzero coefficients. We should be careful\n",
    "about interpreting these, since relatively strong assumptions are\n",
    "needed for lasso to produce consistent coefficient estimates.\n",
    "\n",
    ">**Note**\n",
    ">\n",
    ">Lasso gives accurate predictions under weaker assumptions than needed for\n",
    "consistent coefficient estimates."
   ]
  },
  {
   "cell_type": "code",
   "execution_count": null,
   "id": "ab1dce5d",
   "metadata": {
    "hide-output": false
   },
   "outputs": [],
   "source": [
    "# table of nonzero coefficients\n",
    "coef = pd.DataFrame(index = X.design_info.column_names, columns=[\"Value\"])\n",
    "coef.Value = np.transpose(lasso_mod.coef_)\n",
    "print(sum(np.abs(coef.Value)>1.0e-8))\n",
    "with pd.option_context('display.max_rows', None):\n",
    "    display(coef[np.abs(coef.Value)>1.0e-8])"
   ]
  },
  {
   "cell_type": "markdown",
   "id": "b18a48e9",
   "metadata": {},
   "source": [
    "Now, let’s look at calibration and balance using similar tables and\n",
    "figures as we did above."
   ]
  },
  {
   "cell_type": "code",
   "execution_count": null,
   "id": "5b899e6d",
   "metadata": {
    "hide-output": false
   },
   "outputs": [],
   "source": [
    "output, given_outcome, given_pred =cm_tables(\n",
    "    lasso_mod.predict(X_test),\n",
    "    y_test,\n",
    "    df_test\n",
    ")\n",
    "display(output)\n",
    "display(given_pred)\n",
    "display(given_outcome)\n",
    "\n",
    "calibration_plot(lasso_mod.predict_proba(X_test)[:,1],y_test, df_test)\n",
    "balance_threshold_plot(lasso_mod.predict_proba(X_test)[:,1],y_test, df_test);"
   ]
  },
  {
   "cell_type": "markdown",
   "id": "22b8d032",
   "metadata": {},
   "source": [
    "As with COMPAS score, our predictions are well-calibrated, but the\n",
    "false negative and false positive rates are not well balanced across\n",
    "racial groups."
   ]
  },
  {
   "cell_type": "markdown",
   "id": "f90a3f79",
   "metadata": {},
   "source": [
    "### Exercise\n",
    "\n",
    "See exercise 3 in the [exercise list](#app-rcd-ex)."
   ]
  },
  {
   "cell_type": "markdown",
   "id": "39397d0e",
   "metadata": {},
   "source": [
    "### Regularizing to Maximize Balance\n",
    "\n",
    "Trying to improve balance by ad-hoc modifications will be\n",
    "difficult.\n",
    "\n",
    "Let’s try to do it more systematically.\n",
    "\n",
    "We usually select models and choose regularization to minimize prediction errors.\n",
    "\n",
    "We can just as well select models and regularization parameters to optimize\n",
    "some other criteria.\n",
    "\n",
    "Let’s choose the regularization parameter for lasso to maximize balance."
   ]
  },
  {
   "cell_type": "code",
   "execution_count": null,
   "id": "f8974039",
   "metadata": {
    "hide-output": false
   },
   "outputs": [],
   "source": [
    "# define a custom CV criteria to maximize\n",
    "def balance_scorer(y_true, prob, df, weights):\n",
    "    ind = df.isin(y_true.index)\n",
    "    df_cv = df.loc[y_true.index.values,:]\n",
    "    b = df_cv.race==\"African-American\"\n",
    "    w = df_cv.race==\"Caucasian\"\n",
    "    y_pred = 1*(prob>0.5)\n",
    "    fprb = np.mean(y_pred[(y_true==0) & b])\n",
    "    fprw = np.mean(y_pred[(y_true==0) & w])\n",
    "    fnrb = np.mean(y_pred[(y_true==1) & b]==0)\n",
    "    fnrw = np.mean(y_pred[(y_true==1) & w]==0)\n",
    "    return(-weights[0]*(fprb-fprw)**2 +\n",
    "           -weights[1]*(fnrb-fnrw)**2 +\n",
    "           -weights[2]*(metrics.log_loss(y_true, prob, normalize=True)))\n",
    "\n",
    "score_params = {\"df\": df_train, \"weights\": [10.0, 1.0, 0.0]}\n",
    "scorer = metrics.make_scorer(balance_scorer, **score_params, needs_proba=True)\n",
    "grid_cv = model_selection.GridSearchCV(\n",
    "    estimator=linear_model.LogisticRegression(penalty=\"l1\",\n",
    "                                              max_iter=100,\n",
    "                                              solver=\"liblinear\"),\n",
    "    scoring=scorer,\n",
    "    cv=5,\n",
    "    param_grid={'C':\n",
    "    np.exp(np.linspace(-10,10,10))},\n",
    "    return_train_score=True,\n",
    "    verbose=True,\n",
    "    refit=True,)\n",
    "\n",
    "balance_mod=grid_cv.fit(X_train,y_train)"
   ]
  },
  {
   "cell_type": "code",
   "execution_count": null,
   "id": "6e5f6ad5",
   "metadata": {
    "hide-output": false
   },
   "outputs": [],
   "source": [
    "# plots illustrating regularization parameter choice\n",
    "def grid_cv_plot(mod, ylabel=\"\"):\n",
    "    scores=mod.cv_results_[\"mean_test_score\"]\n",
    "    Cdict=mod.cv_results_[\"params\"]\n",
    "    logpenalties=np.log([d['C'] for d in Cdict])\n",
    "    colors=plt.rcParams[\"axes.prop_cycle\"].by_key()[\"color\"]\n",
    "    fig, ax1 = plt.subplots()\n",
    "    ax1.plot(logpenalties,scores, color=colors[0])\n",
    "    ax1.set_ylabel(ylabel, color=colors[0])\n",
    "    ax1.set_xlabel(\"-log(penalty)\")\n",
    "    ax1.tick_params('y', colors=colors[0]);\n",
    "grid_cv_plot(balance_mod,\"CV balance score\")"
   ]
  },
  {
   "cell_type": "markdown",
   "id": "2b631639",
   "metadata": {},
   "source": [
    "We can be perfectly balanced by making the regularization parameter\n",
    "very large.\n",
    "\n",
    "Unfortunately, this makes all the predictions identical, so these predictions\n",
    "are not so useful."
   ]
  },
  {
   "cell_type": "code",
   "execution_count": null,
   "id": "2ccb96e3",
   "metadata": {
    "hide-output": false
   },
   "outputs": [],
   "source": [
    "output, given_outcome, given_pred =cm_tables(\n",
    "    balance_mod.best_estimator_.predict(X_test),\n",
    "    y_test,\n",
    "    df_test\n",
    ")\n",
    "display(output)\n",
    "display(given_pred)\n",
    "display(given_outcome)"
   ]
  },
  {
   "cell_type": "markdown",
   "id": "dc36fd10",
   "metadata": {},
   "source": [
    "What if we change our CV scoring function to care about both\n",
    "prediction and balance?"
   ]
  },
  {
   "cell_type": "code",
   "execution_count": null,
   "id": "c71fded7",
   "metadata": {
    "hide-output": false
   },
   "outputs": [],
   "source": [
    "score_params = {\"df\": df_train, \"weights\": [10.0, 1.0, 5.0]}\n",
    "grid_cv.set_params(scoring=metrics.make_scorer(balance_scorer, **score_params, needs_proba=True))\n",
    "bf_mod=grid_cv.fit(X_train,y_train)\n",
    "grid_cv_plot(bf_mod,\"CV balance & fit\")\n",
    "\n",
    "output, given_outcome, given_pred =cm_tables(\n",
    "    bf_mod.best_estimator_.predict(X_test),\n",
    "    y_test,\n",
    "    df_test\n",
    ")\n",
    "display(output)\n",
    "display(given_pred)\n",
    "display(given_outcome)\n",
    "calibration_plot(bf_mod.best_estimator_.predict_proba(X_test)[:,1],y_test, df_test)\n",
    "balance_threshold_plot(bf_mod.best_estimator_.predict_proba(X_test)[:,1],y_test, df_test);"
   ]
  },
  {
   "cell_type": "markdown",
   "id": "e3bcc8cc",
   "metadata": {},
   "source": [
    "### Exercise\n",
    "\n",
    "See exercise 4 in the [exercise list](#app-rcd-ex)."
   ]
  },
  {
   "cell_type": "markdown",
   "id": "59037bae",
   "metadata": {},
   "source": [
    "### Tradeoffs are Inevitable\n",
    "\n",
    "We could try to tweak our predictions further to improve\n",
    "balance.\n",
    "\n",
    "However, motivated in part by this COMPAS example, [[recidKLL+17](#id6)] proved\n",
    "that it is impossible for any prediction algorithm to be both perfectly\n",
    "balanced and well-calibrated.\n",
    "\n",
    "Improvements in balance necessarily make calibration worse."
   ]
  },
  {
   "cell_type": "markdown",
   "id": "40ee1e12",
   "metadata": {},
   "source": [
    "## References\n",
    "\n",
    "<a id='id16'></a>\n",
    "\\[recidDMB16\\] William Dieterich, Christina Mendoza, and Tim Brennan. Compas risk scales: demonstrating accuracy equity and predictive parity. *Northpoint Inc*, 2016.\n",
    "\n",
    "<a id='id6'></a>\n",
    "\\[recidKLL+17\\] Jon Kleinberg, Himabindu Lakkaraju, Jure Leskovec, Jens Ludwig, and Sendhil Mullainathan. Human Decisions and Machine Predictions*. *The Quarterly Journal of Economics*, 133(1):237–293, 08 2017. URL: [https://dx.doi.org/10.1093/qje/qjx032](https://dx.doi.org/10.1093/qje/qjx032), [arXiv:http://oup.prod.sis.lan/qje/article-pdf/133/1/237/24246094/qjx032.pdf](https://arxiv.org/abs/http://oup.prod.sis.lan/qje/article-pdf/133/1/237/24246094/qjx032.pdf), [doi:10.1093/qje/qjx032](https://doi.org/10.1093/qje/qjx032).\n",
    "\n",
    "\n",
    "<a id='app-rcd-ex'></a>"
   ]
  },
  {
   "cell_type": "markdown",
   "id": "cc45a615",
   "metadata": {},
   "source": [
    "## Exercises"
   ]
  },
  {
   "cell_type": "markdown",
   "id": "0dfdd953",
   "metadata": {},
   "source": [
    "### Exercise 1\n",
    "\n",
    "Can you develop a model that performs better at mimicking their risk scores?\n",
    "\n",
    "([back to text](#app-rcd-dir1))"
   ]
  },
  {
   "cell_type": "markdown",
   "id": "981fecf3",
   "metadata": {},
   "source": [
    "### Exercise 2\n",
    "\n",
    "We made our calibration plot using a held-out test sample. What\n",
    "do you think would happen if made the calibration plot using the\n",
    "training sample? Check and see."
   ]
  },
  {
   "cell_type": "code",
   "execution_count": null,
   "id": "0f29c387",
   "metadata": {
    "hide-output": false
   },
   "outputs": [],
   "source": [
    "# Create calibration plot using training data"
   ]
  },
  {
   "cell_type": "markdown",
   "id": "cfc84034",
   "metadata": {},
   "source": [
    "([back to text](#app-rcd-dir2))"
   ]
  },
  {
   "cell_type": "markdown",
   "id": "283afe1f",
   "metadata": {},
   "source": [
    "### Exercise 3\n",
    "\n",
    "Try to improve balance and/or calibration by creating an\n",
    "alternative prediction."
   ]
  },
  {
   "cell_type": "code",
   "execution_count": null,
   "id": "9cb10ad0",
   "metadata": {
    "hide-output": false
   },
   "outputs": [],
   "source": [
    "# Fit your prediction model and plot calibration and balance"
   ]
  },
  {
   "cell_type": "markdown",
   "id": "d97b7168",
   "metadata": {},
   "source": [
    "([back to text](#app-rcd-dir3))"
   ]
  },
  {
   "cell_type": "markdown",
   "id": "d31255c9",
   "metadata": {},
   "source": [
    "### Exercise 4\n",
    "\n",
    "Modify the cross-validation scoring function to see how it affects\n",
    "calibration and balance.\n",
    "\n",
    "([back to text](#app-rcd-dir4))"
   ]
  }
 ],
 "metadata": {
  "date": 1680159600.698339,
  "filename": "recidivism.md",
  "kernelspec": {
   "display_name": "Python",
   "language": "python3",
   "name": "python3"
  },
  "title": "Case Study: Recidivism"
 },
 "nbformat": 4,
 "nbformat_minor": 5
}