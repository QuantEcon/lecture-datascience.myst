{
 "cells": [
  {
   "cell_type": "markdown",
   "id": "17a55d3f",
   "metadata": {},
   "source": [
    "# Applications\n",
    "\n",
    "In this part of the course, we will begin to apply the skills that you have learned. This\n",
    "includes using familiar tools in new applications and learning new tools that can be used for\n",
    "special types of analysis."
   ]
  },
  {
   "cell_type": "markdown",
   "id": "0d43475f",
   "metadata": {},
   "source": [
    "##  [Data Visualization: Rules and Guidelines](https://datascience.quantecon.org/visualization_rules.html)"
   ]
  },
  {
   "cell_type": "markdown",
   "id": "3c1133eb",
   "metadata": {},
   "source": [
    "##  [Regression](https://datascience.quantecon.org/regression.html)"
   ]
  },
  {
   "cell_type": "markdown",
   "id": "0c6100d5",
   "metadata": {},
   "source": [
    "##  [Case Study: Recidivism](https://datascience.quantecon.org/recidivism.html)"
   ]
  },
  {
   "cell_type": "markdown",
   "id": "015af17e",
   "metadata": {},
   "source": [
    "##  [Mapping in Python](https://datascience.quantecon.org/maps.html)"
   ]
  },
  {
   "cell_type": "markdown",
   "id": "0b52471a",
   "metadata": {},
   "source": [
    "##  [Classification](https://datascience.quantecon.org/classification.html)"
   ]
  },
  {
   "cell_type": "markdown",
   "id": "f2852079",
   "metadata": {},
   "source": [
    "##  [Working with Text](https://datascience.quantecon.org/working_with_text.html)"
   ]
  },
  {
   "cell_type": "markdown",
   "id": "07590525",
   "metadata": {},
   "source": [
    "##  [Machine Learning in Economics](https://datascience.quantecon.org/ml_in_economics.html)"
   ]
  },
  {
   "cell_type": "markdown",
   "id": "66ded18f",
   "metadata": {},
   "source": [
    "##  [Heterogeneous Effects](https://datascience.quantecon.org/heterogeneity.html)"
   ]
  },
  {
   "cell_type": "markdown",
   "id": "ca313c80",
   "metadata": {},
   "source": [
    "##  [Social and Economic Networks](https://datascience.quantecon.org/networks.html)"
   ]
  }
 ],
 "metadata": {
  "date": 1673670627.6733298,
  "filename": "index.md",
  "kernelspec": {
   "display_name": "Python",
   "language": "python3",
   "name": "python3"
  },
  "title": "Applications"
 },
 "nbformat": 4,
 "nbformat_minor": 5
}