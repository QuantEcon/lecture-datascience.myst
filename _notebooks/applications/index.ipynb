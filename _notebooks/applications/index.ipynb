{
 "cells": [
  {
   "cell_type": "markdown",
   "id": "f9e32fcd",
   "metadata": {},
   "source": [
    "# Applications\n",
    "\n",
    "In this part of the course, we will begin to apply the skills that you have learned. This\n",
    "includes using familiar tools in new applications and learning new tools that can be used for\n",
    "special types of analysis."
   ]
  },
  {
   "cell_type": "markdown",
   "id": "70acee7c",
   "metadata": {},
   "source": [
    "##  [Data Visualization: Rules and Guidelines](https://datascience.quantecon.org/visualization_rules.html)"
   ]
  },
  {
   "cell_type": "markdown",
   "id": "6ab43d1a",
   "metadata": {},
   "source": [
    "##  [Regression](https://datascience.quantecon.org/regression.html)"
   ]
  },
  {
   "cell_type": "markdown",
   "id": "f128bf3f",
   "metadata": {},
   "source": [
    "##  [Case Study: Recidivism](https://datascience.quantecon.org/recidivism.html)"
   ]
  },
  {
   "cell_type": "markdown",
   "id": "f3c1e6f2",
   "metadata": {},
   "source": [
    "##  [Mapping in Python](https://datascience.quantecon.org/maps.html)"
   ]
  },
  {
   "cell_type": "markdown",
   "id": "c2712c0e",
   "metadata": {},
   "source": [
    "##  [Classification](https://datascience.quantecon.org/classification.html)"
   ]
  },
  {
   "cell_type": "markdown",
   "id": "f6c2fbd6",
   "metadata": {},
   "source": [
    "##  [Working with Text](https://datascience.quantecon.org/working_with_text.html)"
   ]
  },
  {
   "cell_type": "markdown",
   "id": "f0a17907",
   "metadata": {},
   "source": [
    "##  [Machine Learning in Economics](https://datascience.quantecon.org/ml_in_economics.html)"
   ]
  },
  {
   "cell_type": "markdown",
   "id": "75303ede",
   "metadata": {},
   "source": [
    "##  [Heterogeneous Effects](https://datascience.quantecon.org/heterogeneity.html)"
   ]
  },
  {
   "cell_type": "markdown",
   "id": "24abd8ca",
   "metadata": {},
   "source": [
    "##  [Social and Economic Networks](https://datascience.quantecon.org/networks.html)"
   ]
  }
 ],
 "metadata": {
  "date": 1684865750.2794936,
  "filename": "index.md",
  "kernelspec": {
   "display_name": "Python",
   "language": "python3",
   "name": "python3"
  },
  "title": "Applications"
 },
 "nbformat": 4,
 "nbformat_minor": 5
}