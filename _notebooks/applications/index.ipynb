{
 "cells": [
  {
   "cell_type": "markdown",
   "id": "91b17e60",
   "metadata": {},
   "source": [
    "# Applications\n",
    "\n",
    "In this part of the course, we will begin to apply the skills that you have learned. This\n",
    "includes using familiar tools in new applications and learning new tools that can be used for\n",
    "special types of analysis."
   ]
  },
  {
   "cell_type": "markdown",
   "id": "c28a914c",
   "metadata": {},
   "source": [
    "##  [Machine Learning in Economics](https://datascience.quantecon.org/ml_in_economics.html)"
   ]
  },
  {
   "cell_type": "markdown",
   "id": "354a73fe",
   "metadata": {},
   "source": [
    "##  [Social and Economic Networks](https://datascience.quantecon.org/networks.html)"
   ]
  },
  {
   "cell_type": "markdown",
   "id": "f231130d",
   "metadata": {},
   "source": [
    "##  [Case Study: Recidivism](https://datascience.quantecon.org/recidivism.html)"
   ]
  },
  {
   "cell_type": "markdown",
   "id": "35f072cb",
   "metadata": {},
   "source": [
    "##  [Working with Text](https://datascience.quantecon.org/working_with_text.html)"
   ]
  },
  {
   "cell_type": "markdown",
   "id": "311c6c27",
   "metadata": {},
   "source": [
    "##  [Heterogeneous Effects](https://datascience.quantecon.org/heterogeneity.html)"
   ]
  }
 ],
 "metadata": {
  "date": 1730835265.353444,
  "filename": "index.md",
  "kernelspec": {
   "display_name": "Python",
   "language": "python3",
   "name": "python3"
  },
  "title": "Applications"
 },
 "nbformat": 4,
 "nbformat_minor": 5
}