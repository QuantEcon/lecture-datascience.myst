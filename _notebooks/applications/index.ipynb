{
 "cells": [
  {
   "cell_type": "markdown",
   "id": "0b895110",
   "metadata": {},
   "source": [
    "# Applications\n",
    "\n",
    "In this part of the course, we will begin to apply the skills that you have learned. This\n",
    "includes using familiar tools in new applications and learning new tools that can be used for\n",
    "special types of analysis."
   ]
  },
  {
   "cell_type": "markdown",
   "id": "d7b60c3e",
   "metadata": {},
   "source": [
    "##  [Machine Learning in Economics](https://datascience.quantecon.org/ml_in_economics.html)"
   ]
  },
  {
   "cell_type": "markdown",
   "id": "2ce3b014",
   "metadata": {},
   "source": [
    "##  [Social and Economic Networks](https://datascience.quantecon.org/networks.html)"
   ]
  },
  {
   "cell_type": "markdown",
   "id": "0d24027a",
   "metadata": {},
   "source": [
    "##  [Case Study: Recidivism](https://datascience.quantecon.org/recidivism.html)"
   ]
  },
  {
   "cell_type": "markdown",
   "id": "b52fe9f4",
   "metadata": {},
   "source": [
    "##  [Working with Text](https://datascience.quantecon.org/working_with_text.html)"
   ]
  },
  {
   "cell_type": "markdown",
   "id": "defb3723",
   "metadata": {},
   "source": [
    "##  [Heterogeneous Effects](https://datascience.quantecon.org/heterogeneity.html)"
   ]
  }
 ],
 "metadata": {
  "date": 1708375705.362176,
  "filename": "index.md",
  "kernelspec": {
   "display_name": "Python",
   "language": "python3",
   "name": "python3"
  },
  "title": "Applications"
 },
 "nbformat": 4,
 "nbformat_minor": 5
}