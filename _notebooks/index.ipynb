{
 "cells": [
  {
   "cell_type": "markdown",
   "id": "bf1ddfde",
   "metadata": {},
   "source": [
    "# Introduction to Economic Modeling and Data Science\n",
    "\n",
    "This website presents a series of lectures on programming, data science, and economics. The emphasis of these materials is not just the programming and statistics necessary to analyze data, but also on interpreting the results through the lens of economics.\n",
    "\n",
    "This work was supported in part by the Center for Innovative Data in Economics Research (CIDER) at the [Vancouver School of Economics](https://economics.ubc.ca/), UBC, funded by the Canada Excellence Research Chair grant.\n",
    "\n",
    "To get an idea of what one can do after taking this course, please take a look at [previous student projects](https://datascience.quantecon.org/theme/projects.html).\n",
    "\n",
    "[Chase Coleman](http://www.chasegcoleman.com/), [Spencer Lyon](http://spencerlyon.com/), [Jesse Perla](http://jesseperla.com/), [More Contributors](https://datascience.quantecon.org/theme/contributors.html)."
   ]
  },
  {
   "cell_type": "markdown",
   "id": "44a38c14",
   "metadata": {},
   "source": [
    "# News\n",
    "\n",
    "[QuantEcon](https://quantecon.org) is moving to the [Jupyter Book](https://jupyterbook.org/intro.html)\n",
    "build system for all of its projects. We are a founding member of the\n",
    "[Executable Books Project](https://github.com/executablebooks), an international collaboration to\n",
    "build open source tools that facilitate publishing using the Jupyter\n",
    "ecosystem. Please send feedback to [contact@quantecon.org](mailto:contact@quantecon.org)"
   ]
  },
  {
   "cell_type": "markdown",
   "id": "227bcc21",
   "metadata": {},
   "source": [
    "##  [Introduction](https://datascience.quantecon.org/introduction/index.html)\n",
    "\n",
    "Course description, software installation"
   ]
  },
  {
   "cell_type": "markdown",
   "id": "0a464c0f",
   "metadata": {},
   "source": [
    "##  [Python Fundamentals](https://datascience.quantecon.org/python_fundamentals/index.html)\n",
    "\n",
    "Basic Python programming"
   ]
  },
  {
   "cell_type": "markdown",
   "id": "ffc33861",
   "metadata": {},
   "source": [
    "##  [Scientific Computing](https://datascience.quantecon.org/scientific/index.html)\n",
    "\n",
    "Numerical and scientific methods"
   ]
  },
  {
   "cell_type": "markdown",
   "id": "02a9a5a9",
   "metadata": {},
   "source": [
    "##  [Pandas](https://datascience.quantecon.org/pandas/index.html)\n",
    "\n",
    "The “data” in data science"
   ]
  },
  {
   "cell_type": "markdown",
   "id": "b3f7da55",
   "metadata": {},
   "source": [
    "##  [Applications](https://datascience.quantecon.org/applications/index.html)\n",
    "\n",
    "Applications and statistical tools"
   ]
  }
 ],
 "metadata": {
  "date": 1680209447.0853038,
  "filename": "index.md",
  "kernelspec": {
   "display_name": "Python",
   "language": "python3",
   "name": "python3"
  },
  "title": "Introduction to Economic Modeling and Data Science"
 },
 "nbformat": 4,
 "nbformat_minor": 5
}