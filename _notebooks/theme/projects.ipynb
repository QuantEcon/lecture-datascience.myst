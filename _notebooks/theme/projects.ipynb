{
 "cells": [
  {
   "cell_type": "markdown",
   "id": "d91a41a8",
   "metadata": {},
   "source": [
    "# Previous Projects\n",
    "\n",
    "We are immensely proud of the work that our previous students have produced for this class.\n",
    "\n",
    "This page contains a list of projects produced for this class by our students at UBC, which we share with their permission.\n",
    "\n",
    "This course is also taught at [Huazhong University of Science and Technology](http://english.hust.edu.cn/). Check out some of their students’ [final projects](https://datascience.quantecon.org/projects_hust.html)."
   ]
  },
  {
   "cell_type": "markdown",
   "id": "3183afe8",
   "metadata": {},
   "source": [
    "## 2022\n",
    "\n",
    "- [An analysis of implicit carbon emission between provinces in China with Data Science application](https://nbviewer.jupyter.org/github/Yuetong-Du/projects/blob/main/ECON%20323%20Project%20with%20Elody/323%20project%20Tracy%20Elody%20final_1.ipynb)  \n",
    "  - Tracy Du  \n",
    "  - Elody Alcaraz  \n",
    "- [NBA Games and LA Car Accidents: Do Sporting Events Lead to More Car Accidents?](https://nbviewer.jupyter.org/github/teenida/econ323-final-project/blob/main/final_project.ipynb) ([Appendix: Data Cleaning](https://nbviewer.jupyter.org/github/teenida/econ323-final-project/blob/main/data_cleaning.ipynb))  \n",
    "  - Teenida Mea Srisan  \n",
    "- [Road Surface Temperature Analysis: Influence of weather on road conditions for self driving cars](https://nbviewer.jupyter.org/github/ubcecon/econ323_projects/blob/main/2022_Fall/Project_ChiesaTerpstra-1.ipynb)  \n",
    "  - Martina Chiesa  \n",
    "  - Pascal Terpstra  \n",
    "- [Personalization of the E-Learning Experience](https://nbviewer.jupyter.org/github/ubcecon/econ323_projects/blob/main/2022_Fall/Alkorey_student_grade_predictions.ipynb)  \n",
    "  - Aziz Alkorey  \n",
    "- [Predicting House Price in Melbourne City via Machine Learning Model](https://nbviewer.jupyter.org/github/ScottCY/ECON323-Project/blob/main/Qian%20FinalProject%20Econ%20323.ipynb)  \n",
    "  - Chenyue Qian  \n",
    "- [General Equilibrium with Heterogeneous Agents: A demonstration of the 1st welfare theorem](https://nbviewer.jupyter.org/github/ubcecon/econ323_projects/blob/main/2022_Fall/Znidaric_heterogeneous_agent_Ramsey%E2%80%93Cass%E2%80%93Koopmans.ipynb)  \n",
    "  - [Name redacted by request]  \n",
    "  - Paul Znidaric  \n",
    "- [Correlation between players’ signing expenditure and the performance of the teams in the Spanish soccer league](https://nbviewer.jupyter.org/github/ubcecon/econ323_projects/blob/main/2022_Fall/Luna_player_signing_expenditure_and_team_performance.ipynb)  \n",
    "  - Sebastian Luna  \n",
    "- [Using Machine Learning to predict Market Falls with Newspaper Articles](https://nbviewer.jupyter.org/github/jmochoagraciano/UBC_ECON/blob/main/ML_MarketFalls%20%282%29.ipynb)  \n",
    "  - Juan Manuel Ochoa Graciano  \n",
    "- [Bank Account Fraud Analysis](https://nbviewer.jupyter.org/github/ubcecon/econ323_projects/blob/main/2022_Fall/ECON-323-Project-8-3.ipynb)  \n",
    "  - Steven Mezei  \n",
    "  - Sameer Shankar  \n",
    "- [Diffusion of political rhetoric: Radio coverage and deforestation rates in Bolsanaro’s Brazil](https://nbviewer.jupyter.org/github/ubcecon/econ323_projects/blob/main/2022_Fall/Harterre%20Zolla%20Final%20Project.ipynb) ([Appendix 1: Deforestation map](https://nbviewer.org/github/ubcecon/econ323_projects/blob/main/2022_Fall/deforestmap.pdf), [Appendix 2: Radio coverage map](https://nbviewer.jupyter.org/github/ubcecon/econ323_projects/blob/main/2022_Fall/radiomap.pdf))  \n",
    "  - Nicholas Harterre  \n",
    "  - Valeria Zolla  "
   ]
  },
  {
   "cell_type": "markdown",
   "id": "67e9d9da",
   "metadata": {},
   "source": [
    "## 2021\n",
    "\n",
    "- [Centrists Win: Evidence from US House Elections](https://nbviewer.jupyter.org/github/HJIzt/Predicting-Election-Wins-in-the-2018-US-Congressional-Midterms---ECON-323-Project/blob/main/ECON%20323%20Final%20Project%20-%20Harry%20Izatt%20Reduced%20Copy.ipynb)  \n",
    "  - Harry Izatt  \n",
    "- [Factors affecting bike share in San Francisco](https://nbviewer.jupyter.org/github/patkarns/econ-323-final-project/blob/main/final_draft.ipynb)  \n",
    "  - Napat Karnsakultorn  \n",
    "- [Evolution of NBA Player Salary Determinants](https://nbviewer.jupyter.org/github/silaslm/NBA-Player-Salary-Determinants/blob/main/NBA_Player_Salary_Determinants-2.ipynb)  \n",
    "  - Silas Lee-McNamee  \n",
    "- [Visualization of Circum-Pacific Belt Earthquakes](https://nbviewer.jupyter.org/github/jessicashi98/ECON323/blob/main/final323.ipynb)  \n",
    "  - Jessica Shi  "
   ]
  },
  {
   "cell_type": "markdown",
   "id": "852871a8",
   "metadata": {},
   "source": [
    "## 2020\n",
    "\n",
    "- [Machine Learning Models for the Prediction of Obesity](https://nbviewer.jupyter.org/github/ajallow625/ML-models-for-the-Prediction-of-Obesity/blob/master/FINAL%20PROJECT.ipynb)  \n",
    "  - Jallow Abdullah  \n",
    "- [Effect of Temperature on COVID-19 Transmission](https://nbviewer.jupyter.org/github/Kunal06/COVID-Temperature/blob/master/Code.ipynb)  \n",
    "  - Kunal Aildasani  \n",
    "  - Jenil Doshi  \n",
    "- [The Effect of Fatalities on the Popularity of Partido Demokratiko Pilipino](https://nbviewer.jupyter.org/github/mattaraneta/Econ-323-final-project/blob/master/final%20project%20CLEAN%202.ipynb)  \n",
    "  - Matthew Araneta  \n",
    "- [Gendered Language on University Subreddits](https://nbviewer.jupyter.org/github/aadsouza/ubc_econ_323_final_project_submission/blob/master/econ_323_final_project_aa_dsouza_gen_lang.ipynb)  \n",
    "  - Amedeus A. Dsouza  \n",
    "- [Classification Analysis of Suicide Rates](https://nbviewer.jupyter.org/github/Anahita97/ECON-323-Project/blob/master/ECON%20323%20Project.ipynb)  \n",
    "  - Anahita Einolghozati  \n",
    "- [Predict Loan Funding with Loan Profile](https://nbviewer.jupyter.org/github/pwesferguson/kiva-visualization-econ-323/blob/master/kiva.ipynb)  \n",
    "  - Wesley Ferguson  \n",
    "- [Predicting Sovereign Debt Crises](https://nbviewer.jupyter.org/github/rgrach/ECON-323-Final-Project/blob/master/Predicting%20Sovereign%20Debt%20Crises.ipynb)  \n",
    "  - Raphaël Grach  \n",
    "- [Gentrification and AirBnb in New York: Two sides of the same coin](https://nbviewer.jupyter.org/github/Lubaina97/323-Final-Project/blob/master/Final%20Project-2.ipynb)  \n",
    "  - Lubaina Jaffri  \n",
    "- [Bitcoin Returns](https://nbviewer.jupyter.org/github/syadk/323-final_project/blob/master/323-final_project.ipynb)  \n",
    "  - Syad Khan  \n",
    "- [COVID-19 and Resale Price of Luxury Masks](https://nbviewer.jupyter.org/github/statistically/323proj/blob/master/323proj.ipynb)  \n",
    "  - Saeed Khoury  \n",
    "- [Do New U.S. Permanent Residents Push Up Local Housing Prices](https://nbviewer.jupyter.org/github/RunningMeatball/PR-Housing/blob/master/323Project.ipynb)  \n",
    "  - Yucheng Liu  \n",
    "- [Loving You is Complicated: Quantifying Musical Sentiment and Success through Data Science](https://nbviewer.jupyter.org/github/jcortesorihuela/ECON323-Final-Project/blob/master/Final%20Project.ipynb)  \n",
    "  - Javier Cortes Orihuela  \n",
    "- [Effect of Merge and Aquisition on Giant Tech Firms’ Stock Prices](https://nbviewer.jupyter.org/github/mrodrigo1999/ECON-323-Project/blob/master/Final%20Project%20%283%29.ipynb)  \n",
    "  - Rodrigo Martinez Urrutia  \n",
    "- [Effect of Long-Term Water Boil Advisories on Indigenous Nations](https://nbviewer.jupyter.org/github/noelle-wang/econ323/blob/master/Final%20Project%20%288%29.ipynb)  \n",
    "  - Noelle Wang  \n",
    "- [Analysis on U.S.-China Trade War](https://nbviewer.jupyter.org/github/roddyzihao/U.S.-China-Trade-War/blob/master/U.S.-China%20Trade%20War%20for%20UBC%20Econ%20323.ipynb)  \n",
    "  - Zihao Wang  "
   ]
  },
  {
   "cell_type": "markdown",
   "id": "afe1a9d4",
   "metadata": {},
   "source": [
    "## 2019\n",
    "\n",
    "- [US Courts and Judges](https://nbviewer.jupyter.org/github/isapollnik/uscourts/blob/master/US%20Courts%20and%20Judges%20-%20ECON%20407%20Final%20Project.ipynb)  \n",
    "  - Ian Sapollnik  \n",
    "  - George Radner  \n",
    "- [Google Trends to Predict Unemployment Rates](https://nbviewer.jupyter.org/github/tudorschlanger/unemp-googleindex/blob/master/code.ipynb)  \n",
    "  - Tudor Schlanger  \n",
    "- [How Well do FIFA Ratings Predict Match Results?](https://notes.quantecon.org/submission/5cd8a7fab955b800107296ca)  \n",
    "  - Shahzoor Safdar  \n",
    "- [Firm Level Innovation and CEO Compensation](https://notes.quantecon.org/submission/5cdb1a58b955b800107296cc)  \n",
    "  - Robin Li  \n",
    "- [Forecasting Inflation Using VAR: Traditional vs ML Approaches](https://notes.quantecon.org/submission/5cc8e7dd4174bb001a39a8ff)  \n",
    "  - Joseph Teh  \n",
    "- [Machine Learning for Technical Analysis](https://nbviewer.jupyter.org/github/canberk17/Algorithm/blob/master/Clean%20Algorithm%20%281%29.ipynb)  \n",
    "  - Canberk Kandemir  \n",
    "- [Predicting Financial Success from Reports and Data Breaches](https://nbviewer.jupyter.org/github/e-hall-hoffarth/407_Final_Project/blob/master/financial_predictions.ipynb)  \n",
    "  - Emmet Hall  "
   ]
  }
 ],
 "metadata": {
  "date": 1688529289.7518034,
  "filename": "projects.md",
  "kernelspec": {
   "display_name": "Python",
   "language": "python3",
   "name": "python3"
  },
  "title": "Previous Projects"
 },
 "nbformat": 4,
 "nbformat_minor": 5
}