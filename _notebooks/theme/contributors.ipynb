{
 "cells": [
  {
   "cell_type": "markdown",
   "id": "a49331b2",
   "metadata": {},
   "source": [
    "# Contributors:\n",
    "\n",
    "This project would not have been possible without contributions from the people listed\n",
    "on this page. They were involved in authoring/editing material, designing the website,\n",
    "and providing technological support. We are grateful to each of these individuals for\n",
    "their contributions."
   ]
  },
  {
   "cell_type": "markdown",
   "id": "e489bdc6",
   "metadata": {},
   "source": [
    "##  [Quentin Batista](https://github.com/QBatista)\n",
    "\n",
    "- Becker Friedman Institute  "
   ]
  },
  {
   "cell_type": "markdown",
   "id": "60befc8c",
   "metadata": {},
   "source": [
    "##  [Kim Ruhl](http://kimjruhl.com/)\n",
    "\n",
    "- UW  "
   ]
  },
  {
   "cell_type": "markdown",
   "id": "a04c08f3",
   "metadata": {},
   "source": [
    "##  [Thomas Sargent](http://www.tomsargent.com/)\n",
    "\n",
    "- NYU  "
   ]
  },
  {
   "cell_type": "markdown",
   "id": "eae844ce",
   "metadata": {},
   "source": [
    "##  [Paul Schrimpf](https://economics.ubc.ca/faculty-and-staff/paul-schrimpf/)\n",
    "\n",
    "- UBC  "
   ]
  },
  {
   "cell_type": "markdown",
   "id": "93c1fc67",
   "metadata": {},
   "source": [
    "##  [Philip Solimine](https://psolimine.net)\n",
    "\n",
    "- UBC  "
   ]
  },
  {
   "cell_type": "markdown",
   "id": "67589bf3",
   "metadata": {},
   "source": [
    "##  [Arnav Sood](https://arnavsood.com)\n",
    "\n",
    "- UBC  "
   ]
  },
  {
   "cell_type": "markdown",
   "id": "8fb8be8b",
   "metadata": {},
   "source": [
    "##  [Andrij Stachurski](https://drdrij.com/)\n",
    "\n",
    "- Web Consultant  "
   ]
  },
  {
   "cell_type": "markdown",
   "id": "54b85b9a",
   "metadata": {},
   "source": [
    "##  [John Stachurski](http://johnstachurski.net)\n",
    "\n",
    "- ANU  "
   ]
  },
  {
   "cell_type": "markdown",
   "id": "d5fc33b7",
   "metadata": {},
   "source": [
    "##  [Natasha Watkins](https://github.com/natashawatkins)\n",
    "\n",
    "- UCLA  "
   ]
  },
  {
   "cell_type": "markdown",
   "id": "6a26e553",
   "metadata": {},
   "source": [
    "##  [Michael Waugh](http://www.waugheconomics.com/)\n",
    "\n",
    "- NYU  "
   ]
  },
  {
   "cell_type": "markdown",
   "id": "7639085c",
   "metadata": {},
   "source": [
    "##  [Peifan Wu](https://peifanwu.weebly.com)\n",
    "\n",
    "- UBC  "
   ]
  }
 ],
 "metadata": {
  "date": 1688529289.736392,
  "filename": "contributors.md",
  "kernelspec": {
   "display_name": "Python",
   "language": "python3",
   "name": "python3"
  },
  "title": "Contributors:"
 },
 "nbformat": 4,
 "nbformat_minor": 5
}