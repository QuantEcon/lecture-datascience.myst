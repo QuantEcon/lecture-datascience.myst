{
 "cells": [
  {
   "cell_type": "markdown",
   "id": "c89c5f3b",
   "metadata": {},
   "source": [
    "# Contributors:\n",
    "\n",
    "This project would not have been possible without contributions from the people listed\n",
    "on this page. They were involved in authoring/editing material, designing the website,\n",
    "and providing technological support. We are grateful to each of these individuals for\n",
    "their contributions."
   ]
  },
  {
   "cell_type": "markdown",
   "id": "31e78a7d",
   "metadata": {},
   "source": [
    "##  [Quentin Batista](https://github.com/QBatista)\n",
    "\n",
    "- Becker Friedman Institute  "
   ]
  },
  {
   "cell_type": "markdown",
   "id": "98eed71b",
   "metadata": {},
   "source": [
    "##  [Kim Ruhl](http://kimjruhl.com/)\n",
    "\n",
    "- UW  "
   ]
  },
  {
   "cell_type": "markdown",
   "id": "7b416936",
   "metadata": {},
   "source": [
    "##  [Thomas Sargent](http://www.tomsargent.com/)\n",
    "\n",
    "- NYU  "
   ]
  },
  {
   "cell_type": "markdown",
   "id": "f3d92418",
   "metadata": {},
   "source": [
    "##  [Paul Schrimpf](https://economics.ubc.ca/faculty-and-staff/paul-schrimpf/)\n",
    "\n",
    "- UBC  "
   ]
  },
  {
   "cell_type": "markdown",
   "id": "797817f2",
   "metadata": {},
   "source": [
    "##  [Philip Solimine](https://psolimine.net)\n",
    "\n",
    "- UBC  "
   ]
  },
  {
   "cell_type": "markdown",
   "id": "26d58fc6",
   "metadata": {},
   "source": [
    "##  [Arnav Sood](https://arnavsood.com)\n",
    "\n",
    "- UBC  "
   ]
  },
  {
   "cell_type": "markdown",
   "id": "0859f4db",
   "metadata": {},
   "source": [
    "##  [Andrij Stachurski](https://drdrij.com/)\n",
    "\n",
    "- Web Consultant  "
   ]
  },
  {
   "cell_type": "markdown",
   "id": "952f87b6",
   "metadata": {},
   "source": [
    "##  [John Stachurski](http://johnstachurski.net)\n",
    "\n",
    "- ANU  "
   ]
  },
  {
   "cell_type": "markdown",
   "id": "c7250b58",
   "metadata": {},
   "source": [
    "##  [Natasha Watkins](https://github.com/natashawatkins)\n",
    "\n",
    "- UCLA  "
   ]
  },
  {
   "cell_type": "markdown",
   "id": "f8670daf",
   "metadata": {},
   "source": [
    "##  [Michael Waugh](http://www.waugheconomics.com/)\n",
    "\n",
    "- NYU  "
   ]
  },
  {
   "cell_type": "markdown",
   "id": "527ce872",
   "metadata": {},
   "source": [
    "##  [Peifan Wu](https://peifanwu.weebly.com)\n",
    "\n",
    "- UBC  "
   ]
  }
 ],
 "metadata": {
  "date": 1716224504.5703375,
  "filename": "contributors.md",
  "kernelspec": {
   "display_name": "Python",
   "language": "python3",
   "name": "python3"
  },
  "title": "Contributors:"
 },
 "nbformat": 4,
 "nbformat_minor": 5
}