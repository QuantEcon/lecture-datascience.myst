{
 "cells": [
  {
   "cell_type": "markdown",
   "id": "6089c77b",
   "metadata": {},
   "source": [
    "# Contributors:\n",
    "\n",
    "This project would not have been possible without contributions from the people listed\n",
    "on this page. They were involved in authoring/editing material, designing the website,\n",
    "and providing technological support. We are grateful to each of these individuals for\n",
    "their contributions."
   ]
  },
  {
   "cell_type": "markdown",
   "id": "b94823b7",
   "metadata": {},
   "source": [
    "##  [Quentin Batista](https://github.com/QBatista)\n",
    "\n",
    "- Becker Friedman Institute  "
   ]
  },
  {
   "cell_type": "markdown",
   "id": "58e30922",
   "metadata": {},
   "source": [
    "##  [Kim Ruhl](http://kimjruhl.com/)\n",
    "\n",
    "- UW  "
   ]
  },
  {
   "cell_type": "markdown",
   "id": "6abb6d4c",
   "metadata": {},
   "source": [
    "##  [Thomas Sargent](http://www.tomsargent.com/)\n",
    "\n",
    "- NYU  "
   ]
  },
  {
   "cell_type": "markdown",
   "id": "3de8d75f",
   "metadata": {},
   "source": [
    "##  [Paul Schrimpf](https://economics.ubc.ca/faculty-and-staff/paul-schrimpf/)\n",
    "\n",
    "- UBC  "
   ]
  },
  {
   "cell_type": "markdown",
   "id": "f66ec140",
   "metadata": {},
   "source": [
    "##  [Philip Solimine](https://psolimine.net)\n",
    "\n",
    "- UBC  "
   ]
  },
  {
   "cell_type": "markdown",
   "id": "9a722794",
   "metadata": {},
   "source": [
    "##  [Arnav Sood](https://arnavsood.com)\n",
    "\n",
    "- UBC  "
   ]
  },
  {
   "cell_type": "markdown",
   "id": "d9457023",
   "metadata": {},
   "source": [
    "##  [Andrij Stachurski](https://drdrij.com/)\n",
    "\n",
    "- Web Consultant  "
   ]
  },
  {
   "cell_type": "markdown",
   "id": "8e2f3740",
   "metadata": {},
   "source": [
    "##  [John Stachurski](http://johnstachurski.net)\n",
    "\n",
    "- ANU  "
   ]
  },
  {
   "cell_type": "markdown",
   "id": "983604bf",
   "metadata": {},
   "source": [
    "##  [Natasha Watkins](https://github.com/natashawatkins)\n",
    "\n",
    "- UCLA  "
   ]
  },
  {
   "cell_type": "markdown",
   "id": "391fc1b1",
   "metadata": {},
   "source": [
    "##  [Michael Waugh](http://www.waugheconomics.com/)\n",
    "\n",
    "- NYU  "
   ]
  },
  {
   "cell_type": "markdown",
   "id": "77b5ba72",
   "metadata": {},
   "source": [
    "##  [Peifan Wu](https://peifanwu.weebly.com)\n",
    "\n",
    "- UBC  "
   ]
  }
 ],
 "metadata": {
  "date": 1680159603.4054363,
  "filename": "contributors.md",
  "kernelspec": {
   "display_name": "Python",
   "language": "python3",
   "name": "python3"
  },
  "title": "Contributors:"
 },
 "nbformat": 4,
 "nbformat_minor": 5
}