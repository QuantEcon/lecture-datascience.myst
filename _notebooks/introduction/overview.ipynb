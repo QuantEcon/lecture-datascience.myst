{
 "cells": [
  {
   "cell_type": "markdown",
   "id": "dace25a5",
   "metadata": {},
   "source": [
    "# Course Description"
   ]
  },
  {
   "cell_type": "markdown",
   "id": "4df3de43",
   "metadata": {},
   "source": [
    "## Course Objectives and Scope"
   ]
  },
  {
   "cell_type": "markdown",
   "id": "1b14860b",
   "metadata": {},
   "source": [
    "### Scope of Lecture Notes\n",
    "\n",
    "This course is a lecture series on data science, economics, programming, and how\n",
    "they can be used to understand the world around us.\n",
    "\n",
    "We envision this as a complement to econometrics. We focus on learning practical programming\n",
    "skills for the workplace and future studies in economics and finance.\n",
    "\n",
    "Unlike courses in computer science, data science, or statistics, the emphasis of this course\n",
    "includes both the programming and the statistics necessary to analyze data *and* subsequently\n",
    "interpret results through the lens of economics.\n",
    "\n",
    "While anyone with the appropriate prerequisites will benefit from this course, undergraduate\n",
    "programs will find the lecture series suitable for 2nd to 3rd year students who have taken two\n",
    "calculus classes and their school’s equivalent of Econ 101. No prior programming experience is\n",
    "required.\n",
    "\n",
    "Students who complete this course will be prepared to:\n",
    "\n",
    "- Work in a data analyst or a data science role with the ability to frame problems in a broader\n",
    "  economic context and provide unique insights associated with that context, and/or,  \n",
    "- Continue onto QuantEcon’s “Lectures in Quantitative Economics” in preparation for graduate school\n",
    "  in economics, policy, or other related fields.  \n",
    "\n",
    "\n",
    "To get an idea of what one can do after taking this course, please take a look at [previous student projects](https://datascience.quantecon.org/../theme/projects.html)."
   ]
  },
  {
   "cell_type": "markdown",
   "id": "532ae0ea",
   "metadata": {},
   "source": [
    "### Course Outline\n",
    "\n",
    "The essential outcome of the course is: Students will be able to recognize and understand the\n",
    "connections between economic theory and the practice of data science, expanding beyond atheoretical\n",
    "statistical approaches.\n",
    "\n",
    "The course is divided into three segments.\n",
    "\n",
    "The first segment of this course covers programming and basic scientific computing in Python by\n",
    "re-examining basic Econ 101 concepts and models.\n",
    "\n",
    "This provides a natural introduction to thinking of economics as a quantitative discipline, with\n",
    "principles and applications grounded in real world problems.\n",
    "\n",
    "The second segment dives into data analysis and data science, with the associated data wrangling\n",
    "skills, as a way to leverage economic data, tools, and concepts.\n",
    "\n",
    "The final segment is a sequence of case studies designed to help students answer specific questions\n",
    "and recommend solutions.\n",
    "\n",
    "Students will learn and apply more advanced techniques and models, as well as examine new data sources."
   ]
  },
  {
   "cell_type": "markdown",
   "id": "eac05d30",
   "metadata": {},
   "source": [
    "## Prerequisites\n",
    "\n",
    "While we have kept the prerequisites to a minimum, some degree of mathematical fluency is required.\n",
    "\n",
    "Most importantly, while familiarity with computers is expected, **no** programming knowledge is\n",
    "required for this course.\n",
    "\n",
    "To summarize the background we expect that you should have at least: (1) an introductory “ECON 101”\n",
    "class; (2) one to two terms of calculus; and (3) either an elementary course in matrix algebra, or a\n",
    "willingness to learn the basics on your own."
   ]
  },
  {
   "cell_type": "markdown",
   "id": "ff151c02",
   "metadata": {},
   "source": [
    "### Calculus\n",
    "\n",
    "You should have one course (and possibly two, depending on your university) in Calculus.\n",
    "\n",
    "The core concepts used throughout the lectures are\n",
    "\n",
    "- Basic rules of differentiation of univariate functions (e.g. chain rule, product rule)  \n",
    "- Exponentials, natural logarithms, and their derivatives  \n",
    "- Inverse functions and implicit functions  \n",
    "- Maximization/minimization of univariate functions  \n",
    "- Sequences, series, and infinite series  \n",
    "- Partial derivatives and multivariate functions  \n",
    "- Unconstrained Minimization and maximization of multivariate functions  \n",
    "- Simple constrained optimization (including Lagrange multipliers)  "
   ]
  },
  {
   "cell_type": "markdown",
   "id": "7345fd66",
   "metadata": {},
   "source": [
    "### Linear Algebra\n",
    "\n",
    "If you have not taken a first course in applied linear algebra or matrix algebra, you will need to\n",
    "learn concepts of\n",
    "\n",
    "- Vectors and matrices  \n",
    "- Matrices and systems of linear equations  \n",
    "- Dimension and rank  \n",
    "- Matrix operations (e.g. addition, multiplication, inverse)  \n",
    "- Inner products  \n",
    "- Least squares  "
   ]
  },
  {
   "cell_type": "markdown",
   "id": "4f2724d6",
   "metadata": {},
   "source": [
    "### Probability\n",
    "\n",
    "Basic probability is sometimes covered in a second calculus course, but if you have never\n",
    "encountered the topics, then review\n",
    "\n",
    "- Basic probability of discrete and continuous distributions  \n",
    "- Conditional and marginal distributions  \n",
    "- Expected value, variance, and standard deviation  "
   ]
  },
  {
   "cell_type": "markdown",
   "id": "26da1b23",
   "metadata": {},
   "source": [
    "### Economics\n",
    "\n",
    "While more economics is always better, we will try to assume an “Econ 101” background.\n",
    "\n",
    "Otherwise, we will try to provide additional background material on the economics topics."
   ]
  }
 ],
 "metadata": {
  "date": 1684262963.4328172,
  "filename": "overview.md",
  "kernelspec": {
   "display_name": "Python",
   "language": "python3",
   "name": "python3"
  },
  "title": "Course Description"
 },
 "nbformat": 4,
 "nbformat_minor": 5
}