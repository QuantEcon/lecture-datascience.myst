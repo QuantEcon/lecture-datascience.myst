{
 "cells": [
  {
   "cell_type": "markdown",
   "id": "ee32a28e",
   "metadata": {},
   "source": [
    "# Local Installation"
   ]
  },
  {
   "cell_type": "markdown",
   "id": "a547664a",
   "metadata": {},
   "source": [
    "## Installation\n",
    "\n",
    "Visit [continuum.io](https://www.anaconda.com/download) and download the\n",
    "Anaconda Python distribution for your operating system (Windows/Mac OS/Linux).\n",
    "\n",
    "Be sure to download the Python 3.X (where X is some number greater than or equal to 8) version, not\n",
    "the 2.7 version.\n",
    "\n",
    "![https://datascience.quantecon.org/_static/install_python.png](https://datascience.quantecon.org/_static/install_python.png)\n",
    "\n",
    "  \n",
    "Make sure that during the installation [Anaconda](https://www.anaconda.com/distribution/)\n",
    "is added to your environment/path.\n",
    "\n",
    "On Mac OS and Linux, this should happen by default.\n",
    "\n",
    "For Windows users, we recommend installing for “just me” instead of “all users”. Windows users will need to **check the upper box** when the page shown below appears (disregard the “not recommended” warning from Anaconda).\n",
    "\n",
    "![https://datascience.quantecon.org/_static/install_python_path.png](https://datascience.quantecon.org/_static/install_python_path.png)"
   ]
  },
  {
   "cell_type": "markdown",
   "id": "300fb0a9",
   "metadata": {},
   "source": [
    "## Downloading the QuantEcon Data Science Lectures\n",
    "\n",
    "To download the QuantEcon Data Science lectures, go to its [Github repo](https://github.com/QuantEcon/lecture-datascience.notebooks), click on the\n",
    "Code button.\n",
    "\n",
    "![https://datascience.quantecon.org/_static/github_main.png](https://datascience.quantecon.org/_static/github_main.png)\n",
    "\n",
    "  \n",
    "You can download the lectures through either **Github Desktop** or **Terminal**:\n",
    "\n",
    "**Github Desktop** (Mac/Windows only), recommended for most users.\n",
    "\n",
    "1. Install [Github Desktop](https://desktop.github.com/).  \n",
    "1. Go to the [Github repo](https://github.com/QuantEcon/lecture-datascience.notebooks).  \n",
    "1. Click the “Open with Github Desktop” option in the Code button menu. It should open a Github\n",
    "  Desktop popup that looks like this:  \n",
    "  ![https://datascience.quantecon.org/_static/download_lectures_github_desktop.png](https://datascience.quantecon.org/_static/download_lectures_github_desktop.png)\n",
    "  \n",
    "    \n",
    "  You should choose the path (folder) where you would like to download the repository. The default path on\n",
    "  Windows should be `C:/Users/YOUR_USERNAME/Documents/GitHub`.  \n",
    "\n",
    "\n",
    "**Terminal**\n",
    "\n",
    "1. Make sure that `git` is installed on your computer. (`git` is not installed on Windows by default. You can download and install it from [here](https://git-scm.com/download/win)).  \n",
    "1. Open a terminal.  \n",
    "1. Set the path to where you would like to download the lectures. The default one is your home directory.  \n",
    "1. Run `git clone https://github.com/QuantEcon/lecture-datascience.notebooks.git` which will\n",
    "  download the repository with notebooks in your working directory.  "
   ]
  },
  {
   "cell_type": "markdown",
   "id": "b9e382b0",
   "metadata": {},
   "source": [
    "## Package Management\n",
    "\n",
    "In addition to Jupyter, the Anaconda Python distribution comes with two package management tools `conda` and `pip`.\n",
    "\n",
    "These will help you ensure that you have the right packages (think of these as “add-ons” to Python\n",
    "that give you additional functionality… We will discuss these more in depth later!) and help you\n",
    "keep them all up to date.\n",
    "\n",
    "We will work through an example below to install some new package functionality needed for some\n",
    "later lectures. Generally, packages can be installed by using `conda install <package name>` or\n",
    "`pip install <package name>`.\n",
    "\n",
    "Please install the packages you will need later by following the instructions below for your\n",
    "computer’s operating system.\n",
    "\n",
    "**Linux/Mac**\n",
    "\n",
    "- Open a terminal.  \n",
    "- Run the following commands:  "
   ]
  },
  {
   "cell_type": "markdown",
   "id": "9e0a87b6",
   "metadata": {
    "hide-output": false
   },
   "source": [
    "```bash\n",
    "# Install Python packages\n",
    "conda install python-graphviz\n",
    "conda install -c conda-forge \"nodejs>=10.0\" xgboost\n",
    "pip install fiona geopandas pyLDAvis gensim folium descartes pyarrow --upgrade\n",
    "\n",
    "# Activate jlab extensions\n",
    "jupyter labextension install @jupyterlab/toc  --no-build\n",
    "jupyter labextension install @jupyter-widgets/jupyterlab-manager --no-build\n",
    "jupyter labextension install plotlywidget --no-build\n",
    "jupyter labextension install jupyterlab-plotly --no-build\n",
    "jupyter lab build\n",
    "```\n"
   ]
  },
  {
   "cell_type": "markdown",
   "id": "11f7e796",
   "metadata": {},
   "source": [
    "Press `y` and enter whenever you see `Proceed [y]/n` from your terminal.  \n",
    "- Close the terminal when the installation finishes.  \n",
    "\n",
    "\n",
    "**Windows**\n",
    "\n",
    "- Open a command prompt by pressing Windows + R to open the `run` box, type `powershell`, and press\n",
    "  Enter.  \n",
    "- Run the following commands in order:  "
   ]
  },
  {
   "cell_type": "markdown",
   "id": "a27b893c",
   "metadata": {
    "hide-output": false
   },
   "source": [
    "```bash\n",
    "# Install Python packages\n",
    "conda install geopandas python-graphviz\n",
    "conda install -c conda-forge nodejs\n",
    "pip install pyLDAvis gensim folium xgboost descartes pyarrow graphviz --upgrade\n",
    "\n",
    "# Activate jlab extensions\n",
    "jupyter labextension install @jupyterlab/toc  --no-build\n",
    "jupyter labextension install @jupyter-widgets/jupyterlab-manager --no-build\n",
    "jupyter labextension install plotlywidget --no-build\n",
    "jupyter labextension install jupyterlab-plotly --no-build\n",
    "jupyter lab build\n",
    "```\n"
   ]
  },
  {
   "cell_type": "markdown",
   "id": "3f7ad3b8",
   "metadata": {},
   "source": [
    "Press `y` and enter whenever you see `Proceed [y]/n` from your terminal.  \n",
    "- Close the command window after the installation finishes, log out of Windows, and then log in.  \n",
    "\n",
    "\n",
    "If you are told that you are missing a package at any point in time, we recommend trying to install\n",
    "the package with `conda` first and, if that doesn’t work, installing with `pip`.\n",
    "\n",
    "You can update a package by running:\n",
    "\n",
    "- `conda update <package name>` for conda  \n",
    "- `pip install <package name> --upgrade` for pip  \n",
    "\n",
    "\n",
    "**Note:** If you have errors using `graphviz` on Windows, then open a `powershell` terminal and execute the following two lines:"
   ]
  },
  {
   "cell_type": "code",
   "execution_count": null,
   "id": "2723eac0",
   "metadata": {
    "hide-output": false
   },
   "outputs": [],
   "source": [
    "$pp = (python -c \"import sys; print(sys.exec_prefix)\")\n",
    "\n",
    "Set-ItemProperty -path HKCU:\\Environment\\ -Name Path -Value \"$((Get-ItemProperty -path HKCU:\\Environment\\ -Name Path).Path);$($pp)\\Library\\bin\\graphviz\""
   ]
  },
  {
   "cell_type": "markdown",
   "id": "78d74d9a",
   "metadata": {},
   "source": [
    "## Starting Jupyter\n",
    "\n",
    "Start JupyterLab by following these steps:\n",
    "\n",
    "1. Open a new terminal (for Windows, you should use the Powershell: press Win + R and type\n",
    "  `powershell` in the run box, then hit enter).  \n",
    "1. Type `jupyter lab` and press Enter.  \n",
    "\n",
    "\n",
    "If a web browser doesn’t open by default, look at the terminal text and find something that looks\n",
    "like:"
   ]
  },
  {
   "cell_type": "markdown",
   "id": "1655dbd9",
   "metadata": {
    "hide-output": false
   },
   "source": [
    "```md\n",
    "Copy/paste this URL into your browser when you connect for the first time,\n",
    "to login with a token:\n",
    "    http://localhost:8888/?token=9a39d3741a4f0b200c6e4b07d8e5c04a089899cddc72e7f8\n",
    "```\n"
   ]
  },
  {
   "cell_type": "markdown",
   "id": "178ef945",
   "metadata": {},
   "source": [
    "and copy/paste the line starting with `http://` into your web browser.\n",
    "\n",
    ">**Note**\n",
    ">\n",
    ">The terminal you opened must stay open while you are editing the notebooks."
   ]
  },
  {
   "cell_type": "markdown",
   "id": "4bcbfc3b",
   "metadata": {},
   "source": [
    "### Opening a Jupyter Notebook\n",
    "\n",
    "Once the web browser is open, you should see the JupyterLab dashboard. You can open a new Jupyter\n",
    "notebook by clicking Python 3 when you see something like the following image in your browser:\n",
    "\n",
    "![https://datascience.quantecon.org/_static/jupyter_lab.png](https://datascience.quantecon.org/_static/jupyter_lab.png)\n",
    "\n",
    "  \n",
    "Once the notebook is open, you should something similar to the following image:\n",
    "\n",
    "![https://datascience.quantecon.org/_static/jupyter_lab_notebook.png](https://datascience.quantecon.org/_static/jupyter_lab_notebook.png)\n",
    "\n",
    "  \n",
    "Note that:\n",
    "\n",
    "- The filenames on the left will be different.  \n",
    "- It *should* list the contents of your personal home directory (folder).  "
   ]
  },
  {
   "cell_type": "markdown",
   "id": "a098991f",
   "metadata": {},
   "source": [
    "### Exercise\n",
    "\n",
    "See exercise 1 in the [exercise list](#ex1-2).\n",
    "\n",
    "\n",
    "<a id='ex1-2'></a>"
   ]
  },
  {
   "cell_type": "markdown",
   "id": "a7f276d8",
   "metadata": {},
   "source": [
    "## Exercises"
   ]
  },
  {
   "cell_type": "markdown",
   "id": "18366828",
   "metadata": {},
   "source": [
    "### Exercise 1\n",
    "\n",
    "Open this file in Jupyter by navigating to the QuantEcon Data Science folder that we downloaded\n",
    "earlier, then click on the `introduction` folder, and select the `getting_started.ipynb` file.\n",
    "\n",
    "([back to text](#dir1-2-1))"
   ]
  }
 ],
 "metadata": {
  "date": 1680159601.279153,
  "filename": "local_install.md",
  "kernelspec": {
   "display_name": "Python",
   "language": "python3",
   "name": "python3"
  },
  "title": "Local Installation"
 },
 "nbformat": 4,
 "nbformat_minor": 5
}