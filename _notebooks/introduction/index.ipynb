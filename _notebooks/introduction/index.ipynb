{
 "cells": [
  {
   "cell_type": "markdown",
   "id": "ad2b01e2",
   "metadata": {},
   "source": [
    "# Introduction\n",
    "\n",
    "In this section, we set the stage for the rest of the course.\n",
    "\n",
    "We will describe our goals and objectives.\n",
    "\n",
    "We will then talk about what a programming language is, how computers use them to do operations, and\n",
    "why we have chosen the Python language.\n",
    "\n",
    "We then present two potential environments for working through this course material:\n",
    "\n",
    "1. A cloud environment in which computations are performed remotely on the cloud and you interact\n",
    "  with this remote computer through your browser.  \n",
    "1. A local environment in which you install the appropriate software and all interactions are with\n",
    "  your own computer.  \n",
    "\n",
    "\n",
    "At the end of this section, we hope you understand what you’d like to accomplish with these lectures\n",
    "and that you are able to start and use a Jupyter notebook."
   ]
  },
  {
   "cell_type": "markdown",
   "id": "046e9ab5",
   "metadata": {},
   "source": [
    "##  [Course Description](https://datascience.quantecon.org/overview.html)"
   ]
  },
  {
   "cell_type": "markdown",
   "id": "a726278e",
   "metadata": {},
   "source": [
    "##  [Getting Started](https://datascience.quantecon.org/getting_started.html)"
   ]
  },
  {
   "cell_type": "markdown",
   "id": "5ebf7b61",
   "metadata": {},
   "source": [
    "##  [Cloud Setup](https://datascience.quantecon.org/cloud_setup.html)"
   ]
  },
  {
   "cell_type": "markdown",
   "id": "ae97cc8f",
   "metadata": {},
   "source": [
    "##  [Local Installation](https://datascience.quantecon.org/local_install.html)"
   ]
  },
  {
   "cell_type": "markdown",
   "id": "1a5fae7a",
   "metadata": {},
   "source": [
    "##  [Troubleshooting](https://datascience.quantecon.org/troubleshooting.html)"
   ]
  }
 ],
 "metadata": {
  "date": 1680118913.1694555,
  "filename": "index.md",
  "kernelspec": {
   "display_name": "Python",
   "language": "python3",
   "name": "python3"
  },
  "title": "Introduction"
 },
 "nbformat": 4,
 "nbformat_minor": 5
}