{
 "cells": [
  {
   "cell_type": "markdown",
   "id": "c904d0cb",
   "metadata": {},
   "source": [
    "# Introduction\n",
    "\n",
    "In this section, we set the stage for the rest of the course.\n",
    "\n",
    "We will describe our goals and objectives.\n",
    "\n",
    "We will then talk about what a programming language is, how computers use them to do operations, and\n",
    "why we have chosen the Python language.\n",
    "\n",
    "We then present two potential environments for working through this course material:\n",
    "\n",
    "1. A cloud environment in which computations are performed remotely on the cloud and you interact\n",
    "  with this remote computer through your browser.  \n",
    "1. A local environment in which you install the appropriate software and all interactions are with\n",
    "  your own computer.  \n",
    "\n",
    "\n",
    "At the end of this section, we hope you understand what you’d like to accomplish with these lectures\n",
    "and that you are able to start and use a Jupyter notebook."
   ]
  },
  {
   "cell_type": "markdown",
   "id": "b0f46537",
   "metadata": {},
   "source": [
    "##  [Course Description](https://datascience.quantecon.org/overview.html)"
   ]
  },
  {
   "cell_type": "markdown",
   "id": "8ce5ed12",
   "metadata": {},
   "source": [
    "##  [Getting Started](https://datascience.quantecon.org/getting_started.html)"
   ]
  },
  {
   "cell_type": "markdown",
   "id": "3f1d3504",
   "metadata": {},
   "source": [
    "##  [Cloud Setup](https://datascience.quantecon.org/cloud_setup.html)"
   ]
  },
  {
   "cell_type": "markdown",
   "id": "09355f9a",
   "metadata": {},
   "source": [
    "##  [Local Installation](https://datascience.quantecon.org/local_install.html)"
   ]
  },
  {
   "cell_type": "markdown",
   "id": "9d4c0d67",
   "metadata": {},
   "source": [
    "##  [Troubleshooting](https://datascience.quantecon.org/troubleshooting.html)"
   ]
  }
 ],
 "metadata": {
  "date": 1717034545.3348527,
  "filename": "index.md",
  "kernelspec": {
   "display_name": "Python",
   "language": "python3",
   "name": "python3"
  },
  "title": "Introduction"
 },
 "nbformat": 4,
 "nbformat_minor": 5
}