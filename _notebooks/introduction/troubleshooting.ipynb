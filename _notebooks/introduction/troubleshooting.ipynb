{
 "cells": [
  {
   "cell_type": "markdown",
   "id": "31bb9ff4",
   "metadata": {},
   "source": [
    "\n",
    "<a id='troubleshooting'></a>"
   ]
  },
  {
   "cell_type": "markdown",
   "id": "44958280",
   "metadata": {},
   "source": [
    "# Troubleshooting\n",
    "\n",
    "This troubleshooting page is to help ensure your environment is setup correctly\n",
    "to run this lecture. You can follow [cloud setup instructions](https://datascience.quantecon.org/cloud_setup.html) or [local setup instructions](https://datascience.quantecon.org/local_install.html) to set up a standard environment."
   ]
  },
  {
   "cell_type": "markdown",
   "id": "0312aa43",
   "metadata": {},
   "source": [
    "## Resetting Lectures\n",
    "\n",
    "Here are instructions to restore some or all lectures to their original states."
   ]
  },
  {
   "cell_type": "markdown",
   "id": "8b6b0962",
   "metadata": {},
   "source": [
    "### Local Machines\n",
    "\n",
    "The workflow is a bit different on a local machine. We are assuming that you have followed the [local setup instructions](https://datascience.quantecon.org/local_install.html), and have installed GitHub desktop.\n",
    "\n",
    "1. Open GitHub desktop, and navigate to the repository (you can click “find” under “edit” in the top menu bar, and then type `lecture-datascience.myst`, if you are having trouble.)  \n",
    "1. To **reset everything**, click “discard all changes” under “branch” in the top menu bar.  \n",
    "1. To **reset a specific notebook**, right-click the specific file in the changes side tab, and then click “discard changes.”  \n",
    "1. To **pull the latest from the server**, first make sure you don’t have any conflicting changes (i.e., do step (2) above), and then click “pull” under “repository” in the top menu bar.  "
   ]
  },
  {
   "cell_type": "markdown",
   "id": "9992ada9",
   "metadata": {},
   "source": [
    "## Reporting an Issue\n",
    "\n",
    "One way to give feedback is to raise an issue through our [issue tracker](https://github.com/QuantEcon/lecture-datascience.myst/issues).\n",
    "\n",
    "Please be as specific as possible. Tell us where the problem is and as much\n",
    "detail about your local set up as you can provide.\n",
    "\n",
    "Another feedback option is to use our [discourse forum](https://discourse.quantecon.org/).\n",
    "\n",
    "Finally, you can provide direct feedback to [contact@quantecon.org](mailto:contact@quantecon.org)"
   ]
  }
 ],
 "metadata": {
  "date": 1712969537.2531757,
  "filename": "troubleshooting.md",
  "kernelspec": {
   "display_name": "Python",
   "language": "python3",
   "name": "python3"
  },
  "title": "Troubleshooting"
 },
 "nbformat": 4,
 "nbformat_minor": 5
}