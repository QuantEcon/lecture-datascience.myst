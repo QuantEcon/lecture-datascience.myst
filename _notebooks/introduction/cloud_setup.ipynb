{
 "cells": [
  {
   "cell_type": "markdown",
   "id": "72b44ae0",
   "metadata": {},
   "source": [
    "# Cloud Setup"
   ]
  },
  {
   "cell_type": "markdown",
   "id": "b22e6d7c",
   "metadata": {},
   "source": [
    "## Launch Environments\n",
    "\n",
    "Various cloud-based Jupyter server environments have been configured to work with [QuantEcon Data Science](https://datascience.quantecon.org/../index.html).\n",
    "\n",
    "These environments provide a Jupyter interface which displays in your browser, but the code is hosted\n",
    "and run on the cloud.\n",
    "\n",
    "This allows you to interact with this lecture material without requiring you to install Python or\n",
    "any other required software on your own computer.\n",
    "\n",
    "The `Launch Notebook` button opens a new tab in your browser where a Jupyter notebook version of the\n",
    "current lecture page will be opened with the selected cloud service.\n",
    "\n",
    "You can change your cloud environment by selecting another server from the drop down menu (see image):\n",
    "\n",
    "![https://datascience.quantecon.org/_static/cloud_launch.png](https://datascience.quantecon.org/_static/cloud_launch.png)\n",
    "\n",
    "  \n",
    "We discuss each of the options below."
   ]
  },
  {
   "cell_type": "markdown",
   "id": "1a75b325",
   "metadata": {},
   "source": [
    "### BinderHub"
   ]
  },
  {
   "cell_type": "markdown",
   "id": "9fd7665d",
   "metadata": {},
   "source": [
    "#### Launching BinderHub\n",
    "\n",
    "To launch course material through BinderHub:\n",
    "\n",
    "**1.** Choose the `BinderHub` under `select a server: public` on the launch bar to change the backend hub.\n",
    "\n",
    "**2.** Click on the `Launch Notebook` button.\n",
    "\n",
    "**3.** Wait for `BinderHub` to connect to the repo\n",
    "\n",
    "![https://datascience.quantecon.org/_static/wait_binderhub.png](https://datascience.quantecon.org/_static/wait_binderhub.png)\n",
    "\n",
    "  \n",
    "**4.** You can use the Jupyter Network interface with `BinderHub`\n",
    "\n",
    "![https://datascience.quantecon.org/_static/binderhub_jupyter.png](https://datascience.quantecon.org/_static/binderhub_jupyter.png)"
   ]
  },
  {
   "cell_type": "markdown",
   "id": "38c528fa",
   "metadata": {},
   "source": [
    "### Google Colab\n",
    "\n",
    "[Google Colab](https://research.google.com/colaboratory/faq.html) is a cloud service hosted by\n",
    "Google.\n",
    "\n",
    "With this environment, you can potentially use GPUs and other specialized\n",
    "computational platforms.\n",
    "\n",
    "This won’t make a difference at first, but having access to a\n",
    "GPU or TPU could improve performance.\n",
    "\n",
    "We recommend starting with the other cloud options because the environment provided isn’t\n",
    "quite the same as what you would get on your computer because Google has made their own modifications\n",
    "to underlying Jupyter software."
   ]
  },
  {
   "cell_type": "markdown",
   "id": "bd165ddc",
   "metadata": {},
   "source": [
    "#### Launching Colab\n",
    "\n",
    "To launch course material through Google Colab:\n",
    "\n",
    "**1.** Choose the `colab` under `select a server: public` on the launch bar to change the backend hub.\n",
    "\n",
    "**2.** Click on the `Launch Notebook` button.\n",
    "\n",
    "**3.** You will be asked to sign in with your Google account and you will see something similar to\n",
    "the following picture.\n",
    "\n",
    "![https://datascience.quantecon.org/_static/colab_jupyter.png](https://datascience.quantecon.org/_static/colab_jupyter.png)\n",
    "\n",
    "  \n",
    "**4.** Once you have launched a Colab notebook, you will need to make sure that any software missing\n",
    "from Colab gets installed — this step isn’t required for all notebooks.\n",
    "\n",
    "For lectures where this step is required, we have provided a script that automatically configures missing\n",
    "software.\n",
    "\n",
    "To run this script, you will need to uncomment the code at the top of the notebook and execute the\n",
    "cell — when we say “uncomment”, all we mean is to remove the `#` that precedes the `!` in the\n",
    "code that follows.\n",
    "\n",
    "See the code below to see what we mean:"
   ]
  },
  {
   "cell_type": "code",
   "execution_count": null,
   "id": "f97a980b",
   "metadata": {
    "hide-output": false
   },
   "outputs": [],
   "source": [
    "# Uncomment following line to install on colab\n",
    "#! pip install "
   ]
  },
  {
   "cell_type": "markdown",
   "id": "5cdc6172",
   "metadata": {},
   "source": [
    "**5.** To navigate sections within a Colab notebook, click on the little arrow at the top left corner\n",
    "of the page,\n",
    "\n",
    "![https://datascience.quantecon.org/_static/colab_table_of_contents_arrow.png](https://datascience.quantecon.org/_static/colab_table_of_contents_arrow.png)\n",
    "\n",
    "  \n",
    "Then, “table of contents” will pop up. You can click on sections or subsections for different parts\n",
    "of the notebook.\n",
    "\n",
    "![https://datascience.quantecon.org/_static/colab_table_of_contents.png](https://datascience.quantecon.org/_static/colab_table_of_contents.png)"
   ]
  },
  {
   "cell_type": "markdown",
   "id": "a45e7d3c",
   "metadata": {},
   "source": [
    "#### File Management on Colab\n",
    "\n",
    "By default, Colab will erase any work that you have done after you have exited a notebook.\n",
    "\n",
    "If you would like to store your work, you can save it onto your Google Drive by clicking the\n",
    "`Copy to Drive` button.\n",
    "\n",
    "You can create a new notebook by clicking `File` on the menubar and selecting\n",
    "`New Python 3 notebook`."
   ]
  }
 ],
 "metadata": {
  "date": 1684262963.3791535,
  "filename": "cloud_setup.md",
  "kernelspec": {
   "display_name": "Python",
   "language": "python3",
   "name": "python3"
  },
  "title": "Cloud Setup"
 },
 "nbformat": 4,
 "nbformat_minor": 5
}