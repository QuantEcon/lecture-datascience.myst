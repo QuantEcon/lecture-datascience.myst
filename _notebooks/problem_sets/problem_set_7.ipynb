{
 "cells": [
  {
   "cell_type": "markdown",
   "id": "3f7c61a8",
   "metadata": {},
   "source": [
    "# Problem Set 7"
   ]
  },
  {
   "cell_type": "code",
   "execution_count": null,
   "id": "67a05507",
   "metadata": {
    "hide-output": false
   },
   "outputs": [],
   "source": [
    "import matplotlib.colors as mplc\n",
    "import matplotlib.patches as patches\n",
    "import matplotlib.pyplot as plt\n",
    "import pandas as pd"
   ]
  },
  {
   "cell_type": "markdown",
   "id": "e0ba0bf2",
   "metadata": {},
   "source": [
    "## Question 1\n",
    "\n",
    "From [Data Visualization: Rules and Guidelines](https://datascience.quantecon.org/../tools/visualization_rules.html)\n",
    "\n",
    "Create a bar chart of the below data on Canadian GDP growth.\n",
    "Use a non-red color for the years 2000 to 2008, red for\n",
    "2009, and the first color again for 2010 to 2018."
   ]
  },
  {
   "cell_type": "code",
   "execution_count": null,
   "id": "a0c1ff88",
   "metadata": {
    "hide-output": false
   },
   "outputs": [],
   "source": [
    "ca_gdp = pd.Series(\n",
    "    [5.2, 1.8, 3.0, 1.9, 3.1, 3.2, 2.8, 2.2, 1.0, -2.8, 3.2, 3.1, 1.7, 2.5, 2.9, 1.0, 1.4, 3.0],\n",
    "    index=list(range(2000, 2018))\n",
    ")\n",
    "\n",
    "fig, ax = plt.subplots()\n",
    "\n",
    "for side in [\"right\", \"top\", \"left\", \"bottom\"]:\n",
    "    ax.spines[side].set_visible(False)"
   ]
  },
  {
   "cell_type": "markdown",
   "id": "1d71bf33",
   "metadata": {},
   "source": [
    "## Question 2\n",
    "\n",
    "From [Data Visualization: Rules and Guidelines](https://datascience.quantecon.org/../tools/visualization_rules.html)\n",
    "\n",
    "Draft another way to organize time and education by modifying the code below.\n",
    "That is, have two subplots (one for each\n",
    "education level) and four groups of points (one for each year).\n",
    "\n",
    "Why do you think they chose to organize the information the way they\n",
    "did rather than this way?"
   ]
  },
  {
   "cell_type": "code",
   "execution_count": null,
   "id": "9e48c2a6",
   "metadata": {
    "hide-output": false
   },
   "outputs": [],
   "source": [
    "# Read in data\n",
    "df = pd.read_csv(\"https://datascience.quantecon.org/assets/data/density_wage_data.csv\")\n",
    "df[\"year\"] = df.year.astype(int)  # Convert year to int\n",
    "\n",
    "\n",
    "def single_scatter_plot(df, year, educ, ax, color):\n",
    "    \"\"\"\n",
    "    This function creates a single year's and education level's\n",
    "    log density to log wage plot\n",
    "    \"\"\"\n",
    "    # Filter data to keep only the data of interest\n",
    "    _df = df.query(\"(year == @year) & (group == @educ)\")\n",
    "    _df.plot(\n",
    "        kind=\"scatter\", x=\"density_log\", y=\"wages_logs\", ax=ax, color=color\n",
    "    )\n",
    "\n",
    "    return ax\n",
    "\n",
    "# Create initial plot\n",
    "fig, ax = plt.subplots(1, 4, figsize=(16, 6), sharey=True)\n",
    "\n",
    "for (i, year) in enumerate(df.year.unique()):\n",
    "    single_scatter_plot(df, year, \"college\", ax[i], \"b\")\n",
    "    single_scatter_plot(df, year, \"noncollege\", ax[i], \"r\")\n",
    "    ax[i].set_title(str(year))"
   ]
  },
  {
   "cell_type": "markdown",
   "id": "17097b82",
   "metadata": {},
   "source": [
    "## Questions 3-5\n",
    "\n",
    "These question uses a dataset from the [Bureau of Transportation\n",
    "Statistics](https://www.transtats.bts.gov/OT_Delay/OT_DelayCause1.asp)\n",
    "that describes the cause for all US domestic flight delays\n",
    "in November 2016. We used the same data in the previous problem set."
   ]
  },
  {
   "cell_type": "code",
   "execution_count": null,
   "id": "1db3be9c",
   "metadata": {
    "hide-output": false
   },
   "outputs": [],
   "source": [
    "url = \"https://datascience.quantecon.org/assets/data/airline_performance_dec16.csv.zip\"\n",
    "air_perf = pd.read_csv(url)[[\"CRSDepTime\", \"Carrier\", \"CarrierDelay\", \"ArrDelay\"]]\n",
    "air_perf.info()\n",
    "air_perf.head"
   ]
  },
  {
   "cell_type": "markdown",
   "id": "2efaa98d",
   "metadata": {},
   "source": [
    "The following questions are intentionally somewhat open-ended. For\n",
    "each one, carefully choose the type of visualization you’ll create.\n",
    "Put some effort into choosing colors, labels, and other\n",
    "formatting."
   ]
  },
  {
   "cell_type": "markdown",
   "id": "7c36cffd",
   "metadata": {},
   "source": [
    "### Question 3\n",
    "\n",
    "Create a visualization of the relationship between airline (carrier)\n",
    "and delays."
   ]
  },
  {
   "cell_type": "markdown",
   "id": "15e08cc0",
   "metadata": {},
   "source": [
    "### Question 4\n",
    "\n",
    "Create a visualization of the relationship between date and delays."
   ]
  },
  {
   "cell_type": "markdown",
   "id": "5c2ac9bb",
   "metadata": {},
   "source": [
    "### Question 5\n",
    "\n",
    "Create a visualization of the relationship between location (origin\n",
    "and/or destination) and delays."
   ]
  }
 ],
 "metadata": {
  "date": 1688529288.9191988,
  "filename": "problem_set_7.md",
  "kernelspec": {
   "display_name": "Python",
   "language": "python3",
   "name": "python3"
  },
  "title": "Problem Set 7"
 },
 "nbformat": 4,
 "nbformat_minor": 5
}