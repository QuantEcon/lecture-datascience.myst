{
 "cells": [
  {
   "cell_type": "markdown",
   "id": "80325cad",
   "metadata": {},
   "source": [
    "# Problem Set 4\n",
    "\n",
    "See “Check Your Understanding” from [Applied Linear Algebra](https://datascience.quantecon.org/../scientific/applied_linalg.html), [Randomness](https://datascience.quantecon.org/../scientific/randomness.html), and [Optimization](https://datascience.quantecon.org/../scientific/optimization.html)"
   ]
  },
  {
   "cell_type": "markdown",
   "id": "8f731d7a",
   "metadata": {},
   "source": [
    "## Question 1\n",
    "\n",
    "Alice is a stock broker who owns two types of assets: A and B. She owns 100\n",
    "units of asset A and 50 units of asset B. The current interest rate is 5%.\n",
    "Each of the A assets have a remaining duration of 6 years and pay\n",
    "$ 1500 $ dollars each year while each of the B assets have a remaining duration\n",
    "of 4 years and pay $ 500 $ dollars each year (assume the first payment starts at the beginning of the\n",
    "first year and hence, should not be discounted).\n",
    "\n",
    "Alice would like to retire if she\n",
    "can sell her assets for more than \\$1 million. Use vector addition, scalar\n",
    "multiplication, and dot products to determine whether she can retire."
   ]
  },
  {
   "cell_type": "code",
   "execution_count": null,
   "id": "11770525",
   "metadata": {
    "hide-output": false
   },
   "outputs": [],
   "source": [
    "r = 0.05\n",
    "\n",
    "# your code here"
   ]
  },
  {
   "cell_type": "markdown",
   "id": "90489e06",
   "metadata": {},
   "source": [
    "## Question 2\n",
    "\n",
    "As in [Applied Linear Algebra](https://datascience.quantecon.org/../scientific/applied_linalg.html):\n",
    "\n",
    "Consider an economy where in any given year, $ \\alpha = 3\\% $ of workers lose their jobs and\n",
    "$ \\phi = 12\\% $ of unemployed workers find jobs.\n",
    "\n",
    "Define the vector $ x_0 = \\begin{bmatrix} 600,000 & 200,000 \\end{bmatrix} $ as the number of\n",
    "employed and unemployed workers (respectively) at time $ 0 $ in the economy.\n",
    "\n",
    "Adapting the code from the lecture notes, plot the unemployment rate over time in this economy for $ t = 0, \\ldots 20 $ (i.e. number of unemployed over total number of workers)."
   ]
  },
  {
   "cell_type": "code",
   "execution_count": null,
   "id": "efec3518",
   "metadata": {
    "hide-output": false
   },
   "outputs": [],
   "source": [
    "# your code here"
   ]
  },
  {
   "cell_type": "markdown",
   "id": "0a6185d8",
   "metadata": {},
   "source": [
    "Continue the simulation for 1000 periods to find a long-run unemployment rate."
   ]
  },
  {
   "cell_type": "code",
   "execution_count": null,
   "id": "f6126242",
   "metadata": {
    "hide-output": false
   },
   "outputs": [],
   "source": [
    "# your code here"
   ]
  },
  {
   "cell_type": "markdown",
   "id": "63f789bf",
   "metadata": {},
   "source": [
    "Adapt the lecture notes code to use the matrix you set up for the evolution equation, and\n",
    "find the (left) eigenvector associated with the unit eigenvalue.  Rescale this as required (i.e.\n",
    "it is only unique up to a scaling parameter) to find the stationary unemployment rate. Compare to the simulated\n",
    "one."
   ]
  },
  {
   "cell_type": "code",
   "execution_count": null,
   "id": "27b7049f",
   "metadata": {
    "hide-output": false
   },
   "outputs": [],
   "source": [
    "# your code here"
   ]
  },
  {
   "cell_type": "markdown",
   "id": "2116606f",
   "metadata": {},
   "source": [
    "## Question 3\n",
    "\n",
    "Wikipedia and other credible statistics sources tell us that the mean and\n",
    "variance of the Uniform(0, 1) distribution are (1/2, 1/12) respectively.\n",
    "\n",
    "How could we check whether the numpy random numbers approximate these\n",
    "values? (*hint*: some functions in [Introduction to Numpy](https://datascience.quantecon.org/../scientific/numpy_arrays.html) and [Randomness](https://datascience.quantecon.org/../scientific/randomness.html) might be useful)"
   ]
  },
  {
   "cell_type": "code",
   "execution_count": null,
   "id": "d5c8138d",
   "metadata": {
    "hide-output": false
   },
   "outputs": [],
   "source": [
    "# your code here"
   ]
  },
  {
   "cell_type": "markdown",
   "id": "33008b9b",
   "metadata": {},
   "source": [
    "## Question 4\n",
    "\n",
    "Assume you have been given the opportunity to choose between one of three financial assets.\n",
    "\n",
    "You will be given the asset for free, allowed to hold it indefinitely, and will keep all payoffs.\n",
    "\n",
    "Also assume the assets’ payoffs are distributed as follows (the notations are the same as in “Continuous Distributions” subsection of [Randomness](https://datascience.quantecon.org/../scientific/randomness.html)):\n",
    "\n",
    "1. Normal with $ \\mu = 10, \\sigma = 5 $  \n",
    "1. Gamma with $ k = 5.3, \\theta = 2 $  \n",
    "1. Gamma with $ k = 5, \\theta = 2 $  \n",
    "\n",
    "\n",
    "Use `scipy.stats` to answer the following questions:\n",
    "\n",
    "- Which asset has the highest average returns?  \n",
    "- Which asset has the highest median returns?  \n",
    "- Which asset has the lowest coefficient of variation, i.e., standard deviation divided by mean?  \n",
    "- Which asset would you choose? Why? (There is not a single right answer here. Just be creative and express your preferences.)  \n",
    "\n",
    "\n",
    "You can find the official documentation of `scipy.stats` [here](https://docs.scipy.org/doc/scipy/reference/stats.html)"
   ]
  },
  {
   "cell_type": "code",
   "execution_count": null,
   "id": "a978c16b",
   "metadata": {
    "hide-output": false
   },
   "outputs": [],
   "source": [
    "# your code here"
   ]
  },
  {
   "cell_type": "markdown",
   "id": "842bdf3c",
   "metadata": {},
   "source": [
    "## Question 5\n",
    "\n",
    "Take the example with preferences over bananas (B) and apples (A) in [Optimization](https://datascience.quantecon.org/../scientific/optimization.html)\n",
    "\n",
    "The consumer solves the following problem:\n",
    "\n",
    "$$\n",
    "\\begin{aligned}\n",
    "\\max_{A, B} & B^{\\alpha}A^{1-\\alpha}\\\\\n",
    "\\text{s.t. } & p_A A + B \\leq W\n",
    "\\end{aligned}\n",
    "$$\n",
    "\n",
    "Fix $ p_A = 2 $ and $ \\alpha = 0.33 $.  Make a grid of `W` between `1` and `3` and then plot the optimal ratio of B to A."
   ]
  },
  {
   "cell_type": "code",
   "execution_count": null,
   "id": "49358cb3",
   "metadata": {
    "hide-output": false
   },
   "outputs": [],
   "source": [
    "p_A = 2\n",
    "alpha = 0.33\n",
    "\n",
    "# Your code here"
   ]
  },
  {
   "cell_type": "markdown",
   "id": "e62e4204",
   "metadata": {},
   "source": [
    "Do the same graph for $ \\alpha = 0.5 $ and compare/interpret."
   ]
  },
  {
   "cell_type": "code",
   "execution_count": null,
   "id": "6fcda588",
   "metadata": {
    "hide-output": false
   },
   "outputs": [],
   "source": [
    "# Your code here"
   ]
  },
  {
   "cell_type": "markdown",
   "id": "9f3ce991",
   "metadata": {},
   "source": [
    "## Question 6\n",
    "\n",
    "Normalize the price of potato chips to be $ 1 $ and set the price of chocolate bars to be $ q $.\n",
    "\n",
    "Using a similar approach as seen in the apples/bananas example above, solve for the optimal\n",
    "basket of potato chips and chocolate bars.\n",
    "\n",
    "$$\n",
    "\\begin{aligned}\n",
    "\\max_{P, C} & -(P - 20)^2 - 2 * (C - 1)^2\\\\\n",
    "\\text{s.t. } & P + q C \\leq W\n",
    "\\end{aligned}\n",
    "$$\n",
    "\n",
    "Hint:  When analyzing bliss points, as in [Optimization](https://datascience.quantecon.org/../scientific/optimization.html), we need to consider that they may not reach the bliss point.  Remember that in the algebra for our problems, we were only able to substitute using the budget constraint if the budget constraint is binding under optimal consumption bundles.\n",
    "\n",
    "Fix the price for chocolate bars to be $ q = 10 $\n",
    "\n",
    "Find the optimal quantity of $ C $ and $ P $ for $ W = 20 $"
   ]
  },
  {
   "cell_type": "code",
   "execution_count": null,
   "id": "e3bb370f",
   "metadata": {
    "hide-output": false
   },
   "outputs": [],
   "source": [
    "W = 20\n",
    "q = 10\n",
    "\n",
    "# Your code here"
   ]
  },
  {
   "cell_type": "markdown",
   "id": "05ca901b",
   "metadata": {},
   "source": [
    "Now, do the same thing for a grid of $ W $ between $ 20 $ and $ 50 $ and plot the optimal $ C $ and $ P $ in a single graph."
   ]
  },
  {
   "cell_type": "code",
   "execution_count": null,
   "id": "cd7ef822",
   "metadata": {
    "hide-output": false
   },
   "outputs": [],
   "source": [
    "# Your code here"
   ]
  },
  {
   "cell_type": "markdown",
   "id": "171c7fb0",
   "metadata": {},
   "source": [
    "## Question 7\n",
    "\n",
    "Let’s revisit the unemployment example from the [Applied Linear Algebra](https://datascience.quantecon.org/../scientific/applied_linalg.html).\n",
    "\n",
    "We’ll repeat necessary details here.\n",
    "\n",
    "Consider an economy where in any given year, $ \\alpha = 5\\% $ of workers lose their jobs, and\n",
    "$ \\phi = 10\\% $ of unemployed workers find jobs.\n",
    "\n",
    "Initially, 90% of the 1,000,000 workers are employed.\n",
    "\n",
    "Suppose that the average employed worker earns 10 dollars while an unemployed worker\n",
    "earns 1 dollar per period.\n",
    "\n",
    "With this, do the following:\n",
    "\n",
    "- Represent this problem as a Markov chain by defining the three components defined above  "
   ]
  },
  {
   "cell_type": "code",
   "execution_count": null,
   "id": "724661a9",
   "metadata": {
    "hide-output": false
   },
   "outputs": [],
   "source": [
    "# define components here"
   ]
  },
  {
   "cell_type": "markdown",
   "id": "0d918bc3",
   "metadata": {},
   "source": [
    "- Construct an instance of the QuantEcon MarkovChain using the objects defined in part 1.  "
   ]
  },
  {
   "cell_type": "code",
   "execution_count": null,
   "id": "5402446d",
   "metadata": {
    "hide-output": false
   },
   "outputs": [],
   "source": [
    "# construct the Markov chain"
   ]
  },
  {
   "cell_type": "markdown",
   "id": "18d62bb4",
   "metadata": {},
   "source": [
    "- Simulate the Markov chain 5 times for 50 time periods starting from an employment state and plot the chains over time (see helper code below).  "
   ]
  },
  {
   "cell_type": "code",
   "execution_count": null,
   "id": "9bb8d94c",
   "metadata": {
    "hide-output": false
   },
   "outputs": [],
   "source": [
    "n = 50\n",
    "M = 5\n",
    "\n",
    "# uncomment the lines below and fill in the blanks\n",
    "# sim = XXXXX.simulate(n, init = XXXXX, num_reps = M)\n",
    "# fig, ax = plt.subplots(figsize=(10, 8))\n",
    "# ax.plot(range(n), sim.T, alpha=0.4)"
   ]
  },
  {
   "cell_type": "markdown",
   "id": "d402f978",
   "metadata": {},
   "source": [
    "- Using the approach above, simulate the Markov chain `M=20` times for 50 time periods. Instead of starting from an employment state, start off the `M` in proportion to the initial condition above (i.e. 90% of them in an employment state and 10% in an unemployment state). (Hint: you can pass a list to the `init` parameter in the `simulate` function.)  \n",
    "\n",
    "\n",
    "With this simulation, plot the average proportion of `M` agents in the employment state (i.e. it should start at 0.90 from the initial condition)."
   ]
  },
  {
   "cell_type": "code",
   "execution_count": null,
   "id": "56c3d59a",
   "metadata": {
    "hide-output": false
   },
   "outputs": [],
   "source": [
    "# define components here"
   ]
  },
  {
   "cell_type": "markdown",
   "id": "d6383fb2",
   "metadata": {},
   "source": [
    "- Calculate the steady-state of the Markov chain and compare results from this simulation to the steady-state unemployment rate for the Markov chain (on a similar graph).  "
   ]
  },
  {
   "cell_type": "code",
   "execution_count": null,
   "id": "9a0bb7cb",
   "metadata": {
    "hide-output": false
   },
   "outputs": [],
   "source": [
    "# define components here"
   ]
  },
  {
   "cell_type": "markdown",
   "id": "f67f6f5f",
   "metadata": {},
   "source": [
    "- Determine the average long-run payment for a worker in this setting. (Hint: Think about the stationary distribution)  "
   ]
  },
  {
   "cell_type": "code",
   "execution_count": null,
   "id": "74c23586",
   "metadata": {
    "hide-output": false
   },
   "outputs": [],
   "source": [
    "# define components here\n",
    "\n",
    "# construct Markov chain\n",
    "\n",
    "\n",
    "# Long-run average payment"
   ]
  }
 ],
 "metadata": {
  "date": 1680118913.9482818,
  "filename": "problem_set_4.md",
  "kernelspec": {
   "display_name": "Python",
   "language": "python3",
   "name": "python3"
  },
  "title": "Problem Set 4"
 },
 "nbformat": 4,
 "nbformat_minor": 5
}