{
 "cells": [
  {
   "cell_type": "markdown",
   "id": "8968be31",
   "metadata": {},
   "source": [
    "# Problem Set 6\n",
    "\n",
    "See [Merge](https://datascience.quantecon.org/../pandas/merge.html), [Reshape](https://datascience.quantecon.org/../pandas/reshape.html), and [GroupBy](https://datascience.quantecon.org/../pandas/groupby.html)"
   ]
  },
  {
   "cell_type": "code",
   "execution_count": null,
   "id": "db9239da",
   "metadata": {
    "hide-output": false
   },
   "outputs": [],
   "source": [
    "import matplotlib.pyplot as plt\n",
    "import numpy as np\n",
    "import pandas as pd\n",
    "\n",
    "%matplotlib inline"
   ]
  },
  {
   "cell_type": "markdown",
   "id": "150b5962",
   "metadata": {},
   "source": [
    "## Questions 1-7\n",
    "\n",
    "Lets start with a relatively straightforward exercise before we get to the really fun stuff.\n",
    "\n",
    "The following code loads a cleaned piece of census data from Statistics Canada."
   ]
  },
  {
   "cell_type": "code",
   "execution_count": null,
   "id": "14e90ad5",
   "metadata": {
    "hide-output": false
   },
   "outputs": [],
   "source": [
    "df = pd.read_csv(\"https://datascience.quantecon.org/assets/data/canada_census.csv\", header=0, index_col=False)\n",
    "df.head()"
   ]
  },
  {
   "cell_type": "markdown",
   "id": "ef9d9f36",
   "metadata": {},
   "source": [
    "A *census division* is a geographical area, smaller than a Canadian province, that is used to\n",
    "organize information at a slightly more granular level than by province or by city. The census\n",
    "divisions are shown below.\n",
    "\n",
    "![https://datascience.quantecon.org/_static/canada_censusdivisions_map.png](https://datascience.quantecon.org/_static/canada_censusdivisions_map.png)\n",
    "\n",
    "  \n",
    "The data above contains information on the population, percent of population with a college\n",
    "degree, percent of population who own their house/apartment, and the median after-tax income at the\n",
    "*census division* level.\n",
    "\n",
    "Hint: The `groupby` is the key here.  You will need to practice different split, apply, and combine options."
   ]
  },
  {
   "cell_type": "markdown",
   "id": "ac8b1ccd",
   "metadata": {},
   "source": [
    "### Question 1\n",
    "\n",
    "Assume that you have a separate data source with province codes and names."
   ]
  },
  {
   "cell_type": "code",
   "execution_count": null,
   "id": "d8c45470",
   "metadata": {
    "hide-output": false
   },
   "outputs": [],
   "source": [
    "df_provincecodes = pd.DataFrame({\n",
    "    \"Pname\" : [ 'Newfoundland and Labrador', 'Prince Edward Island', 'Nova Scotia',\n",
    "                'New Brunswick', 'Quebec', 'Ontario', 'Manitoba', 'Saskatchewan',\n",
    "                'Alberta', 'British Columbia', 'Yukon', 'Northwest Territories','Nunavut'],\n",
    "    \"Code\" : ['NL', 'PE', 'NS', 'NB', 'QC', 'ON', 'MB', 'SK', 'AB', 'BC', 'YT', 'NT', 'NU']\n",
    "            })\n",
    "df_provincecodes"
   ]
  },
  {
   "cell_type": "markdown",
   "id": "a9fe1fd1",
   "metadata": {},
   "source": [
    "With this,\n",
    "\n",
    "1. Either merge or join these province codes into the census dataframe to provide province codes for each province\n",
    "  name. Hint: You need to figure out which “key” matches in the merge, and don’t be afraid to rename columns for convenience.  \n",
    "1. Drop the province names from the resulting dataframe.  \n",
    "1. Rename the column with the province codes to “Province”.  Hint: `.rename(columns = <YOURDICTIONARY>)`  "
   ]
  },
  {
   "cell_type": "code",
   "execution_count": null,
   "id": "c11838f9",
   "metadata": {
    "hide-output": false
   },
   "outputs": [],
   "source": [
    "# Your code here"
   ]
  },
  {
   "cell_type": "markdown",
   "id": "a39ca88c",
   "metadata": {},
   "source": [
    "For this particular example, you could have renamed the column using `replace`. This is a good check."
   ]
  },
  {
   "cell_type": "code",
   "execution_count": null,
   "id": "c3c3552a",
   "metadata": {
    "hide-output": false
   },
   "outputs": [],
   "source": [
    "(pd.read_csv(\"https://datascience.quantecon.org/assets/data/canada_census.csv\", header=0, index_col=False)\n",
    ".replace({\n",
    "    \"Alberta\": \"AB\", \"British Columbia\": \"BC\", \"Manitoba\": \"MB\", \"New Brunswick\": \"NB\",\n",
    "    \"Newfoundland and Labrador\": \"NL\", \"Northwest Territories\": \"NT\", \"Nova Scotia\": \"NS\",\n",
    "    \"Nunavut\": \"NU\", \"Ontario\": \"ON\", \"Prince Edward Island\": \"PE\", \"Quebec\": \"QC\",\n",
    "    \"Saskatchewan\": \"SK\", \"Yukon\": \"YT\"})\n",
    ".rename(columns={\"Pname\" : \"Province\"})\n",
    ".head()\n",
    ")"
   ]
  },
  {
   "cell_type": "markdown",
   "id": "66710b85",
   "metadata": {},
   "source": [
    "### Question 2\n",
    "\n",
    "Which province has the highest population? Which has the lowest?"
   ]
  },
  {
   "cell_type": "code",
   "execution_count": null,
   "id": "442f32ec",
   "metadata": {
    "hide-output": false
   },
   "outputs": [],
   "source": [
    "# Your code here"
   ]
  },
  {
   "cell_type": "markdown",
   "id": "03bf5de3",
   "metadata": {},
   "source": [
    "### Question 3\n",
    "\n",
    "Show a bar plot and a pie plot of the province populations.  Hint: After the split-apply-combine, you can use `.plot.bar()` or `.plot.pie()`."
   ]
  },
  {
   "cell_type": "code",
   "execution_count": null,
   "id": "d73e7752",
   "metadata": {
    "hide-output": false
   },
   "outputs": [],
   "source": [
    "# Your code here"
   ]
  },
  {
   "cell_type": "markdown",
   "id": "c508d76b",
   "metadata": {},
   "source": [
    "### Question 3\n",
    "\n",
    "Which province has the highest percent of individuals with a college education? Which has the\n",
    "lowest?\n",
    "\n",
    "Hint: Remember to weight this calculation by population!"
   ]
  },
  {
   "cell_type": "code",
   "execution_count": null,
   "id": "1099f8ab",
   "metadata": {
    "hide-output": false
   },
   "outputs": [],
   "source": [
    "# Your code here"
   ]
  },
  {
   "cell_type": "markdown",
   "id": "5580b02f",
   "metadata": {},
   "source": [
    "### Question 4\n",
    "\n",
    "What is the census division with the highest median income in each province?"
   ]
  },
  {
   "cell_type": "code",
   "execution_count": null,
   "id": "5bab6f65",
   "metadata": {
    "hide-output": false
   },
   "outputs": [],
   "source": [
    "# Your code here"
   ]
  },
  {
   "cell_type": "markdown",
   "id": "be733dd4",
   "metadata": {},
   "source": [
    "### Question 5\n",
    "\n",
    "By province, what is the total population of census divisions where more than 80 percent of the population own houses ?"
   ]
  },
  {
   "cell_type": "code",
   "execution_count": null,
   "id": "fe91b118",
   "metadata": {
    "hide-output": false
   },
   "outputs": [],
   "source": [
    "# Your code here"
   ]
  },
  {
   "cell_type": "markdown",
   "id": "7536436f",
   "metadata": {},
   "source": [
    "### Question 6\n",
    "\n",
    "By province, what is the average proportion of college-educated individuals in census divisions\n",
    "where more than 80 percent of the population own houses?"
   ]
  },
  {
   "cell_type": "code",
   "execution_count": null,
   "id": "b9c145c4",
   "metadata": {
    "hide-output": false
   },
   "outputs": [],
   "source": [
    "# Your code here"
   ]
  },
  {
   "cell_type": "markdown",
   "id": "7daa4397",
   "metadata": {},
   "source": [
    "### Question 7\n",
    "\n",
    "Classify the census divisions as low, medium, and highly-educated by using the college-educated proportions,\n",
    "where “low” indicates that less than 10 percent of the area is college-educated, “medium” indicates between 10 and 20 percent is college-educated, and “high” indicates more than 20 percent.\n",
    "\n",
    "Based on that classification, find the average median income across census divisions for each category."
   ]
  },
  {
   "cell_type": "code",
   "execution_count": null,
   "id": "2fc44481",
   "metadata": {
    "hide-output": false
   },
   "outputs": [],
   "source": [
    "# Your code here"
   ]
  },
  {
   "cell_type": "markdown",
   "id": "44cb7ea3",
   "metadata": {},
   "source": [
    "## Questions 8-9\n",
    "\n",
    "Let’s look at another example.\n",
    "\n",
    "This time, we will use a dataset from the [Bureau of Transportation\n",
    "Statistics](https://www.transtats.bts.gov/OT_Delay/OT_DelayCause1.asp)\n",
    "that describes the cause for all US domestic flight delays in November 2016:\n",
    "\n",
    "Loading this dataset the first time will take a minute or two because it is quite hefty… We recommend taking a break to view this [xkcd comic](https://xkcd.com/303/)."
   ]
  },
  {
   "cell_type": "code",
   "execution_count": null,
   "id": "4929c286",
   "metadata": {
    "hide-output": false
   },
   "outputs": [],
   "source": [
    "url = \"https://datascience.quantecon.org/assets/data/airline_performance_dec16.csv.zip\"\n",
    "air_perf = pd.read_csv(url)[[\"CRSDepTime\", \"Carrier\", \"CarrierDelay\", \"ArrDelay\"]]\n",
    "air_perf.info()\n",
    "air_perf.head()"
   ]
  },
  {
   "cell_type": "markdown",
   "id": "12866124",
   "metadata": {},
   "source": [
    "The `Carrier` column identifies the airline while the `CarrierDelay`\n",
    "reports the total delay, in minutes, that was the “carrier’s fault”."
   ]
  },
  {
   "cell_type": "markdown",
   "id": "77897cd4",
   "metadata": {},
   "source": [
    "### Question 8\n",
    "\n",
    "Determine the 10 airlines which, on average, contribute most to delays."
   ]
  },
  {
   "cell_type": "code",
   "execution_count": null,
   "id": "8c5618e2",
   "metadata": {
    "hide-output": false
   },
   "outputs": [],
   "source": [
    "# Your code here\n",
    "# avg_delays ="
   ]
  },
  {
   "cell_type": "markdown",
   "id": "e02119d6",
   "metadata": {},
   "source": [
    "### Question 9\n",
    "\n",
    "One issue with this dataset is that we might not know what all those two letter carrier codes are!\n",
    "\n",
    "Thankfully, we have a second dataset that maps two-letter codes\n",
    "to full airline names:"
   ]
  },
  {
   "cell_type": "code",
   "execution_count": null,
   "id": "a5a16d53",
   "metadata": {
    "hide-output": false
   },
   "outputs": [],
   "source": [
    "url = \"https://datascience.quantecon.org/assets/data/airline_carrier_codes.csv.zip\"\n",
    "carrier_code = pd.read_csv(url)\n",
    "carrier_code.tail()"
   ]
  },
  {
   "cell_type": "markdown",
   "id": "90fb0e92",
   "metadata": {},
   "source": [
    "In this question, you should merge the carrier codes and the previously computed dataframe from Question 9 (the 10 airlines that contribute most to delays)."
   ]
  },
  {
   "cell_type": "code",
   "execution_count": null,
   "id": "882a031e",
   "metadata": {
    "hide-output": false
   },
   "outputs": [],
   "source": [
    "# Your code here\n",
    "# avg_delays_w_name"
   ]
  },
  {
   "cell_type": "markdown",
   "id": "149fa4d0",
   "metadata": {},
   "source": [
    "## Question 10\n",
    "\n",
    "In this question, we will load data from the World Bank. World Bank data is often stored in formats containing vestigial columns because of their data format standardization.\n",
    "\n",
    "This particular data contains the world’s age dependency ratios (old) across countries. The ratio is the number of people who are\n",
    "above 65 divided by the number of people between 16 and 65 and measures how many working\n",
    "individuals exist relative to the number of dependent (retired) individuals."
   ]
  },
  {
   "cell_type": "code",
   "execution_count": null,
   "id": "a62dfa77",
   "metadata": {
    "hide-output": false
   },
   "outputs": [],
   "source": [
    "adr = pd.read_csv(\"https://datascience.quantecon.org/assets/data/WorldBank_AgeDependencyRatio.csv\")\n",
    "adr.head()"
   ]
  },
  {
   "cell_type": "markdown",
   "id": "d165752d",
   "metadata": {},
   "source": [
    "This data only has a single variable, so you can eliminate the `Series Name` and `Series Code`\n",
    "columns. You can also eliminate the `Country Code` or  `Country Name` column (but not both),\n",
    "since they contain repetitive information.\n",
    "\n",
    "We can organize this data in a couple of ways.\n",
    "\n",
    "The first (and the one we’d usually choose) is to place the years and country names on the index and\n",
    "have a single column. (If we had more variables, each variable could have its own column.)\n",
    "\n",
    "Another reasonable organization is to have one country per column and place the years on the index.\n",
    "\n",
    "Your goal is to reshape the data both ways. Which is easier? Which do you\n",
    "think a better organization method?"
   ]
  },
  {
   "cell_type": "code",
   "execution_count": null,
   "id": "29b4d9f2",
   "metadata": {
    "hide-output": false
   },
   "outputs": [],
   "source": [
    "# Reshape to have years and countries on index"
   ]
  },
  {
   "cell_type": "code",
   "execution_count": null,
   "id": "55184ff5",
   "metadata": {
    "hide-output": false
   },
   "outputs": [],
   "source": [
    "# Reshape to have years on index and country identifiers as columns"
   ]
  }
 ],
 "metadata": {
  "date": 1680118913.9874446,
  "filename": "problem_set_6.md",
  "kernelspec": {
   "display_name": "Python",
   "language": "python3",
   "name": "python3"
  },
  "title": "Problem Set 6"
 },
 "nbformat": 4,
 "nbformat_minor": 5
}