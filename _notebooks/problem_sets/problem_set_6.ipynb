{
 "cells": [
  {
   "cell_type": "markdown",
   "id": "1e88f0be",
   "metadata": {},
   "source": [
    "# Problem Set 6\n",
    "\n",
    "See [Merge](https://datascience.quantecon.org/../pandas/merge.html), [Reshape](https://datascience.quantecon.org/../pandas/reshape.html), and [GroupBy](https://datascience.quantecon.org/../pandas/groupby.html)"
   ]
  },
  {
   "cell_type": "code",
   "execution_count": null,
   "id": "3fbf80d0",
   "metadata": {
    "hide-output": false
   },
   "outputs": [],
   "source": [
    "import matplotlib.pyplot as plt\n",
    "import numpy as np\n",
    "import pandas as pd\n",
    "\n",
    "%matplotlib inline"
   ]
  },
  {
   "cell_type": "markdown",
   "id": "7a71ca0f",
   "metadata": {},
   "source": [
    "## Questions 1-7\n",
    "\n",
    "Lets start with a relatively straightforward exercise before we get to the really fun stuff.\n",
    "\n",
    "The following code loads a cleaned piece of census data from Statistics Canada."
   ]
  },
  {
   "cell_type": "code",
   "execution_count": null,
   "id": "e9b72fb0",
   "metadata": {
    "hide-output": false
   },
   "outputs": [],
   "source": [
    "df = pd.read_csv(\"https://datascience.quantecon.org/assets/data/canada_census.csv\", header=0, index_col=False)\n",
    "df.head()"
   ]
  },
  {
   "cell_type": "markdown",
   "id": "1fb87ee3",
   "metadata": {},
   "source": [
    "A *census division* is a geographical area, smaller than a Canadian province, that is used to\n",
    "organize information at a slightly more granular level than by province or by city. The census\n",
    "divisions are shown below.\n",
    "\n",
    "![https://datascience.quantecon.org/_static/canada_censusdivisions_map.png](https://datascience.quantecon.org/_static/canada_censusdivisions_map.png)\n",
    "\n",
    "  \n",
    "The data above contains information on the population, percent of population with a college\n",
    "degree, percent of population who own their house/apartment, and the median after-tax income at the\n",
    "*census division* level.\n",
    "\n",
    "Hint: The `groupby` is the key here.  You will need to practice different split, apply, and combine options."
   ]
  },
  {
   "cell_type": "markdown",
   "id": "b8504132",
   "metadata": {},
   "source": [
    "### Question 1\n",
    "\n",
    "Assume that you have a separate data source with province codes and names."
   ]
  },
  {
   "cell_type": "code",
   "execution_count": null,
   "id": "16b2be70",
   "metadata": {
    "hide-output": false
   },
   "outputs": [],
   "source": [
    "df_provincecodes = pd.DataFrame({\n",
    "    \"Pname\" : [ 'Newfoundland and Labrador', 'Prince Edward Island', 'Nova Scotia',\n",
    "                'New Brunswick', 'Quebec', 'Ontario', 'Manitoba', 'Saskatchewan',\n",
    "                'Alberta', 'British Columbia', 'Yukon', 'Northwest Territories','Nunavut'],\n",
    "    \"Code\" : ['NL', 'PE', 'NS', 'NB', 'QC', 'ON', 'MB', 'SK', 'AB', 'BC', 'YT', 'NT', 'NU']\n",
    "            })\n",
    "df_provincecodes"
   ]
  },
  {
   "cell_type": "markdown",
   "id": "4297a355",
   "metadata": {},
   "source": [
    "With this,\n",
    "\n",
    "1. Either merge or join these province codes into the census dataframe to provide province codes for each province\n",
    "  name. Hint: You need to figure out which “key” matches in the merge, and don’t be afraid to rename columns for convenience.  \n",
    "1. Drop the province names from the resulting dataframe.  \n",
    "1. Rename the column with the province codes to “Province”.  Hint: `.rename(columns = <YOURDICTIONARY>)`  "
   ]
  },
  {
   "cell_type": "code",
   "execution_count": null,
   "id": "2c182f9e",
   "metadata": {
    "hide-output": false
   },
   "outputs": [],
   "source": [
    "# Your code here"
   ]
  },
  {
   "cell_type": "markdown",
   "id": "01bf935a",
   "metadata": {},
   "source": [
    "For this particular example, you could have renamed the column using `replace`. This is a good check."
   ]
  },
  {
   "cell_type": "code",
   "execution_count": null,
   "id": "34d6b2c3",
   "metadata": {
    "hide-output": false
   },
   "outputs": [],
   "source": [
    "(pd.read_csv(\"https://datascience.quantecon.org/assets/data/canada_census.csv\", header=0, index_col=False)\n",
    ".replace({\n",
    "    \"Alberta\": \"AB\", \"British Columbia\": \"BC\", \"Manitoba\": \"MB\", \"New Brunswick\": \"NB\",\n",
    "    \"Newfoundland and Labrador\": \"NL\", \"Northwest Territories\": \"NT\", \"Nova Scotia\": \"NS\",\n",
    "    \"Nunavut\": \"NU\", \"Ontario\": \"ON\", \"Prince Edward Island\": \"PE\", \"Quebec\": \"QC\",\n",
    "    \"Saskatchewan\": \"SK\", \"Yukon\": \"YT\"})\n",
    ".rename(columns={\"Pname\" : \"Province\"})\n",
    ".head()\n",
    ")"
   ]
  },
  {
   "cell_type": "markdown",
   "id": "451616fd",
   "metadata": {},
   "source": [
    "### Question 2\n",
    "\n",
    "Which province has the highest population? Which has the lowest?"
   ]
  },
  {
   "cell_type": "code",
   "execution_count": null,
   "id": "32e1fac2",
   "metadata": {
    "hide-output": false
   },
   "outputs": [],
   "source": [
    "# Your code here"
   ]
  },
  {
   "cell_type": "markdown",
   "id": "69398a97",
   "metadata": {},
   "source": [
    "### Question 3\n",
    "\n",
    "Show a bar plot and a pie plot of the province populations.  Hint: After the split-apply-combine, you can use `.plot.bar()` or `.plot.pie()`."
   ]
  },
  {
   "cell_type": "code",
   "execution_count": null,
   "id": "7fe51666",
   "metadata": {
    "hide-output": false
   },
   "outputs": [],
   "source": [
    "# Your code here"
   ]
  },
  {
   "cell_type": "markdown",
   "id": "f155477b",
   "metadata": {},
   "source": [
    "### Question 3\n",
    "\n",
    "Which province has the highest percent of individuals with a college education? Which has the\n",
    "lowest?\n",
    "\n",
    "Hint: Remember to weight this calculation by population!"
   ]
  },
  {
   "cell_type": "code",
   "execution_count": null,
   "id": "59ec8134",
   "metadata": {
    "hide-output": false
   },
   "outputs": [],
   "source": [
    "# Your code here"
   ]
  },
  {
   "cell_type": "markdown",
   "id": "0a53daa7",
   "metadata": {},
   "source": [
    "### Question 4\n",
    "\n",
    "What is the census division with the highest median income in each province?"
   ]
  },
  {
   "cell_type": "code",
   "execution_count": null,
   "id": "9ec9dcfb",
   "metadata": {
    "hide-output": false
   },
   "outputs": [],
   "source": [
    "# Your code here"
   ]
  },
  {
   "cell_type": "markdown",
   "id": "21079840",
   "metadata": {},
   "source": [
    "### Question 5\n",
    "\n",
    "By province, what is the total population of census divisions where more than 80 percent of the population own houses ?"
   ]
  },
  {
   "cell_type": "code",
   "execution_count": null,
   "id": "809c59e1",
   "metadata": {
    "hide-output": false
   },
   "outputs": [],
   "source": [
    "# Your code here"
   ]
  },
  {
   "cell_type": "markdown",
   "id": "bcd833e4",
   "metadata": {},
   "source": [
    "### Question 6\n",
    "\n",
    "By province, what is the average proportion of college-educated individuals in census divisions\n",
    "where more than 80 percent of the population own houses?"
   ]
  },
  {
   "cell_type": "code",
   "execution_count": null,
   "id": "56aede45",
   "metadata": {
    "hide-output": false
   },
   "outputs": [],
   "source": [
    "# Your code here"
   ]
  },
  {
   "cell_type": "markdown",
   "id": "020b84df",
   "metadata": {},
   "source": [
    "### Question 7\n",
    "\n",
    "Classify the census divisions as low, medium, and highly-educated by using the college-educated proportions,\n",
    "where “low” indicates that less than 10 percent of the area is college-educated, “medium” indicates between 10 and 20 percent is college-educated, and “high” indicates more than 20 percent.\n",
    "\n",
    "Based on that classification, find the average median income across census divisions for each category."
   ]
  },
  {
   "cell_type": "code",
   "execution_count": null,
   "id": "8af36fb3",
   "metadata": {
    "hide-output": false
   },
   "outputs": [],
   "source": [
    "# Your code here"
   ]
  },
  {
   "cell_type": "markdown",
   "id": "2409e67b",
   "metadata": {},
   "source": [
    "## Questions 8-9\n",
    "\n",
    "Let’s look at another example.\n",
    "\n",
    "This time, we will use a dataset from the [Bureau of Transportation\n",
    "Statistics](https://www.transtats.bts.gov/OT_Delay/OT_DelayCause1.asp)\n",
    "that describes the cause for all US domestic flight delays in November 2016:\n",
    "\n",
    "Loading this dataset the first time will take a minute or two because it is quite hefty… We recommend taking a break to view this [xkcd comic](https://xkcd.com/303/)."
   ]
  },
  {
   "cell_type": "code",
   "execution_count": null,
   "id": "7a517f01",
   "metadata": {
    "hide-output": false
   },
   "outputs": [],
   "source": [
    "url = \"https://datascience.quantecon.org/assets/data/airline_performance_dec16.csv.zip\"\n",
    "air_perf = pd.read_csv(url)[[\"CRSDepTime\", \"Carrier\", \"CarrierDelay\", \"ArrDelay\"]]\n",
    "air_perf.info()\n",
    "air_perf.head()"
   ]
  },
  {
   "cell_type": "markdown",
   "id": "497431fa",
   "metadata": {},
   "source": [
    "The `Carrier` column identifies the airline while the `CarrierDelay`\n",
    "reports the total delay, in minutes, that was the “carrier’s fault”."
   ]
  },
  {
   "cell_type": "markdown",
   "id": "16026e57",
   "metadata": {},
   "source": [
    "### Question 8\n",
    "\n",
    "Determine the 10 airlines which, on average, contribute most to delays."
   ]
  },
  {
   "cell_type": "code",
   "execution_count": null,
   "id": "59588dcd",
   "metadata": {
    "hide-output": false
   },
   "outputs": [],
   "source": [
    "# Your code here\n",
    "# avg_delays ="
   ]
  },
  {
   "cell_type": "markdown",
   "id": "e07d7eb5",
   "metadata": {},
   "source": [
    "### Question 9\n",
    "\n",
    "One issue with this dataset is that we might not know what all those two letter carrier codes are!\n",
    "\n",
    "Thankfully, we have a second dataset that maps two-letter codes\n",
    "to full airline names:"
   ]
  },
  {
   "cell_type": "code",
   "execution_count": null,
   "id": "72f88897",
   "metadata": {
    "hide-output": false
   },
   "outputs": [],
   "source": [
    "url = \"https://datascience.quantecon.org/assets/data/airline_carrier_codes.csv.zip\"\n",
    "carrier_code = pd.read_csv(url)\n",
    "carrier_code.tail()"
   ]
  },
  {
   "cell_type": "markdown",
   "id": "abd09dfd",
   "metadata": {},
   "source": [
    "In this question, you should merge the carrier codes and the previously computed dataframe from Question 9 (the 10 airlines that contribute most to delays)."
   ]
  },
  {
   "cell_type": "code",
   "execution_count": null,
   "id": "aeb9b262",
   "metadata": {
    "hide-output": false
   },
   "outputs": [],
   "source": [
    "# Your code here\n",
    "# avg_delays_w_name"
   ]
  },
  {
   "cell_type": "markdown",
   "id": "e378b649",
   "metadata": {},
   "source": [
    "## Question 10\n",
    "\n",
    "In this question, we will load data from the World Bank. World Bank data is often stored in formats containing vestigial columns because of their data format standardization.\n",
    "\n",
    "This particular data contains the world’s age dependency ratios (old) across countries. The ratio is the number of people who are\n",
    "above 65 divided by the number of people between 16 and 65 and measures how many working\n",
    "individuals exist relative to the number of dependent (retired) individuals."
   ]
  },
  {
   "cell_type": "code",
   "execution_count": null,
   "id": "906117f5",
   "metadata": {
    "hide-output": false
   },
   "outputs": [],
   "source": [
    "adr = pd.read_csv(\"https://datascience.quantecon.org/assets/data/WorldBank_AgeDependencyRatio.csv\")\n",
    "adr.head()"
   ]
  },
  {
   "cell_type": "markdown",
   "id": "081db43b",
   "metadata": {},
   "source": [
    "This data only has a single variable, so you can eliminate the `Series Name` and `Series Code`\n",
    "columns. You can also eliminate the `Country Code` or  `Country Name` column (but not both),\n",
    "since they contain repetitive information.\n",
    "\n",
    "We can organize this data in a couple of ways.\n",
    "\n",
    "The first (and the one we’d usually choose) is to place the years and country names on the index and\n",
    "have a single column. (If we had more variables, each variable could have its own column.)\n",
    "\n",
    "Another reasonable organization is to have one country per column and place the years on the index.\n",
    "\n",
    "Your goal is to reshape the data both ways. Which is easier? Which do you\n",
    "think a better organization method?"
   ]
  },
  {
   "cell_type": "code",
   "execution_count": null,
   "id": "8f93647e",
   "metadata": {
    "hide-output": false
   },
   "outputs": [],
   "source": [
    "# Reshape to have years and countries on index"
   ]
  },
  {
   "cell_type": "code",
   "execution_count": null,
   "id": "23dca14d",
   "metadata": {
    "hide-output": false
   },
   "outputs": [],
   "source": [
    "# Reshape to have years on index and country identifiers as columns"
   ]
  }
 ],
 "metadata": {
  "date": 1684262964.3662653,
  "filename": "problem_set_6.md",
  "kernelspec": {
   "display_name": "Python",
   "language": "python3",
   "name": "python3"
  },
  "title": "Problem Set 6"
 },
 "nbformat": 4,
 "nbformat_minor": 5
}