{
 "cells": [
  {
   "cell_type": "markdown",
   "id": "fff43476",
   "metadata": {},
   "source": [
    "# Problem Set 1\n",
    "\n",
    "See “Check Your Understanding” from [Basics](https://datascience.quantecon.org/../python_fundamentals/basics.html) and [Collections](https://datascience.quantecon.org/../python_fundamentals/collections.html)"
   ]
  },
  {
   "cell_type": "markdown",
   "id": "ff9b67b7",
   "metadata": {},
   "source": [
    "## Question 1\n",
    "\n",
    "Below this cell, add\n",
    "\n",
    "1. A Markdown cell with  \n",
    "  - two levels of headings;  \n",
    "  - a numbered list (We ask for a list in Markdown, not a Python list object);  \n",
    "  - an unnumbered list (again not a Python list object);  \n",
    "  - text with a `*` and a `-` sign (hint: look at this cell and [escape characters](https://www.markdownguide.org/basic-syntax/#characters-you-can-escape))  \n",
    "  - backticked code (see [https://github.com/adam-p/markdown-here/wiki/Markdown-Cheatsheet](https://github.com/adam-p/markdown-here/wiki/Markdown-Cheatsheet))  \n",
    "1. A Markdown cell with  \n",
    "  - the [quadratic formula](https://en.wikipedia.org/wiki/Quadratic_formula) embedded in the cell using [LaTeX](https://jupyter-notebook.readthedocs.io/en/stable/examples/Notebook/Typesetting%20Equations.html)  "
   ]
  },
  {
   "cell_type": "markdown",
   "id": "9efa03ba",
   "metadata": {},
   "source": [
    "## Question 2\n",
    "\n",
    "Complete the following code, which sets up variables `a, b,` and `c`, to find the roots using the quadratic formula.\n",
    "\n",
    "$$\n",
    "x=\\frac{-b\\pm\\sqrt{b^2-4ac}}{2a}\n",
    "$$\n",
    "\n",
    "Note: because there are two roots, you will need to calculate two values of `x`"
   ]
  },
  {
   "cell_type": "code",
   "execution_count": null,
   "id": "e01a11bd",
   "metadata": {
    "hide-output": false
   },
   "outputs": [],
   "source": [
    "a = 1.0\n",
    "b = 2.0\n",
    "c = 1.0\n",
    "# Your code goes here"
   ]
  },
  {
   "cell_type": "markdown",
   "id": "31a2560b",
   "metadata": {},
   "source": [
    "## Question 3\n",
    "\n",
    "In the cell below, use tab completion to find a function from the time\n",
    "module that displays the **local** time.\n",
    "\n",
    "Use `time.FUNC_NAME?` (where `FUNC_NAME` is replaced with the name\n",
    "of the function you found) to see information about that function,\n",
    "then call the function. (Hint: look for something involving the word\n",
    "`local`)."
   ]
  },
  {
   "cell_type": "code",
   "execution_count": null,
   "id": "fe51c02a",
   "metadata": {
    "hide-output": false
   },
   "outputs": [],
   "source": [
    "import time\n",
    "# Your code goes here\n",
    "# time. # uncomment and hit <TAB> to see functions"
   ]
  },
  {
   "cell_type": "markdown",
   "id": "fabe8dfc",
   "metadata": {},
   "source": [
    "Hint: if you are using an online jupyter server, the time will be based on\n",
    "the server settings.  If it doesn’t match your location, don’t worry about it."
   ]
  },
  {
   "cell_type": "markdown",
   "id": "ef3d6dfa",
   "metadata": {},
   "source": [
    "## Question 4\n",
    "\n",
    "Create the following variables:\n",
    "\n",
    "- `D`: A floating point number with the value 10,000  \n",
    "- `r`: A floating point number with the value 0.025  \n",
    "- `T`: An integer with the value 30  \n",
    "\n",
    "\n",
    "Compute the present discounted value of a payment (`D`) made\n",
    "in `T` years, assuming an interest rate of 2.5%. Save this value to\n",
    "a new variable called `PDV` and print your output.\n",
    "\n",
    "Hint: The formula is\n",
    "\n",
    "$$\n",
    "\\text{PDV} = \\frac{D}{(1 + r)^T}\n",
    "$$"
   ]
  },
  {
   "cell_type": "code",
   "execution_count": null,
   "id": "cd55b145",
   "metadata": {
    "hide-output": false
   },
   "outputs": [],
   "source": [
    "# Your code goes here"
   ]
  },
  {
   "cell_type": "markdown",
   "id": "8c4bd488",
   "metadata": {},
   "source": [
    "## Question 5\n",
    "\n",
    "How could you use the variables `x` and `y` to create the sentence\n",
    "`Hello World` ?\n",
    "\n",
    "Hint: Think about how to represent a space as a string."
   ]
  },
  {
   "cell_type": "code",
   "execution_count": null,
   "id": "9a5ee786",
   "metadata": {
    "hide-output": false
   },
   "outputs": [],
   "source": [
    "x = \"Hello\"\n",
    "y = \"World\"\n",
    "# Your code goes here"
   ]
  },
  {
   "cell_type": "markdown",
   "id": "d8750656",
   "metadata": {},
   "source": [
    "## Question 6\n",
    "\n",
    "Suppose you are working with price data and come across the value\n",
    "`\"€6.50\"`.\n",
    "\n",
    "When Python tries to interpret this value, it sees the value as the string\n",
    "`\"€6.50\"` instead of the number `6.50`. (Quiz: why is this a\n",
    "problem? Think about the examples above.)\n",
    "\n",
    "In this exercise, your task is to convert the variable `price` below\n",
    "into a number.\n",
    "\n",
    "*Hint*: Once the string is in a suitable format, you can call\n",
    "`float(clean_price)` to make it a number."
   ]
  },
  {
   "cell_type": "code",
   "execution_count": null,
   "id": "5b2f95f2",
   "metadata": {
    "hide-output": false
   },
   "outputs": [],
   "source": [
    "price = \"€6.50\"\n",
    "# Your code goes here"
   ]
  },
  {
   "cell_type": "markdown",
   "id": "ca6e7dab",
   "metadata": {},
   "source": [
    "## Question 7\n",
    "\n",
    "Use Python formatting (e.g. `print(f\"text {somecode}\")` where `somecode` is a valid expression or variable name) to produce the following\n",
    "output."
   ]
  },
  {
   "cell_type": "markdown",
   "id": "42620c4c",
   "metadata": {
    "hide-output": false
   },
   "source": [
    "```text\n",
    "The 1st quarter revenue was $110M\n",
    "The 2nd quarter revenue was $95M\n",
    "The 3rd quarter revenue was $100M\n",
    "The 4th quarter revenue was $130M\n",
    "```\n"
   ]
  },
  {
   "cell_type": "code",
   "execution_count": null,
   "id": "bca211c9",
   "metadata": {
    "hide-output": false
   },
   "outputs": [],
   "source": [
    "# Your code goes here"
   ]
  },
  {
   "cell_type": "markdown",
   "id": "a2e85af0",
   "metadata": {},
   "source": [
    "## Question 8\n",
    "\n",
    "Define two lists y and z.\n",
    "\n",
    "They can contain **anything you want**.\n",
    "\n",
    "Check what happens when you do y + z.\n",
    "When you have finished that, try 2 * x and x * 2 where x represents the object you created from y + z.\n",
    "\n",
    "Briefly explain."
   ]
  },
  {
   "cell_type": "code",
   "execution_count": null,
   "id": "47a02fb8",
   "metadata": {
    "hide-output": false
   },
   "outputs": [],
   "source": [
    "y = [] # fill me in!\n",
    "z = [] # fill me in!\n",
    "# Your code goes here"
   ]
  }
 ],
 "metadata": {
  "date": 1689807041.238153,
  "filename": "problem_set_1.md",
  "kernelspec": {
   "display_name": "Python",
   "language": "python3",
   "name": "python3"
  },
  "title": "Problem Set 1"
 },
 "nbformat": 4,
 "nbformat_minor": 5
}