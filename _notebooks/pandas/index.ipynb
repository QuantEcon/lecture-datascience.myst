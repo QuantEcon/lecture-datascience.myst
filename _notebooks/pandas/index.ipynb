{
 "cells": [
  {
   "cell_type": "markdown",
   "id": "f678084e",
   "metadata": {},
   "source": [
    "# DataFrames and Series in Pandas\n",
    "\n",
    "This section of the workshop covers data ingestion, cleaning,\n",
    "manipulation, analysis, and visualization in Python.\n",
    "\n",
    "We build on the skills learned in the [Python fundamentals](https://datascience.quantecon.org/../python_fundamentals/index.html) section and teach the\n",
    "[pandas](https://pandas.pydata.org) library.\n",
    "\n",
    "At the end of this section, you will be able to:\n",
    "\n",
    "- Access data stored in a variety of formats  \n",
    "- Combine multiple datasets based on observations that link them\n",
    "  together  \n",
    "- Perform custom operations on tables of data  \n",
    "- Use the split-apply-combine method for analyzing sub-groups of data  \n",
    "- Automate static analysis on changing data  \n",
    "- Produce publication quality visualizations  \n",
    "\n",
    "\n",
    "In the end, our goal with this section is to provide you the\n",
    "necessary skills to – at a minimum – **immediately** replicate your current\n",
    "data analysis workflow in Python with no loss of total (computer +\n",
    "human) time.\n",
    "\n",
    "This is a lower bound on the benefits you should expect to receive by\n",
    "studying this section.\n",
    "\n",
    "The expression “practice makes perfect” is especially true here.\n",
    "\n",
    "As you work with these tools, both the time to write and the time to run\n",
    "your programs will fall dramatically."
   ]
  },
  {
   "cell_type": "markdown",
   "id": "27fa1d43",
   "metadata": {},
   "source": [
    "##  [Introduction](https://datascience.quantecon.org/intro.html)"
   ]
  },
  {
   "cell_type": "markdown",
   "id": "c723794f",
   "metadata": {},
   "source": [
    "##  [Basic Functionality](https://datascience.quantecon.org/basics.html)"
   ]
  },
  {
   "cell_type": "markdown",
   "id": "0bc2ddd9",
   "metadata": {},
   "source": [
    "##  [The Index](https://datascience.quantecon.org/the_index.html)"
   ]
  },
  {
   "cell_type": "markdown",
   "id": "ca76baec",
   "metadata": {},
   "source": [
    "##  [Storage Formats](https://datascience.quantecon.org/storage_formats.html)"
   ]
  },
  {
   "cell_type": "markdown",
   "id": "8bc05250",
   "metadata": {},
   "source": [
    "##  [Cleaning Data](https://datascience.quantecon.org/data_clean.html)"
   ]
  },
  {
   "cell_type": "markdown",
   "id": "48346467",
   "metadata": {},
   "source": [
    "##  [Reshape](https://datascience.quantecon.org/reshape.html)"
   ]
  },
  {
   "cell_type": "markdown",
   "id": "c048680d",
   "metadata": {},
   "source": [
    "##  [Merge](https://datascience.quantecon.org/merge.html)"
   ]
  },
  {
   "cell_type": "markdown",
   "id": "372ec0a4",
   "metadata": {},
   "source": [
    "##  [GroupBy](https://datascience.quantecon.org/groupby.html)"
   ]
  },
  {
   "cell_type": "markdown",
   "id": "f629a137",
   "metadata": {},
   "source": [
    "##  [Time Series](https://datascience.quantecon.org/timeseries.html)"
   ]
  }
 ],
 "metadata": {
  "date": 1688529288.0047653,
  "filename": "index.md",
  "kernelspec": {
   "display_name": "Python",
   "language": "python3",
   "name": "python3"
  },
  "title": "DataFrames and Series in Pandas"
 },
 "nbformat": 4,
 "nbformat_minor": 5
}