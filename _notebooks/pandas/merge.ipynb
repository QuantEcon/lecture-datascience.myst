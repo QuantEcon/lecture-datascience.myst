{
 "cells": [
  {
   "cell_type": "markdown",
   "id": "3daa21ce",
   "metadata": {},
   "source": [
    "# Merge\n",
    "\n",
    "**Prerequisites**\n",
    "\n",
    "- [Reshape](https://datascience.quantecon.org/reshape.html)  \n",
    "\n",
    "\n",
    "**Outcomes**\n",
    "\n",
    "- Know the different pandas routines for combining datasets  \n",
    "- Know when to use `pd.concat` vs `pd.merge` vs `pd.join`  \n",
    "- Be able to apply the three main combining routines  \n",
    "\n",
    "\n",
    "**Data**\n",
    "\n",
    "- WDI data on GDP components, population, and square miles of countries  \n",
    "- Book ratings: 6,000,000 ratings for the 10,000 most rated books on\n",
    "  [Goodreads](https://www.goodreads.com/)  \n",
    "- Details for all delayed US domestic flights in November 2016,\n",
    "  obtained from the [Bureau of Transportation\n",
    "  Statistics](https://www.transtats.bts.gov/OT_Delay/OT_DelayCause1.asp)  "
   ]
  },
  {
   "cell_type": "code",
   "execution_count": null,
   "id": "b9f20122",
   "metadata": {
    "hide-output": false
   },
   "outputs": [],
   "source": [
    "# Uncomment following line to install on colab\n",
    "#! pip install "
   ]
  },
  {
   "cell_type": "markdown",
   "id": "16522677",
   "metadata": {},
   "source": [
    "## Combining Datasets\n",
    "\n",
    "Often, we will want perform joint analysis on data from different sources.\n",
    "\n",
    "For example, when analyzing the regional sales for a company, we might\n",
    "want to include industry aggregates or demographic information for each\n",
    "region.\n",
    "\n",
    "Or perhaps we are working with product-level data, have a list of\n",
    "product groups in a separate dataset, and want to compute aggregate\n",
    "statistics for each group."
   ]
  },
  {
   "cell_type": "code",
   "execution_count": null,
   "id": "90ecb5a2",
   "metadata": {
    "hide-output": false
   },
   "outputs": [],
   "source": [
    "import pandas as pd\n",
    "%matplotlib inline\n",
    "\n",
    "from IPython.display import display"
   ]
  },
  {
   "cell_type": "code",
   "execution_count": null,
   "id": "f8428619",
   "metadata": {
    "hide-output": false
   },
   "outputs": [],
   "source": [
    "# from WDI. Units trillions of 2010 USD\n",
    "url = \"https://datascience.quantecon.org/assets/data/wdi_data.csv\"\n",
    "wdi = pd.read_csv(url).set_index([\"country\", \"year\"])\n",
    "wdi.info()\n",
    "\n",
    "wdi2017 = wdi.xs(2017, level=\"year\")\n",
    "wdi2017"
   ]
  },
  {
   "cell_type": "code",
   "execution_count": null,
   "id": "c764f1d8",
   "metadata": {
    "hide-output": false
   },
   "outputs": [],
   "source": [
    "wdi2016_17 = wdi.loc[pd.IndexSlice[:, [2016, 2017]],: ]\n",
    "wdi2016_17"
   ]
  },
  {
   "cell_type": "code",
   "execution_count": null,
   "id": "ec6d2b74",
   "metadata": {
    "hide-output": false
   },
   "outputs": [],
   "source": [
    "# Data from https://www.nationmaster.com/country-info/stats/Geography/Land-area/Square-miles\n",
    "# units -- millions of square miles\n",
    "sq_miles = pd.Series({\n",
    "   \"United States\": 3.8,\n",
    "   \"Canada\": 3.8,\n",
    "   \"Germany\": 0.137,\n",
    "   \"United Kingdom\": 0.0936,\n",
    "   \"Russia\": 6.6,\n",
    "}, name=\"sq_miles\").to_frame()\n",
    "sq_miles.index.name = \"country\"\n",
    "sq_miles"
   ]
  },
  {
   "cell_type": "code",
   "execution_count": null,
   "id": "30502c12",
   "metadata": {
    "hide-output": false
   },
   "outputs": [],
   "source": [
    "# from WDI. Units millions of people\n",
    "pop_url = \"https://datascience.quantecon.org/assets/data/wdi_population.csv\"\n",
    "pop = pd.read_csv(pop_url).set_index([\"country\", \"year\"])\n",
    "pop.info()\n",
    "pop.head(10)"
   ]
  },
  {
   "cell_type": "markdown",
   "id": "a9a5301f",
   "metadata": {},
   "source": [
    "Suppose that we were asked to compute a number of statistics with the data above:\n",
    "\n",
    "- As a measure of land usage or productivity, what is Consumption per square mile?  \n",
    "- What is GDP per capita (per person) for each country in each year? How about\n",
    "  Consumption per person?  \n",
    "- What is the population density of each country? How much does it change over time?  \n",
    "\n",
    "\n",
    "Notice that to answer any of the questions from above, we will have to use data\n",
    "from more than one of our DataFrames.\n",
    "\n",
    "In this lecture, we will learn many techniques for combining datasets that\n",
    "originate from different sources, careful to ensure that data is properly\n",
    "aligned.\n",
    "\n",
    "In pandas three main methods can combine datasets:\n",
    "\n",
    "1. `pd.concat([dfs...])`  \n",
    "1. `pd.merge(df1, df2)`  \n",
    "1. `df1.join(df2)`  \n",
    "\n",
    "\n",
    "We’ll look at each one."
   ]
  },
  {
   "cell_type": "markdown",
   "id": "54271778",
   "metadata": {},
   "source": [
    "## `pd.concat`\n",
    "\n",
    "The `pd.concat` function is used to stack two or more DataFrames\n",
    "together.\n",
    "\n",
    "An example of when you might want to do this is if you have monthly data\n",
    "in separate files on your computer and would like to have 1 year of data\n",
    "in a single DataFrame.\n",
    "\n",
    "The first argument to `pd.concat` is a list of DataFrames to be\n",
    "stitched together.\n",
    "\n",
    "The other commonly used argument is named `axis`.\n",
    "\n",
    "As we have seen before, many pandas functions have an `axis` argument\n",
    "that specifies whether a particular operation should happen down rows\n",
    "(`axis=0`) or along columns (`axis=1`).\n",
    "\n",
    "In the context of `pd.concat`, setting `axis=0` (the default case)\n",
    "will stack DataFrames on top of one another while `axis=1` stacks them\n",
    "side by side.\n",
    "\n",
    "We’ll look at each case separately."
   ]
  },
  {
   "cell_type": "markdown",
   "id": "a99ead2f",
   "metadata": {},
   "source": [
    "### `axis=0`\n",
    "\n",
    "When we call `pd.concat` and set `axis=0`, the list of DataFrames\n",
    "passed in the first argument will be stacked on top of one another.\n",
    "\n",
    "Let’s try it out here."
   ]
  },
  {
   "cell_type": "code",
   "execution_count": null,
   "id": "ec4b2d4d",
   "metadata": {
    "hide-output": false
   },
   "outputs": [],
   "source": [
    "# equivalent to pd.concat([wdi2017, sq_miles]) -- axis=0 is default\n",
    "pd.concat([wdi2017, sq_miles], axis=0)"
   ]
  },
  {
   "cell_type": "markdown",
   "id": "55878142",
   "metadata": {},
   "source": [
    "Notice a few things:\n",
    "\n",
    "The number of rows in the output is the total number\n",
    ": of rows in all inputs. The labels are all from the original\n",
    "DataFrames.\n",
    "\n",
    "- The column labels are all the distinct column labels from all the inputs.  \n",
    "- For columns that appeared only in one input, the value for all row labels\n",
    "  originating from a different input is equal to `NaN` (marked as missing).  "
   ]
  },
  {
   "cell_type": "markdown",
   "id": "621a17aa",
   "metadata": {},
   "source": [
    "### `axis=1`\n",
    "\n",
    "In this example, concatenating by stacking\n",
    "side-by-side makes more sense.\n",
    "\n",
    "We accomplish this by passing `axis=1` to `pd.concat`:"
   ]
  },
  {
   "cell_type": "code",
   "execution_count": null,
   "id": "d1a92a2d",
   "metadata": {
    "hide-output": false
   },
   "outputs": [],
   "source": [
    "pd.concat([wdi2017, sq_miles], axis=1)"
   ]
  },
  {
   "cell_type": "markdown",
   "id": "d112d980",
   "metadata": {},
   "source": [
    "Notice here that\n",
    "\n",
    "- The index entries are all unique index entries that appeared in any DataFrame.  \n",
    "- The column labels are all column labels from the inputs.  \n",
    "- As `wdi2017` didn’t have a `Russia` row, the value for all of its columns\n",
    "  is `NaN`.  \n",
    "\n",
    "\n",
    "Now we can answer one of our questions from above: What is\n",
    "Consumption per square mile?"
   ]
  },
  {
   "cell_type": "code",
   "execution_count": null,
   "id": "e070e643",
   "metadata": {
    "hide-output": false
   },
   "outputs": [],
   "source": [
    "temp = pd.concat([wdi2017, sq_miles], axis=1)\n",
    "temp[\"Consumption\"] / temp[\"sq_miles\"]"
   ]
  },
  {
   "cell_type": "markdown",
   "id": "b013ecfe",
   "metadata": {},
   "source": [
    "Since the WDI data is measured in millions of US Dollars, this gives us the consumption per square mile measured in units of millions of USD per square mile."
   ]
  },
  {
   "cell_type": "markdown",
   "id": "318cf1de",
   "metadata": {},
   "source": [
    "## `pd.merge`\n",
    "\n",
    "`pd.merge` operates on two DataFrames at a time and is primarily used\n",
    "to bring columns from one DataFrame into another, *aligning* data based\n",
    "on one or more “key” columns.\n",
    "\n",
    "This is a somewhat difficult concept to grasp by reading, so let’s look at some\n",
    "examples."
   ]
  },
  {
   "cell_type": "code",
   "execution_count": null,
   "id": "442da3fd",
   "metadata": {
    "hide-output": false
   },
   "outputs": [],
   "source": [
    "pd.merge(wdi2017, sq_miles, on=\"country\")"
   ]
  },
  {
   "cell_type": "markdown",
   "id": "a32c3fed",
   "metadata": {},
   "source": [
    "The output here looks very similar to what we saw with `concat` and\n",
    "`axis=1`, except that the row for `Russia` does not appear.\n",
    "\n",
    "We will talk more about why this happened soon.\n",
    "\n",
    "For now, let’s look at a slightly more intriguing example:"
   ]
  },
  {
   "cell_type": "code",
   "execution_count": null,
   "id": "7ceccb96",
   "metadata": {
    "hide-output": false
   },
   "outputs": [],
   "source": [
    "pd.merge(wdi2016_17, sq_miles, on=\"country\")"
   ]
  },
  {
   "cell_type": "markdown",
   "id": "9323ee50",
   "metadata": {},
   "source": [
    "Here’s how we think about what happened:\n",
    "\n",
    "- The data in `wdi2016_17` is copied over exactly as is.  \n",
    "- Because `country` was on the index for both DataFrames, it is on the\n",
    "  index of the output.  \n",
    "- We lost the year on the index – we’ll work on getting it back below.  \n",
    "- The additional column in `sq_miles` was added to column labels for the\n",
    "  output.  \n",
    "- The data from the `sq_miles` column was added to the output by looking up\n",
    "  rows where the `country` in the two DataFrames lined up.  \n",
    "  - Note that all the countries appeared twice, and the data in `sq_miles` was repeated. This is because `wdi2016_17` had two rows for each country.  \n",
    "  - Also note that because `Russia` did not appear in `wdi2016_17`, the value `sq_miles.loc[\"Russia\"]` (i.e. `6.6`) is not used the output.  \n",
    "\n",
    "\n",
    "How do we get the year back?\n",
    "\n",
    "We must first call `reset_index` on `wdi2016_17` so\n",
    "that in the first step when all columns are copied over, `year` is included."
   ]
  },
  {
   "cell_type": "code",
   "execution_count": null,
   "id": "81b199ed",
   "metadata": {
    "hide-output": false
   },
   "outputs": [],
   "source": [
    "pd.merge(wdi2016_17.reset_index(), sq_miles, on=\"country\")"
   ]
  },
  {
   "cell_type": "markdown",
   "id": "2ea1c6ff",
   "metadata": {},
   "source": [
    "### Multiple Columns\n",
    "\n",
    "Sometimes, we need to merge multiple columns.\n",
    "\n",
    "For example our `pop` and `wdi2016_17` DataFrames both have observations\n",
    "organized by country and year.\n",
    "\n",
    "To properly merge these datasets, we would need to align the data by\n",
    "both country and year.\n",
    "\n",
    "We pass a list to the `on` argument to accomplish this:"
   ]
  },
  {
   "cell_type": "code",
   "execution_count": null,
   "id": "439946a7",
   "metadata": {
    "hide-output": false
   },
   "outputs": [],
   "source": [
    "pd.merge(wdi2016_17, pop, on=[\"country\", \"year\"])"
   ]
  },
  {
   "cell_type": "markdown",
   "id": "de0434f8",
   "metadata": {},
   "source": [
    "Now, we can answer more of our questions from above: What is GDP per capita (per\n",
    "person) for each country in each year? How about Consumption per person?"
   ]
  },
  {
   "cell_type": "code",
   "execution_count": null,
   "id": "88942d82",
   "metadata": {
    "hide-output": false
   },
   "outputs": [],
   "source": [
    "wdi_pop = pd.merge(wdi2016_17, pop, on=[\"country\", \"year\"])\n",
    "wdi_pop[\"GDP\"] / wdi_pop[\"Population\"]"
   ]
  },
  {
   "cell_type": "code",
   "execution_count": null,
   "id": "42e458d3",
   "metadata": {
    "hide-output": false
   },
   "outputs": [],
   "source": [
    "wdi_pop[\"Consumption\"] / wdi_pop[\"Population\"]"
   ]
  },
  {
   "cell_type": "markdown",
   "id": "6f251a1f",
   "metadata": {},
   "source": [
    "These numbers tell us the GDP and consumption per capita, measured in units of millions of USD per person."
   ]
  },
  {
   "cell_type": "markdown",
   "id": "a84819c8",
   "metadata": {},
   "source": [
    "### Exercise\n",
    "\n",
    "See exercise 1 in the [exercise list](#pd-mrg-ex)."
   ]
  },
  {
   "cell_type": "markdown",
   "id": "7a119c56",
   "metadata": {},
   "source": [
    "## Arguments to `merge`\n",
    "\n",
    "The `pd.merge` function can take many optional arguments.\n",
    "\n",
    "We’ll talk about a few of the most commonly-used ones here and refer you\n",
    "to the\n",
    "[documentation](https://pandas.pydata.org/pandas-docs/stable/generated/pandas.merge.html#pandas.merge)\n",
    "for more details.\n",
    "\n",
    "We’ll follow the pandas convention and refer to the first argument to\n",
    "`pd.merge` as `left` and call the second `right`."
   ]
  },
  {
   "cell_type": "markdown",
   "id": "33dd2329",
   "metadata": {},
   "source": [
    "### `on`\n",
    "\n",
    "We have already seen this one used before, but we want to point out that on\n",
    "is optional.\n",
    "\n",
    "If nothing is given for this argument, pandas will use **all** columns\n",
    "in `left` and `right` with the same name.\n",
    "\n",
    "In our example, `country` is the only column that appears in both\n",
    "DataFrames, so it is used for `on` if we don’t pass anything.\n",
    "\n",
    "The following two are equivalent."
   ]
  },
  {
   "cell_type": "code",
   "execution_count": null,
   "id": "62d75f3c",
   "metadata": {
    "hide-output": false
   },
   "outputs": [],
   "source": [
    "pd.merge(wdi2017, sq_miles, on=\"country\")"
   ]
  },
  {
   "cell_type": "code",
   "execution_count": null,
   "id": "467bbd9e",
   "metadata": {
    "hide-output": false
   },
   "outputs": [],
   "source": [
    "# if we move index back to columns, the `on` is un-necessary\n",
    "pd.merge(wdi2017.reset_index(), sq_miles.reset_index())"
   ]
  },
  {
   "cell_type": "markdown",
   "id": "877ea578",
   "metadata": {},
   "source": [
    "### `left_on`, `right_on`\n",
    "\n",
    "Above, we used the `on` argument to identify a column in both `left`\n",
    "and `right` that was used to align data.\n",
    "\n",
    "Sometimes, both DataFrames don’t have the same name for this column.\n",
    "\n",
    "In that case, we use the `left_on` and `right_on` arguments, passing\n",
    "the proper column name(s) to align the data.\n",
    "\n",
    "We’ll show you an example below, but it is somewhat silly as our\n",
    "DataFrames do both have the `country` column."
   ]
  },
  {
   "cell_type": "code",
   "execution_count": null,
   "id": "abb2ae0a",
   "metadata": {
    "hide-output": false
   },
   "outputs": [],
   "source": [
    "pd.merge(wdi2017, sq_miles, left_on=\"country\", right_on=\"country\")"
   ]
  },
  {
   "cell_type": "markdown",
   "id": "8ad2c55d",
   "metadata": {},
   "source": [
    "### `left_index`, `right_index`\n",
    "\n",
    "Sometimes, as in our example, the key used to align data is actually in the\n",
    "index instead of one of the columns.\n",
    "\n",
    "In this case, we can use the `left_index` or `right_index` arguments.\n",
    "\n",
    "We should only set these values to a boolean (`True` or `False`).\n",
    "\n",
    "Let’s practice with this."
   ]
  },
  {
   "cell_type": "code",
   "execution_count": null,
   "id": "a41be09c",
   "metadata": {
    "hide-output": false
   },
   "outputs": [],
   "source": [
    "pd.merge(wdi2017, sq_miles, left_on=\"country\", right_index=True)"
   ]
  },
  {
   "cell_type": "markdown",
   "id": "9a0fb03f",
   "metadata": {},
   "source": [
    "### `how`\n",
    "\n",
    "The `how` is perhaps the most powerful, but most conceptually\n",
    "difficult of the arguments we will cover.\n",
    "\n",
    "This argument controls which values from the key column(s) appear in the\n",
    "output.\n",
    "\n",
    "The 4 possible options for this argument are summarized in\n",
    "the image below.\n",
    "\n",
    "![https://datascience.quantecon.org/_static/merge_venns.png](https://datascience.quantecon.org/_static/merge_venns.png)\n",
    "\n",
    "  \n",
    "In words, we have:\n",
    "\n",
    "- `left`: What we described above. It uses\n",
    "  the keys from the `left` DataFrame.  \n",
    "- `right`: Output will contain all keys from `right`.  \n",
    "- `inner`: The default `how`; the output will only contain keys that appear in *both*\n",
    "  `left` and `right`.  \n",
    "- `outer`: The output will contain any key found in either `left`\n",
    "  or `right`.  \n",
    "\n",
    "\n",
    "In addition to the above, we will use the following two DataFrames to\n",
    "illustrate the `how` option."
   ]
  },
  {
   "cell_type": "code",
   "execution_count": null,
   "id": "98f355cb",
   "metadata": {
    "hide-output": false
   },
   "outputs": [],
   "source": [
    "wdi2017_no_US = wdi2017.drop(\"United States\")\n",
    "wdi2017_no_US"
   ]
  },
  {
   "cell_type": "code",
   "execution_count": null,
   "id": "bd85d9dc",
   "metadata": {
    "hide-output": false
   },
   "outputs": [],
   "source": [
    "sq_miles_no_germany = sq_miles.drop(\"Germany\")\n",
    "sq_miles_no_germany"
   ]
  },
  {
   "cell_type": "markdown",
   "id": "d5a411c6",
   "metadata": {},
   "source": [
    "Now, let’s see all the possible `how` options."
   ]
  },
  {
   "cell_type": "code",
   "execution_count": null,
   "id": "c74baebf",
   "metadata": {
    "hide-output": false
   },
   "outputs": [],
   "source": [
    "# default\n",
    "pd.merge(wdi2017, sq_miles, on=\"country\", how=\"left\")"
   ]
  },
  {
   "cell_type": "code",
   "execution_count": null,
   "id": "55a691a5",
   "metadata": {
    "hide-output": false
   },
   "outputs": [],
   "source": [
    "# notice ``Russia`` is included\n",
    "pd.merge(wdi2017, sq_miles, on=\"country\", how=\"right\")"
   ]
  },
  {
   "cell_type": "code",
   "execution_count": null,
   "id": "f953f968",
   "metadata": {
    "hide-output": false
   },
   "outputs": [],
   "source": [
    "# notice no United States or Russia\n",
    "pd.merge(wdi2017_no_US, sq_miles, on=\"country\", how=\"inner\")"
   ]
  },
  {
   "cell_type": "code",
   "execution_count": null,
   "id": "193eb96f",
   "metadata": {
    "hide-output": false
   },
   "outputs": [],
   "source": [
    "# includes all 5, even though they don't all appear in either DataFrame\n",
    "pd.merge(wdi2017_no_US, sq_miles_no_germany, on=\"country\", how=\"outer\")"
   ]
  },
  {
   "cell_type": "markdown",
   "id": "21ac2c11",
   "metadata": {},
   "source": [
    "### Exercise\n",
    "\n",
    "See exercise 2 in the [exercise list](#pd-mrg-ex)."
   ]
  },
  {
   "cell_type": "markdown",
   "id": "5d7185e2",
   "metadata": {},
   "source": [
    "### Exercise\n",
    "\n",
    "See exercise 3 in the [exercise list](#pd-mrg-ex)."
   ]
  },
  {
   "cell_type": "markdown",
   "id": "690d8b7d",
   "metadata": {},
   "source": [
    "### `df.merge(df2)`\n",
    "\n",
    "Note that the DataFrame type has a `merge` *method*.\n",
    "\n",
    "It is the same as the function we have been working with, but passes the\n",
    "DataFrame before the period as `left`.\n",
    "\n",
    "Thus `df.merge(other)` is equivalent to `pd.merge(df, other)`."
   ]
  },
  {
   "cell_type": "code",
   "execution_count": null,
   "id": "fd60b43d",
   "metadata": {
    "hide-output": false
   },
   "outputs": [],
   "source": [
    "wdi2017.merge(sq_miles, on=\"country\", how=\"right\")"
   ]
  },
  {
   "cell_type": "markdown",
   "id": "71b53972",
   "metadata": {},
   "source": [
    "## `df.join`\n",
    "\n",
    "The `join` method for a DataFrame is very similar to the `merge`\n",
    "method described above, but only allows you to use the index of the\n",
    "`right` DataFrame as the join key.\n",
    "\n",
    "Thus, `left.join(right, on=\"country\")` is equivalent to calling\n",
    "`pd.merge(left, right, left_on=\"country\", right_index=True)`.\n",
    "\n",
    "The implementation of the `join` method calls `merge` internally,\n",
    "but sets the `left_on` and `right_index` arguments for you.\n",
    "\n",
    "You can do anything with `df.join` that you can do with\n",
    "`df.merge`, but `df.join` is more convenient to use if the keys of `right`\n",
    "are in the index."
   ]
  },
  {
   "cell_type": "code",
   "execution_count": null,
   "id": "c2e13fcb",
   "metadata": {
    "hide-output": false
   },
   "outputs": [],
   "source": [
    "wdi2017.join(sq_miles, on=\"country\")"
   ]
  },
  {
   "cell_type": "code",
   "execution_count": null,
   "id": "80d712f4",
   "metadata": {
    "hide-output": false
   },
   "outputs": [],
   "source": [
    "wdi2017.merge(sq_miles, left_on=\"country\", right_index=True)"
   ]
  },
  {
   "cell_type": "markdown",
   "id": "4bf289f1",
   "metadata": {},
   "source": [
    "## Case Study\n",
    "\n",
    "Let’s put these tools to practice by loading some real datasets and\n",
    "seeing how these functions can be applied.\n",
    "\n",
    "We’ll analyze ratings of books from the website [Goodreads](https://www.goodreads.com/).\n",
    "\n",
    "We accessed the data [here](https://github.com/zygmuntz/goodbooks-10k).\n",
    "\n",
    "Let’s load it up."
   ]
  },
  {
   "cell_type": "code",
   "execution_count": null,
   "id": "7cdab090",
   "metadata": {
    "hide-output": false
   },
   "outputs": [],
   "source": [
    "url = \"https://datascience.quantecon.org/assets/data/goodreads_ratings.csv.zip\"\n",
    "ratings = pd.read_csv(url)\n",
    "display(ratings.head())\n",
    "ratings.info()"
   ]
  },
  {
   "cell_type": "markdown",
   "id": "a269ed9d",
   "metadata": {},
   "source": [
    "We can already do some interesting things with just the ratings data.\n",
    "\n",
    "Let’s see how many ratings of each number are in our dataset."
   ]
  },
  {
   "cell_type": "code",
   "execution_count": null,
   "id": "3d8f4d32",
   "metadata": {
    "hide-output": false
   },
   "outputs": [],
   "source": [
    "ratings[\"rating\"].value_counts().sort_index().plot(kind=\"bar\");"
   ]
  },
  {
   "cell_type": "markdown",
   "id": "27d574b1",
   "metadata": {},
   "source": [
    "Let’s also see how many users have rated `N` books, for all `N`\n",
    "possible.\n",
    "\n",
    "To do this, we will use `value_counts` twice (can you think of why?).\n",
    "\n",
    "We will see a more flexible way of performing similar grouped operations in\n",
    "a future lecture."
   ]
  },
  {
   "cell_type": "code",
   "execution_count": null,
   "id": "ffd0c490",
   "metadata": {
    "hide-output": false
   },
   "outputs": [],
   "source": [
    "users_by_n = (\n",
    "    ratings[\"user_id\"]\n",
    "    .value_counts()  # Series called \"count\". Index: user_id, value: n ratings by user\n",
    "    .rename(\"N_ratings\")  # Rename the Series to \"N_ratings\"\n",
    "    .value_counts()  # Series called \"count\". Index: n_ratings by user, value: N_users with this many ratings\n",
    "    .sort_index()    # Sort our Series by the index (number of ratings)\n",
    "    .reset_index()   # Dataframe with columns `index` (from above) and `user_id`\n",
    "    .rename(columns={\"count\": \"N_users\"})\n",
    "    .set_index(\"N_ratings\")\n",
    ")\n",
    "users_by_n.head(10)"
   ]
  },
  {
   "cell_type": "markdown",
   "id": "7d3cdf91",
   "metadata": {},
   "source": [
    "Let’s look at some statistics on that dataset."
   ]
  },
  {
   "cell_type": "code",
   "execution_count": null,
   "id": "ebf213e1",
   "metadata": {
    "hide-output": false
   },
   "outputs": [],
   "source": [
    "users_by_n.describe()"
   ]
  },
  {
   "cell_type": "markdown",
   "id": "273b3f24",
   "metadata": {},
   "source": [
    "We can see the same data visually in a box plot."
   ]
  },
  {
   "cell_type": "code",
   "execution_count": null,
   "id": "b911a8d5",
   "metadata": {
    "hide-output": false
   },
   "outputs": [],
   "source": [
    "users_by_n.plot(kind=\"box\", subplots=True)"
   ]
  },
  {
   "cell_type": "markdown",
   "id": "ff0899b3",
   "metadata": {},
   "source": [
    "Let’s practice applying the want operator…\n",
    "\n",
    "**Want**: Determine whether a relationship between the number of\n",
    "ratings a user has written and the distribution of the ratings exists. (Maybe we\n",
    "are an author hoping to inflate our ratings and wonder if we should\n",
    "target “more experienced” Goodreads users, or focus on newcomers.)\n",
    "\n",
    "Let’s start from the result and work our way backwards:\n",
    "\n",
    "1. We can answer our question if we have two similar DataFrames:  \n",
    "  - All ratings by the `N` (e.g. 5) users with the most ratings  \n",
    "  - All ratings by the `N` users with the least number of\n",
    "    ratings  \n",
    "1. To get that, we will need to extract rows of `ratings` with\n",
    "  `user_id` associated with the `N` most and least prolific raters  \n",
    "1. For that, we need the most and least active `user_id`s  \n",
    "1. To get that info, we need a count of how many ratings each user left.  \n",
    "  - We can get that with `df[\"user_id\"].value_counts()`, so let’s\n",
    "    start there.  "
   ]
  },
  {
   "cell_type": "code",
   "execution_count": null,
   "id": "5d4bfd7b",
   "metadata": {
    "hide-output": false
   },
   "outputs": [],
   "source": [
    "# step 4\n",
    "n_ratings = ratings[\"user_id\"].value_counts()\n",
    "n_ratings.head()"
   ]
  },
  {
   "cell_type": "code",
   "execution_count": null,
   "id": "0dcf2916",
   "metadata": {
    "hide-output": false
   },
   "outputs": [],
   "source": [
    "# step 3\n",
    "N = 5\n",
    "most_prolific_users = n_ratings.nlargest(5).index.tolist()\n",
    "least_prolific_users = n_ratings.nsmallest(5).index.tolist()"
   ]
  },
  {
   "cell_type": "code",
   "execution_count": null,
   "id": "e1d4f828",
   "metadata": {
    "hide-output": false
   },
   "outputs": [],
   "source": [
    "# step 2\n",
    "active_ratings = ratings.loc[ratings[\"user_id\"].isin(most_prolific_users), :]\n",
    "inactive_ratings = ratings.loc[ratings[\"user_id\"].isin(least_prolific_users), :]"
   ]
  },
  {
   "cell_type": "code",
   "execution_count": null,
   "id": "7181a2ad",
   "metadata": {
    "hide-output": false
   },
   "outputs": [],
   "source": [
    "# step 1 -- get the answer!\n",
    "active_ratings[\"rating\"].value_counts().sort_index().plot(\n",
    "    kind=\"bar\", title=\"Distribution of ratings by most active users\"\n",
    ")"
   ]
  },
  {
   "cell_type": "code",
   "execution_count": null,
   "id": "87122359",
   "metadata": {
    "hide-output": false
   },
   "outputs": [],
   "source": [
    "inactive_ratings[\"rating\"].value_counts().sort_index().plot(\n",
    "    kind=\"bar\", title=\"Distribution of ratings by least active users\"\n",
    ")"
   ]
  },
  {
   "cell_type": "markdown",
   "id": "2aff7d06",
   "metadata": {},
   "source": [
    "Nice! From the picture above, the new users look much more\n",
    "likely to leave 5 star ratings than more experienced users."
   ]
  },
  {
   "cell_type": "markdown",
   "id": "b852c95b",
   "metadata": {},
   "source": [
    "### Book Data\n",
    "\n",
    "We know what you are probably thinking: “Isn’t this a lecture on merging?\n",
    "Why are we only using one dataset?”\n",
    "\n",
    "We hear you.\n",
    "\n",
    "Let’s also load a dataset containing information on the actual books."
   ]
  },
  {
   "cell_type": "code",
   "execution_count": null,
   "id": "61ff5c65",
   "metadata": {
    "hide-output": false
   },
   "outputs": [],
   "source": [
    "url = \"https://datascience.quantecon.org/assets/data/goodreads_books.csv\"\n",
    "books = pd.read_csv(url)\n",
    "# we only need a few of the columns\n",
    "books = books[[\"book_id\", \"authors\", \"title\"]]\n",
    "print(\"shape: \", books.shape)\n",
    "print(\"dtypes:\\n\", books.dtypes, sep=\"\")\n",
    "books.head()"
   ]
  },
  {
   "cell_type": "markdown",
   "id": "bdd02340",
   "metadata": {},
   "source": [
    "We could do similar interesting things with just the books dataset,\n",
    "but we will skip it for now and merge them together."
   ]
  },
  {
   "cell_type": "code",
   "execution_count": null,
   "id": "c1756e67",
   "metadata": {
    "hide-output": false
   },
   "outputs": [],
   "source": [
    "rated_books = pd.merge(ratings, books)"
   ]
  },
  {
   "cell_type": "markdown",
   "id": "380e038b",
   "metadata": {},
   "source": [
    "Now, let’s see which books have been most often rated."
   ]
  },
  {
   "cell_type": "code",
   "execution_count": null,
   "id": "0169e6e1",
   "metadata": {
    "hide-output": false
   },
   "outputs": [],
   "source": [
    "most_rated_books_id = rated_books[\"book_id\"].value_counts().nlargest(10).index\n",
    "most_rated_books = rated_books.loc[rated_books[\"book_id\"].isin(most_rated_books_id), :]\n",
    "list(most_rated_books[\"title\"].unique())"
   ]
  },
  {
   "cell_type": "markdown",
   "id": "c1bcf530",
   "metadata": {},
   "source": [
    "Let’s use our `pivot_table` knowledge to compute the average rating\n",
    "for each of these books."
   ]
  },
  {
   "cell_type": "code",
   "execution_count": null,
   "id": "a21cb329",
   "metadata": {
    "hide-output": false
   },
   "outputs": [],
   "source": [
    "most_rated_books.pivot_table(values=\"rating\", index=\"title\")"
   ]
  },
  {
   "cell_type": "markdown",
   "id": "00702755",
   "metadata": {},
   "source": [
    "These ratings seem surprisingly low, given that they are the most often\n",
    "rated books on Goodreads.\n",
    "\n",
    "I wonder what the bottom of the distribution looks like…"
   ]
  },
  {
   "cell_type": "markdown",
   "id": "c720e84f",
   "metadata": {},
   "source": [
    "### Exercise\n",
    "\n",
    "See exercise 4 in the [exercise list](#pd-mrg-ex).\n",
    "\n",
    "Let’s compute the average number of ratings for each book in our sample."
   ]
  },
  {
   "cell_type": "code",
   "execution_count": null,
   "id": "63236f5f",
   "metadata": {
    "hide-output": false
   },
   "outputs": [],
   "source": [
    "average_ratings = (\n",
    "    rated_books\n",
    "    .pivot_table(values=\"rating\", index=\"title\")\n",
    "    .sort_values(by=\"rating\", ascending=False)\n",
    ")\n",
    "average_ratings.head(10)"
   ]
  },
  {
   "cell_type": "markdown",
   "id": "b0c5312e",
   "metadata": {},
   "source": [
    "What does the overall distribution of average ratings look like?"
   ]
  },
  {
   "cell_type": "code",
   "execution_count": null,
   "id": "0f8383f0",
   "metadata": {
    "hide-output": false
   },
   "outputs": [],
   "source": [
    "# plot a kernel density estimate of average ratings\n",
    "average_ratings.plot.density(xlim=(1, 5))\n",
    "\n",
    "# or a histogram\n",
    "average_ratings.plot.hist(bins=30, xlim=(1, 5))"
   ]
  },
  {
   "cell_type": "markdown",
   "id": "1de0f997",
   "metadata": {},
   "source": [
    "It looks like most books have an average rating of just below 4."
   ]
  },
  {
   "cell_type": "markdown",
   "id": "333854d9",
   "metadata": {},
   "source": [
    "## Extra Example: Airline Delays\n",
    "\n",
    "Let’s look at one more example.\n",
    "\n",
    "This time, we will use a dataset from the [Bureau of Transportation\n",
    "Statistics](https://www.transtats.bts.gov/OT_Delay/OT_DelayCause1.asp)\n",
    "that describes the cause of all US domestic flight delays\n",
    "in November 2016:"
   ]
  },
  {
   "cell_type": "code",
   "execution_count": null,
   "id": "27ac0909",
   "metadata": {
    "hide-output": false
   },
   "outputs": [],
   "source": [
    "url = \"https://datascience.quantecon.org/assets/data/airline_performance_dec16.csv.zip\"\n",
    "air_perf = pd.read_csv(url)[[\"CRSDepTime\", \"Carrier\", \"CarrierDelay\", \"ArrDelay\"]]\n",
    "air_perf.info()\n",
    "air_perf.head()"
   ]
  },
  {
   "cell_type": "markdown",
   "id": "5e009df7",
   "metadata": {},
   "source": [
    "The `Carrier` column identifies the airline and the `CarrierDelay`\n",
    "reports the number of minutes of the total delay assigned as the\n",
    "“carrier’s fault”.\n",
    "\n",
    "**Want**: Determine which airlines, on average, contribute most to\n",
    "delays.\n",
    "\n",
    "We can do this using `pivot_table`:"
   ]
  },
  {
   "cell_type": "code",
   "execution_count": null,
   "id": "1cc23375",
   "metadata": {
    "hide-output": false
   },
   "outputs": [],
   "source": [
    "avg_delays = (\n",
    "    air_perf\n",
    "    .pivot_table(index=\"Carrier\", values=\"CarrierDelay\", aggfunc=\"mean\")\n",
    "    .sort_values(\"CarrierDelay\")\n",
    "    .nlargest(10, \"CarrierDelay\")\n",
    ")\n",
    "avg_delays"
   ]
  },
  {
   "cell_type": "markdown",
   "id": "cec904f7",
   "metadata": {},
   "source": [
    "The one issue with this dataset is that we don’t know what all those two\n",
    "letter carrier codes are!\n",
    "\n",
    "Thankfully, we have a second dataset that maps the two letter code\n",
    "into the full airline name."
   ]
  },
  {
   "cell_type": "code",
   "execution_count": null,
   "id": "61f33fef",
   "metadata": {
    "hide-output": false
   },
   "outputs": [],
   "source": [
    "url = \"https://datascience.quantecon.org/assets/data/airline_carrier_codes.csv.zip\"\n",
    "carrier_code = pd.read_csv(url)\n",
    "carrier_code.tail()"
   ]
  },
  {
   "cell_type": "markdown",
   "id": "491a184c",
   "metadata": {},
   "source": [
    "Let’s merge these names so we know which airlines we should avoid\n",
    "flying…"
   ]
  },
  {
   "cell_type": "code",
   "execution_count": null,
   "id": "ae144e21",
   "metadata": {
    "hide-output": false
   },
   "outputs": [],
   "source": [
    "avg_delays_w_code = pd.merge(avg_delays,carrier_code, left_on=\"Carrier\", right_on=\"Code\")\n",
    "avg_delays_w_code.sort_values(\"CarrierDelay\", ascending=False)"
   ]
  },
  {
   "cell_type": "markdown",
   "id": "bc33ed3c",
   "metadata": {},
   "source": [
    "Based on that information, which airlines would you avoid near\n",
    "the holidays?"
   ]
  },
  {
   "cell_type": "markdown",
   "id": "d1cc6cc0",
   "metadata": {},
   "source": [
    "## Visualizing Merge Operations\n",
    "\n",
    "As we did in the [reshape lecture](https://datascience.quantecon.org/reshape.html), we will visualize the\n",
    "various merge operations using artificial DataFrames.\n",
    "\n",
    "First, we create some dummy DataFrames."
   ]
  },
  {
   "cell_type": "code",
   "execution_count": null,
   "id": "c0dc0abc",
   "metadata": {
    "hide-output": false
   },
   "outputs": [],
   "source": [
    "dfL = pd.DataFrame(\n",
    "    {\"Key\": [\"A\", \"B\", \"A\", \"C\"], \"C1\":[1, 2, 3, 4], \"C2\": [10, 20, 30, 40]},\n",
    "    index=[\"L1\", \"L2\", \"L3\", \"L4\"]\n",
    ")[[\"Key\", \"C1\", \"C2\"]]\n",
    "\n",
    "print(\"This is dfL: \")\n",
    "display(dfL)\n",
    "\n",
    "dfR = pd.DataFrame(\n",
    "    {\"Key\": [\"A\", \"B\", \"C\", \"D\"], \"C3\": [100, 200, 300, 400]},\n",
    "    index=[\"R1\", \"R2\", \"R3\", \"R4\"]\n",
    ")[[\"Key\", \"C3\"]]\n",
    "\n",
    "print(\"This is dfR:\")\n",
    "display(dfR)"
   ]
  },
  {
   "cell_type": "markdown",
   "id": "0a41f8d3",
   "metadata": {},
   "source": [
    "### `pd.concat`\n",
    "\n",
    "Recall that calling `pd.concat(..., axis=0)` will stack DataFrames on top of\n",
    "one another:"
   ]
  },
  {
   "cell_type": "code",
   "execution_count": null,
   "id": "bf4b4e3f",
   "metadata": {
    "hide-output": false
   },
   "outputs": [],
   "source": [
    "pd.concat([dfL, dfR], axis=0)"
   ]
  },
  {
   "cell_type": "markdown",
   "id": "12860f88",
   "metadata": {},
   "source": [
    "Here’s how we might visualize that.\n",
    "\n",
    "![https://datascience.quantecon.org/_static/concat_axis0.gif](https://datascience.quantecon.org/_static/concat_axis0.gif)\n",
    "\n",
    "  \n",
    "We can also set `axis=1` to stack side by side."
   ]
  },
  {
   "cell_type": "code",
   "execution_count": null,
   "id": "644b60a3",
   "metadata": {
    "hide-output": false
   },
   "outputs": [],
   "source": [
    "pd.concat([dfL, dfR], axis=1)"
   ]
  },
  {
   "cell_type": "markdown",
   "id": "c809a58f",
   "metadata": {},
   "source": [
    "Here’s how we might visualize that.\n",
    "\n",
    "![https://datascience.quantecon.org/_static/concat_axis1.gif](https://datascience.quantecon.org/_static/concat_axis1.gif)"
   ]
  },
  {
   "cell_type": "markdown",
   "id": "178f9e6c",
   "metadata": {},
   "source": [
    "### `pd.merge`\n",
    "\n",
    "The animation below shows a visualization of what happens when we call"
   ]
  },
  {
   "cell_type": "code",
   "execution_count": null,
   "id": "1a372e58",
   "metadata": {
    "hide-output": false
   },
   "outputs": [],
   "source": [
    "pd.merge(dfL, dfR, on=\"Key\")"
   ]
  },
  {
   "cell_type": "markdown",
   "id": "a24f147e",
   "metadata": {},
   "source": [
    "![https://datascience.quantecon.org/_static/left_merge.gif](https://datascience.quantecon.org/_static/left_merge.gif)\n",
    "\n",
    "  \n",
    "Now, let’s focus on what happens when we set `how=\"right\"`.\n",
    "\n",
    "Pay special attention to what happens when filling the output value for\n",
    "the key `A`."
   ]
  },
  {
   "cell_type": "code",
   "execution_count": null,
   "id": "2279cd2a",
   "metadata": {
    "hide-output": false
   },
   "outputs": [],
   "source": [
    "pd.merge(dfL, dfR, on=\"Key\", how=\"right\")"
   ]
  },
  {
   "cell_type": "markdown",
   "id": "299dcd5b",
   "metadata": {},
   "source": [
    "![https://datascience.quantecon.org/_static/right_merge.gif](https://datascience.quantecon.org/_static/right_merge.gif)"
   ]
  },
  {
   "cell_type": "markdown",
   "id": "44ea3847",
   "metadata": {},
   "source": [
    "### Exercises With Artificial Data"
   ]
  },
  {
   "cell_type": "markdown",
   "id": "496b1224",
   "metadata": {},
   "source": [
    "### Exercise\n",
    "\n",
    "See exercise 5 in the [exercise list](#pd-mrg-ex)."
   ]
  },
  {
   "cell_type": "markdown",
   "id": "df7d324e",
   "metadata": {},
   "source": [
    "### Exercise\n",
    "\n",
    "See exercise 6 in the [exercise list](#pd-mrg-ex)."
   ]
  },
  {
   "cell_type": "markdown",
   "id": "c2407a10",
   "metadata": {},
   "source": [
    "### Exercise\n",
    "\n",
    "See exercise 7 in the [exercise list](#pd-mrg-ex).\n",
    "\n",
    "\n",
    "<a id='pd-mrg-ex'></a>"
   ]
  },
  {
   "cell_type": "markdown",
   "id": "67fbb716",
   "metadata": {},
   "source": [
    "## Exercises"
   ]
  },
  {
   "cell_type": "markdown",
   "id": "84369da0",
   "metadata": {},
   "source": [
    "### Exercise 1\n",
    "\n",
    "Use your new `merge` skills to answer the final question from above: What\n",
    "is the population density of each country? How much does it change over\n",
    "time?"
   ]
  },
  {
   "cell_type": "code",
   "execution_count": null,
   "id": "1e85fbcb",
   "metadata": {
    "hide-output": false
   },
   "outputs": [],
   "source": [
    "# your code here"
   ]
  },
  {
   "cell_type": "markdown",
   "id": "a95df4b0",
   "metadata": {},
   "source": [
    "([back to text](#pd-mrg-dir1))"
   ]
  },
  {
   "cell_type": "markdown",
   "id": "f64b82ae",
   "metadata": {},
   "source": [
    "### Exercise 2\n",
    "\n",
    "Compare the `how=\"left\"` with `how=\"inner\"` options using the\n",
    "DataFrames `wdi2017_no_US` and `sq_miles_no_germany`.\n",
    "\n",
    "Are the different? How?\n",
    "\n",
    "Will this happen for all pairs of DataFrames, or are `wdi2017_no_US` and\n",
    "`sq_miles_no_germany` special in some way?\n",
    "\n",
    "Also compare `how=\"right\"` and `how=\"outer\"` and answer the same\n",
    "questions."
   ]
  },
  {
   "cell_type": "code",
   "execution_count": null,
   "id": "375f5d41",
   "metadata": {
    "hide-output": false
   },
   "outputs": [],
   "source": [
    "# your code here"
   ]
  },
  {
   "cell_type": "markdown",
   "id": "9d9fb3d4",
   "metadata": {},
   "source": [
    "([back to text](#pd-mrg-dir2))"
   ]
  },
  {
   "cell_type": "markdown",
   "id": "c432bd3e",
   "metadata": {},
   "source": [
    "### Exercise 3\n",
    "\n",
    "Can you pick the correct argument for `how` such that `pd.merge(wdi2017, sq_miles, how=\"left\")` is equal to `pd.merge(sq_miles, wdi2017, how=XXX)`?"
   ]
  },
  {
   "cell_type": "code",
   "execution_count": null,
   "id": "2eeeca69",
   "metadata": {
    "hide-output": false
   },
   "outputs": [],
   "source": [
    "# your code here"
   ]
  },
  {
   "cell_type": "markdown",
   "id": "3fb4f319",
   "metadata": {},
   "source": [
    "([back to text](#pd-mrg-dir3))"
   ]
  },
  {
   "cell_type": "markdown",
   "id": "e75fe970",
   "metadata": {},
   "source": [
    "### Exercise 4\n",
    "\n",
    "Repeat the analysis above to determine the average rating for the books with the\n",
    "*least* number ratings.\n",
    "\n",
    "Is there a distinguishable difference in the average rating compared to\n",
    "the most rated books?\n",
    "\n",
    "Did you recognize any of the books?"
   ]
  },
  {
   "cell_type": "code",
   "execution_count": null,
   "id": "8e50e1b5",
   "metadata": {
    "hide-output": false
   },
   "outputs": [],
   "source": [
    "# your code here"
   ]
  },
  {
   "cell_type": "markdown",
   "id": "034c09c1",
   "metadata": {},
   "source": [
    "([back to text](#pd-mrg-dir4))"
   ]
  },
  {
   "cell_type": "markdown",
   "id": "285626fc",
   "metadata": {},
   "source": [
    "### Exercise 5\n",
    "\n",
    "In writing, describe what the output looks like when you do\n",
    "`pd.concat([dfL, dfR], axis=1)` (see above and/or run the cell below).\n",
    "\n",
    "Be sure to describe things like:\n",
    "\n",
    "- What are the columns? What about columns with the same name?  \n",
    "- What is the index?  \n",
    "- Do any `NaN`s get introduced? If so, where? Why?  "
   ]
  },
  {
   "cell_type": "code",
   "execution_count": null,
   "id": "769c7973",
   "metadata": {
    "hide-output": false
   },
   "outputs": [],
   "source": [
    "pd.concat([dfL, dfR], axis=1)"
   ]
  },
  {
   "cell_type": "markdown",
   "id": "71c64715",
   "metadata": {},
   "source": [
    "([back to text](#pd-mrg-dir5))"
   ]
  },
  {
   "cell_type": "markdown",
   "id": "9afc4ee2",
   "metadata": {},
   "source": [
    "### Exercise 6\n",
    "\n",
    "Determine what happens when you run each of the two cells below.\n",
    "\n",
    "For each cell, answer the list of questions from the previous exercise."
   ]
  },
  {
   "cell_type": "code",
   "execution_count": null,
   "id": "63f48590",
   "metadata": {
    "hide-output": false
   },
   "outputs": [],
   "source": [
    "# First code cell for above exercise\n",
    "pd.concat([dfL, dfL], axis=0)"
   ]
  },
  {
   "cell_type": "code",
   "execution_count": null,
   "id": "a6709668",
   "metadata": {
    "hide-output": false
   },
   "outputs": [],
   "source": [
    "# Second code cell for above exercise\n",
    "pd.concat([dfR, dfR], axis=1)"
   ]
  },
  {
   "cell_type": "markdown",
   "id": "2b7a1666",
   "metadata": {},
   "source": [
    "([back to text](#pd-mrg-dir6))"
   ]
  },
  {
   "cell_type": "markdown",
   "id": "b89460fe",
   "metadata": {},
   "source": [
    "### Exercise 7\n",
    "\n",
    "Describe in words why the output of `pd.merge(dfL, dfR, how=\"right\")` has more rows than either `dfL` or `dfR`.\n",
    "\n",
    "Run the cell below to see the output of that operation."
   ]
  },
  {
   "cell_type": "code",
   "execution_count": null,
   "id": "f00726e7",
   "metadata": {
    "hide-output": false
   },
   "outputs": [],
   "source": [
    "pd.merge(dfL, dfR, how=\"right\")"
   ]
  },
  {
   "cell_type": "markdown",
   "id": "5369992f",
   "metadata": {},
   "source": [
    "([back to text](#pd-mrg-dir7))"
   ]
  }
 ],
 "metadata": {
  "date": 1738615856.9031577,
  "filename": "merge.md",
  "kernelspec": {
   "display_name": "Python",
   "language": "python3",
   "name": "python3"
  },
  "title": "Merge"
 },
 "nbformat": 4,
 "nbformat_minor": 5
}