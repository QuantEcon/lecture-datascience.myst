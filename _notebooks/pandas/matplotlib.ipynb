{
 "cells": [
  {
   "cell_type": "markdown",
   "id": "0ef58069",
   "metadata": {},
   "source": [
    "# Intermediate Plotting\n",
    "\n",
    "**Prerequisites**\n",
    "\n",
    "- [Introduction](https://datascience.quantecon.org/intro.html)  \n",
    "\n",
    "\n",
    "**Outcomes**\n",
    "\n",
    "- Be able to build visualizations with multiple subplots  \n",
    "- Add plot elements using data from multiple DataFrames  \n",
    "- Understand the relationship between the matplotlib Figure and Axes\n",
    "  objects  \n",
    "- Customize fonts, legends, axis labels, tick labels, titles, and more!  \n",
    "- Save figures to files to add to presentation, email, or use outside\n",
    "  of a Jupyter notebook  \n",
    "\n",
    "\n",
    "**Data**\n",
    "\n",
    "- iPhone announcement dates  \n",
    "- Apple stock price  "
   ]
  },
  {
   "cell_type": "code",
   "execution_count": null,
   "id": "1704ac1e",
   "metadata": {
    "hide-output": false
   },
   "outputs": [],
   "source": [
    "# Uncomment following line to install on colab\n",
    "#! pip install "
   ]
  },
  {
   "cell_type": "code",
   "execution_count": null,
   "id": "2fedb631",
   "metadata": {
    "hide-output": false
   },
   "outputs": [],
   "source": [
    "import os\n",
    "import numpy as np\n",
    "import pandas as pd\n",
    "import matplotlib.pyplot as plt\n",
    "import matplotlib\n",
    "import matplotlib.transforms as transforms\n",
    "import quandl\n",
    "\n",
    "quandl.ApiConfig.api_key = os.environ.get(\"QUANDL_AUTH\", \"Dn6BtVoBhzuKTuyo6hbp\")\n",
    "\n",
    "\n",
    "%matplotlib inline"
   ]
  },
  {
   "cell_type": "markdown",
   "id": "be0cabee",
   "metadata": {},
   "source": [
    "## Introduction\n",
    "\n",
    "We have already seen a few examples of basic visualizations created\n",
    "using the `.plot` method for a DataFrame.\n",
    "\n",
    "When we use the `.plot` method, pandas uses a package called\n",
    "matplotlib that actually creates the visualization.\n",
    "\n",
    "In this lecture, we will dive deeper into the customization options in\n",
    "the DataFrame `.plot` method as well as look under the hood at how to\n",
    "use matplotlib directly to unlock unlimited control over our figures."
   ]
  },
  {
   "cell_type": "markdown",
   "id": "a0d3fc68",
   "metadata": {},
   "source": [
    "## The Want Operator: Replicate a Professional Figure\n",
    "\n",
    "Visualization is a complex subject.\n",
    "\n",
    "[Many\n",
    "books](https://www.amazon.com/s/ref=nb_sb_noss?url=search-alias%3Dstripbooks&field-keywords=data+visualization&rh=n%3A283155%2Ck%3Adata+visualization)\n",
    "have been written on the subject.\n",
    "\n",
    "We cannot hope to convey all of what is possible in a short lecture, so\n",
    "we thought we’d try something fun instead.\n",
    "\n",
    "Our goal in this lecture is to show off some of the common – and some\n",
    "not-so-common – matplotlib capabilities to try to re-create this\n",
    "striking figure from a Financial Times\n",
    "[article](https://www.ft.com/content/4743ce96-e4bf-11e7-97e2-916d4fbac0da).\n",
    "\n",
    "The figure shows how we can see the anticipation of and response to iPhone\n",
    "announcements in Apple stock share prices.\n",
    "\n",
    "![https://datascience.quantecon.org/_static/aapl_iphone_announcments.png](https://datascience.quantecon.org/_static/aapl_iphone_announcments.png)\n",
    "\n",
    "  \n",
    "Our goal is to replicate the top portion of this figure in this lecture.\n",
    "\n",
    "**Disclaimer**: Many tools you will see in this lecture will be\n",
    "“more advanced” than what you typically use when customizing a plot.\n",
    "Don’t (please!) try to memorize the commands used here – the purpose of\n",
    "the lecture is to show what is possible and expose you a variety of the\n",
    "methods you can use."
   ]
  },
  {
   "cell_type": "markdown",
   "id": "ab6477be",
   "metadata": {},
   "source": [
    "## Data\n",
    "\n",
    "Let’s get the data.\n",
    "\n",
    "First, we create a Series containing the date of each iPhone\n",
    "announcement that appears in the FT original chart.\n",
    "\n",
    "As there have only been 11 of them and we couldn’t find this “dataset”\n",
    "online anywhere, we will do this by hand."
   ]
  },
  {
   "cell_type": "code",
   "execution_count": null,
   "id": "b6510412",
   "metadata": {
    "hide-output": false
   },
   "outputs": [],
   "source": [
    "announcement_dates = pd.Series(\n",
    "    [\n",
    "        \"First iPhone\", \"3G\", \"3GS\", \"4\", \"4S\", \"5\", \"5S/5C\", \"6/6 Plus\",\n",
    "        \"6S/6S Plus\", \"7/7 Plus\", \"8/8 Plus/X\"\n",
    "    ],\n",
    "    index=pd.to_datetime([\n",
    "        \"Jan. 9, 2007\", \"Jun. 9, 2008\", \"Jun. 8, 2009\", \"Jan. 11, 2011\",\n",
    "        \"Oct. 4, 2011\", \"Sep. 12, 2012\", \"Sep. 10, 2013\", \"Sep. 9, 2014\",\n",
    "        \"Sep. 9, 2015\", \"Sep. 7, 2016\", \"Sep. 12, 2017\"\n",
    "    ]),\n",
    "    name=\"Model\"\n",
    ")\n",
    "announcement_dates"
   ]
  },
  {
   "cell_type": "markdown",
   "id": "bc3b2046",
   "metadata": {},
   "source": [
    "Then, let’s grab Apple’s stock price data from quandl, starting a few\n",
    "weeks before the first announcement."
   ]
  },
  {
   "cell_type": "code",
   "execution_count": null,
   "id": "fa81efe5",
   "metadata": {
    "hide-output": false
   },
   "outputs": [],
   "source": [
    "aapl = quandl.get(\"WIKI/AAPL\", start_date=\"2006-12-25\")\n",
    "aapl.head()"
   ]
  },
  {
   "cell_type": "markdown",
   "id": "dd90f326",
   "metadata": {},
   "source": [
    "## Warmup\n",
    "\n",
    "Matplotlib figures are composed two main types of Python objects:\n",
    "\n",
    "1. `Figure`: represents the entirety of the visualization  \n",
    "1. `Axes`: A (potentially full) subset of the figure on which things\n",
    "  are drawn  \n",
    "\n",
    "\n",
    "Most of the time, we will customize our plots by calling methods on an\n",
    "Axes object.\n",
    "\n",
    "However, things like setting a title over the entire plot or saving the\n",
    "plot to a file on your computer require methods on a `Figure`.\n",
    "\n",
    "Let’s start by getting our hands dirty and practicing using these\n",
    "objects."
   ]
  },
  {
   "cell_type": "markdown",
   "id": "505671f1",
   "metadata": {},
   "source": [
    "## Exercise\n",
    "\n",
    "See exercise 1 in the [exercise list](#pd-mpl-ex).\n",
    "\n",
    "You should have seen that the object returned by the `.plot` method is\n",
    "a matplotlib Axes.\n",
    "\n",
    "As mentioned above, we can control most aspects of a plot by calling\n",
    "methods on an Axes.\n",
    "\n",
    "Let’s see some examples."
   ]
  },
  {
   "cell_type": "code",
   "execution_count": null,
   "id": "49f60791",
   "metadata": {
    "hide-output": false
   },
   "outputs": [],
   "source": [
    "# plot the Adjusted open to account for stock split\n",
    "ax = aapl[\"Adj. Open\"].plot()\n",
    "\n",
    "# get the figure so we can re-display the plot after making changes\n",
    "fig = ax.get_figure()"
   ]
  },
  {
   "cell_type": "code",
   "execution_count": null,
   "id": "8cd253f4",
   "metadata": {
    "hide-output": false
   },
   "outputs": [],
   "source": [
    "# set the title\n",
    "ax.set_title(\"AAPL Adjusted opening price\")\n",
    "\n",
    "fig"
   ]
  },
  {
   "cell_type": "code",
   "execution_count": null,
   "id": "a9b8f6ce",
   "metadata": {
    "hide-output": false
   },
   "outputs": [],
   "source": [
    "ax.set_ylim(0, 200)\n",
    "fig"
   ]
  },
  {
   "cell_type": "code",
   "execution_count": null,
   "id": "f4dce4dd",
   "metadata": {
    "hide-output": false
   },
   "outputs": [],
   "source": [
    "ax.set_yticks([0, 50, 100, 150, 200])\n",
    "fig"
   ]
  },
  {
   "cell_type": "markdown",
   "id": "1f2bdc5b",
   "metadata": {},
   "source": [
    "We can also create a Figure and Axes beforehand and then tell pandas to\n",
    "plot a DataFrame or Series’ data on the axis.\n",
    "\n",
    "We typically use the `plt.subplots` function to create the Figure and\n",
    "Axes.\n",
    "\n",
    "Below, we use this function to create a Figure that is 10 inches wide by\n",
    "6 inches tall and filled with a one by two grid of Axes objects."
   ]
  },
  {
   "cell_type": "code",
   "execution_count": null,
   "id": "119baf76",
   "metadata": {
    "hide-output": false
   },
   "outputs": [],
   "source": [
    "fig2, axs2 = plt.subplots(1, 2, figsize=(10, 6))\n",
    "\n",
    "print(\"type(fig2): \", type(fig2))\n",
    "print(\"type(axs): \", type(axs2))\n",
    "print(\"axs2.shape: \", axs2.shape)"
   ]
  },
  {
   "cell_type": "markdown",
   "id": "cf2176d3",
   "metadata": {},
   "source": [
    "We can plot from our DataFrame directly on our Axes objects by setting\n",
    "the `ax` argument when calling `.plot`."
   ]
  },
  {
   "cell_type": "code",
   "execution_count": null,
   "id": "8130e65b",
   "metadata": {
    "hide-output": false
   },
   "outputs": [],
   "source": [
    "aapl[[\"Adj. Low\", \"Adj. High\"]].plot(ax=axs2[0])\n",
    "aapl[[\"Low\", \"High\"]].plot(ax=axs2[1])\n",
    "fig2"
   ]
  },
  {
   "cell_type": "markdown",
   "id": "fb0d3782",
   "metadata": {},
   "source": [
    "## Exercise\n",
    "\n",
    "See exercise 2 in the [exercise list](#pd-mpl-ex)."
   ]
  },
  {
   "cell_type": "markdown",
   "id": "0138e480",
   "metadata": {},
   "source": [
    "## Exercise\n",
    "\n",
    "See exercise 3 in the [exercise list](#pd-mpl-ex)."
   ]
  },
  {
   "cell_type": "markdown",
   "id": "f0d6ba15",
   "metadata": {},
   "source": [
    "## Data Cleaning\n",
    "\n",
    "Let’s continue on our path to recreating the Financial Times\n",
    "visualization from above.\n",
    "\n",
    "Before we can actually make the plot, we first have to clean the data.\n",
    "\n",
    "Looking at our goal, we will need share price three days before and\n",
    "after each announcement.\n",
    "\n",
    "We will also need to normalize the share price to be 100 on the day of\n",
    "the announcement and scale the neighboring days accordingly."
   ]
  },
  {
   "cell_type": "code",
   "execution_count": null,
   "id": "3f5f466c",
   "metadata": {
    "hide-output": false
   },
   "outputs": [],
   "source": [
    "from pandas.tseries.holiday import USFederalHolidayCalendar\n",
    "from pandas.tseries.offsets import CustomBusinessDay\n",
    "\n",
    "bday_us = CustomBusinessDay(calendar=USFederalHolidayCalendar())\n",
    "\n",
    "def neighbor_dates(date, nbefore=3, nafter=3):\n",
    "    # Make sure the date is a datetime\n",
    "    date = pd.to_datetime(date)\n",
    "\n",
    "    # Create a list of business days\n",
    "    before_and_after = [date + i*bday_us for i in range(-nbefore, nafter+1)]\n",
    "\n",
    "    return before_and_after\n",
    "\n",
    "\n",
    "dates = []\n",
    "for ann_date in announcement_dates.index:\n",
    "    dates.extend(neighbor_dates(ann_date))\n",
    "dates = pd.Series(dates)\n",
    "\n",
    "# Index into our DataFrame using the new dates\n",
    "prices = aapl.loc[dates]\n",
    "prices.head()"
   ]
  },
  {
   "cell_type": "markdown",
   "id": "5855dc2d",
   "metadata": {},
   "source": [
    "We now want to bring information on iPhone models into the DataFrame.\n",
    "\n",
    "We do this by:\n",
    "\n",
    "- Joining on the announcement date. This will introduce a new column\n",
    "  named `Model` which has a value in the announcement date but has 3\n",
    "  `NaN` above and below each announcement date (a total of 66\n",
    "  `NaN`)  \n",
    "- Using the methods `ffill` and `bfill`, we can replace these\n",
    "  `NaN`s with the corresponding model names.  \n",
    "- `prices.ffill(limit=3)` will fill the three days *after* the\n",
    "  announcement with the model name (down to 33 Nan)  \n",
    "- `prices.bfill(limit=3)` will fill the three days *before* the\n",
    "  announcement with the model name (no more `NaN`)  "
   ]
  },
  {
   "cell_type": "code",
   "execution_count": null,
   "id": "2e763b2f",
   "metadata": {
    "hide-output": false
   },
   "outputs": [],
   "source": [
    "prices = prices.join(announcement_dates)\n",
    "print(prices[\"Model\"].isnull().sum())\n",
    "prices[\"Model\"].head(7)"
   ]
  },
  {
   "cell_type": "code",
   "execution_count": null,
   "id": "a1fb54f7",
   "metadata": {
    "hide-output": false
   },
   "outputs": [],
   "source": [
    "prices = prices.ffill(limit=3)\n",
    "print(prices[\"Model\"].isnull().sum())\n",
    "prices[\"Model\"].head(7)"
   ]
  },
  {
   "cell_type": "code",
   "execution_count": null,
   "id": "965aa55c",
   "metadata": {
    "hide-output": false
   },
   "outputs": [],
   "source": [
    "prices = prices.bfill(limit=3)\n",
    "print(prices[\"Model\"].isnull().sum())\n",
    "prices[\"Model\"].head(7)"
   ]
  },
  {
   "cell_type": "markdown",
   "id": "0461e60f",
   "metadata": {},
   "source": [
    "Success!\n",
    "\n",
    "Now for the second part of the cleaning: normalize the share price on\n",
    "each announcement date to 100 and scale all neighbors accordingly."
   ]
  },
  {
   "cell_type": "code",
   "execution_count": null,
   "id": "ab3fd34e",
   "metadata": {
    "hide-output": false
   },
   "outputs": [],
   "source": [
    "def scale_by_middle(df):\n",
    "    # How many rows\n",
    "    N = df.shape[0]\n",
    "\n",
    "    # Divide by middle row and scale to 100\n",
    "    # Note: N // 2 is modulus division meaning that it is\n",
    "    #       rounded to nearest whole number)\n",
    "    out = (df[\"Open\"] / df.iloc[N // 2][\"Open\"]) * 100\n",
    "\n",
    "    # We don't want to keep actual dates, but rather the number\n",
    "    # of days before or after the announcment. Let's set that\n",
    "    # as the index. Note the +1 because range excludes upper limit\n",
    "    out.index = list(range(-(N//2), N//2+1))\n",
    "\n",
    "    # also change the name of this series\n",
    "    out.name = \"DeltaDays\"\n",
    "    return out"
   ]
  },
  {
   "cell_type": "code",
   "execution_count": null,
   "id": "8d8589b9",
   "metadata": {
    "hide-output": false
   },
   "outputs": [],
   "source": [
    "to_plot = prices.groupby(\"Model\").apply(scale_by_middle).T\n",
    "to_plot"
   ]
  },
  {
   "cell_type": "markdown",
   "id": "416bedba",
   "metadata": {},
   "source": [
    "Re-order the columns."
   ]
  },
  {
   "cell_type": "code",
   "execution_count": null,
   "id": "0d288246",
   "metadata": {
    "hide-output": false
   },
   "outputs": [],
   "source": [
    "to_plot = to_plot[announcement_dates.values]\n",
    "to_plot"
   ]
  },
  {
   "cell_type": "markdown",
   "id": "e06f4545",
   "metadata": {},
   "source": [
    "## Constructing the Plot\n",
    "\n",
    "Now that we have cleaned up the data, let’s construct the plot.\n",
    "\n",
    "We do this by using the DataFrame `.plot` method and then using the\n",
    "matplotlib methods and functions to fine tune our plot, changing one\n",
    "feature or set of features at a time.\n",
    "\n",
    "To prepare our use of the plot method, we will need to set up some data\n",
    "for what color each line should be, as well as where to draw the tick\n",
    "marks on the vertical axis."
   ]
  },
  {
   "cell_type": "code",
   "execution_count": null,
   "id": "1fb7c790",
   "metadata": {
    "hide-output": false
   },
   "outputs": [],
   "source": [
    "# colors\n",
    "background = tuple(np.array([253, 238, 222]) / 255)\n",
    "blue = tuple(np.array([20, 64, 134]) / 255)\n",
    "pink = tuple(np.array([232, 75, 126]) / 255)\n",
    "\n",
    "def get_color(x):\n",
    "    if \"S\" in x:\n",
    "        return pink\n",
    "    else:\n",
    "        return blue\n",
    "\n",
    "colors = announcement_dates.map(get_color).values\n",
    "\n",
    "# yticks\n",
    "yticks = [90, 95, 100, 105, 110, 115]"
   ]
  },
  {
   "cell_type": "markdown",
   "id": "b7f5b83d",
   "metadata": {},
   "source": [
    "Below, we construct the basic plot using `to_plot.plot`.\n",
    "\n",
    "Notice that we have specified a few options as keyword arguments to our\n",
    "function."
   ]
  },
  {
   "cell_type": "code",
   "execution_count": null,
   "id": "e594e69e",
   "metadata": {
    "hide-output": false
   },
   "outputs": [],
   "source": [
    "# construct figure and Axes objects\n",
    "fig, axs = plt.subplots(1, 11, sharey=True, figsize=(14, 5))\n",
    "\n",
    "# We can pass our array of Axes and `subplots=True`\n",
    "# because we have one Axes per column\n",
    "to_plot.plot(\n",
    "    ax=axs, subplots=True, legend=False,\n",
    "    yticks=yticks, xticks=[-3, 3],\n",
    "    color=colors, linewidth=3, fontsize=12\n",
    ");"
   ]
  },
  {
   "cell_type": "markdown",
   "id": "342b8a16",
   "metadata": {},
   "source": [
    "## Exercise\n",
    "\n",
    "See exercise 4 in the [exercise list](#pd-mpl-ex)."
   ]
  },
  {
   "cell_type": "markdown",
   "id": "84c746de",
   "metadata": {},
   "source": [
    "### Subplot Spacing: `fig.tight_layout`\n",
    "\n",
    "That figure has the basic lines we are after, but is quite ugly when\n",
    "compared to the FT figure we are trying to produce.\n",
    "\n",
    "Let’s refine the plot one step at a time.\n",
    "\n",
    "First, notice how the `-3` and `3` labels are running into each\n",
    "other?\n",
    "\n",
    "This commonly happens in figures with many subplots.\n",
    "\n",
    "The function `fig.tight_layout()` will fix these problems – as well\n",
    "as most other subplot spacing issues.\n",
    "\n",
    "We *almost always* call this method when building a plot with multiple\n",
    "subplots."
   ]
  },
  {
   "cell_type": "code",
   "execution_count": null,
   "id": "e5735b24",
   "metadata": {
    "hide-output": false
   },
   "outputs": [],
   "source": [
    "# add some spacing around subplots\n",
    "fig.tight_layout()\n",
    "fig"
   ]
  },
  {
   "cell_type": "markdown",
   "id": "99caee0a",
   "metadata": {},
   "source": [
    "### Properties of the Figure\n",
    "\n",
    "Now, let’s make the background of our figure match the background of the\n",
    "FT post.\n",
    "\n",
    "To do this, we will use the `fig.set_facecolor` method."
   ]
  },
  {
   "cell_type": "code",
   "execution_count": null,
   "id": "6ee8acd8",
   "metadata": {
    "hide-output": false
   },
   "outputs": [],
   "source": [
    "# set background color\n",
    "fig.set_facecolor(background)\n",
    "fig"
   ]
  },
  {
   "cell_type": "markdown",
   "id": "ebbd2c0a",
   "metadata": {},
   "source": [
    "### Properties of an `Axes`\n",
    "\n",
    "Notice that this worked for the figure as a whole, but not for any of\n",
    "the Axes.\n",
    "\n",
    "To fix this, we will need to call `.set_facecolor` on each Axes.\n",
    "\n",
    "While we are doing that, let’s fix up a number of other things about the\n",
    "Axes:\n",
    "\n",
    "- Add Axes titles  \n",
    "- Remove the x axis titles  \n",
    "- Remove tick marks on y axis  \n",
    "- Add a “faint” version of the line from the first subplot  \n",
    "- Remove x axis tick labels  \n",
    "- Make x axis ticks longer and semi-transparent  \n",
    "- Make sure all Axes have same y limits  \n",
    "- Remove the spines (the border on each Axes)  \n",
    "- Add a white circle to (0, 100) on each Axes  "
   ]
  },
  {
   "cell_type": "code",
   "execution_count": null,
   "id": "41c0d325",
   "metadata": {
    "hide-output": false
   },
   "outputs": [],
   "source": [
    "# For each Axes... do the following\n",
    "for i in range(announcement_dates.shape[0]):\n",
    "    ax = axs[i]\n",
    "\n",
    "    # add faint blue line representing impact of original iPhone announcement\n",
    "    to_plot[\"First iPhone\"].plot(ax=ax, color=blue, alpha=0.2, linewidth=3)\n",
    "\n",
    "    # add a title\n",
    "    ti = str(announcement_dates.index[i].year) + \"\\n\" + announcement_dates.iloc[i] + \"\\n\"\n",
    "    ax.set_title(ti)\n",
    "\n",
    "    # set background color of plotting area\n",
    "    ax.set_facecolor(background)\n",
    "\n",
    "    # remove xlabels\n",
    "    ax.set_xlabel(\"\")\n",
    "\n",
    "    # turn of tick marks\n",
    "    ax.tick_params(which=\"both\", left=False, labelbottom=False)\n",
    "\n",
    "    # make x ticks longer and semi-transparent\n",
    "    ax.tick_params(axis=\"x\", length=7.0, color=(0, 0, 0, 0.4))\n",
    "\n",
    "    # set limits on vertical axis\n",
    "    ax.set_ylim((yticks[0], yticks[-1]))\n",
    "\n",
    "    # add a white circle at 0, 100\n",
    "    ax.plot(0, 100, 'o', markeredgecolor=blue, markersize=8, color=\"white\", zorder=10)\n",
    "\n",
    "    # remove border around each subplot\n",
    "    for direction in [\"top\", \"right\", \"left\", \"bottom\"]:\n",
    "        ax.spines[direction].set_visible(False)\n",
    "\n",
    "\n",
    "fig"
   ]
  },
  {
   "cell_type": "markdown",
   "id": "5bf61bff",
   "metadata": {},
   "source": [
    "### Exercise\n",
    "\n",
    "See exercise 5 in the [exercise list](#pd-mpl-ex).\n",
    "\n",
    "Let’s continue and add tick labels to the right of the far right\n",
    "Axes."
   ]
  },
  {
   "cell_type": "code",
   "execution_count": null,
   "id": "3fb09bc6",
   "metadata": {
    "hide-output": false
   },
   "outputs": [],
   "source": [
    "# add tick labels to right of iPhone 8/X announcement\n",
    "axs[-1].tick_params(labelright=True, labelsize=12)\n",
    "axs[-1]\n",
    "fig"
   ]
  },
  {
   "cell_type": "markdown",
   "id": "3d40be03",
   "metadata": {},
   "source": [
    "We can also add tick labels for the x-axis ticks on the 1st and 6th\n",
    "plots."
   ]
  },
  {
   "cell_type": "code",
   "execution_count": null,
   "id": "55fe3d47",
   "metadata": {
    "hide-output": false
   },
   "outputs": [],
   "source": [
    "for ax in axs[[0, 5]]:\n",
    "    ax.tick_params(labelbottom=True)\n",
    "    ax.set_xticklabels([\"3 days\\nbefore\", \"3 days\\nafter\"])\n",
    "\n",
    "    # need to make these tick labels centered at tick,\n",
    "    # instead of the default of right aligned\n",
    "    for label in ax.xaxis.get_ticklabels():\n",
    "        label.set_horizontalalignment(\"center\")\n",
    "\n",
    "fig"
   ]
  },
  {
   "cell_type": "markdown",
   "id": "67d59c2d",
   "metadata": {},
   "source": [
    "### Transforms and Lines\n",
    "\n",
    "Now we would like to add a horizontal line that lines up with each\n",
    "vertical tick label (the numbers from 90 to 115) and runs across the\n",
    "entire figure.\n",
    "\n",
    "This is actually harder than it sounds because most of the “drawing”\n",
    "capabilities of matplotlib are built around drawing on a single Axes and\n",
    "we want to draw across 11 of them.\n",
    "\n",
    "However, as we promised above, anything *is* possible and we will show\n",
    "you how to do it.\n",
    "\n",
    "When matplotlib draws any data – be it a line, circle, rectangle, or\n",
    "other – it must know what *coordinate system* to use.\n",
    "\n",
    "We typically think about drawing things in the *data’s* coordinate\n",
    "system (remember above how we added a white circle at (0, 100)).\n",
    "\n",
    "However, we might also want to draw using two other coordinate systems:\n",
    "\n",
    "- Figure: the bottom left of the figure is (0, 0) and top right is (1,\n",
    "  1)  \n",
    "- Axes: The bottom left of an Axes is (0, 0) and top right is (1, 1)  \n",
    "\n",
    "\n",
    "For our application, we would like to use the figure’s coordinate system\n",
    "in the `x` dimension (going across the plot), but the data’s\n",
    "coordinate system in the `y` dimension (so we make sure to put the\n",
    "lines at each of our `yticks`).\n",
    "\n",
    "Luckily for us, matplotlib provides a way to use *exactly* that coordinate\n",
    "system."
   ]
  },
  {
   "cell_type": "code",
   "execution_count": null,
   "id": "7227a434",
   "metadata": {
    "hide-output": false
   },
   "outputs": [],
   "source": [
    "# create a transform that...\n",
    "trans = transforms.blended_transform_factory(\n",
    "    fig.transFigure,  # goes across whole figure in x direction\n",
    "    axs[0].transData  # goes up with the y data in the first axis\n",
    ")"
   ]
  },
  {
   "cell_type": "markdown",
   "id": "e47d6272",
   "metadata": {},
   "source": [
    "We can now use `trans` to draw lines where the `x` values will map\n",
    "from (0, 1) in the Figure coordinates and the `y` values will go from\n",
    "(90, 115) on the data coordinates."
   ]
  },
  {
   "cell_type": "code",
   "execution_count": null,
   "id": "6c4750bc",
   "metadata": {
    "hide-output": false
   },
   "outputs": [],
   "source": [
    "for y in yticks:\n",
    "    l = plt.Line2D(\n",
    "        # x values found by trial and error\n",
    "        [0.04, 0.985], [y, y],\n",
    "        transform=trans,\n",
    "        color=\"black\", alpha=0.4, linewidth=0.5,\n",
    "        zorder=0.1\n",
    "    )\n",
    "\n",
    "    if y == 100:\n",
    "        l.set_linewidth(1.5)\n",
    "\n",
    "    fig.lines.append(l)\n",
    "\n",
    "fig"
   ]
  },
  {
   "cell_type": "markdown",
   "id": "d5e7b368",
   "metadata": {},
   "source": [
    "Now, we need to a add vertical line from the (0, 90) to (0, 100) on the\n",
    "first axis so we can label the center of each line as the announcement\n",
    "date.\n",
    "\n",
    "We will split this line in two to leave room for the text `Announced`\n",
    "to be added soon.\n",
    "\n",
    "To add the lines, we will use the data coordinate system from the first\n",
    "Axes."
   ]
  },
  {
   "cell_type": "code",
   "execution_count": null,
   "id": "572c2ffb",
   "metadata": {
    "hide-output": false
   },
   "outputs": [],
   "source": [
    "for y in ([90, 91.5], [93, 100]):\n",
    "    l = plt.Line2D(\n",
    "        [0, 0], y,\n",
    "        transform=axs[0].transData,\n",
    "        color=\"black\", alpha=0.5, linewidth=1.5, zorder=0.1\n",
    "    )\n",
    "\n",
    "    fig.lines.append(l)\n",
    "fig"
   ]
  },
  {
   "cell_type": "markdown",
   "id": "a405bc15",
   "metadata": {},
   "source": [
    "### Annotations\n",
    "\n",
    "The last step on our journey is to add annotations that mark Tim Cook’s\n",
    "first announcement as CEO, the lackluster market response to `S` model\n",
    "announcements, and a label showing that the white dot on each subplot is\n",
    "associated with the announcement date.\n",
    "\n",
    "Adding text to figures is always a bit verbose, so don’t get too scared\n",
    "by what is happening here."
   ]
  },
  {
   "cell_type": "code",
   "execution_count": null,
   "id": "d12a3bbb",
   "metadata": {
    "hide-output": false
   },
   "outputs": [],
   "source": [
    "axs[5].annotate(\n",
    "    \"Tim Cook's first iPhone\\nannouncement as Apple's CEO\",\n",
    "    xy=(0.2, 99.5), xycoords=\"data\", xytext=(-2, 93),\n",
    "    annotation_clip=False,\n",
    "    horizontalalignment=\"right\",\n",
    "    arrowprops={\n",
    "        \"arrowstyle\": \"-|>\",\n",
    "        \"connectionstyle\": \"angle3,angleA=0,angleB=110\",\n",
    "        \"color\": \"black\"\n",
    "    },\n",
    "    fontsize=12,\n",
    ")\n",
    "\n",
    "fig"
   ]
  },
  {
   "cell_type": "code",
   "execution_count": null,
   "id": "53d4c87e",
   "metadata": {
    "hide-output": false
   },
   "outputs": [],
   "source": [
    "for ann in axs[8].texts:\n",
    "    ann.remove()\n",
    "\n",
    "axs[8].annotate(\n",
    "    \"Hardware upgrade 'S' models\\nunderwhelm the market\",\n",
    "    xy=(-5, 99.5), xycoords=\"data\", xytext=(-12, 92),\n",
    "    annotation_clip=False,\n",
    "    horizontalalignment=\"left\",\n",
    "    arrowprops={\"visible\": False},\n",
    "    fontsize=12, fontweight=\"semibold\",\n",
    "    color=pink,\n",
    ")\n",
    "axs[8].set_zorder(0.05)\n",
    "fig"
   ]
  },
  {
   "cell_type": "code",
   "execution_count": null,
   "id": "eb61f2e3",
   "metadata": {
    "hide-output": false
   },
   "outputs": [],
   "source": [
    "axs[0].annotate(\n",
    "    \"Announced\",\n",
    "    xy=(0, 99.5), xycoords=\"data\", xytext=(0, 92),\n",
    "    annotation_clip=False,\n",
    "    horizontalalignment=\"center\",\n",
    "    arrowprops={\"visible\": False},\n",
    "    fontsize=12,\n",
    ")\n",
    "fig"
   ]
  },
  {
   "cell_type": "markdown",
   "id": "24b8052c",
   "metadata": {},
   "source": [
    "## Saving the Figure\n",
    "\n",
    "Now that we have a finished product we are happy with, let’s save it to\n",
    "a file on our computer using the `fig.savefig` function."
   ]
  },
  {
   "cell_type": "code",
   "execution_count": null,
   "id": "f377fc7f",
   "metadata": {
    "hide-output": false
   },
   "outputs": [],
   "source": [
    "fig.savefig(\"aapl_iPhone_annoucements.png\", dpi=400, bbox_inches=\"tight\", facecolor=background)"
   ]
  },
  {
   "cell_type": "markdown",
   "id": "398fadd0",
   "metadata": {},
   "source": [
    "Here, we asked matplotlib to save our figure in the `png` format, with\n",
    "400 dots per inch (`dpi`, meaning each inch has a 400 by 400 set of\n",
    "colored points).\n",
    "\n",
    "The `bbox_inches` command is needed here to make sure pandas doesn’t\n",
    "chop off any of our Axes titles or tick labels.\n",
    "\n",
    "The `facecolor` argument was necessary because matplotlib\n",
    "will save figures with a transparent background by default (meaning the background\n",
    "is see-through so it “adopts” the background color of whatever website,\n",
    "document, or presentation is is placed in).\n",
    "\n",
    "We could have chosen a different file format."
   ]
  },
  {
   "cell_type": "code",
   "execution_count": null,
   "id": "3ba0acf0",
   "metadata": {
    "hide-output": false
   },
   "outputs": [],
   "source": [
    "fig.savefig(\"aapl_iPhone_annoucements.jpeg\", dpi=400, bbox_inches=\"tight\", facecolor=background)\n",
    "\n",
    "# dpi not needed as pdf is a \"vector\" format that effectively has an infinite dpi\n",
    "fig.savefig(\"aapl_iPhone_annoucements.pdf\", bbox_inches=\"tight\", facecolor=background)\n",
    "\n",
    "# svg is also a vector format\n",
    "fig.savefig(\"aapl_iPhone_annoucements.svg\", bbox_inches=\"tight\", facecolor=background)"
   ]
  },
  {
   "cell_type": "markdown",
   "id": "81e89c85",
   "metadata": {},
   "source": [
    "### Summary\n",
    "\n",
    "Phew, we made it!\n",
    "\n",
    "We ended up writing quite a bit of code to get the figure to look\n",
    "*exactly* how we wanted it to look.\n",
    "\n",
    "Typically, our plotting code will be much more concise and simple\n",
    "because we don’t usually require the same standards for aesthetic\n",
    "properties as professional journalists do.\n",
    "\n",
    "\n",
    "<a id='pd-mpl-ex'></a>"
   ]
  },
  {
   "cell_type": "markdown",
   "id": "243d8c2a",
   "metadata": {},
   "source": [
    "## Exercises"
   ]
  },
  {
   "cell_type": "markdown",
   "id": "4a6efd6b",
   "metadata": {},
   "source": [
    "### Exercise 1\n",
    "\n",
    "**Exercise:** Using the `.plot` method, plot the opening share price\n",
    "for Apple’s stock.\n",
    "\n",
    "What `type` of object is returned from that method?\n",
    "\n",
    "What methods does this object have?"
   ]
  },
  {
   "cell_type": "code",
   "execution_count": null,
   "id": "84ce0b8a",
   "metadata": {
    "hide-output": false
   },
   "outputs": [],
   "source": [
    "# make plot here"
   ]
  },
  {
   "cell_type": "code",
   "execution_count": null,
   "id": "f5b84e5d",
   "metadata": {
    "hide-output": false
   },
   "outputs": [],
   "source": [
    "# explore methods here"
   ]
  },
  {
   "cell_type": "markdown",
   "id": "de9dda26",
   "metadata": {},
   "source": [
    "([back to text](#pd-mpl-dir1))"
   ]
  },
  {
   "cell_type": "markdown",
   "id": "79ebcd88",
   "metadata": {},
   "source": [
    "### Exercise 2\n",
    "\n",
    "Using the `plt.subplots` function, make a Figure with a two-by-one\n",
    "grid of subplots (two rows, one column).\n",
    "\n",
    "On the upper Axes, plot the adjusted close price.\n",
    "\n",
    "On the lower one, plot the adjusted volume as an area chart (search for\n",
    "an argument on the `plot` method to change the kind of plot).\n",
    "\n",
    "Google for how to set a title for a `Figure` object and then do so.\n",
    "\n",
    "([back to text](#pd-mpl-dir2))"
   ]
  },
  {
   "cell_type": "markdown",
   "id": "4ccbed0d",
   "metadata": {},
   "source": [
    "### Exercise 3\n",
    "\n",
    "Take 5 minutes to explore the different arguments to the DataFrame `.plot`\n",
    "method. Try to make a plot that is both good looking and interesting (\n",
    "we know, those are subjective, but do your best!).\n",
    "\n",
    "Some arguments you might consider exploring are:\n",
    "\n",
    "- `sharex` or `sharey`  \n",
    "- `style`  \n",
    "- `grid`  \n",
    "- `color`  \n",
    "- `kind`  \n",
    "\n",
    "\n",
    "You can browse the [official pandas plotting\n",
    "documentation](https://pandas.pydata.org/pandas-docs/stable/visualization.html)\n",
    "for inspiration.\n",
    "\n",
    "([back to text](#pd-mpl-dir3))"
   ]
  },
  {
   "cell_type": "markdown",
   "id": "856de098",
   "metadata": {},
   "source": [
    "### Exercise 4\n",
    "\n",
    "Think about  what each of the argument we passed to `.plot` does.\n",
    "\n",
    "For some you might be able to guess, for others you will need to look at\n",
    "the documentation.\n",
    "\n",
    "For your reference, record your findings in a markdown cell below.\n",
    "\n",
    "Use `to_plot.plot?` to pull up the docs.\n",
    "\n",
    "([back to text](#pd-mpl-dir4))"
   ]
  },
  {
   "cell_type": "markdown",
   "id": "cc1ca8d6",
   "metadata": {},
   "source": [
    "### Exercise 5\n",
    "\n",
    "For each operation in the list below (copied from above), make a note\n",
    "of which functions/methods were called to achieve the result.\n",
    "Edit the markdown cell containing the list directly.\n",
    "\n",
    "Note: This might seem redundant since the comments above give the answers,\n",
    "but forcing yourself to write out the names of the functions will help\n",
    "you remember them when you need them later on.\n",
    "\n",
    "- Change background color  \n",
    "- Add Axes titles  \n",
    "- Remove the x axis titles  \n",
    "- Remove tick marks on y axis  \n",
    "- Add a “faint” version of the line from the first subplot  \n",
    "- Remove x axis tick labels  \n",
    "- Make x axis ticks longer and semi-transparent  \n",
    "- Make sure all Axes have same y limits  \n",
    "- Remove the spines (the border on each Axes)  \n",
    "- Add a white circle to (0, 100) on each Axes  \n",
    "\n",
    "\n",
    "([back to text](#pd-mpl-dir5))"
   ]
  }
 ],
 "metadata": {
  "date": 1684865751.6300957,
  "filename": "matplotlib.md",
  "kernelspec": {
   "display_name": "Python",
   "language": "python3",
   "name": "python3"
  },
  "title": "Intermediate Plotting"
 },
 "nbformat": 4,
 "nbformat_minor": 5
}