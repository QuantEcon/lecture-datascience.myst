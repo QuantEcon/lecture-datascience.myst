{
 "cells": [
  {
   "cell_type": "markdown",
   "id": "5f1de868",
   "metadata": {},
   "source": [
    "# Introduction\n",
    "\n",
    "**Prerequisites**\n",
    "\n",
    "- [Python Fundamentals](https://datascience.quantecon.org/../python_fundamentals/index.html)  \n",
    "\n",
    "\n",
    "**Outcomes**\n",
    "\n",
    "- Understand the core pandas objects (`Series` and `DataFrame`)  \n",
    "- Index into particular elements of a Series and DataFrame  \n",
    "- Understand what `.dtype`/`.dtypes` do  \n",
    "- Make basic visualizations  \n",
    "\n",
    "\n",
    "**Data**\n",
    "\n",
    "- US regional unemployment data from Bureau of Labor Statistics  "
   ]
  },
  {
   "cell_type": "code",
   "execution_count": null,
   "id": "d4e7c63a",
   "metadata": {
    "hide-output": false
   },
   "outputs": [],
   "source": [
    "# Uncomment following line to install on colab\n",
    "#! pip install "
   ]
  },
  {
   "cell_type": "markdown",
   "id": "13bf9f85",
   "metadata": {},
   "source": [
    "## pandas\n",
    "\n",
    "This lecture begins the material on `pandas`.\n",
    "\n",
    "To start, we will import the pandas package and give it the alias\n",
    "`pd`, which is conventional practice."
   ]
  },
  {
   "cell_type": "code",
   "execution_count": null,
   "id": "cf2179d8",
   "metadata": {
    "hide-output": false
   },
   "outputs": [],
   "source": [
    "import pandas as pd\n",
    "\n",
    "# Don't worry about this line for now!\n",
    "%matplotlib inline"
   ]
  },
  {
   "cell_type": "markdown",
   "id": "95ecfce1",
   "metadata": {},
   "source": [
    "Sometimes, knowing which pandas version we are\n",
    "using is helpful.\n",
    "\n",
    "We can check this by running the code below."
   ]
  },
  {
   "cell_type": "code",
   "execution_count": null,
   "id": "c9ff2293",
   "metadata": {
    "hide-output": false
   },
   "outputs": [],
   "source": [
    "pd.__version__"
   ]
  },
  {
   "cell_type": "markdown",
   "id": "773c4ede",
   "metadata": {},
   "source": [
    "## Series\n",
    "\n",
    "The first main pandas type we will introduce is called Series.\n",
    "\n",
    "A Series is a single column of data, with row labels for each\n",
    "observation.\n",
    "\n",
    "pandas refers to the row labels as the *index* of the Series.\n",
    "\n",
    "![https://datascience.quantecon.org/_static/PandasSeries.png](https://datascience.quantecon.org/_static/PandasSeries.png)\n",
    "\n",
    "  \n",
    "Below, we create a Series which contains the US unemployment rate every\n",
    "other year starting in 1995."
   ]
  },
  {
   "cell_type": "code",
   "execution_count": null,
   "id": "8441a522",
   "metadata": {
    "hide-output": false
   },
   "outputs": [],
   "source": [
    "values = [5.6, 5.3, 4.3, 4.2, 5.8, 5.3, 4.6, 7.8, 9.1, 8., 5.7]\n",
    "years = list(range(1995, 2017, 2))\n",
    "\n",
    "unemp = pd.Series(data=values, index=years, name=\"Unemployment\")"
   ]
  },
  {
   "cell_type": "code",
   "execution_count": null,
   "id": "df17e01d",
   "metadata": {
    "hide-output": false
   },
   "outputs": [],
   "source": [
    "unemp"
   ]
  },
  {
   "cell_type": "markdown",
   "id": "7585302b",
   "metadata": {},
   "source": [
    "We can look at the index and values in our Series."
   ]
  },
  {
   "cell_type": "code",
   "execution_count": null,
   "id": "c1bba3dc",
   "metadata": {
    "hide-output": false
   },
   "outputs": [],
   "source": [
    "unemp.index"
   ]
  },
  {
   "cell_type": "code",
   "execution_count": null,
   "id": "f43951c8",
   "metadata": {
    "hide-output": false
   },
   "outputs": [],
   "source": [
    "unemp.values"
   ]
  },
  {
   "cell_type": "markdown",
   "id": "0cb554c5",
   "metadata": {},
   "source": [
    "### What Can We Do with a Series object?"
   ]
  },
  {
   "cell_type": "markdown",
   "id": "8cbe57f3",
   "metadata": {},
   "source": [
    "#### `.head` and `.tail`\n",
    "\n",
    "Often, our data will have many rows, and we won’t want to display it all\n",
    "at once.\n",
    "\n",
    "The methods `.head` and `.tail` show rows at the beginning and end\n",
    "of our Series, respectively."
   ]
  },
  {
   "cell_type": "code",
   "execution_count": null,
   "id": "cd772725",
   "metadata": {
    "hide-output": false
   },
   "outputs": [],
   "source": [
    "unemp.head()"
   ]
  },
  {
   "cell_type": "code",
   "execution_count": null,
   "id": "31d2fc73",
   "metadata": {
    "hide-output": false
   },
   "outputs": [],
   "source": [
    "unemp.tail()"
   ]
  },
  {
   "cell_type": "markdown",
   "id": "66797368",
   "metadata": {},
   "source": [
    "#### Basic Plotting\n",
    "\n",
    "We can also plot data using the `.plot` method."
   ]
  },
  {
   "cell_type": "code",
   "execution_count": null,
   "id": "62046782",
   "metadata": {
    "hide-output": false
   },
   "outputs": [],
   "source": [
    "unemp.plot()"
   ]
  },
  {
   "cell_type": "markdown",
   "id": "8da6988a",
   "metadata": {},
   "source": [
    ">**Note**\n",
    ">\n",
    ">This is why we needed the `%matplotlib inline` — it tells the notebook\n",
    "to display figures inside the notebook itself. Also, pandas has much greater visualization functionality than this, but we will study that later on."
   ]
  },
  {
   "cell_type": "markdown",
   "id": "439b24e7",
   "metadata": {},
   "source": [
    "#### Unique Values\n",
    "\n",
    "Though it doesn’t make sense in this data set, we may want to find the\n",
    "unique values in a Series – which can be done with the `.unique` method."
   ]
  },
  {
   "cell_type": "code",
   "execution_count": null,
   "id": "79c0b3a5",
   "metadata": {
    "hide-output": false
   },
   "outputs": [],
   "source": [
    "unemp.unique()"
   ]
  },
  {
   "cell_type": "markdown",
   "id": "ee9786a7",
   "metadata": {},
   "source": [
    "#### Indexing\n",
    "\n",
    "Sometimes, we will want to select particular elements from a Series.\n",
    "\n",
    "We can do this using `.loc[index_items]`; where `index_items` is\n",
    "an item from the index, or a list of items in the index.\n",
    "\n",
    "We will see this more in-depth in a coming lecture, but for now, we\n",
    "demonstrate how to select one or multiple elements of the Series."
   ]
  },
  {
   "cell_type": "code",
   "execution_count": null,
   "id": "9cf58c78",
   "metadata": {
    "hide-output": false
   },
   "outputs": [],
   "source": [
    "unemp.loc[1995]"
   ]
  },
  {
   "cell_type": "code",
   "execution_count": null,
   "id": "7af93210",
   "metadata": {
    "hide-output": false
   },
   "outputs": [],
   "source": [
    "unemp.loc[[1995, 2005, 2015]]"
   ]
  },
  {
   "cell_type": "markdown",
   "id": "fdd83f87",
   "metadata": {},
   "source": [
    "#### Exercise\n",
    "\n",
    "See exercise 1 in the [exercise list](#pd-int-ex)."
   ]
  },
  {
   "cell_type": "markdown",
   "id": "4a6f0214",
   "metadata": {},
   "source": [
    "## DataFrame\n",
    "\n",
    "A DataFrame is how pandas stores one or more columns of data.\n",
    "\n",
    "We can think a DataFrames a multiple Series stacked side by side as\n",
    "columns.\n",
    "\n",
    "This is similar to a sheet in an Excel workbook or a table in a SQL\n",
    "database.\n",
    "\n",
    "In addition to row labels (an index), DataFrames also have column labels.\n",
    "\n",
    "We refer to these column labels as the columns or column names.\n",
    "\n",
    "![https://datascience.quantecon.org/_static/PandasDataFrame.png](https://datascience.quantecon.org/_static/PandasDataFrame.png)\n",
    "\n",
    "  \n",
    "Below, we create a DataFrame that contains the unemployment rate every\n",
    "other year by region of the US starting in 1995."
   ]
  },
  {
   "cell_type": "code",
   "execution_count": null,
   "id": "4c0eb3e8",
   "metadata": {
    "hide-output": false
   },
   "outputs": [],
   "source": [
    "data = {\n",
    "    \"NorthEast\": [5.9,  5.6,  4.4,  3.8,  5.8,  4.9,  4.3,  7.1,  8.3,  7.9,  5.7],\n",
    "    \"MidWest\": [4.5,  4.3,  3.6,  4. ,  5.7,  5.7,  4.9,  8.1,  8.7,  7.4,  5.1],\n",
    "    \"South\": [5.3,  5.2,  4.2,  4. ,  5.7,  5.2,  4.3,  7.6,  9.1,  7.4,  5.5],\n",
    "    \"West\": [6.6, 6., 5.2, 4.6, 6.5, 5.5, 4.5, 8.6, 10.7, 8.5, 6.1],\n",
    "    \"National\": [5.6, 5.3, 4.3, 4.2, 5.8, 5.3, 4.6, 7.8, 9.1, 8., 5.7]\n",
    "}\n",
    "\n",
    "unemp_region = pd.DataFrame(data, index=years)\n",
    "unemp_region"
   ]
  },
  {
   "cell_type": "markdown",
   "id": "e7381009",
   "metadata": {},
   "source": [
    "We can retrieve the index and the DataFrame values as we\n",
    "did with a Series."
   ]
  },
  {
   "cell_type": "code",
   "execution_count": null,
   "id": "94ee9e80",
   "metadata": {
    "hide-output": false
   },
   "outputs": [],
   "source": [
    "unemp_region.index"
   ]
  },
  {
   "cell_type": "code",
   "execution_count": null,
   "id": "72030c10",
   "metadata": {
    "hide-output": false
   },
   "outputs": [],
   "source": [
    "unemp_region.values"
   ]
  },
  {
   "cell_type": "markdown",
   "id": "5d78dd2e",
   "metadata": {},
   "source": [
    "### What Can We Do with a DataFrame?\n",
    "\n",
    "Pretty much everything we can do with a Series."
   ]
  },
  {
   "cell_type": "markdown",
   "id": "9c2552f8",
   "metadata": {},
   "source": [
    "#### `.head` and `.tail`\n",
    "\n",
    "As with Series, we can use `.head` and `.tail` to show only the\n",
    "first or last `n` rows."
   ]
  },
  {
   "cell_type": "code",
   "execution_count": null,
   "id": "4d79278c",
   "metadata": {
    "hide-output": false
   },
   "outputs": [],
   "source": [
    "unemp_region.head()"
   ]
  },
  {
   "cell_type": "code",
   "execution_count": null,
   "id": "91872667",
   "metadata": {
    "hide-output": false
   },
   "outputs": [],
   "source": [
    "unemp_region.tail(3)"
   ]
  },
  {
   "cell_type": "markdown",
   "id": "f5b01050",
   "metadata": {},
   "source": [
    "#### Plotting\n",
    "\n",
    "We can generate plots with the `.plot` method.\n",
    "\n",
    "Notice we now have a separate line for each column of data."
   ]
  },
  {
   "cell_type": "code",
   "execution_count": null,
   "id": "58bc6632",
   "metadata": {
    "hide-output": false
   },
   "outputs": [],
   "source": [
    "unemp_region.plot()"
   ]
  },
  {
   "cell_type": "markdown",
   "id": "412c3c52",
   "metadata": {},
   "source": [
    "#### Indexing\n",
    "\n",
    "We can also do indexing using `.loc`.\n",
    "\n",
    "This is slightly more advanced than before because we can choose\n",
    "subsets of both row and columns."
   ]
  },
  {
   "cell_type": "code",
   "execution_count": null,
   "id": "39caadc5",
   "metadata": {
    "hide-output": false
   },
   "outputs": [],
   "source": [
    "unemp_region.loc[1995, \"NorthEast\"]"
   ]
  },
  {
   "cell_type": "code",
   "execution_count": null,
   "id": "31f3ab64",
   "metadata": {
    "hide-output": false
   },
   "outputs": [],
   "source": [
    "unemp_region.loc[[1995, 2005], \"South\"]"
   ]
  },
  {
   "cell_type": "code",
   "execution_count": null,
   "id": "e53d9c58",
   "metadata": {
    "hide-output": false
   },
   "outputs": [],
   "source": [
    "unemp_region.loc[1995, [\"NorthEast\", \"National\"]]"
   ]
  },
  {
   "cell_type": "code",
   "execution_count": null,
   "id": "172864fa",
   "metadata": {
    "hide-output": false
   },
   "outputs": [],
   "source": [
    "unemp_region.loc[:, \"NorthEast\"]"
   ]
  },
  {
   "cell_type": "code",
   "execution_count": null,
   "id": "b260ad44",
   "metadata": {
    "hide-output": false
   },
   "outputs": [],
   "source": [
    "# `[string]` with no `.loc` extracts a whole column\n",
    "unemp_region[\"MidWest\"]"
   ]
  },
  {
   "cell_type": "markdown",
   "id": "d56bcb84",
   "metadata": {},
   "source": [
    "### Computations with Columns\n",
    "\n",
    "pandas can do various computations and mathematical operations on\n",
    "columns.\n",
    "\n",
    "Let’s take a look at a few of them."
   ]
  },
  {
   "cell_type": "code",
   "execution_count": null,
   "id": "2a1702c6",
   "metadata": {
    "hide-output": false
   },
   "outputs": [],
   "source": [
    "# Divide by 100 to move from percent units to a rate\n",
    "unemp_region[\"West\"] / 100"
   ]
  },
  {
   "cell_type": "code",
   "execution_count": null,
   "id": "110cfeba",
   "metadata": {
    "hide-output": false
   },
   "outputs": [],
   "source": [
    "# Find maximum\n",
    "unemp_region[\"West\"].max()"
   ]
  },
  {
   "cell_type": "code",
   "execution_count": null,
   "id": "2fae1c5c",
   "metadata": {
    "hide-output": false
   },
   "outputs": [],
   "source": [
    "# Find the difference between two columns\n",
    "# Notice that pandas applies `-` to _all rows_ at once\n",
    "# We'll see more of this throughout these materials\n",
    "unemp_region[\"West\"] - unemp_region[\"MidWest\"]"
   ]
  },
  {
   "cell_type": "code",
   "execution_count": null,
   "id": "41097e11",
   "metadata": {
    "hide-output": false
   },
   "outputs": [],
   "source": [
    "# Find correlation between two columns\n",
    "unemp_region.West.corr(unemp_region[\"MidWest\"])"
   ]
  },
  {
   "cell_type": "code",
   "execution_count": null,
   "id": "8c022409",
   "metadata": {
    "hide-output": false
   },
   "outputs": [],
   "source": [
    "# find correlation between all column pairs\n",
    "unemp_region.corr()"
   ]
  },
  {
   "cell_type": "markdown",
   "id": "a53853ff",
   "metadata": {},
   "source": [
    "### Exercise\n",
    "\n",
    "See exercise 2 in the [exercise list](#pd-int-ex)."
   ]
  },
  {
   "cell_type": "markdown",
   "id": "5e82f65b",
   "metadata": {},
   "source": [
    "## Data Types\n",
    "\n",
    "We asked you to run the commands `unemp.dtype` and\n",
    "`unemp_region.dtypes` and think about the outputs.\n",
    "\n",
    "You might have guessed that they return the type of the values inside\n",
    "each column.\n",
    "\n",
    "Occasionally, you might need to investigate what types you have in your\n",
    "DataFrame when an operation isn’t behaving as expected."
   ]
  },
  {
   "cell_type": "code",
   "execution_count": null,
   "id": "ad4f7bee",
   "metadata": {
    "hide-output": false
   },
   "outputs": [],
   "source": [
    "unemp.dtype"
   ]
  },
  {
   "cell_type": "code",
   "execution_count": null,
   "id": "bf7e02a8",
   "metadata": {
    "hide-output": false
   },
   "outputs": [],
   "source": [
    "unemp_region.dtypes"
   ]
  },
  {
   "cell_type": "markdown",
   "id": "a31448b4",
   "metadata": {},
   "source": [
    "DataFrames will only distinguish between a few types.\n",
    "\n",
    "- Booleans (`bool`)  \n",
    "- Floating point numbers (`float64`)  \n",
    "- Integers (`int64`)  \n",
    "- Dates (`datetime`) — we will learn this soon  \n",
    "- Categorical data (`categorical`)  \n",
    "- Everything else, including strings (`object`)  \n",
    "\n",
    "\n",
    "In the future, we will often refer to the type of data stored in a\n",
    "column as its `dtype`.\n",
    "\n",
    "Let’s look at an example for when having an incorrect `dtype` can\n",
    "cause problems.\n",
    "\n",
    "Suppose that when we imported the data the `South` column was\n",
    "interpreted as a string."
   ]
  },
  {
   "cell_type": "code",
   "execution_count": null,
   "id": "44543f66",
   "metadata": {
    "hide-output": false
   },
   "outputs": [],
   "source": [
    "str_unemp = unemp_region.copy()\n",
    "str_unemp[\"South\"] = str_unemp[\"South\"].astype(str)\n",
    "str_unemp.dtypes"
   ]
  },
  {
   "cell_type": "markdown",
   "id": "7ce3a4af",
   "metadata": {},
   "source": [
    "Everything *looks* ok…"
   ]
  },
  {
   "cell_type": "code",
   "execution_count": null,
   "id": "03a88dd2",
   "metadata": {
    "hide-output": false
   },
   "outputs": [],
   "source": [
    "str_unemp.head()"
   ]
  },
  {
   "cell_type": "markdown",
   "id": "de309017",
   "metadata": {},
   "source": [
    "But if we try to do something like compute the sum of all the columns,\n",
    "we get unexpected results…"
   ]
  },
  {
   "cell_type": "code",
   "execution_count": null,
   "id": "a4ace5f3",
   "metadata": {
    "hide-output": false
   },
   "outputs": [],
   "source": [
    "str_unemp.sum()"
   ]
  },
  {
   "cell_type": "markdown",
   "id": "5cc15262",
   "metadata": {},
   "source": [
    "This happened because `.sum` effectively calls `+` on all rows in\n",
    "each column.\n",
    "\n",
    "Recall that when we apply `+` to two strings, the result is the two\n",
    "strings concatenated.\n",
    "\n",
    "So, in this case, we saw that the entries in all rows of the South\n",
    "column were stitched together into one long string."
   ]
  },
  {
   "cell_type": "markdown",
   "id": "2aaca9aa",
   "metadata": {},
   "source": [
    "## Changing DataFrames\n",
    "\n",
    "We can change the data inside of a DataFrame in various ways:\n",
    "\n",
    "- Adding new columns  \n",
    "- Changing index labels or column names  \n",
    "- Altering existing data (e.g. doing some arithmetic or making a column\n",
    "  of strings lowercase)  \n",
    "\n",
    "\n",
    "Some of these “mutations” will be topics of future lectures, so we will\n",
    "only briefly discuss a few of the things we can do below."
   ]
  },
  {
   "cell_type": "markdown",
   "id": "87c55c1f",
   "metadata": {},
   "source": [
    "### Creating New Columns\n",
    "\n",
    "We can create new data by assigning values to a column similar to how\n",
    "we assign values to a variable.\n",
    "\n",
    "In pandas, we create a new column of a DataFrame by writing:"
   ]
  },
  {
   "cell_type": "code",
   "execution_count": null,
   "id": "9b316f77",
   "metadata": {
    "hide-output": false
   },
   "outputs": [],
   "source": [
    "df[\"New Column Name\"] = new_values"
   ]
  },
  {
   "cell_type": "markdown",
   "id": "dce26004",
   "metadata": {},
   "source": [
    "Below, we create an unweighted mean of the unemployment rate across the\n",
    "four regions of the US — notice that this differs from the national\n",
    "unemployment rate."
   ]
  },
  {
   "cell_type": "code",
   "execution_count": null,
   "id": "e6cf34e9",
   "metadata": {
    "hide-output": false
   },
   "outputs": [],
   "source": [
    "unemp_region[\"UnweightedMean\"] = (unemp_region[\"NorthEast\"] +\n",
    "                                  unemp_region[\"MidWest\"] +\n",
    "                                  unemp_region[\"South\"] +\n",
    "                                  unemp_region[\"West\"])/4"
   ]
  },
  {
   "cell_type": "code",
   "execution_count": null,
   "id": "33b434b4",
   "metadata": {
    "hide-output": false
   },
   "outputs": [],
   "source": [
    "unemp_region.head()"
   ]
  },
  {
   "cell_type": "markdown",
   "id": "9e392011",
   "metadata": {},
   "source": [
    "### Changing Values\n",
    "\n",
    "Changing the values inside of a DataFrame should be done sparingly.\n",
    "\n",
    "However, it can be done by assigning a value to a location in the\n",
    "DataFrame.\n",
    "\n",
    "`df.loc[index, column] = value`"
   ]
  },
  {
   "cell_type": "code",
   "execution_count": null,
   "id": "ddc31ab1",
   "metadata": {
    "hide-output": false
   },
   "outputs": [],
   "source": [
    "unemp_region.loc[1995, \"UnweightedMean\"] = 0.0"
   ]
  },
  {
   "cell_type": "code",
   "execution_count": null,
   "id": "e1a5c758",
   "metadata": {
    "hide-output": false
   },
   "outputs": [],
   "source": [
    "unemp_region.head()"
   ]
  },
  {
   "cell_type": "markdown",
   "id": "1ce35b1a",
   "metadata": {},
   "source": [
    "### Renaming Columns\n",
    "\n",
    "We can also rename the columns of a DataFrame, which is helpful because the names that sometimes come with datasets are\n",
    "unbearable…\n",
    "\n",
    "For example, the original name for the North East unemployment rate\n",
    "given by the Bureau of Labor Statistics was `LASRD910000000000003`…\n",
    "\n",
    "They have their reasons for using these names, but it can make our job\n",
    "difficult since we often need to type it repeatedly.\n",
    "\n",
    "We can rename columns by passing a dictionary to the `rename` method.\n",
    "\n",
    "This dictionary contains the old names as the keys and new names as the\n",
    "values.\n",
    "\n",
    "See the example below."
   ]
  },
  {
   "cell_type": "code",
   "execution_count": null,
   "id": "a5c96daa",
   "metadata": {
    "hide-output": false
   },
   "outputs": [],
   "source": [
    "names = {\"NorthEast\": \"NE\",\n",
    "         \"MidWest\": \"MW\",\n",
    "         \"South\": \"S\",\n",
    "         \"West\": \"W\"}\n",
    "unemp_region.rename(columns=names)"
   ]
  },
  {
   "cell_type": "code",
   "execution_count": null,
   "id": "e1975bb1",
   "metadata": {
    "hide-output": false
   },
   "outputs": [],
   "source": [
    "unemp_region.head()"
   ]
  },
  {
   "cell_type": "markdown",
   "id": "2aae2774",
   "metadata": {},
   "source": [
    "We renamed our columns… Why does the DataFrame still show the old\n",
    "column names?\n",
    "\n",
    "Many pandas operations create a copy of your data by\n",
    "default to protect your data and prevent you from overwriting\n",
    "information you meant to keep.\n",
    "\n",
    "We can make these operations permanent by either:\n",
    "\n",
    "1. Assigning the output back to the variable name\n",
    "  `df = df.rename(columns=rename_dict)`  \n",
    "1. Looking into whether the method has an `inplace` option. For\n",
    "  example, `df.rename(columns=rename_dict, inplace=True)`  \n",
    "\n",
    "\n",
    "Setting `inplace=True` will sometimes make your code faster\n",
    "(e.g. if you have a very large DataFrame and you don’t want to copy all\n",
    "the data), but that doesn’t always happen.\n",
    "\n",
    "We recommend using the first option until you get comfortable with\n",
    "pandas because operations that don’t alter your data are (usually)\n",
    "safer."
   ]
  },
  {
   "cell_type": "code",
   "execution_count": null,
   "id": "ca2d7c33",
   "metadata": {
    "hide-output": false
   },
   "outputs": [],
   "source": [
    "names = {\"NorthEast\": \"NE\",\n",
    "         \"MidWest\": \"MW\",\n",
    "         \"South\": \"S\",\n",
    "         \"West\": \"W\"}\n",
    "\n",
    "unemp_shortname = unemp_region.rename(columns=names)\n",
    "unemp_shortname.head()"
   ]
  },
  {
   "cell_type": "markdown",
   "id": "a958c617",
   "metadata": {},
   "source": [
    "\n",
    "<a id='pd-int-ex'></a>"
   ]
  },
  {
   "cell_type": "markdown",
   "id": "2b8ab444",
   "metadata": {},
   "source": [
    "## Exercises"
   ]
  },
  {
   "cell_type": "markdown",
   "id": "41603010",
   "metadata": {},
   "source": [
    "### Exercise 1\n",
    "\n",
    "For each of the following exercises, we recommend reading the documentation\n",
    "for help.\n",
    "\n",
    "- Display only the first 2 elements of the Series using the `.head` method.  \n",
    "- Using the `plot` method, make a bar plot.  \n",
    "- Use `.loc` to select the lowest/highest unemployment rate shown in the Series.  \n",
    "- Run the code `unemp.dtype` below. What does it give you? Where do you think it comes from?  \n",
    "\n",
    "\n",
    "([back to text](#pd-int-dir1))"
   ]
  },
  {
   "cell_type": "markdown",
   "id": "81503e47",
   "metadata": {},
   "source": [
    "### Exercise 2\n",
    "\n",
    "For each of the following, we recommend reading the documentation for help.\n",
    "\n",
    "- Use introspection (or google-fu) to find a way to obtain a list with\n",
    "  all of the column names in `unemp_region`.  \n",
    "- Using the `plot` method, make a bar plot. What does it look like\n",
    "  now?  \n",
    "- Use `.loc` to select the the unemployment data for the\n",
    "  `NorthEast` and `West` for the years 1995, 2005, 2011, and 2015.  \n",
    "- Run the code `unemp_region.dtypes` below. What does it give you?\n",
    "  How does this compare with `unemp.dtype`?  \n",
    "\n",
    "\n",
    "([back to text](#pd-int-dir2))"
   ]
  }
 ],
 "metadata": {
  "date": 1716224503.335761,
  "filename": "intro.md",
  "kernelspec": {
   "display_name": "Python",
   "language": "python3",
   "name": "python3"
  },
  "title": "Introduction"
 },
 "nbformat": 4,
 "nbformat_minor": 5
}