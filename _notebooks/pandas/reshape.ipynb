{
 "cells": [
  {
   "cell_type": "markdown",
   "id": "2a8421bd",
   "metadata": {},
   "source": [
    "# Reshape\n",
    "\n",
    "**Prerequisites**\n",
    "\n",
    "- [pandas intro](https://datascience.quantecon.org/intro.html)  \n",
    "- [pandas basics](https://datascience.quantecon.org/basics.html)  \n",
    "- [Importance of index](https://datascience.quantecon.org/the_index.html)  \n",
    "\n",
    "\n",
    "**Outcomes**\n",
    "\n",
    "- Understand and be able to apply the `melt`/`stack`/`unstack`/`pivot` methods  \n",
    "- Practice transformations of indices  \n",
    "- Understand tidy data  "
   ]
  },
  {
   "cell_type": "code",
   "execution_count": null,
   "id": "502ebc3f",
   "metadata": {
    "hide-output": false
   },
   "outputs": [],
   "source": [
    "# Uncomment following line to install on colab\n",
    "#! pip install "
   ]
  },
  {
   "cell_type": "code",
   "execution_count": null,
   "id": "988f4645",
   "metadata": {
    "hide-output": false
   },
   "outputs": [],
   "source": [
    "import numpy as np\n",
    "import pandas as pd\n",
    "\n",
    "%matplotlib inline"
   ]
  },
  {
   "cell_type": "markdown",
   "id": "0b447558",
   "metadata": {},
   "source": [
    "## Tidy Data\n",
    "\n",
    "While pushed more generally in the `R` language, the concept of “[tidy data](https://en.wikipedia.org/wiki/Tidy_data)” is helpful in understanding the\n",
    "objectives for reshaping data, which in turn makes advanced features like\n",
    "[groupby](https://datascience.quantecon.org/groupby.html) more seamless.\n",
    "\n",
    "Hadley Wickham gives a terminology slightly better-adapted for the experimental\n",
    "sciences, but nevertheless useful for the social sciences.\n",
    "\n",
    "> A dataset is a collection of values, usually either numbers (if quantitative) or strings (if qualitative). Values are organized in two ways. Every value belongs to a variable and an observation. A variable contains all values that measure the same underlying attribute (like height, temperature, duration) across units. An observation contains all values measured on the same unit (like a person, or a day, or a race) across attributes. – [Tidy Data (Journal of Statistical Software 2013)](https://www.jstatsoft.org/index.php/jss/article/view/v059i10/v59i10.pdf)\n",
    "\n",
    "\n",
    "With this framing,\n",
    "\n",
    "> A dataset is messy or tidy depending on how rows, columns and tables are\n",
    "matched with observations, variables, and types. In tidy data:\n",
    "\n",
    "1. Each variable forms a column.  \n",
    "1. Each observation forms a row.  \n",
    "1. Each type of observational unit forms a table.  \n",
    "\n",
    "\n",
    "\n",
    "The “column” and “row” terms map directly to pandas columns and rows, while the\n",
    "“table” maps to a pandas DataFrame.\n",
    "\n",
    "With this thinking and interpretation, it becomes essential to think through\n",
    "what uniquely identifies an “observation” in your data.\n",
    "\n",
    "Is it a country? A year? A combination of country and year?\n",
    "\n",
    "These will become the indices of your DataFrame.\n",
    "\n",
    "For those with more of a database background, the “tidy” format matches the\n",
    "[3rd normal form](https://en.wikipedia.org/wiki/Third_normal_form) in\n",
    "database theory, where the referential integrity of the database is maintained\n",
    "by the uniqueness of the index.\n",
    "\n",
    "When considering how to map this to the social sciences, note that\n",
    "reshaping data can change what we consider to be the variable and\n",
    "observation in a way that doesn’t occur within the natural sciences.\n",
    "\n",
    "For example, if the “observation” uniquely identified by a country and year and\n",
    "the “variable” is GDP, you may wish to reshape it so that the “observable” is a\n",
    "country, and the variables are a GDP for each year.\n",
    "\n",
    "A word of caution: The tidy approach, where there is no redundancy and each\n",
    "type of observational unit forms a table, is a good approach for storing data,\n",
    "but you will frequently reshape/merge/etc. in order to make graphing or\n",
    "analysis easier.  This doesn’t break the tidy format since those examples are\n",
    "ephemeral states used in analysis."
   ]
  },
  {
   "cell_type": "markdown",
   "id": "e831340c",
   "metadata": {},
   "source": [
    "## Reshaping your Data\n",
    "\n",
    "The data you receive is not always in a “shape” that makes it easy to analyze.\n",
    "\n",
    "What do we mean by shape? The number of rows and columns in a\n",
    "DataFrame and how information is stored in the index and column names.\n",
    "\n",
    "This lecture will teach you the basic concepts of reshaping data.\n",
    "\n",
    "As with other topics, we recommend reviewing the [pandas\n",
    "documentation](https://pandas.pydata.org/pandas-docs/stable/reshaping.html)\n",
    "on this subject for additional information.\n",
    "\n",
    "We will keep our discussion here as brief and simple as possible because\n",
    "these tools will reappear in subsequent lectures."
   ]
  },
  {
   "cell_type": "code",
   "execution_count": null,
   "id": "1848b5a6",
   "metadata": {
    "hide-output": false
   },
   "outputs": [],
   "source": [
    "url = \"https://datascience.quantecon.org/assets/data/bball.csv\"\n",
    "bball = pd.read_csv(url)\n",
    "bball.info()\n",
    "\n",
    "bball"
   ]
  },
  {
   "cell_type": "markdown",
   "id": "35a657c9",
   "metadata": {},
   "source": [
    "## Long vs Wide\n",
    "\n",
    "Many of these operations change between long and wide DataFrames.\n",
    "\n",
    "What does it mean for a DataFrame to be long or wide?\n",
    "\n",
    "Here is long possible long-form representation of our basketball data."
   ]
  },
  {
   "cell_type": "code",
   "execution_count": null,
   "id": "31cf4a31",
   "metadata": {
    "hide-output": false
   },
   "outputs": [],
   "source": [
    "# Don't worry about what this command does -- We'll see it soon\n",
    "bball_long = bball.melt(id_vars=[\"Year\", \"Player\", \"Team\", \"TeamName\"])\n",
    "\n",
    "bball_long"
   ]
  },
  {
   "cell_type": "markdown",
   "id": "179db23c",
   "metadata": {},
   "source": [
    "And here is a wide-form version."
   ]
  },
  {
   "cell_type": "code",
   "execution_count": null,
   "id": "7e2ed971",
   "metadata": {
    "hide-output": false
   },
   "outputs": [],
   "source": [
    "# Again, don't worry about this command... We'll see it soon too\n",
    "bball_wide = bball_long.pivot_table(\n",
    "    index=\"Year\",\n",
    "    columns=[\"Player\", \"variable\", \"Team\"],\n",
    "    values=\"value\"\n",
    ")\n",
    "bball_wide"
   ]
  },
  {
   "cell_type": "markdown",
   "id": "cfde7927",
   "metadata": {},
   "source": [
    "## `set_index`, `reset_index`, and Transpose\n",
    "\n",
    "We have already seen a few basic methods for reshaping a\n",
    "DataFrame.\n",
    "\n",
    "- `set_index`: Move one or more columns into the index.  \n",
    "- `reset_index`: Move one or more index levels out of the index and make\n",
    "  them either columns or drop from DataFrame.  \n",
    "- `T`: Swap row and column labels.  \n",
    "\n",
    "\n",
    "Sometimes, the simplest approach is the right approach.\n",
    "\n",
    "Let’s review them briefly."
   ]
  },
  {
   "cell_type": "code",
   "execution_count": null,
   "id": "1a55bfb3",
   "metadata": {
    "hide-output": false
   },
   "outputs": [],
   "source": [
    "bball2 = bball.set_index([\"Player\", \"Year\"])\n",
    "bball2.head()"
   ]
  },
  {
   "cell_type": "code",
   "execution_count": null,
   "id": "62235891",
   "metadata": {
    "hide-output": false
   },
   "outputs": [],
   "source": [
    "bball3 = bball2.T\n",
    "bball3.head()"
   ]
  },
  {
   "cell_type": "markdown",
   "id": "98422523",
   "metadata": {},
   "source": [
    "## `stack` and `unstack`\n",
    "\n",
    "The `stack` and `unstack` methods operate directly on the index\n",
    "and/or column labels."
   ]
  },
  {
   "cell_type": "markdown",
   "id": "929e2b0b",
   "metadata": {},
   "source": [
    "### `stack`\n",
    "\n",
    "`stack` is used to move certain levels of the column labels into the\n",
    "index (i.e. moving from wide to long)\n",
    "\n",
    "Let’s take `ball_wide` as an example."
   ]
  },
  {
   "cell_type": "code",
   "execution_count": null,
   "id": "3082b22d",
   "metadata": {
    "hide-output": false
   },
   "outputs": [],
   "source": [
    "bball_wide"
   ]
  },
  {
   "cell_type": "markdown",
   "id": "6d7d8a8d",
   "metadata": {},
   "source": [
    "Suppose that we want to be able to use the `mean` method to compute the\n",
    "average value of each stat for each player, regardless of year or team.\n",
    "\n",
    "To do that, we need two column levels: one for the player and one for the variable.\n",
    "\n",
    "We can achieve this using the `stack` method."
   ]
  },
  {
   "cell_type": "code",
   "execution_count": null,
   "id": "e1679ddd",
   "metadata": {
    "hide-output": false
   },
   "outputs": [],
   "source": [
    "bball_wide.stack()"
   ]
  },
  {
   "cell_type": "markdown",
   "id": "3a936fa9",
   "metadata": {},
   "source": [
    "Now, we can compute the statistic we are after."
   ]
  },
  {
   "cell_type": "code",
   "execution_count": null,
   "id": "6a7ac50c",
   "metadata": {
    "hide-output": false
   },
   "outputs": [],
   "source": [
    "player_stats = bball_wide.stack().mean()\n",
    "player_stats"
   ]
  },
  {
   "cell_type": "markdown",
   "id": "ed7ea2ab",
   "metadata": {},
   "source": [
    "Now suppose instead of that we wanted to compute the average for each team and\n",
    "stat, averaging over years and players.\n",
    "\n",
    "We’d need to move the `Player` level down into the index so we are\n",
    "left with column levels for Team and variable.\n",
    "\n",
    "We can ask pandas do this using the `level` keyword argument."
   ]
  },
  {
   "cell_type": "code",
   "execution_count": null,
   "id": "be9c4cb6",
   "metadata": {
    "hide-output": false
   },
   "outputs": [],
   "source": [
    "bball_wide.stack(level=\"Player\")"
   ]
  },
  {
   "cell_type": "markdown",
   "id": "dc39ef34",
   "metadata": {},
   "source": [
    "Now we can compute the mean."
   ]
  },
  {
   "cell_type": "code",
   "execution_count": null,
   "id": "53da90f8",
   "metadata": {
    "hide-output": false
   },
   "outputs": [],
   "source": [
    "bball_wide.stack(level=\"Player\").mean()"
   ]
  },
  {
   "cell_type": "markdown",
   "id": "7fe08b2b",
   "metadata": {},
   "source": [
    "Notice a few features of the `stack` method:\n",
    "\n",
    "- Without any arguments, the `stack` arguments move the level of column\n",
    "  labels closest to the data (also called inner-most or bottom level of labels)\n",
    "  to become the index level closest to the data (also called the inner-most or\n",
    "  right-most level of the index). In our example, this moved `Team` down from\n",
    "  columns to the index.  \n",
    "- When we do pass a level, that level of column labels is moved down to the\n",
    "  right-most level of the index and all other column labels stay in their\n",
    "  relative position.  \n",
    "\n",
    "\n",
    "Note that we can also move multiple levels at a time in one call to `stack`."
   ]
  },
  {
   "cell_type": "code",
   "execution_count": null,
   "id": "783a2dce",
   "metadata": {
    "hide-output": false
   },
   "outputs": [],
   "source": [
    "bball_wide.stack(level=[\"Player\", \"Team\"])"
   ]
  },
  {
   "cell_type": "markdown",
   "id": "c4ffa3b3",
   "metadata": {},
   "source": [
    "In the example above, we started with one level on the index (just the year) and\n",
    "stacked two levels to end up with a three-level index.\n",
    "\n",
    "Notice that the two new index levels went closer to the data than the existing\n",
    "level and that their order matched the order we passed in our list argument to\n",
    "`level`."
   ]
  },
  {
   "cell_type": "markdown",
   "id": "53a82685",
   "metadata": {},
   "source": [
    "### `unstack`\n",
    "\n",
    "Now suppose that we wanted to see a bar chart of each player’s stats.\n",
    "\n",
    "This chart should have one “section” for each player and a different colored\n",
    "bar for each variable.\n",
    "\n",
    "As we’ll learn in more detail in a later lecture,  we will\n",
    "need to have the player’s name on the index and the variables as columns to do this.\n",
    "\n",
    ">**Note**\n",
    ">\n",
    ">In general, for a DataFrame, calling the `plot` method will put the index\n",
    "on the horizontal (x) axis and make a new line/bar/etc. for each column.\n",
    "\n",
    "Notice that we are close to that with the `player_stats` variable."
   ]
  },
  {
   "cell_type": "code",
   "execution_count": null,
   "id": "2bcfc358",
   "metadata": {
    "hide-output": false
   },
   "outputs": [],
   "source": [
    "player_stats"
   ]
  },
  {
   "cell_type": "markdown",
   "id": "39a63bfe",
   "metadata": {},
   "source": [
    "We now need to rotate the variable level of the index up to be column layers.\n",
    "\n",
    "We use the `unstack` method for this."
   ]
  },
  {
   "cell_type": "code",
   "execution_count": null,
   "id": "46e36fa3",
   "metadata": {
    "hide-output": false
   },
   "outputs": [],
   "source": [
    "player_stats.unstack()"
   ]
  },
  {
   "cell_type": "markdown",
   "id": "48fd5790",
   "metadata": {},
   "source": [
    "And we can make our plot!"
   ]
  },
  {
   "cell_type": "code",
   "execution_count": null,
   "id": "4c6009c1",
   "metadata": {
    "hide-output": false
   },
   "outputs": [],
   "source": [
    "player_stats.unstack().plot.bar()"
   ]
  },
  {
   "cell_type": "markdown",
   "id": "ca0bfcaa",
   "metadata": {},
   "source": [
    "This particular visualization would be helpful if we wanted to see which stats\n",
    "for which each player is strongest.\n",
    "\n",
    "For example, we can see that Steph Curry scores far more points than he does\n",
    "rebound, but Serge Ibaka is a bit more balanced.\n",
    "\n",
    "What if we wanted to be able to compare all players for each statistic?\n",
    "\n",
    "This would be easier to do if the bars were grouped by variable, with a\n",
    "different bar for each player.\n",
    "\n",
    "To plot this, we need to have the variables on the index and the player\n",
    "name as column names.\n",
    "\n",
    "We can get this DataFrame by setting `level=\"Player\"` when calling `unstack`."
   ]
  },
  {
   "cell_type": "code",
   "execution_count": null,
   "id": "9f9de02f",
   "metadata": {
    "hide-output": false
   },
   "outputs": [],
   "source": [
    "player_stats.unstack(level=\"Player\")"
   ]
  },
  {
   "cell_type": "code",
   "execution_count": null,
   "id": "6f7f84df",
   "metadata": {
    "hide-output": false
   },
   "outputs": [],
   "source": [
    "player_stats.unstack(level=\"Player\").plot.bar()"
   ]
  },
  {
   "cell_type": "markdown",
   "id": "5f6b7957",
   "metadata": {},
   "source": [
    "Now we can use the chart to make a number of statements about players:\n",
    "\n",
    "- Ibaka does not get many assists, compared to Curry and Durant.  \n",
    "- Steph and Kevin Durant are both high scorers.  \n",
    "\n",
    "\n",
    "Based on the examples above, notice a few things about `unstack`:\n",
    "\n",
    "- It is the *inverse* of `stack`; `stack` will move labels down\n",
    "  from columns to index, while `unstack` moves them up from index to columns.  \n",
    "- By default, `unstack` will move the level of the index closest to the data\n",
    "  and place it in the column labels closest to the data.  \n",
    "\n",
    "\n",
    ">**Note**\n",
    ">\n",
    ">Just as we can pass multiple levels to `stack`, we can also pass multiple\n",
    "levels to `unstack`.\n",
    "\n",
    "We needed to use this in our solution to the exercise below."
   ]
  },
  {
   "cell_type": "markdown",
   "id": "3fb68313",
   "metadata": {},
   "source": [
    "### Exercise\n",
    "\n",
    "See exercise 1 in the [exercise list](#pd-shp-ex)."
   ]
  },
  {
   "cell_type": "markdown",
   "id": "08090df2",
   "metadata": {},
   "source": [
    "### Summary\n",
    "\n",
    "In some ways `set_index`, `reset_index`, `stack`, and `unstack`\n",
    "are the “most fundamental” reshaping operations…\n",
    "\n",
    "The other operations we discuss can be formulated with these\n",
    "four operations (and, in fact, some of them are exactly written as these\n",
    "operations in `pandas`’s code base).\n",
    "\n",
    "*Pro tip*: We remember stack vs unstack with a mnemonic: **U**nstack moves index\n",
    "levels **U**p"
   ]
  },
  {
   "cell_type": "markdown",
   "id": "c1d1fbb3",
   "metadata": {},
   "source": [
    "## `melt`\n",
    "\n",
    "The `melt` method is used to move from wide to long form.\n",
    "\n",
    "It can be used to move all of the “values” stored in your DataFrame to a\n",
    "single column with all other columns being used to contain identifying\n",
    "information.\n",
    "\n",
    "When you use `melt`, any index that you currently have\n",
    "will be deleted.\n",
    "\n",
    "We saw used `melt` above when we constructed `bball_long`:"
   ]
  },
  {
   "cell_type": "code",
   "execution_count": null,
   "id": "f0fe9d39",
   "metadata": {
    "hide-output": false
   },
   "outputs": [],
   "source": [
    "bball"
   ]
  },
  {
   "cell_type": "code",
   "execution_count": null,
   "id": "bfc4b0be",
   "metadata": {
    "hide-output": false
   },
   "outputs": [],
   "source": [
    "# this is how we made ``bball_long``\n",
    "bball.melt(id_vars=[\"Year\", \"Player\", \"Team\", \"TeamName\"])"
   ]
  },
  {
   "cell_type": "markdown",
   "id": "b37fc9df",
   "metadata": {},
   "source": [
    "Notice that the columns we specified as `id_vars` remained columns, but all\n",
    "other columns were put into two new columns:\n",
    "\n",
    "1. `variable`: This has dtype string and contains the former column names.\n",
    "  as values  \n",
    "1. `value`: This has the former values.  \n",
    "\n",
    "\n",
    "Using this method is an effective way to get our data in *tidy* form as noted\n",
    "above."
   ]
  },
  {
   "cell_type": "markdown",
   "id": "a41d354a",
   "metadata": {},
   "source": [
    "## Exercise\n",
    "\n",
    "See exercise 2 in the [exercise list](#pd-shp-ex)."
   ]
  },
  {
   "cell_type": "markdown",
   "id": "da7e7e65",
   "metadata": {},
   "source": [
    "## `pivot` and `pivot_table`\n",
    "\n",
    "The next two reshaping methods that we will use are closely related.\n",
    "\n",
    "Some of you might even already be familiar with these ideas because you\n",
    "have previously used *pivot tables* in Excel.\n",
    "\n",
    "- If so, good news. We think this is even more powerful than Excel\n",
    "  and easier to use!  \n",
    "- If not, good news. You are about to learn a very powerful and user-friendly tool.  \n",
    "\n",
    "\n",
    "We will begin with `pivot`.\n",
    "\n",
    "The `pivot` method:\n",
    "\n",
    "- Takes the unique values of one column and places them along the index.  \n",
    "- Takes the unique values of another column and places them along the\n",
    "  columns.  \n",
    "- Takes the values that correspond to a third column and fills in the\n",
    "  DataFrame values that correspond to that index/column pair.  \n",
    "\n",
    "\n",
    "We’ll illustrate with an example."
   ]
  },
  {
   "cell_type": "code",
   "execution_count": null,
   "id": "35acbaf6",
   "metadata": {
    "hide-output": false
   },
   "outputs": [],
   "source": [
    "# .head 6 excludes Ibaka -- will discuss why later\n",
    "bball.head(6).pivot(index=\"Year\", columns=\"Player\", values=\"Pts\")"
   ]
  },
  {
   "cell_type": "markdown",
   "id": "04ff1f7d",
   "metadata": {},
   "source": [
    "We can replicate `pivot` using three of the fundamental operations\n",
    "from above:\n",
    "\n",
    "1. Call `set_index` with the `index` and `columns` arguments  \n",
    "1. Extract the `values` column  \n",
    "1. `unstack` the columns level of the new index  "
   ]
  },
  {
   "cell_type": "code",
   "execution_count": null,
   "id": "4175d2e7",
   "metadata": {
    "hide-output": false
   },
   "outputs": [],
   "source": [
    "#  1---------------------------------------  2---  3----------------------\n",
    "bball.head(6).set_index([\"Year\", \"Player\"])[\"Pts\"].unstack(level=\"Player\")"
   ]
  },
  {
   "cell_type": "markdown",
   "id": "fe510a40",
   "metadata": {},
   "source": [
    "One important thing to be aware of is that in order for `pivot` to\n",
    "work, the index/column pairs must be *unique*!\n",
    "\n",
    "Below, we demonstrate the error that occurs when they are not unique."
   ]
  },
  {
   "cell_type": "code",
   "execution_count": null,
   "id": "4aa78264",
   "metadata": {
    "hide-output": false
   },
   "outputs": [],
   "source": [
    "# Ibaka shows up twice in 2016 because he was traded mid-season from\n",
    "# the Orlando Magic to the Toronto Raptors\n",
    "bball.pivot(index=\"Year\", columns=\"Player\", values=\"Pts\")"
   ]
  },
  {
   "cell_type": "markdown",
   "id": "e74dfc5e",
   "metadata": {},
   "source": [
    "### `pivot_table`\n",
    "\n",
    "The `pivot_table` method is a generalization of `pivot`.\n",
    "\n",
    "It overcomes two limitations of `pivot`:\n",
    "\n",
    "1. It allows you to choose multiple columns for the index/columns/values\n",
    "  arguments.  \n",
    "1. It allows you to deal with duplicate entries by\n",
    "  having you choose how to combine them.  "
   ]
  },
  {
   "cell_type": "code",
   "execution_count": null,
   "id": "d40b555e",
   "metadata": {
    "hide-output": false
   },
   "outputs": [],
   "source": [
    "bball"
   ]
  },
  {
   "cell_type": "markdown",
   "id": "834ad3cf",
   "metadata": {},
   "source": [
    "Notice that we can replicate the functionality of `pivot` using `pivot_table` if we pass\n",
    "the same arguments."
   ]
  },
  {
   "cell_type": "code",
   "execution_count": null,
   "id": "34481f1e",
   "metadata": {
    "hide-output": false
   },
   "outputs": [],
   "source": [
    "bball.head(6).pivot_table(index=\"Year\", columns=\"Player\", values=\"Pts\")"
   ]
  },
  {
   "cell_type": "markdown",
   "id": "d66ba08f",
   "metadata": {},
   "source": [
    "But we can also choose multiple columns to be used in\n",
    "index/columns/values."
   ]
  },
  {
   "cell_type": "code",
   "execution_count": null,
   "id": "8b646504",
   "metadata": {
    "hide-output": false
   },
   "outputs": [],
   "source": [
    "bball.pivot_table(index=[\"Year\", \"Team\"], columns=\"Player\", values=\"Pts\")"
   ]
  },
  {
   "cell_type": "code",
   "execution_count": null,
   "id": "e8a44ccd",
   "metadata": {
    "hide-output": false
   },
   "outputs": [],
   "source": [
    "bball.pivot_table(index=\"Year\", columns=[\"Player\", \"Team\"], values=\"Pts\")"
   ]
  },
  {
   "cell_type": "markdown",
   "id": "5685109a",
   "metadata": {},
   "source": [
    "AND we can deal with duplicated index/column pairs."
   ]
  },
  {
   "cell_type": "code",
   "execution_count": null,
   "id": "334a1a0d",
   "metadata": {
    "hide-output": false
   },
   "outputs": [],
   "source": [
    "# This produced an error\n",
    "# bball.pivot(index=\"Year\", columns=\"Player\", values=\"Pts\")\n",
    "\n",
    "# This doesn't!\n",
    "bball_pivoted = bball.pivot_table(index=\"Year\", columns=\"Player\", values=\"Pts\")\n",
    "bball_pivoted"
   ]
  },
  {
   "cell_type": "markdown",
   "id": "b9824d34",
   "metadata": {},
   "source": [
    "`pivot_table` handles duplicate index/column pairs using an aggregation.\n",
    "\n",
    "By default, the aggregation is the mean.\n",
    "\n",
    "For example, our duplicated index/column pair is `(\"x\", 1)` and had\n",
    "associated values of 2 and 5.\n",
    "\n",
    "Notice that `bball_pivoted.loc[2016, \"Ibaka\"]` is `(15.1 + 14.2)/2 = 14.65`.\n",
    "\n",
    "We can choose how `pandas` aggregates all of the values.\n",
    "\n",
    "For example, here’s how we would keep the max."
   ]
  },
  {
   "cell_type": "code",
   "execution_count": null,
   "id": "4ff8dfe7",
   "metadata": {
    "hide-output": false
   },
   "outputs": [],
   "source": [
    "bball.pivot_table(index=\"Year\", columns=\"Player\", values=\"Pts\", aggfunc=max)"
   ]
  },
  {
   "cell_type": "markdown",
   "id": "76e8fef0",
   "metadata": {},
   "source": [
    "Maybe we wanted to count how many values there were."
   ]
  },
  {
   "cell_type": "code",
   "execution_count": null,
   "id": "e08e6be2",
   "metadata": {
    "hide-output": false
   },
   "outputs": [],
   "source": [
    "bball.pivot_table(index=\"Year\", columns=\"Player\", values=\"Pts\", aggfunc=len)"
   ]
  },
  {
   "cell_type": "markdown",
   "id": "b5fe44e5",
   "metadata": {},
   "source": [
    "We can even pass multiple aggregation functions!"
   ]
  },
  {
   "cell_type": "code",
   "execution_count": null,
   "id": "db35246d",
   "metadata": {
    "hide-output": false
   },
   "outputs": [],
   "source": [
    "bball.pivot_table(index=\"Year\", columns=\"Player\", values=\"Pts\", aggfunc=[max, len])"
   ]
  },
  {
   "cell_type": "markdown",
   "id": "2bd0b559",
   "metadata": {},
   "source": [
    "### Exercise\n",
    "\n",
    "See exercise 3 in the [exercise list](#pd-shp-ex)."
   ]
  },
  {
   "cell_type": "markdown",
   "id": "62d4d49c",
   "metadata": {},
   "source": [
    "## Visualizing Reshaping\n",
    "\n",
    "Now that you have learned the basics and had a chance to experiment,\n",
    "we will use some generic data to provide a visualization of what the above\n",
    "reshape operations do.\n",
    "\n",
    "The data we will use is:"
   ]
  },
  {
   "cell_type": "code",
   "execution_count": null,
   "id": "64503bb1",
   "metadata": {
    "hide-output": false
   },
   "outputs": [],
   "source": [
    "# made up\n",
    "# columns A and B are \"identifiers\" while C, D, and E are variables.\n",
    "df = pd.DataFrame({\n",
    "    \"A\": [0, 0, 1, 1],\n",
    "    \"B\": \"x y x z\".split(),\n",
    "    \"C\": [1, 2, 1, 4],\n",
    "    \"D\": [10, 20, 30, 20,],\n",
    "    \"E\": [2, 1, 5, 4,]\n",
    "})\n",
    "\n",
    "df.info()\n",
    "df"
   ]
  },
  {
   "cell_type": "code",
   "execution_count": null,
   "id": "0d006971",
   "metadata": {
    "hide-output": false
   },
   "outputs": [],
   "source": [
    "df2 = df.set_index([\"A\", \"B\"])\n",
    "df2.head()"
   ]
  },
  {
   "cell_type": "code",
   "execution_count": null,
   "id": "8367a595",
   "metadata": {
    "hide-output": false
   },
   "outputs": [],
   "source": [
    "df3 = df2.T\n",
    "df3.head()"
   ]
  },
  {
   "cell_type": "markdown",
   "id": "a76bd5ca",
   "metadata": {},
   "source": [
    "### `stack` and `unstack`\n",
    "\n",
    "Below is an animation that shows how stacking works.\n",
    "\n",
    "![https://datascience.quantecon.org/_static/stack.gif](https://datascience.quantecon.org/_static/stack.gif)"
   ]
  },
  {
   "cell_type": "code",
   "execution_count": null,
   "id": "ca1b242b",
   "metadata": {
    "hide-output": false
   },
   "outputs": [],
   "source": [
    "df2"
   ]
  },
  {
   "cell_type": "code",
   "execution_count": null,
   "id": "07d7e2fe",
   "metadata": {
    "hide-output": false
   },
   "outputs": [],
   "source": [
    "df2_stack = df2.stack()\n",
    "df2_stack"
   ]
  },
  {
   "cell_type": "markdown",
   "id": "d0502429",
   "metadata": {},
   "source": [
    "And here is an animation that shows how unstacking works.\n",
    "\n",
    "![https://datascience.quantecon.org/_static/unstack_level0.gif](https://datascience.quantecon.org/_static/unstack_level0.gif)"
   ]
  },
  {
   "cell_type": "code",
   "execution_count": null,
   "id": "fc027c49",
   "metadata": {
    "hide-output": false
   },
   "outputs": [],
   "source": [
    "df2"
   ]
  },
  {
   "cell_type": "code",
   "execution_count": null,
   "id": "7fa4f3f9",
   "metadata": {
    "hide-output": false
   },
   "outputs": [],
   "source": [
    "df2.unstack()"
   ]
  },
  {
   "cell_type": "markdown",
   "id": "f4c6201e",
   "metadata": {},
   "source": [
    "### `melt`\n",
    "\n",
    "As noted above, the `melt` method transforms data from wide to long in form.\n",
    "\n",
    "Here’s a visualization of that operation.\n",
    "\n",
    "![https://datascience.quantecon.org/_static/melt.gif](https://datascience.quantecon.org/_static/melt.gif)"
   ]
  },
  {
   "cell_type": "code",
   "execution_count": null,
   "id": "aa232043",
   "metadata": {
    "hide-output": false
   },
   "outputs": [],
   "source": [
    "df"
   ]
  },
  {
   "cell_type": "code",
   "execution_count": null,
   "id": "71b0aed9",
   "metadata": {
    "hide-output": false
   },
   "outputs": [],
   "source": [
    "df_melted = df.melt(id_vars=[\"A\", \"B\"])\n",
    "df_melted"
   ]
  },
  {
   "cell_type": "markdown",
   "id": "e51a5403",
   "metadata": {},
   "source": [
    "\n",
    "<a id='pd-shp-ex'></a>"
   ]
  },
  {
   "cell_type": "markdown",
   "id": "4b411c65",
   "metadata": {},
   "source": [
    "## Exercises"
   ]
  },
  {
   "cell_type": "markdown",
   "id": "fbf8ac83",
   "metadata": {},
   "source": [
    "### Exercise 1\n",
    "\n",
    "This one is challenging\n",
    "\n",
    "Recall the `bball_wide` DataFrame from above (repeated below to jog\n",
    "your memory).\n",
    "\n",
    "In this task, you will start from `ball` and re-recreate `bball_wide`\n",
    "by combining the operations we just learned about.\n",
    "\n",
    "There are many ways to do this, so be creative.\n",
    "\n",
    "Our solution used `set_index`, `T`, `stack`, and `unstack` in\n",
    "that order.\n",
    "\n",
    "Here are a few hints:\n",
    "\n",
    "- Think about what columns you will need to call `set_index` on so\n",
    "  that their data ends up as labels (either in index or columns).  \n",
    "- Leave other columns (e.g. the actual game stats) as actual columns so\n",
    "  their data can stay data during your reshaping.  \n",
    "\n",
    "\n",
    "Don’t spend too much time on this… if you get stuck, you will find our answer [here](https://github.com/QuantEcon/lecture-datascience.myst/raw/main/lectures/_static/reshape-ex1-ans.txt).\n",
    "\n",
    "You might need to add `.sort_index(axis=1)` after you are\n",
    "finished to get the columns in the same order.\n",
    "\n",
    "You may not end up with a `variable` header on the second\n",
    "level of column labels. This is ok."
   ]
  },
  {
   "cell_type": "code",
   "execution_count": null,
   "id": "e68a630b",
   "metadata": {
    "hide-output": false
   },
   "outputs": [],
   "source": [
    "bball_wide"
   ]
  },
  {
   "cell_type": "markdown",
   "id": "8d1947a9",
   "metadata": {},
   "source": [
    "([back to text](#pd-shp-dir1))"
   ]
  },
  {
   "cell_type": "markdown",
   "id": "fc15fc32",
   "metadata": {},
   "source": [
    "### Exercise 2\n",
    "\n",
    "- What do you think would happen if we wrote `bball.melt(id_vars=[\"Year\", \"Player\"])`\n",
    "  rather than `bball.melt(id_vars=[\"Year\", \"Player\", \"Team\", \"TeamName\"])`?\n",
    "  Were you right? Write your thoughts.  \n",
    "- Read the documentation and focus on the argument `value_vars`. How\n",
    "  does `bball.melt(id_vars=[\"Year\", \"Player\"], value_vars=[\"Pts\", \"Rebound\"])`\n",
    "  differ from `bball.melt(id_vars=[\"Year\", \"Player\"])`?  \n",
    "- Consider the differences between `bball.stack` and `bball.melt`.\n",
    "  Is there a way to make them generate the same output?\n",
    "  Write your thoughts.  \n",
    "  - You might need to use both `stack` and another method from\n",
    "    above  \n",
    "\n",
    "\n",
    "([back to text](#pd-shp-dir2))"
   ]
  },
  {
   "cell_type": "markdown",
   "id": "4e08f4dc",
   "metadata": {},
   "source": [
    "### Exercise 3\n",
    "\n",
    "- First, take a breath… That was a lot to take in.  \n",
    "- Can you think of a reason to ever use `pivot` rather than\n",
    "  `pivot_table`? Write your thoughts.  \n",
    "- Create a pivot table with column `Player` as the index, `TeamName` as the\n",
    "  columns, and `[Rebound, Assist]` as the values. What happens when you use\n",
    "  `aggfunc=[np.max, np.min, len]`? Describe how Python produced\n",
    "  each of the values in the resultant pivot table.  \n",
    "\n",
    "\n",
    "([back to text](#pd-shp-dir3))"
   ]
  }
 ],
 "metadata": {
  "date": 1684262963.9548166,
  "filename": "reshape.md",
  "kernelspec": {
   "display_name": "Python",
   "language": "python3",
   "name": "python3"
  },
  "title": "Reshape"
 },
 "nbformat": 4,
 "nbformat_minor": 5
}