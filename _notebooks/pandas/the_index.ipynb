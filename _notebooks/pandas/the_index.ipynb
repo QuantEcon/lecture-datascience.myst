{
 "cells": [
  {
   "cell_type": "markdown",
   "id": "8b18f061",
   "metadata": {},
   "source": [
    "# The Index\n",
    "\n",
    "**Prerequisites**\n",
    "\n",
    "- [Introduction to pandas](https://datascience.quantecon.org/intro.html)  \n",
    "\n",
    "\n",
    "**Outcomes**\n",
    "\n",
    "- Understand how the index is used to align data  \n",
    "- Know how to set and reset the index  \n",
    "- Understand how to select subsets of data by slicing on index and columns  \n",
    "- Understand that for DataFrames, the column names also align data  "
   ]
  },
  {
   "cell_type": "code",
   "execution_count": null,
   "id": "52e44c4c",
   "metadata": {
    "hide-output": false
   },
   "outputs": [],
   "source": [
    "# Uncomment following line to install on colab\n",
    "#! pip install "
   ]
  },
  {
   "cell_type": "code",
   "execution_count": null,
   "id": "bdcbf33d",
   "metadata": {
    "hide-output": false
   },
   "outputs": [],
   "source": [
    "import pandas as pd\n",
    "import numpy as np"
   ]
  },
  {
   "cell_type": "markdown",
   "id": "57bfe1e2",
   "metadata": {},
   "source": [
    "## So What is this Index?\n",
    "\n",
    "Every Series or DataFrame has an index.\n",
    "\n",
    "We told you that the index was the “row labels” for the data.\n",
    "\n",
    "This is true, but an index in pandas does much more than label the rows.\n",
    "\n",
    "The purpose of this lecture is to understand the importance of the index.\n",
    "\n",
    "The [pandas\n",
    "documentation](https://pandas.pydata.org/pandas-docs/stable/dsintro.html)\n",
    "says\n",
    "\n",
    "> Data alignment is intrinsic. The link between labels and data will\n",
    "not be broken unless done so explicitly by you.\n",
    "\n",
    "\n",
    "In practice, the index and column names are used to make sure the data is\n",
    "properly aligned when operating on multiple DataFrames.\n",
    "\n",
    "This is a somewhat abstract concept that is best understood by\n",
    "example…\n",
    "\n",
    "Let’s begin by loading some data on GDP components that we collected from\n",
    "the World Bank’s World Development Indicators Dataset."
   ]
  },
  {
   "cell_type": "code",
   "execution_count": null,
   "id": "6ebd6b2d",
   "metadata": {
    "hide-output": false
   },
   "outputs": [],
   "source": [
    "url = \"https://datascience.quantecon.org/assets/data/wdi_data.csv\"\n",
    "df = pd.read_csv(url)\n",
    "df.info()\n",
    "\n",
    "df.head()"
   ]
  },
  {
   "cell_type": "markdown",
   "id": "6c36ecc8",
   "metadata": {},
   "source": [
    "We’ll also extract a couple smaller DataFrames we can use in examples."
   ]
  },
  {
   "cell_type": "code",
   "execution_count": null,
   "id": "218f8c1e",
   "metadata": {
    "hide-output": false
   },
   "outputs": [],
   "source": [
    "df_small = df.head(5)\n",
    "df_small"
   ]
  },
  {
   "cell_type": "code",
   "execution_count": null,
   "id": "fc356fd0",
   "metadata": {
    "hide-output": false
   },
   "outputs": [],
   "source": [
    "df_tiny = df.iloc[[0, 3, 2, 4], :]\n",
    "df_tiny"
   ]
  },
  {
   "cell_type": "code",
   "execution_count": null,
   "id": "e9c44f10",
   "metadata": {
    "hide-output": false
   },
   "outputs": [],
   "source": [
    "im_ex = df_small[[\"Imports\", \"Exports\"]]\n",
    "im_ex_copy = im_ex.copy()\n",
    "im_ex_copy"
   ]
  },
  {
   "cell_type": "markdown",
   "id": "cdb4b7fb",
   "metadata": {},
   "source": [
    "Observe what happens when we evaluate `im_ex + im_ex_copy`."
   ]
  },
  {
   "cell_type": "code",
   "execution_count": null,
   "id": "0a1ca092",
   "metadata": {
    "hide-output": false
   },
   "outputs": [],
   "source": [
    "im_ex + im_ex_copy"
   ]
  },
  {
   "cell_type": "markdown",
   "id": "b1731f7b",
   "metadata": {},
   "source": [
    "Notice that this operated *elementwise*, meaning that the `+`\n",
    "operation was applied to each element of `im_ex` and the corresponding\n",
    "element of `im_ex_copy`.\n",
    "\n",
    "Let’s take a closer look at `df_tiny`:"
   ]
  },
  {
   "cell_type": "code",
   "execution_count": null,
   "id": "55e1baa7",
   "metadata": {
    "hide-output": false
   },
   "outputs": [],
   "source": [
    "df_tiny"
   ]
  },
  {
   "cell_type": "markdown",
   "id": "17308787",
   "metadata": {},
   "source": [
    "Relative to `im_ex` notice a few things:\n",
    "\n",
    "- The row labeled `1` appears in `im_ex` but not `df_tiny`.  \n",
    "- For row labels that appear in both, they are not in the same position\n",
    "  within each DataFrame.  \n",
    "- Certain columns appear only in `df_tiny`.  \n",
    "- The `Imports` and `Exports` columns are the 6th and 5th columns of\n",
    "  `df_tiny` and the 1st and 2nd of `im_ex`, respectively.  \n",
    "\n",
    "\n",
    "Now, let’s see what happens when we try `df_tiny + im_ex`."
   ]
  },
  {
   "cell_type": "code",
   "execution_count": null,
   "id": "5e4279b1",
   "metadata": {
    "hide-output": false
   },
   "outputs": [],
   "source": [
    "im_ex_tiny = df_tiny + im_ex\n",
    "im_ex_tiny"
   ]
  },
  {
   "cell_type": "markdown",
   "id": "16a4451d",
   "metadata": {},
   "source": [
    "Whoa, a lot happened! Let’s break it down."
   ]
  },
  {
   "cell_type": "markdown",
   "id": "4c57e762",
   "metadata": {},
   "source": [
    "### Automatic Alignment\n",
    "\n",
    "For all (row, column) combinations that appear in both DataFrames (e.g.\n",
    "rows `[1, 3]` and columns `[Imports, Exports]`), the value of `im_ex_tiny`\n",
    "is equal to `df_tiny.loc[row, col] + im_ex.loc[row, col]`.\n",
    "\n",
    "This happened even though the rows and columns were not in the same\n",
    "order.\n",
    "\n",
    "We refer to this as pandas *aligning* the data for us.\n",
    "\n",
    "To see how awesome this is, think about how to do something similar in\n",
    "Excel:\n",
    "\n",
    "- `df_tiny` and `im_ex` would be in different sheets.  \n",
    "- The index and column names would be the first column and row in each\n",
    "  sheet.  \n",
    "- We would have a third sheet to hold the sum.  \n",
    "- For each label in the first row and column of *either* the `df_tiny`\n",
    "  sheet or the `im_ex` sheet we would have to do a `IFELSE` to check\n",
    "  if the label exists in the other sheet and then a `VLOOKUP` to\n",
    "  extract the value.  \n",
    "\n",
    "\n",
    "In pandas, this happens automatically, behind the scenes, and *very\n",
    "quickly*."
   ]
  },
  {
   "cell_type": "markdown",
   "id": "d7012816",
   "metadata": {},
   "source": [
    "### Handling Missing Data\n",
    "\n",
    "For all elements in row `1` or columns\n",
    "`[\"country\", \"year\", \"GovExpend\", \"Consumption\", \"GDP\"]`,\n",
    "the value in `im_ex_tiny` is `NaN`.\n",
    "\n",
    "This is how pandas represents *missing data*.\n",
    "\n",
    "So, when pandas was trying to look up the values in `df_tiny` and `im_ex`, it could\n",
    "only find a value in one DataFrame: the other value was missing.\n",
    "\n",
    "When pandas tries to add a number to something that is missing, it says\n",
    "that the result is missing (spelled `NaN`)."
   ]
  },
  {
   "cell_type": "markdown",
   "id": "3ac14f88",
   "metadata": {},
   "source": [
    "### Exercise\n",
    "\n",
    "See exercise 1 in the [exercise list](#pd-idx-ex)."
   ]
  },
  {
   "cell_type": "markdown",
   "id": "6f392ff4",
   "metadata": {},
   "source": [
    "## Setting the Index\n",
    "\n",
    "For a DataFrame `df`, the `df.set_index` method allows us to use one\n",
    "(or more) of the DataFrame’s columns as the index.\n",
    "\n",
    "Here’s an example."
   ]
  },
  {
   "cell_type": "code",
   "execution_count": null,
   "id": "49c1d156",
   "metadata": {
    "hide-output": false
   },
   "outputs": [],
   "source": [
    "# first, create the DataFrame\n",
    "df_year = df.set_index([\"year\"])\n",
    "df_year.head()"
   ]
  },
  {
   "cell_type": "markdown",
   "id": "c9d71f68",
   "metadata": {},
   "source": [
    "Now that the year is on the index, we can use `.loc` to extract all the\n",
    "data for a specific year."
   ]
  },
  {
   "cell_type": "code",
   "execution_count": null,
   "id": "663d3135",
   "metadata": {
    "hide-output": false
   },
   "outputs": [],
   "source": [
    "df_year.loc[2010]"
   ]
  },
  {
   "cell_type": "markdown",
   "id": "322d072c",
   "metadata": {},
   "source": [
    "This would be helpful, for example, if we wanted to compute the difference\n",
    "in the average of all our variables from one year to the next."
   ]
  },
  {
   "cell_type": "code",
   "execution_count": null,
   "id": "bdbdd04e",
   "metadata": {
    "hide-output": false
   },
   "outputs": [],
   "source": [
    "df_year.loc[2009].mean() - df_year.loc[2008].mean()"
   ]
  },
  {
   "cell_type": "markdown",
   "id": "bfc6d531",
   "metadata": {},
   "source": [
    "Notice that pandas did a few things for us.\n",
    "\n",
    "- After computing `.mean()`, the row labels (index) were the former column names.  \n",
    "- These column names were used to align data when we wanted asked pandas to\n",
    "  compute the difference.  \n",
    "\n",
    "\n",
    "Suppose that someone asked you, “What was the GDP in the US in 2010?”\n",
    "\n",
    "To compute that using `df_year` you might do something like this:"
   ]
  },
  {
   "cell_type": "code",
   "execution_count": null,
   "id": "28463c3b",
   "metadata": {
    "hide-output": false
   },
   "outputs": [],
   "source": [
    "df_year.loc[df_year[\"country\"] == \"United States\", \"GDP\"].loc[2010]"
   ]
  },
  {
   "cell_type": "markdown",
   "id": "04925c05",
   "metadata": {},
   "source": [
    "That was a lot of work!\n",
    "\n",
    "Now, suppose that after seeing you extract that data, your friend asks you\n",
    "“What about GDP in Germany and the UK in 2010?”\n",
    "\n",
    "To answer that question, you might write."
   ]
  },
  {
   "cell_type": "code",
   "execution_count": null,
   "id": "1a3c1ebb",
   "metadata": {
    "hide-output": false
   },
   "outputs": [],
   "source": [
    "df_year.loc[df_year[\"country\"].isin([\"United Kingdom\", \"Germany\"]), \"GDP\"].loc[2010]"
   ]
  },
  {
   "cell_type": "markdown",
   "id": "34ce0a19",
   "metadata": {},
   "source": [
    "Notice that this code is similar to the code above, but now provides a result\n",
    "that is ambiguous.\n",
    "\n",
    "The two elements in the series both have with label 2010.\n",
    "\n",
    "How do we know which is which?\n",
    "\n",
    "We might think that the first value corresponds to the United Kingdom because\n",
    "that is what we listed first in the call to `isin`, but we would be wrong!\n",
    "\n",
    "Let’s check."
   ]
  },
  {
   "cell_type": "code",
   "execution_count": null,
   "id": "19da6f70",
   "metadata": {
    "hide-output": false
   },
   "outputs": [],
   "source": [
    "df_year.loc[2010]"
   ]
  },
  {
   "cell_type": "markdown",
   "id": "449cd2fe",
   "metadata": {},
   "source": [
    "Setting just the year as index has one more potential issue: we will\n",
    "get data alignment only on the year, which may not be sufficient.\n",
    "\n",
    "To demonstrate this point, suppose now you are asked to use our WDI dataset\n",
    "to compute an approximation for net exports and investment in 2009.\n",
    "\n",
    "As a seasoned economist, you would remember the expenditure formula for GDP is\n",
    "written\n",
    "\n",
    "$$\n",
    "GDP = Consumption + Investment + GovExpend + Net Exports\n",
    "$$\n",
    "\n",
    "which we can rearrange to compute investment as a function of the variables in\n",
    "our DataFrame…\n",
    "\n",
    "$$\n",
    "Investment = GDP - Consumption - GovExpend - Net Exports\n",
    "$$\n",
    "\n",
    "Note that we can compute NetExports as `Exports - Imports`."
   ]
  },
  {
   "cell_type": "code",
   "execution_count": null,
   "id": "be5da3c0",
   "metadata": {
    "hide-output": false
   },
   "outputs": [],
   "source": [
    "nx = df_year[\"Exports\"] - df_year[\"Imports\"]\n",
    "nx.head(19)"
   ]
  },
  {
   "cell_type": "markdown",
   "id": "aefc1e58",
   "metadata": {},
   "source": [
    "Now, suppose that we accidentally had a bug in our code that swapped\n",
    "the data for Canada and Germany’s net exports in 2017.\n",
    "\n",
    ">**Note**\n",
    ">\n",
    ">This example is contrived, but if you were getting unclean data from\n",
    "some resource or doing more complicated operations, this type of mistake\n",
    "becomes increasingly likely."
   ]
  },
  {
   "cell_type": "code",
   "execution_count": null,
   "id": "1202ee82",
   "metadata": {
    "hide-output": false
   },
   "outputs": [],
   "source": [
    "ca17 = nx.iloc[[0]]\n",
    "g17 = nx.iloc[[18]]\n",
    "nx.iloc[[0]] = g17\n",
    "nx.iloc[[18]] = ca17\n",
    "\n",
    "nx.head(19)"
   ]
  },
  {
   "cell_type": "markdown",
   "id": "78932f55",
   "metadata": {},
   "source": [
    "Notice that if we now add `nx` to the DataFrame and compute investment\n",
    "pandas doesn’t complain."
   ]
  },
  {
   "cell_type": "code",
   "execution_count": null,
   "id": "04ec019f",
   "metadata": {
    "hide-output": false
   },
   "outputs": [],
   "source": [
    "df_year[\"NetExports\"] = nx\n",
    "df_year[\"Investment\"] = df_year.eval(\"GDP - Consumption - GovExpend - NetExports\")\n",
    "df_year.head(19)"
   ]
  },
  {
   "cell_type": "markdown",
   "id": "33bc2bf2",
   "metadata": {},
   "source": [
    "Because we didn’t also have data alignment on the country, we would have overstated Canada’s investment by 281 billion USD and understated Germany’s by the\n",
    "same amount.\n",
    "\n",
    "To make these types operation easier, we need to include both the year\n",
    "and country in the index…"
   ]
  },
  {
   "cell_type": "markdown",
   "id": "7e1a51dc",
   "metadata": {},
   "source": [
    "### Setting a Hierarchical Index\n",
    "\n",
    "Include multiple columns in the index is advantageous in some situations.\n",
    "\n",
    "These situations might include:\n",
    "\n",
    "- When we need more than one piece of information (column) to identify an\n",
    "  observation (as in the Germany and UK GDP example above)  \n",
    "- When we need data-alignment by more than one column  \n",
    "\n",
    "\n",
    "To achieve multiple columns in the index, we pass a list of multiple column\n",
    "names to `set_index`."
   ]
  },
  {
   "cell_type": "code",
   "execution_count": null,
   "id": "bb6300d3",
   "metadata": {
    "hide-output": false
   },
   "outputs": [],
   "source": [
    "wdi = df.set_index([\"country\", \"year\"])\n",
    "wdi.head(20)"
   ]
  },
  {
   "cell_type": "markdown",
   "id": "e14ec34d",
   "metadata": {},
   "source": [
    "Notice that in the display above, the row labels seem to have two\n",
    "*levels* now.\n",
    "\n",
    "The *outer* (or left-most) level is named `country` and the *inner* (or\n",
    "right-most) level is named `year`.\n",
    "\n",
    "When a DataFrame’s index has multiple levels, we (and the pandas documentation)\n",
    "refer to the DataFrame as having a hierarchical index."
   ]
  },
  {
   "cell_type": "markdown",
   "id": "9e13db5f",
   "metadata": {},
   "source": [
    "### Slicing a Hierarchical Index\n",
    "\n",
    "Now, we can answer our friend’s questions in a much more straightforward way."
   ]
  },
  {
   "cell_type": "code",
   "execution_count": null,
   "id": "abaf28db",
   "metadata": {
    "hide-output": false
   },
   "outputs": [],
   "source": [
    "wdi.loc[(\"United States\", 2010), \"GDP\"]"
   ]
  },
  {
   "cell_type": "code",
   "execution_count": null,
   "id": "06f156d6",
   "metadata": {
    "hide-output": false
   },
   "outputs": [],
   "source": [
    "wdi.loc[([\"United Kingdom\", \"Germany\"], 2010), \"GDP\"]"
   ]
  },
  {
   "cell_type": "markdown",
   "id": "8e6543e5",
   "metadata": {},
   "source": [
    "As shown above, we can use `wdi.loc` to extract different slices of our\n",
    "national accounts data.\n",
    "\n",
    "The rules for using `.loc` with a hierarchically-indexed DataFrame are\n",
    "similar to the ones we’ve learned for standard DataFrames, but they are a bit\n",
    "more elaborate as we now have more structure to our data.\n",
    "\n",
    "We will summarize the main rules, and then work through an exercise that\n",
    "demonstrates each of them.\n",
    "\n",
    "**Slicing rules**\n",
    "\n",
    "pandas slicing reacts differently to `list`s and `tuple`s.\n",
    "\n",
    "It does this to provide more flexibility to select the\n",
    "data you want.\n",
    "\n",
    "`list` in row slicing will be an “or” operation, where it chooses rows\n",
    "based on whether the index value corresponds to any element of the list.\n",
    "\n",
    "`tuple` in row slicing will be used to denote a single hierarchical\n",
    "index and must include a value for each level.\n",
    "\n",
    "**Row slicing examples**\n",
    "\n",
    "1. `wdi.loc[\"United States\"]`: all rows where the *outer* most index value is\n",
    "  equal to `United States`  \n",
    "1. `wdi.loc[(\"United States\", 2010)]`: all rows where the *outer-most* index value\n",
    "  is equal to `\"United States` and the second level is equal to `2010`  \n",
    "1. `wdi.loc[[\"United States\", \"Canada\"]]`: all rows where the *outer-most* index is\n",
    "  either `\"United States\"` or `\"Canada\"`  \n",
    "1. `wdi.loc[([\"United States\", \"Canada\"], [2010, 2011]), :]`: all rows where the\n",
    "  *outer-most* index is either `\"United States` or `\"Canada\"` AND where the\n",
    "  second level index is either `2010` or `2011`  \n",
    "1. `wdi.loc[[(\"United States\", 2010), (\"Canada\", 2011)], :]`: all rows where the the\n",
    "  two hierarchical indices are either `(\"United States\", 2010)` or\n",
    "  `(\"Canada\", 2011)`  \n",
    "\n",
    "\n",
    "We can also restrict `.loc` to extract certain columns by doing:\n",
    "\n",
    "1. `wdi.loc[rows, GDP]`: return the rows specified by rows (see rules\n",
    "  above) and only column named `GDP` (returned object will be a\n",
    "  Series)  \n",
    "1. `df.loc[rows, [\"GDP\", \"Consumption\"]]`: return the rows specified by rows\n",
    "  (see rules above) and only columns `GDP` and `Consumption`  "
   ]
  },
  {
   "cell_type": "markdown",
   "id": "01bf7499",
   "metadata": {},
   "source": [
    "### Exercise\n",
    "\n",
    "See exercise 2 in the [exercise list](#pd-idx-ex)."
   ]
  },
  {
   "cell_type": "markdown",
   "id": "a8480ad3",
   "metadata": {},
   "source": [
    "### Alignment with `MultiIndex`\n",
    "\n",
    "The data alignment features we talked about above also apply to a\n",
    "`MultiIndex` DataFrame.\n",
    "\n",
    "The exercise below gives you a chance to experiment with this."
   ]
  },
  {
   "cell_type": "markdown",
   "id": "02de38e3",
   "metadata": {},
   "source": [
    "### Exercise\n",
    "\n",
    "See exercise 3 in the [exercise list](#pd-idx-ex)."
   ]
  },
  {
   "cell_type": "markdown",
   "id": "c2b58129",
   "metadata": {},
   "source": [
    "### `pd.IndexSlice`\n",
    "\n",
    "When we want to extract rows for a few values of the outer index and all\n",
    "values for an inner index level, we can use the convenient\n",
    "`df.loc[[id11, id22]]` shorthand.\n",
    "\n",
    "We can use this notation to extract all the data for the United States and\n",
    "Canada."
   ]
  },
  {
   "cell_type": "code",
   "execution_count": null,
   "id": "9a7f8d2b",
   "metadata": {
    "hide-output": false
   },
   "outputs": [],
   "source": [
    "wdi.loc[[\"United States\", \"Canada\"]]"
   ]
  },
  {
   "cell_type": "markdown",
   "id": "145042ee",
   "metadata": {},
   "source": [
    "However, suppose we wanted to extract the data for all countries, but only the\n",
    "years 2005, 2007, and 2009.\n",
    "\n",
    "We cannot do this using `wdi.loc` because the year is on the second level,\n",
    "not outer-most level of our index.\n",
    "\n",
    "To get around this limitation, we can use the `pd.IndexSlice` helper.\n",
    "\n",
    "Here’s an example."
   ]
  },
  {
   "cell_type": "code",
   "execution_count": null,
   "id": "d96c8753",
   "metadata": {
    "hide-output": false
   },
   "outputs": [],
   "source": [
    "wdi.loc[pd.IndexSlice[:, [2005, 2007, 2009]], :]"
   ]
  },
  {
   "cell_type": "markdown",
   "id": "645f1a90",
   "metadata": {},
   "source": [
    "Notice that the `:` in the first part of `[:, [\"A\", \"D\"]]`\n",
    "instructed pandas to give us rows for all values of the outer most index\n",
    "level and that the `:` just before `]` said grab all the columns."
   ]
  },
  {
   "cell_type": "markdown",
   "id": "08b55023",
   "metadata": {},
   "source": [
    "### Exercise\n",
    "\n",
    "See exercise 4 in the [exercise list](#pd-idx-ex)."
   ]
  },
  {
   "cell_type": "markdown",
   "id": "5eb9b928",
   "metadata": {},
   "source": [
    "### Multi-index Columns\n",
    "\n",
    "The functionality of `MultiIndex` also applies to the column names.\n",
    "\n",
    "Let’s see how it works."
   ]
  },
  {
   "cell_type": "code",
   "execution_count": null,
   "id": "c89734b5",
   "metadata": {
    "hide-output": false
   },
   "outputs": [],
   "source": [
    "wdiT = wdi.T  # .T means \"transpose\" or \"swap rows and columns\"\n",
    "wdiT"
   ]
  },
  {
   "cell_type": "markdown",
   "id": "34b899c4",
   "metadata": {},
   "source": [
    "Notice that `wdiT` seems to have two levels of names for the columns.\n",
    "\n",
    "The same logic laid out in the above row slicing rules applies when we\n",
    "have a hierarchical index for column names."
   ]
  },
  {
   "cell_type": "code",
   "execution_count": null,
   "id": "b1fadb91",
   "metadata": {
    "hide-output": false
   },
   "outputs": [],
   "source": [
    "wdiT.loc[:, \"United States\"]"
   ]
  },
  {
   "cell_type": "code",
   "execution_count": null,
   "id": "dfa03d59",
   "metadata": {
    "hide-output": false
   },
   "outputs": [],
   "source": [
    "wdiT.loc[:, [\"United States\", \"Canada\"]]"
   ]
  },
  {
   "cell_type": "code",
   "execution_count": null,
   "id": "e372d771",
   "metadata": {
    "hide-output": false
   },
   "outputs": [],
   "source": [
    "wdiT.loc[:, ([\"United States\", \"Canada\"], 2010)]"
   ]
  },
  {
   "cell_type": "markdown",
   "id": "fa42d2db",
   "metadata": {},
   "source": [
    "### Exercise\n",
    "\n",
    "See exercise 5 in the [exercise list](#pd-idx-ex)."
   ]
  },
  {
   "cell_type": "markdown",
   "id": "8a587552",
   "metadata": {},
   "source": [
    "## Re-setting the Index\n",
    "\n",
    "The `df.reset_index` method will move one or more level of the index\n",
    "back into the DataFrame as a normal column.\n",
    "\n",
    "With no additional arguments, it moves all levels out of the index and\n",
    "sets the index of the returned DataFrame to the default of\n",
    "`range(df.shape[0])`."
   ]
  },
  {
   "cell_type": "code",
   "execution_count": null,
   "id": "c59a3dfb",
   "metadata": {
    "hide-output": false
   },
   "outputs": [],
   "source": [
    "wdi.reset_index()"
   ]
  },
  {
   "cell_type": "markdown",
   "id": "f9a45a3d",
   "metadata": {},
   "source": [
    "## Exercise\n",
    "\n",
    "See exercise 6 in the [exercise list](#pd-idx-ex)."
   ]
  },
  {
   "cell_type": "markdown",
   "id": "ea9ca960",
   "metadata": {},
   "source": [
    "## Choose the Index Carefully\n",
    "\n",
    "So, now that we know that we use index and column names for\n",
    "aligning data, “how should we pick the index?” is a natural question to ask.\n",
    "\n",
    "To guide us to the right answer, we will list the first two components\n",
    "to [Hadley Wickham’s](http://hadley.nz/) description of [tidy\n",
    "data](http://vita.had.co.nz/papers/tidy-data.html):\n",
    "\n",
    "1. Each column should each have one variable.  \n",
    "1. Each row should each have one observation.  \n",
    "\n",
    "\n",
    "If we strive to have our data in a tidy form (we should), then when\n",
    "choosing the index, we should set:\n",
    "\n",
    "- the row labels (index) to be a unique identifier for an observation\n",
    "  of data  \n",
    "- the column names to identify one variable  \n",
    "\n",
    "\n",
    "For example, suppose we are looking data on interest rates.\n",
    "\n",
    "Each column might represent one bond or asset and each row might\n",
    "represent the date.\n",
    "\n",
    "Using hierarchical row and column indices allows us to store higher\n",
    "dimensional data in our (inherently) two dimensional DataFrame."
   ]
  },
  {
   "cell_type": "markdown",
   "id": "5707bc3b",
   "metadata": {},
   "source": [
    "### Know Your Goal\n",
    "\n",
    "The correct column(s) to choose for the index often depends on the context of\n",
    "your analysis.\n",
    "\n",
    "For example, if I were studying how GDP and consumption evolved over time for\n",
    "various countries, I would want time (year) and country name on the index\n",
    "\n",
    "On the other hand, if I were trying to look at the differences across countries\n",
    "and variables within a particular year, I may opt to put the country and\n",
    "variable on the index and have years be columns.\n",
    "\n",
    "Following the tidy data rules above and thinking about how you intend to *use*\n",
    "the data – and a little practice – will enable you to consistently select the\n",
    "correct index.\n",
    "\n",
    "\n",
    "<a id='pd-idx-ex'></a>"
   ]
  },
  {
   "cell_type": "markdown",
   "id": "02aee3f7",
   "metadata": {},
   "source": [
    "## Exercises"
   ]
  },
  {
   "cell_type": "markdown",
   "id": "d556277a",
   "metadata": {},
   "source": [
    "### Exercise 1\n",
    "\n",
    "What happens when you apply the `mean` method to `im_ex_tiny`?\n",
    "\n",
    "In particular, what happens to columns that have missing data?\n",
    "\n",
    "Also looking at the output of the `sum` method might help.\n",
    "\n",
    "([back to text](#pd-idx-dir1))"
   ]
  },
  {
   "cell_type": "markdown",
   "id": "a2b81966",
   "metadata": {},
   "source": [
    "### Exercise 2\n",
    "\n",
    "For each of the examples below do the following:\n",
    "\n",
    "- Determine which of the rules above applies.  \n",
    "- Identify the `type` of the returned value.  \n",
    "- Explain why the slicing operation returned the data it did.  \n",
    "\n",
    "\n",
    "Write your answers."
   ]
  },
  {
   "cell_type": "code",
   "execution_count": null,
   "id": "2080ade1",
   "metadata": {
    "hide-output": false
   },
   "outputs": [],
   "source": [
    "wdi.loc[[\"United States\", \"Canada\"]]"
   ]
  },
  {
   "cell_type": "code",
   "execution_count": null,
   "id": "9ece81c0",
   "metadata": {
    "hide-output": false
   },
   "outputs": [],
   "source": [
    "wdi.loc[([\"United States\", \"Canada\"], [2010, 2011, 2012]), :]"
   ]
  },
  {
   "cell_type": "code",
   "execution_count": null,
   "id": "fc1184b7",
   "metadata": {
    "hide-output": false
   },
   "outputs": [],
   "source": [
    "wdi.loc[\"United States\"]"
   ]
  },
  {
   "cell_type": "code",
   "execution_count": null,
   "id": "1d76a49e",
   "metadata": {
    "hide-output": false
   },
   "outputs": [],
   "source": [
    "wdi.loc[(\"United States\", 2010), [\"GDP\", \"Exports\"]]"
   ]
  },
  {
   "cell_type": "code",
   "execution_count": null,
   "id": "93ad1bef",
   "metadata": {
    "hide-output": false
   },
   "outputs": [],
   "source": [
    "wdi.loc[(\"United States\", 2010)]"
   ]
  },
  {
   "cell_type": "code",
   "execution_count": null,
   "id": "60b177be",
   "metadata": {
    "hide-output": false
   },
   "outputs": [],
   "source": [
    "wdi.loc[[(\"United States\", 2010), (\"Canada\", 2015)]]"
   ]
  },
  {
   "cell_type": "code",
   "execution_count": null,
   "id": "03a3f9f0",
   "metadata": {
    "hide-output": false
   },
   "outputs": [],
   "source": [
    "wdi.loc[[\"United States\", \"Canada\"], \"GDP\"]"
   ]
  },
  {
   "cell_type": "code",
   "execution_count": null,
   "id": "8d969f24",
   "metadata": {
    "hide-output": false
   },
   "outputs": [],
   "source": [
    "wdi.loc[\"United States\", \"GDP\"]"
   ]
  },
  {
   "cell_type": "markdown",
   "id": "d031f4a2",
   "metadata": {},
   "source": [
    "([back to text](#pd-idx-dir2))"
   ]
  },
  {
   "cell_type": "markdown",
   "id": "2435132b",
   "metadata": {},
   "source": [
    "### Exercise 3\n",
    "\n",
    "Try setting `my_df` to some subset of the rows in `wdi` (use one of the\n",
    "`.loc` variations above).\n",
    "\n",
    "Then see what happens when you do `wdi / my_df` or `my_df ** wdi`.\n",
    "\n",
    "Try changing the subset of rows in `my_df` and repeat until you\n",
    "understand what is happening.\n",
    "\n",
    "([back to text](#pd-idx-dir3))"
   ]
  },
  {
   "cell_type": "markdown",
   "id": "2a87ca61",
   "metadata": {},
   "source": [
    "### Exercise 4\n",
    "\n",
    "Below, we create `wdi2`, which is the same as `df4` except that the\n",
    "levels of the index are swapped.\n",
    "\n",
    "In the cells after `df6` is defined, we have commented out\n",
    "a few of the slicing examples from the previous exercise.\n",
    "\n",
    "For each of these examples, use `pd.IndexSlice` to extract the same\n",
    "data from `df6`.\n",
    "\n",
    "You will need to *swap* the order of the row slicing arguments\n",
    "within the `pd.IndexSlice`."
   ]
  },
  {
   "cell_type": "code",
   "execution_count": null,
   "id": "8aed1799",
   "metadata": {
    "hide-output": false
   },
   "outputs": [],
   "source": [
    "wdi2 = df.set_index([\"year\", \"country\"])"
   ]
  },
  {
   "cell_type": "code",
   "execution_count": null,
   "id": "0eaefb5b",
   "metadata": {
    "hide-output": false
   },
   "outputs": [],
   "source": [
    "# wdi.loc[\"United States\"]"
   ]
  },
  {
   "cell_type": "code",
   "execution_count": null,
   "id": "53eaa0bc",
   "metadata": {
    "hide-output": false
   },
   "outputs": [],
   "source": [
    "# wdi.loc[([\"United States\", \"Canada\"], [2010, 2011, 2012]), :]"
   ]
  },
  {
   "cell_type": "code",
   "execution_count": null,
   "id": "dd5a4a95",
   "metadata": {
    "hide-output": false
   },
   "outputs": [],
   "source": [
    "# wdi.loc[[\"United States\", \"Canada\"], \"GDP\"]"
   ]
  },
  {
   "cell_type": "markdown",
   "id": "121567c3",
   "metadata": {},
   "source": [
    "([back to text](#pd-idx-dir4))"
   ]
  },
  {
   "cell_type": "markdown",
   "id": "c2dc3584",
   "metadata": {},
   "source": [
    "### Exercise 5\n",
    "\n",
    "Use `pd.IndexSlice` to extract all data from `wdiT` where the `year`\n",
    "level of the column names (the second level) is one of 2010, 2012, and 2014\n",
    "\n",
    "([back to text](#pd-idx-dir5))"
   ]
  },
  {
   "cell_type": "markdown",
   "id": "a999325a",
   "metadata": {},
   "source": [
    "### Exercise 6\n",
    "\n",
    "Look up the documentation for the `reset_index` method and study it to\n",
    "learn how to do the following:\n",
    "\n",
    "- Move just the `year` level of the index back as a column.  \n",
    "- Completely throw away all levels of the index.  \n",
    "- Remove the `country` of the index and *do not* keep it as a column.  "
   ]
  },
  {
   "cell_type": "code",
   "execution_count": null,
   "id": "70c7952c",
   "metadata": {
    "hide-output": false
   },
   "outputs": [],
   "source": [
    "# remove just year level and add as column"
   ]
  },
  {
   "cell_type": "code",
   "execution_count": null,
   "id": "d29085bc",
   "metadata": {
    "hide-output": false
   },
   "outputs": [],
   "source": [
    "# throw away all levels of index"
   ]
  },
  {
   "cell_type": "code",
   "execution_count": null,
   "id": "5f5c4df2",
   "metadata": {
    "hide-output": false
   },
   "outputs": [],
   "source": [
    "# Remove country from the index -- don't keep it as a column"
   ]
  },
  {
   "cell_type": "markdown",
   "id": "b34dd78e",
   "metadata": {},
   "source": [
    "([back to text](#pd-idx-dir6))"
   ]
  }
 ],
 "metadata": {
  "date": 1680209447.858811,
  "filename": "the_index.md",
  "kernelspec": {
   "display_name": "Python",
   "language": "python3",
   "name": "python3"
  },
  "title": "The Index"
 },
 "nbformat": 4,
 "nbformat_minor": 5
}