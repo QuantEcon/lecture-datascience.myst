{
 "cells": [
  {
   "cell_type": "markdown",
   "id": "c111e210",
   "metadata": {},
   "source": [
    "# Collections\n",
    "\n",
    "**Prerequisites**\n",
    "\n",
    "- [Core data types](https://datascience.quantecon.org/basics.html)  \n",
    "\n",
    "\n",
    "**Outcomes**\n",
    "\n",
    "- Ordered Collections  \n",
    "  - Know what a list is and a tuple is  \n",
    "  - Know how to tell a list from a tuple  \n",
    "  - Understand the `range`, `zip` and `enumerate` functions  \n",
    "  - Be able to use common list methods like `append`, `sort`,\n",
    "    and `reverse`  \n",
    "- Associative Collections  \n",
    "  - Understand what a `dict` is  \n",
    "  - Know the distinction between a dicts keys and values  \n",
    "  - Understand when `dict`s are useful  \n",
    "  - Be familiar with common `dict` methods  \n",
    "- Sets  (optional)  \n",
    "  - Know what a set is  \n",
    "  - Understand how a set differs from a list and a tuple  \n",
    "  - Know when to use a set vs a list or a tuple  "
   ]
  },
  {
   "cell_type": "markdown",
   "id": "2453597b",
   "metadata": {},
   "source": [
    "## Ordered Collections"
   ]
  },
  {
   "cell_type": "markdown",
   "id": "3676d05e",
   "metadata": {},
   "source": [
    "### Lists\n",
    "\n",
    "A Python list is an ordered collection of items.\n",
    "\n",
    "We can create lists using the following syntax"
   ]
  },
  {
   "cell_type": "code",
   "execution_count": null,
   "id": "98c3a3e5",
   "metadata": {
    "hide-output": false
   },
   "outputs": [],
   "source": [
    "[item1, item2, ...,  itemN]"
   ]
  },
  {
   "cell_type": "markdown",
   "id": "8ebf52be",
   "metadata": {},
   "source": [
    "where the `...` represents any number of additional items.\n",
    "\n",
    "Each item can be of any type.\n",
    "\n",
    "Let’s create some lists."
   ]
  },
  {
   "cell_type": "code",
   "execution_count": null,
   "id": "1204c2ba",
   "metadata": {
    "hide-output": false
   },
   "outputs": [],
   "source": [
    "# created, but not assigned to a variable\n",
    "[2.0, 9.1, 12.5]"
   ]
  },
  {
   "cell_type": "code",
   "execution_count": null,
   "id": "a856a72b",
   "metadata": {
    "hide-output": false
   },
   "outputs": [],
   "source": [
    "# stored as the variable `x`\n",
    "x = [2.0, 9.1, 12.5]\n",
    "print(\"x has type\", type(x))\n",
    "x"
   ]
  },
  {
   "cell_type": "markdown",
   "id": "9b30d268",
   "metadata": {},
   "source": [
    "#### What Can We Do with Lists?\n",
    "\n",
    "We can access items in a list called `mylist` using `mylist[N]`\n",
    "where `N` is an integer.\n",
    "\n",
    "Note: Anytime that we use the syntax `x[i]` we are doing what is\n",
    "called indexing – it means that we are selecting a particular element\n",
    "of a *collection* `x`."
   ]
  },
  {
   "cell_type": "code",
   "execution_count": null,
   "id": "54f73b5e",
   "metadata": {
    "hide-output": false
   },
   "outputs": [],
   "source": [
    "x[1]"
   ]
  },
  {
   "cell_type": "markdown",
   "id": "319abc51",
   "metadata": {},
   "source": [
    "Wait? Why did `x[1]` return `9.1` when the first element in x is\n",
    "actually `2.0`?\n",
    "\n",
    "This happened because Python starts counting at zero!\n",
    "\n",
    "Lets repeat that one more time for emphasis **Python starts counting at zero**!\n",
    "\n",
    "To access the first element of x we must use `x[0]`:"
   ]
  },
  {
   "cell_type": "code",
   "execution_count": null,
   "id": "d2e3bb16",
   "metadata": {
    "hide-output": false
   },
   "outputs": [],
   "source": [
    "x[0]"
   ]
  },
  {
   "cell_type": "markdown",
   "id": "3bcc88aa",
   "metadata": {},
   "source": [
    "We can also determine how many items are in a list using the `len` function."
   ]
  },
  {
   "cell_type": "code",
   "execution_count": null,
   "id": "427def48",
   "metadata": {
    "hide-output": false
   },
   "outputs": [],
   "source": [
    "len(x)"
   ]
  },
  {
   "cell_type": "markdown",
   "id": "3891b617",
   "metadata": {},
   "source": [
    "What happens if we try to index with a number higher than the number of\n",
    "items in a list?"
   ]
  },
  {
   "cell_type": "code",
   "execution_count": null,
   "id": "577c9f19",
   "metadata": {
    "hide-output": false
   },
   "outputs": [],
   "source": [
    "# uncomment the line below and run\n",
    "# x[4]"
   ]
  },
  {
   "cell_type": "markdown",
   "id": "c919a435",
   "metadata": {},
   "source": [
    "We can check if a list contains an element using the `in` keyword."
   ]
  },
  {
   "cell_type": "code",
   "execution_count": null,
   "id": "f177ae4b",
   "metadata": {
    "hide-output": false
   },
   "outputs": [],
   "source": [
    "2.0 in x"
   ]
  },
  {
   "cell_type": "code",
   "execution_count": null,
   "id": "ea81ee8e",
   "metadata": {
    "hide-output": false
   },
   "outputs": [],
   "source": [
    "1.5 in x"
   ]
  },
  {
   "cell_type": "markdown",
   "id": "c2bc9b54",
   "metadata": {},
   "source": [
    "For our list `x`, other common operations we might want to do are…"
   ]
  },
  {
   "cell_type": "code",
   "execution_count": null,
   "id": "bfb8d611",
   "metadata": {
    "hide-output": false
   },
   "outputs": [],
   "source": [
    "x.reverse()\n",
    "x"
   ]
  },
  {
   "cell_type": "code",
   "execution_count": null,
   "id": "56d65bf4",
   "metadata": {
    "hide-output": false
   },
   "outputs": [],
   "source": [
    "number_list = [10, 25, 42, 1.0]\n",
    "print(number_list)\n",
    "number_list.sort()\n",
    "print(number_list)"
   ]
  },
  {
   "cell_type": "markdown",
   "id": "cb09814a",
   "metadata": {},
   "source": [
    "Note that in order to `sort`, we had to have all elements in our list\n",
    "be numbers (`int` and `float`), more on this [below](#inhomogenous-lists).\n",
    "\n",
    "We could actually do the same with a list of strings. In this case, `sort`\n",
    "will put the items in alphabetical order."
   ]
  },
  {
   "cell_type": "code",
   "execution_count": null,
   "id": "b528fab3",
   "metadata": {
    "hide-output": false
   },
   "outputs": [],
   "source": [
    "str_list = [\"NY\", \"AZ\", \"TX\"]\n",
    "print(str_list)\n",
    "str_list.sort()\n",
    "print(str_list)"
   ]
  },
  {
   "cell_type": "markdown",
   "id": "6e62a738",
   "metadata": {},
   "source": [
    "The `append` method adds an element to the end of existing list."
   ]
  },
  {
   "cell_type": "code",
   "execution_count": null,
   "id": "b3553f9c",
   "metadata": {
    "hide-output": false
   },
   "outputs": [],
   "source": [
    "num_list = [10, 25, 42, 8]\n",
    "print(num_list)\n",
    "num_list.append(10)\n",
    "print(num_list)"
   ]
  },
  {
   "cell_type": "markdown",
   "id": "01357ca4",
   "metadata": {},
   "source": [
    "However, if you call `append` with a list, it adds a `list` to the end,\n",
    "rather than the numbers in that list."
   ]
  },
  {
   "cell_type": "code",
   "execution_count": null,
   "id": "f8f6489a",
   "metadata": {
    "hide-output": false
   },
   "outputs": [],
   "source": [
    "num_list = [10, 25, 42, 8]\n",
    "print(num_list)\n",
    "num_list.append([20, 4])\n",
    "print(num_list)"
   ]
  },
  {
   "cell_type": "markdown",
   "id": "bbd25bb4",
   "metadata": {},
   "source": [
    "To combine the lists instead…"
   ]
  },
  {
   "cell_type": "code",
   "execution_count": null,
   "id": "c2a330d3",
   "metadata": {
    "hide-output": false
   },
   "outputs": [],
   "source": [
    "num_list = [10, 25, 42, 8]\n",
    "print(num_list)\n",
    "num_list.extend([20, 4])\n",
    "print(num_list)"
   ]
  },
  {
   "cell_type": "markdown",
   "id": "8d8ace50",
   "metadata": {},
   "source": [
    "#### Exercise\n",
    "\n",
    "See exercise 1 in the [exercise list](#ex2-2).\n",
    "\n",
    "\n",
    "<a id='inhomogenous-lists'></a>"
   ]
  },
  {
   "cell_type": "markdown",
   "id": "87b14721",
   "metadata": {},
   "source": [
    "### Lists of Different Types\n",
    "\n",
    "While most examples above have all used a `list` with\n",
    "a single type of variable, this is not required.\n",
    "\n",
    "Let’s carefully make a small change to the first example: replace `2.0` with `2`"
   ]
  },
  {
   "cell_type": "code",
   "execution_count": null,
   "id": "3380dc32",
   "metadata": {
    "hide-output": false
   },
   "outputs": [],
   "source": [
    "x = [2, 9.1, 12.5]"
   ]
  },
  {
   "cell_type": "markdown",
   "id": "bfa04b47",
   "metadata": {},
   "source": [
    "This behavior is identical for many operations you might\n",
    "apply to a list."
   ]
  },
  {
   "cell_type": "code",
   "execution_count": null,
   "id": "97d3f6cb",
   "metadata": {
    "hide-output": false
   },
   "outputs": [],
   "source": [
    "import numpy as np\n",
    "x = [2, 9.1, 12.5]\n",
    "np.mean(x) == sum(x)/len(x)"
   ]
  },
  {
   "cell_type": "markdown",
   "id": "f1d0db63",
   "metadata": {},
   "source": [
    "Here we have also introduced a new [module](https://datascience.quantecon.org/basics.html#modules),\n",
    "[Numpy](https://datascience.quantecon.org/../scientific/index.html), which provides many functions\n",
    "for working with numeric data.\n",
    "\n",
    "Taking this further, we can put completely different types of elements\n",
    "inside of a list."
   ]
  },
  {
   "cell_type": "code",
   "execution_count": null,
   "id": "5b8c9312",
   "metadata": {
    "hide-output": false
   },
   "outputs": [],
   "source": [
    "# stored as the variable `x`\n",
    "x = [2, \"hello\", 3.0]\n",
    "print(\"x has type\", type(x))\n",
    "x"
   ]
  },
  {
   "cell_type": "markdown",
   "id": "b3a7e6d1",
   "metadata": {},
   "source": [
    "To see the types of individual elements in the list:"
   ]
  },
  {
   "cell_type": "code",
   "execution_count": null,
   "id": "5b46863f",
   "metadata": {
    "hide-output": false
   },
   "outputs": [],
   "source": [
    "print(f\"type(x[0]) = {type(x[0])}, type(x[0]) = {type(x[1])}, type(x[2]) = {type(x[2])}\")"
   ]
  },
  {
   "cell_type": "markdown",
   "id": "18b2b362",
   "metadata": {},
   "source": [
    "While no programming limitations prevent this, you should be careful if you write code\n",
    "with different numeric and non-numeric types in the same list.\n",
    "\n",
    "For example, if the types within the list cannot be compared, then how could you sort the elements of the list? (i.e. How do you determine whether the string “hello” is less than the integer 2, “hello” < 2?)"
   ]
  },
  {
   "cell_type": "code",
   "execution_count": null,
   "id": "e56dec77",
   "metadata": {
    "hide-output": false
   },
   "outputs": [],
   "source": [
    "x = [2, \"hello\", 3.0]\n",
    "# uncomment the line below and see what happens!\n",
    "# x.sort()"
   ]
  },
  {
   "cell_type": "markdown",
   "id": "bdcab884",
   "metadata": {},
   "source": [
    "A few key exceptions to this general rule are:\n",
    "\n",
    "- Lists with both integers and floating points are less error-prone\n",
    "  (since mathematical code using the list would work with both types).  \n",
    "- When working with lists and data, you may want to represent missing\n",
    "  values with a different type than the existing values.  "
   ]
  },
  {
   "cell_type": "markdown",
   "id": "fd5b8678",
   "metadata": {},
   "source": [
    "### The `range` Function\n",
    "\n",
    "One function you will see often in Python is the `range` function.\n",
    "\n",
    "It has three versions:\n",
    "\n",
    "1. `range(N)`: goes from 0 to N-1  \n",
    "1. `range(a, N)`: goes from a to N-1  \n",
    "1. `range(a, N, d)`: goes from a to N-1, counting by d  \n",
    "\n",
    "\n",
    "When we call the `range` function, we get back something that has type `range`:"
   ]
  },
  {
   "cell_type": "code",
   "execution_count": null,
   "id": "f278c437",
   "metadata": {
    "hide-output": false
   },
   "outputs": [],
   "source": [
    "r = range(5)\n",
    "print(\"type(r)\", type(r))"
   ]
  },
  {
   "cell_type": "markdown",
   "id": "3fb3ea52",
   "metadata": {},
   "source": [
    "To turn the `range` into a list:"
   ]
  },
  {
   "cell_type": "code",
   "execution_count": null,
   "id": "6095f965",
   "metadata": {
    "hide-output": false
   },
   "outputs": [],
   "source": [
    "list(r)"
   ]
  },
  {
   "cell_type": "markdown",
   "id": "8cc536d0",
   "metadata": {},
   "source": [
    "### Exercise\n",
    "\n",
    "See exercise 2 in the [exercise list](#ex2-2)."
   ]
  },
  {
   "cell_type": "markdown",
   "id": "1c0dbfaf",
   "metadata": {},
   "source": [
    "### What are Tuples?\n",
    "\n",
    "Tuples are very similar to lists and hold ordered collections of items.\n",
    "\n",
    "However, tuples and lists have three main differences:\n",
    "\n",
    "1. Tuples are created using parenthesis — `(` and `)` — instead of\n",
    "  square brackets — `[` and `]`.  \n",
    "1. Tuples are *immutable*, which is a fancy computer science word\n",
    "  meaning that they can’t be changed or altered after they are created.  \n",
    "1. Tuples and multiple return values\n",
    "  from functions are tightly connected, as we will see in [functions](https://datascience.quantecon.org/functions.html).  "
   ]
  },
  {
   "cell_type": "code",
   "execution_count": null,
   "id": "c819a46f",
   "metadata": {
    "hide-output": false
   },
   "outputs": [],
   "source": [
    "t = (1, \"hello\", 3.0)\n",
    "print(\"t is a\", type(t))\n",
    "t"
   ]
  },
  {
   "cell_type": "markdown",
   "id": "0378f8cf",
   "metadata": {},
   "source": [
    "We can *convert* a list to a tuple by calling the `tuple` function on\n",
    "a list."
   ]
  },
  {
   "cell_type": "code",
   "execution_count": null,
   "id": "2028d1c6",
   "metadata": {
    "hide-output": false
   },
   "outputs": [],
   "source": [
    "print(\"x is a\", type(x))\n",
    "print(\"tuple(x) is a\", type(tuple(x)))\n",
    "tuple(x)"
   ]
  },
  {
   "cell_type": "markdown",
   "id": "39594ac2",
   "metadata": {},
   "source": [
    "We can also convert a tuple to a list using the list function."
   ]
  },
  {
   "cell_type": "code",
   "execution_count": null,
   "id": "d3470c0e",
   "metadata": {
    "hide-output": false
   },
   "outputs": [],
   "source": [
    "list(t)"
   ]
  },
  {
   "cell_type": "markdown",
   "id": "8ba82449",
   "metadata": {},
   "source": [
    "As with a list, we access items in a tuple `t` using `t[N]` where\n",
    "`N` is an int."
   ]
  },
  {
   "cell_type": "code",
   "execution_count": null,
   "id": "130cdb02",
   "metadata": {
    "hide-output": false
   },
   "outputs": [],
   "source": [
    "t[0]  # still start counting at 0"
   ]
  },
  {
   "cell_type": "code",
   "execution_count": null,
   "id": "3e94a7eb",
   "metadata": {
    "hide-output": false
   },
   "outputs": [],
   "source": [
    "t[2]"
   ]
  },
  {
   "cell_type": "markdown",
   "id": "ac387abb",
   "metadata": {},
   "source": [
    "### Exercise\n",
    "\n",
    "See exercise 3 in the [exercise list](#ex2-2).\n",
    "\n",
    "Tuples (and lists) can be unpacked directly into variables."
   ]
  },
  {
   "cell_type": "code",
   "execution_count": null,
   "id": "abea4bac",
   "metadata": {
    "hide-output": false
   },
   "outputs": [],
   "source": [
    "x, y = (1, \"test\")\n",
    "print(f\"x = {x}, y = {y}\")"
   ]
  },
  {
   "cell_type": "markdown",
   "id": "b41ee167",
   "metadata": {},
   "source": [
    "This will be a convenient way to work with functions returning\n",
    "multiple values, as well as within [comprehensions and loops](https://datascience.quantecon.org/control_flow.html)."
   ]
  },
  {
   "cell_type": "markdown",
   "id": "bc46522d",
   "metadata": {},
   "source": [
    "### List vs Tuple: Which to Use?\n",
    "\n",
    "Should you use a list or tuple?\n",
    "\n",
    "This depends on what you are storing, whether you might need to reorder the elements,\n",
    "or whether you’d add\n",
    "new elements without a complete reinterpretation of the\n",
    "underlying data.\n",
    "\n",
    "For example, take data representing the GDP (in trillions) and population\n",
    "(in billions) for China in 2015."
   ]
  },
  {
   "cell_type": "code",
   "execution_count": null,
   "id": "2a0d7674",
   "metadata": {
    "hide-output": false
   },
   "outputs": [],
   "source": [
    "china_data_2015 = (\"China\", 2015, 11.06, 1.371)\n",
    "\n",
    "print(china_data_2015)"
   ]
  },
  {
   "cell_type": "markdown",
   "id": "db4994c6",
   "metadata": {},
   "source": [
    "In this case, we have used a tuple since: (a) ordering would\n",
    "be meaningless; and (b) adding more data would require a\n",
    "reinterpretation of the whole data structure.\n",
    "\n",
    "On the other hand, consider a list of GDP in China between\n",
    "2013 and 2015."
   ]
  },
  {
   "cell_type": "code",
   "execution_count": null,
   "id": "ac163bae",
   "metadata": {
    "hide-output": false
   },
   "outputs": [],
   "source": [
    "gdp_data = [9.607, 10.48, 11.06]\n",
    "print(gdp_data)"
   ]
  },
  {
   "cell_type": "markdown",
   "id": "ebb7fa7e",
   "metadata": {},
   "source": [
    "In this case, we have used a list, since adding on a new\n",
    "element to the end of the list for GDP in 2016 would make\n",
    "complete sense.\n",
    "\n",
    "Along these lines, collecting data on China for different\n",
    "years may make sense as a list of tuples (e.g. year, GDP,\n",
    "and population – although we will see better ways to store this sort of data\n",
    "in the [Pandas](https://datascience.quantecon.org/../pandas/index.html) section)."
   ]
  },
  {
   "cell_type": "code",
   "execution_count": null,
   "id": "bcf1d01f",
   "metadata": {
    "hide-output": false
   },
   "outputs": [],
   "source": [
    "china_data = [(2015, 11.06, 1.371), (2014, 10.48, 1.364), (2013, 9.607, 1.357)]\n",
    "print(china_data)"
   ]
  },
  {
   "cell_type": "markdown",
   "id": "e44437fa",
   "metadata": {},
   "source": [
    "In general, a rule of thumb is to use a list unless you *need* to use a tuple.\n",
    "\n",
    "Key criteria for tuple use are when you want to:\n",
    "\n",
    "- ensure the *order* of elements can’t change  \n",
    "- ensure the actual values of the elements can’t\n",
    "  change  \n",
    "- use the collection as a key in a dict (we will learn what this\n",
    "  means [soon](#dictionaries))  "
   ]
  },
  {
   "cell_type": "markdown",
   "id": "a6b4719e",
   "metadata": {},
   "source": [
    "### `zip` and `enumerate`\n",
    "\n",
    "Two functions that can be extremely useful are `zip` and `enumerate`.\n",
    "\n",
    "Both of these functions are best understood by example, so let’s see\n",
    "them in action and then talk about what they do."
   ]
  },
  {
   "cell_type": "code",
   "execution_count": null,
   "id": "30724821",
   "metadata": {
    "hide-output": false
   },
   "outputs": [],
   "source": [
    "gdp_data = [9.607, 10.48, 11.06]\n",
    "years = [2013, 2014, 2015]\n",
    "z = zip(years, gdp_data)\n",
    "print(\"type(z)\", type(z))"
   ]
  },
  {
   "cell_type": "markdown",
   "id": "997b3467",
   "metadata": {},
   "source": [
    "To see what is inside `z`, let’s convert it to a list."
   ]
  },
  {
   "cell_type": "code",
   "execution_count": null,
   "id": "b7c4fcc9",
   "metadata": {
    "hide-output": false
   },
   "outputs": [],
   "source": [
    "list(z)"
   ]
  },
  {
   "cell_type": "markdown",
   "id": "782599e3",
   "metadata": {},
   "source": [
    "Notice that we now have a list where each item is a tuple.\n",
    "\n",
    "Within each tuple, we have one item from each of the collections we\n",
    "passed to the zip function.\n",
    "\n",
    "In particular, the first item in `z` contains the first item from\n",
    "`[2013, 2014, 2015]` and the first item from `[9.607, 10.48, 11.06]`.\n",
    "\n",
    "The second item in `z` contains the second item from each collection\n",
    "and so on.\n",
    "\n",
    "We can access an element in this and then unpack the resulting\n",
    "tuple directly into variables."
   ]
  },
  {
   "cell_type": "code",
   "execution_count": null,
   "id": "eaa690c7",
   "metadata": {
    "hide-output": false
   },
   "outputs": [],
   "source": [
    "l = list(zip(years, gdp_data))\n",
    "x, y = l[0]\n",
    "print(f\"year = {x}, GDP = {y}\")"
   ]
  },
  {
   "cell_type": "markdown",
   "id": "79ca944e",
   "metadata": {},
   "source": [
    "Now let’s experiment with `enumerate`."
   ]
  },
  {
   "cell_type": "code",
   "execution_count": null,
   "id": "1b0f44d5",
   "metadata": {
    "hide-output": false
   },
   "outputs": [],
   "source": [
    "e = enumerate([\"a\", \"b\", \"c\"])\n",
    "print(\"type(e)\", type(e))\n",
    "e"
   ]
  },
  {
   "cell_type": "markdown",
   "id": "e6120d9c",
   "metadata": {},
   "source": [
    "Again, we call `list(e)` to see what is inside."
   ]
  },
  {
   "cell_type": "code",
   "execution_count": null,
   "id": "e7087781",
   "metadata": {
    "hide-output": false
   },
   "outputs": [],
   "source": [
    "list(e)"
   ]
  },
  {
   "cell_type": "markdown",
   "id": "f198cc95",
   "metadata": {},
   "source": [
    "We again have a list of tuples, but this time, the first element in each\n",
    "tuple is the *index* of the second tuple element in the initial\n",
    "collection.\n",
    "\n",
    "Notice that the third item is `(2, 'c')` because\n",
    "`[\"a\", \"b\", \"c\"][2]` is `'c'`"
   ]
  },
  {
   "cell_type": "markdown",
   "id": "4b487762",
   "metadata": {},
   "source": [
    "### Exercise\n",
    "\n",
    "See exercise 4 in the [exercise list](#ex2-2).\n",
    "\n",
    "An important quirk of some iterable types that are not lists (such as the above `zip`) is that\n",
    "you cannot convert the same type to a list twice.\n",
    "\n",
    "This is because `zip`, `enumerate`, and `range` produce what is called a generator.\n",
    "\n",
    "A generator will only produce each of its elements a single time, so if you call `list` on the same\n",
    "generator a second time, it will not have any elements to iterate over anymore.\n",
    "\n",
    "For more information, refer to the [Python documentation](https://docs.python.org/3/howto/functional.html#generators)."
   ]
  },
  {
   "cell_type": "code",
   "execution_count": null,
   "id": "49112d93",
   "metadata": {
    "hide-output": false
   },
   "outputs": [],
   "source": [
    "gdp_data = [9.607, 10.48, 11.06]\n",
    "years = [2013, 2014, 2015]\n",
    "z = zip(years, gdp_data)\n",
    "l = list(z)\n",
    "print(l)\n",
    "m = list(z)\n",
    "print(m)"
   ]
  },
  {
   "cell_type": "markdown",
   "id": "341ba10e",
   "metadata": {},
   "source": [
    "## Associative Collections\n",
    "\n",
    "\n",
    "<a id='dictionaries'></a>"
   ]
  },
  {
   "cell_type": "markdown",
   "id": "49c8bca2",
   "metadata": {},
   "source": [
    "### Dictionaries\n",
    "\n",
    "A dictionary (or dict) associates `key`s with `value`s.\n",
    "\n",
    "It will feel similar to a dictionary for words, where the keys are words and\n",
    "the values are the associated definitions.\n",
    "\n",
    "The most common way to create a `dict` is to use curly braces — `{`\n",
    "and `}` — like this:"
   ]
  },
  {
   "cell_type": "code",
   "execution_count": null,
   "id": "faa6618b",
   "metadata": {
    "hide-output": false
   },
   "outputs": [],
   "source": [
    "{\"key1\": value1, \"key2\": value2, ..., \"keyN\": valueN}"
   ]
  },
  {
   "cell_type": "markdown",
   "id": "13b1399d",
   "metadata": {},
   "source": [
    "where the `...` indicates that we can have any number of additional\n",
    "terms.\n",
    "\n",
    "The crucial part of the syntax is that each key-value pair is written\n",
    "`key: value` and that these pairs are separated by commas — `,`.\n",
    "\n",
    "Let’s see an example using our aggregate data on China in 2015."
   ]
  },
  {
   "cell_type": "code",
   "execution_count": null,
   "id": "1700255d",
   "metadata": {
    "hide-output": false
   },
   "outputs": [],
   "source": [
    "china_data = {\"country\": \"China\", \"year\": 2015, \"GDP\" : 11.06, \"population\": 1.371}\n",
    "print(china_data)"
   ]
  },
  {
   "cell_type": "markdown",
   "id": "713f884c",
   "metadata": {},
   "source": [
    "Unlike our above example using a `tuple`, a `dict` allows us to\n",
    "associate a name with each field, rather than having to remember the\n",
    "order within the tuple.\n",
    "\n",
    "Often, code that makes a dict is easier to read if we put each\n",
    "`key: value` pair on its own line. (Recall our earlier comment on\n",
    "using whitespace effectively to improve readability!)\n",
    "\n",
    "The code below is equivalent to what we saw above."
   ]
  },
  {
   "cell_type": "code",
   "execution_count": null,
   "id": "f6bbebe5",
   "metadata": {
    "hide-output": false
   },
   "outputs": [],
   "source": [
    "china_data = {\n",
    "    \"country\": \"China\",\n",
    "    \"year\": 2015,\n",
    "    \"GDP\" : 11.06,\n",
    "    \"population\": 1.371\n",
    "}"
   ]
  },
  {
   "cell_type": "markdown",
   "id": "49d3ae24",
   "metadata": {},
   "source": [
    "Most often, the keys (e.g. “country”, “year”, “GDP”, and “population”)\n",
    "will be strings, but we could also use numbers (`int`, or\n",
    "`float`) or even tuples (or, rarely, a combination of types).\n",
    "\n",
    "The values can be **any** type and different from each other."
   ]
  },
  {
   "cell_type": "markdown",
   "id": "eaf2821a",
   "metadata": {},
   "source": [
    "### Exercise\n",
    "\n",
    "See exercise 5 in the [exercise list](#ex2-2).\n",
    "\n",
    "This next example is meant to emphasize how values can be\n",
    "*anything* – including another dictionary."
   ]
  },
  {
   "cell_type": "code",
   "execution_count": null,
   "id": "e013419a",
   "metadata": {
    "hide-output": false
   },
   "outputs": [],
   "source": [
    "companies = {\"AAPL\": {\"bid\": 175.96, \"ask\": 175.98},\n",
    "             \"GE\": {\"bid\": 1047.03, \"ask\": 1048.40},\n",
    "             \"TVIX\": {\"bid\": 8.38, \"ask\": 8.40}}\n",
    "print(companies)"
   ]
  },
  {
   "cell_type": "markdown",
   "id": "6070f345",
   "metadata": {},
   "source": [
    "#### Getting, Setting, and Updating dict Items\n",
    "\n",
    "We can now ask Python to tell us the value for a particular key by using\n",
    "the syntax `d[k]`,  where `d` is our `dict` and `k` is the key for which we want to\n",
    "find the value.\n",
    "\n",
    "For example,"
   ]
  },
  {
   "cell_type": "code",
   "execution_count": null,
   "id": "e864fe2c",
   "metadata": {
    "hide-output": false
   },
   "outputs": [],
   "source": [
    "print(china_data[\"year\"])\n",
    "print(f\"country = {china_data['country']}, population = {china_data['population']}\")"
   ]
  },
  {
   "cell_type": "markdown",
   "id": "dfe2ab63",
   "metadata": {},
   "source": [
    "Note: when inside of a formatting string, you can use `'` instead of `\"` as above\n",
    "to ensure the formatting still works with the embedded code.\n",
    "\n",
    "If we ask for the value of a key that is not in the dict, we will get an error."
   ]
  },
  {
   "cell_type": "code",
   "execution_count": null,
   "id": "cbb96505",
   "metadata": {
    "hide-output": false
   },
   "outputs": [],
   "source": [
    "# uncomment the line below to see the error\n",
    "# china_data[\"inflation\"]"
   ]
  },
  {
   "cell_type": "markdown",
   "id": "f925defd",
   "metadata": {},
   "source": [
    "We can also add new items to a dict using the syntax `d[new_key] = new_value`.\n",
    "\n",
    "Let’s see some examples."
   ]
  },
  {
   "cell_type": "code",
   "execution_count": null,
   "id": "74723eab",
   "metadata": {
    "hide-output": false
   },
   "outputs": [],
   "source": [
    "print(china_data)\n",
    "china_data[\"unemployment\"] = \"4.05%\"\n",
    "print(china_data)"
   ]
  },
  {
   "cell_type": "markdown",
   "id": "28eee7ad",
   "metadata": {},
   "source": [
    "To update the value, we use assignment in the same way (which will\n",
    "create the key and value as required)."
   ]
  },
  {
   "cell_type": "code",
   "execution_count": null,
   "id": "4836b7d9",
   "metadata": {
    "hide-output": false
   },
   "outputs": [],
   "source": [
    "print(china_data)\n",
    "china_data[\"unemployment\"] = \"4.051%\"\n",
    "print(china_data)"
   ]
  },
  {
   "cell_type": "markdown",
   "id": "42171ba5",
   "metadata": {},
   "source": [
    "Or we could change the type."
   ]
  },
  {
   "cell_type": "code",
   "execution_count": null,
   "id": "cc4fc4c7",
   "metadata": {
    "hide-output": false
   },
   "outputs": [],
   "source": [
    "china_data[\"unemployment\"] = 4.051\n",
    "print(china_data)"
   ]
  },
  {
   "cell_type": "markdown",
   "id": "3c600750",
   "metadata": {},
   "source": [
    "#### Exercise\n",
    "\n",
    "See exercise 6 in the [exercise list](#ex2-2)."
   ]
  },
  {
   "cell_type": "markdown",
   "id": "44f02926",
   "metadata": {},
   "source": [
    "#### Common `dict` Functionality\n",
    "\n",
    "We can do some common things with dicts.\n",
    "\n",
    "We will demonstrate them with examples below."
   ]
  },
  {
   "cell_type": "code",
   "execution_count": null,
   "id": "0801b9e2",
   "metadata": {
    "hide-output": false
   },
   "outputs": [],
   "source": [
    "# number of key-value pairs in a dict\n",
    "len(china_data)"
   ]
  },
  {
   "cell_type": "code",
   "execution_count": null,
   "id": "3af0b728",
   "metadata": {
    "hide-output": false
   },
   "outputs": [],
   "source": [
    "# get a list of all the keys\n",
    "list(china_data.keys())"
   ]
  },
  {
   "cell_type": "code",
   "execution_count": null,
   "id": "d9c3441f",
   "metadata": {
    "hide-output": false
   },
   "outputs": [],
   "source": [
    "# get a list of all the values\n",
    "list(china_data.values())"
   ]
  },
  {
   "cell_type": "code",
   "execution_count": null,
   "id": "a9c73da0",
   "metadata": {
    "hide-output": false
   },
   "outputs": [],
   "source": [
    "more_china_data = {\"irrigated_land\": 690_070, \"top_religions\": {\"buddhist\": 18.2, \"christian\" : 5.1, \"muslim\": 1.8}}\n",
    "\n",
    "# Add all key-value pairs in mydict2 to mydict.\n",
    "# if the key already appears in mydict, overwrite the\n",
    "# value with the value in mydict2\n",
    "china_data.update(more_china_data)\n",
    "china_data"
   ]
  },
  {
   "cell_type": "code",
   "execution_count": null,
   "id": "6954345a",
   "metadata": {
    "hide-output": false
   },
   "outputs": [],
   "source": [
    "# Get the value associated with a key or return a default value\n",
    "# use this to avoid the NameError we saw above if you have a reasonable\n",
    "# default value\n",
    "china_data.get(\"irrigated_land\", \"Data Not Available\")"
   ]
  },
  {
   "cell_type": "code",
   "execution_count": null,
   "id": "c637581a",
   "metadata": {
    "hide-output": false
   },
   "outputs": [],
   "source": [
    "china_data.get(\"death_rate\", \"Data Not Available\")"
   ]
  },
  {
   "cell_type": "markdown",
   "id": "7b7ddc48",
   "metadata": {},
   "source": [
    "#### Exercise\n",
    "\n",
    "See exercise 7 in the [exercise list](#ex2-2)."
   ]
  },
  {
   "cell_type": "markdown",
   "id": "7c883eb1",
   "metadata": {},
   "source": [
    "#### Exercise\n",
    "\n",
    "See exercise 8 in the [exercise list](#ex2-2)."
   ]
  },
  {
   "cell_type": "markdown",
   "id": "4720feae",
   "metadata": {},
   "source": [
    "### Sets (Optional)\n",
    "\n",
    "Python has an additional way to represent collections of items: sets.\n",
    "\n",
    "Sets come up infrequently, but you should be aware of them.\n",
    "\n",
    "If you are familiar with the mathematical concept of sets, then you will\n",
    "understand the majority of Python sets already.\n",
    "\n",
    "If you don’t know the math behind sets, don’t worry: we’ll cover the\n",
    "basics of Python’s sets here.\n",
    "\n",
    "A set is an *unordered* collection of *unique* elements.\n",
    "\n",
    "The syntax for creating a set uses curly bracket `{` and `}`."
   ]
  },
  {
   "cell_type": "code",
   "execution_count": null,
   "id": "297e2636",
   "metadata": {
    "hide-output": false
   },
   "outputs": [],
   "source": [
    "{item1, item2, ..., itemN}"
   ]
  },
  {
   "cell_type": "markdown",
   "id": "9637fb74",
   "metadata": {},
   "source": [
    "Here is an example."
   ]
  },
  {
   "cell_type": "code",
   "execution_count": null,
   "id": "13ad087b",
   "metadata": {
    "hide-output": false
   },
   "outputs": [],
   "source": [
    "s = {1, \"hello\", 3.0}\n",
    "print(\"s has type\", type(s))\n",
    "s"
   ]
  },
  {
   "cell_type": "markdown",
   "id": "3288baf8",
   "metadata": {},
   "source": [
    "### Exercise\n",
    "\n",
    "See exercise 9 in the [exercise list](#ex2-2).\n",
    "\n",
    "As with lists and tuples, we can check if something is `in` the set\n",
    "and check the set’s length:"
   ]
  },
  {
   "cell_type": "code",
   "execution_count": null,
   "id": "c19ab89b",
   "metadata": {
    "hide-output": false
   },
   "outputs": [],
   "source": [
    "print(\"len(s) =\", len(s))\n",
    "\"hello\" in s"
   ]
  },
  {
   "cell_type": "markdown",
   "id": "556e3523",
   "metadata": {},
   "source": [
    "Unlike lists and tuples, we can’t extract elements of a set `s` using\n",
    "`s[N]` where `N` is a number."
   ]
  },
  {
   "cell_type": "code",
   "execution_count": null,
   "id": "e93899db",
   "metadata": {
    "hide-output": false
   },
   "outputs": [],
   "source": [
    "# Uncomment the line below to see what happens\n",
    "# s[1]"
   ]
  },
  {
   "cell_type": "markdown",
   "id": "ee9ce60a",
   "metadata": {},
   "source": [
    "This is because sets are not ordered, so the notion of getting the\n",
    "second element (`s[1]`) is not well defined.\n",
    "\n",
    "We add elements to a set `s` using `s.add`."
   ]
  },
  {
   "cell_type": "code",
   "execution_count": null,
   "id": "83b3f0d1",
   "metadata": {
    "hide-output": false
   },
   "outputs": [],
   "source": [
    "s.add(100)\n",
    "s"
   ]
  },
  {
   "cell_type": "code",
   "execution_count": null,
   "id": "b68fcf0e",
   "metadata": {
    "hide-output": false
   },
   "outputs": [],
   "source": [
    "s.add(\"hello\") # nothing happens, why?\n",
    "s"
   ]
  },
  {
   "cell_type": "markdown",
   "id": "48aa2328",
   "metadata": {},
   "source": [
    "We can also do set operations.\n",
    "\n",
    "Consider the set `s` from above and the set\n",
    "`s2 = {\"hello\", \"world\"}`.\n",
    "\n",
    "- `s.union(s2)`: returns a set with all elements in either `s` or\n",
    "  `s2`  \n",
    "- `s.intersection(s2)`: returns a set with all elements in both `s`\n",
    "  and `s2`  \n",
    "- `s.difference(s2)`: returns a set with all elements in `s` that\n",
    "  aren’t in `s2`  \n",
    "- `s.symmetric_difference(s2)`: returns a set with all elements in\n",
    "  only one of `s` and `s2`  "
   ]
  },
  {
   "cell_type": "markdown",
   "id": "2a641df9",
   "metadata": {},
   "source": [
    "### Exercise\n",
    "\n",
    "See exercise 10 in the [exercise list](#ex2-2).\n",
    "\n",
    "As with tuples and lists, a `set` function can convert other\n",
    "collections to sets."
   ]
  },
  {
   "cell_type": "code",
   "execution_count": null,
   "id": "556d6beb",
   "metadata": {
    "hide-output": false
   },
   "outputs": [],
   "source": [
    "x = [1, 2, 3, 1]\n",
    "set(x)"
   ]
  },
  {
   "cell_type": "code",
   "execution_count": null,
   "id": "9cd5f384",
   "metadata": {
    "hide-output": false
   },
   "outputs": [],
   "source": [
    "t = (1, 2, 3, 1)\n",
    "set(t)"
   ]
  },
  {
   "cell_type": "markdown",
   "id": "5eb03d04",
   "metadata": {},
   "source": [
    "Likewise, we can convert sets to lists and tuples."
   ]
  },
  {
   "cell_type": "code",
   "execution_count": null,
   "id": "9d3e671e",
   "metadata": {
    "hide-output": false
   },
   "outputs": [],
   "source": [
    "list(s)"
   ]
  },
  {
   "cell_type": "code",
   "execution_count": null,
   "id": "dbc062ae",
   "metadata": {
    "hide-output": false
   },
   "outputs": [],
   "source": [
    "tuple(s)"
   ]
  },
  {
   "cell_type": "markdown",
   "id": "9e2d3c9f",
   "metadata": {},
   "source": [
    "\n",
    "<a id='ex2-2'></a>"
   ]
  },
  {
   "cell_type": "markdown",
   "id": "a6fc56fc",
   "metadata": {},
   "source": [
    "## Exercises"
   ]
  },
  {
   "cell_type": "markdown",
   "id": "358bbe8b",
   "metadata": {},
   "source": [
    "### Exercise 1\n",
    "\n",
    "In the first cell, try `y.append(z)`.\n",
    "\n",
    "In the second cell try `y.extend(z)`.\n",
    "\n",
    "Explain the behavior.\n",
    "\n",
    "When you are trying to explain use `y.append?` and `y.extend?` to\n",
    "see a description of what these methods are supposed to do."
   ]
  },
  {
   "cell_type": "code",
   "execution_count": null,
   "id": "faec3c83",
   "metadata": {
    "hide-output": false
   },
   "outputs": [],
   "source": [
    "y = [\"a\", \"b\", \"c\"]\n",
    "z = [1, 2, 3]\n",
    "# your code here\n",
    "print(y)"
   ]
  },
  {
   "cell_type": "code",
   "execution_count": null,
   "id": "0d80bb86",
   "metadata": {
    "hide-output": false
   },
   "outputs": [],
   "source": [
    "y = [\"a\", \"b\", \"c\"]\n",
    "z = [1, 2, 3]\n",
    "# your code here\n",
    "print(y)"
   ]
  },
  {
   "cell_type": "markdown",
   "id": "57f53a45",
   "metadata": {},
   "source": [
    "([back to text](#dir2-2-1))"
   ]
  },
  {
   "cell_type": "markdown",
   "id": "da652cd9",
   "metadata": {},
   "source": [
    "### Exercise 2\n",
    "\n",
    "Experiment with the other two versions of the `range` function."
   ]
  },
  {
   "cell_type": "code",
   "execution_count": null,
   "id": "405d71ac",
   "metadata": {
    "hide-output": false
   },
   "outputs": [],
   "source": [
    "# try list(range(a, N)) -- you pick `a` and `N`"
   ]
  },
  {
   "cell_type": "code",
   "execution_count": null,
   "id": "72942a5d",
   "metadata": {
    "hide-output": false
   },
   "outputs": [],
   "source": [
    "# try list(range(a, N, d)) -- you pick `a`, `N`, and `d`"
   ]
  },
  {
   "cell_type": "markdown",
   "id": "b594ba72",
   "metadata": {},
   "source": [
    "([back to text](#dir2-2-2))"
   ]
  },
  {
   "cell_type": "markdown",
   "id": "e09e52cd",
   "metadata": {},
   "source": [
    "### Exercise 3\n",
    "\n",
    "Verify that tuples are indeed immutable by attempting the following:\n",
    "\n",
    "- Changing the first element of `t` to be `100`  \n",
    "- Appending a new element `\"!!\"` to the end of `t` (remember with a\n",
    "  list `x` we would use `x.append(\"!!\")` to do this  \n",
    "- Sorting `t`  \n",
    "- Reversing `t`  "
   ]
  },
  {
   "cell_type": "code",
   "execution_count": null,
   "id": "09f5dc61",
   "metadata": {
    "hide-output": false
   },
   "outputs": [],
   "source": [
    "# change first element of t"
   ]
  },
  {
   "cell_type": "code",
   "execution_count": null,
   "id": "1ce3f988",
   "metadata": {
    "hide-output": false
   },
   "outputs": [],
   "source": [
    "# appending to t"
   ]
  },
  {
   "cell_type": "code",
   "execution_count": null,
   "id": "b0ea6fb0",
   "metadata": {
    "hide-output": false
   },
   "outputs": [],
   "source": [
    "# sorting t"
   ]
  },
  {
   "cell_type": "code",
   "execution_count": null,
   "id": "d73fb2da",
   "metadata": {
    "hide-output": false
   },
   "outputs": [],
   "source": [
    "# reversing t"
   ]
  },
  {
   "cell_type": "markdown",
   "id": "5ae8b156",
   "metadata": {},
   "source": [
    "([back to text](#dir2-2-3))"
   ]
  },
  {
   "cell_type": "markdown",
   "id": "09553e80",
   "metadata": {},
   "source": [
    "### Exercise 4\n",
    "\n",
    "**Challenging** For the tuple `foo` below, use a combination of `zip`,\n",
    "`range`, and `len` to mimic `enumerate(foo)`.\n",
    "\n",
    "Verify that your proposed solution is correct by converting each to a list\n",
    "and checking equality with `==`.\n",
    "\n",
    "You can see what the answer should look like by starting with\n",
    "`list(enumerate(foo))`."
   ]
  },
  {
   "cell_type": "code",
   "execution_count": null,
   "id": "ebf50dd8",
   "metadata": {
    "hide-output": false
   },
   "outputs": [],
   "source": [
    "foo = (\"good\", \"luck!\")"
   ]
  },
  {
   "cell_type": "markdown",
   "id": "11f1079e",
   "metadata": {},
   "source": [
    "([back to text](#dir2-2-4))"
   ]
  },
  {
   "cell_type": "markdown",
   "id": "c2fd0f51",
   "metadata": {},
   "source": [
    "### Exercise 5\n",
    "\n",
    "Create a new dict which associates stock tickers with its stock price.\n",
    "\n",
    "Here are some tickers and a price.\n",
    "\n",
    "- AAPL: 175.96  \n",
    "- GOOGL: 1047.43  \n",
    "- TVIX: 8.38  "
   ]
  },
  {
   "cell_type": "code",
   "execution_count": null,
   "id": "2878e81e",
   "metadata": {
    "hide-output": false
   },
   "outputs": [],
   "source": [
    "# your code here"
   ]
  },
  {
   "cell_type": "markdown",
   "id": "934328c8",
   "metadata": {},
   "source": [
    "([back to text](#dir2-2-5))"
   ]
  },
  {
   "cell_type": "markdown",
   "id": "fbef594a",
   "metadata": {},
   "source": [
    "### Exercise 6\n",
    "\n",
    "Look at the [World Factbook for Australia](https://www.cia.gov/the-world-factbook/countries/australia)\n",
    "and create a dictionary with data containing the following types:\n",
    "float, string, integer, list, and dict.  Choose any data you wish.\n",
    "\n",
    "To confirm, you should have a dictionary that you identified via a key."
   ]
  },
  {
   "cell_type": "code",
   "execution_count": null,
   "id": "6ce22e0f",
   "metadata": {
    "hide-output": false
   },
   "outputs": [],
   "source": [
    "# your code here"
   ]
  },
  {
   "cell_type": "markdown",
   "id": "dcf46739",
   "metadata": {},
   "source": [
    "([back to text](#dir2-2-6))"
   ]
  },
  {
   "cell_type": "markdown",
   "id": "c8aeed6a",
   "metadata": {},
   "source": [
    "### Exercise 7\n",
    "\n",
    "Use Jupyter’s help facilities to learn how to use the `pop` method to\n",
    "remove the key `\"irrigated_land\"` (and its value) from the dict."
   ]
  },
  {
   "cell_type": "code",
   "execution_count": null,
   "id": "7227ac60",
   "metadata": {
    "hide-output": false
   },
   "outputs": [],
   "source": [
    "# uncomment and use the Inspector or ?\n",
    "#china_data.pop()"
   ]
  },
  {
   "cell_type": "markdown",
   "id": "6cd71b41",
   "metadata": {},
   "source": [
    "([back to text](#dir2-2-7))"
   ]
  },
  {
   "cell_type": "markdown",
   "id": "ea9fee70",
   "metadata": {},
   "source": [
    "### Exercise 8\n",
    "\n",
    "Explain what happens to the value you popped.\n",
    "\n",
    "Experiment with calling `pop` twice."
   ]
  },
  {
   "cell_type": "code",
   "execution_count": null,
   "id": "be9846f7",
   "metadata": {
    "hide-output": false
   },
   "outputs": [],
   "source": [
    "# your code here"
   ]
  },
  {
   "cell_type": "markdown",
   "id": "ade76050",
   "metadata": {},
   "source": [
    "([back to text](#dir2-2-8))"
   ]
  },
  {
   "cell_type": "markdown",
   "id": "3a530f8f",
   "metadata": {},
   "source": [
    "### Exercise 9\n",
    "\n",
    "Try creating a set with repeated elements (e.g. `{1, 2, 1, 2, 1, 2}`).\n",
    "\n",
    "What happens?\n",
    "\n",
    "Why?"
   ]
  },
  {
   "cell_type": "code",
   "execution_count": null,
   "id": "87cbb0e0",
   "metadata": {
    "hide-output": false
   },
   "outputs": [],
   "source": [
    "# your code here"
   ]
  },
  {
   "cell_type": "markdown",
   "id": "615af87d",
   "metadata": {},
   "source": [
    "([back to text](#dir2-2-9))"
   ]
  },
  {
   "cell_type": "markdown",
   "id": "83c447bc",
   "metadata": {},
   "source": [
    "### Exercise 10\n",
    "\n",
    "Test out two of the operations described above using the original set we\n",
    "created, `s`, and the set created below `s2`."
   ]
  },
  {
   "cell_type": "code",
   "execution_count": null,
   "id": "d166b317",
   "metadata": {
    "hide-output": false
   },
   "outputs": [],
   "source": [
    "s2 = {\"hello\", \"world\"}"
   ]
  },
  {
   "cell_type": "code",
   "execution_count": null,
   "id": "ed46a079",
   "metadata": {
    "hide-output": false
   },
   "outputs": [],
   "source": [
    "# Operation 1"
   ]
  },
  {
   "cell_type": "code",
   "execution_count": null,
   "id": "703af229",
   "metadata": {
    "hide-output": false
   },
   "outputs": [],
   "source": [
    "# Operation 2"
   ]
  },
  {
   "cell_type": "markdown",
   "id": "4e0e9205",
   "metadata": {},
   "source": [
    "([back to text](#dir2-2-10))"
   ]
  }
 ],
 "metadata": {
  "date": 1684262964.5651999,
  "filename": "collections.md",
  "kernelspec": {
   "display_name": "Python",
   "language": "python3",
   "name": "python3"
  },
  "title": "Collections"
 },
 "nbformat": 4,
 "nbformat_minor": 5
}