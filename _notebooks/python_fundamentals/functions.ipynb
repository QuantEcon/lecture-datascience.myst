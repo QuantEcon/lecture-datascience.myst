{
 "cells": [
  {
   "cell_type": "markdown",
   "id": "524e9bc5",
   "metadata": {},
   "source": [
    "# Functions\n",
    "\n",
    "**Prerequisites**\n",
    "\n",
    "- [Getting Started](https://datascience.quantecon.org/../introduction/getting_started.html)  \n",
    "- [Basics](https://datascience.quantecon.org/basics.html)  \n",
    "- [Collections](https://datascience.quantecon.org/collections.html)  \n",
    "- [Control Flow](https://datascience.quantecon.org/control_flow.html)  \n",
    "\n",
    "\n",
    "**Outcomes**\n",
    "\n",
    "- Economic Production Functions  \n",
    "  - Understand the basics of production functions in economics  \n",
    "- Functions  \n",
    "  - Know how to define your own function  \n",
    "  - Know how to find and write your own function documentation  \n",
    "  - Know why we use functions  \n",
    "  - Understand scoping rules and blocks  \n",
    "\n",
    "\n",
    "\n",
    "<a id='production-functions'></a>"
   ]
  },
  {
   "cell_type": "markdown",
   "id": "9054a3fb",
   "metadata": {},
   "source": [
    "## Application: Production Functions\n",
    "\n",
    "Production functions are useful when modeling the economics of firms producing\n",
    "goods or the aggregate output in an economy.\n",
    "\n",
    "Though the term “function” is used in a mathematical sense here, we will be making\n",
    "tight connections between the programming of mathematical functions and Python\n",
    "functions."
   ]
  },
  {
   "cell_type": "markdown",
   "id": "de02ae3f",
   "metadata": {},
   "source": [
    "### Factors of Production\n",
    "\n",
    "The [factors of production](https://en.wikipedia.org/wiki/Factors_of_production)\n",
    "are the inputs used in the production of some sort of output.\n",
    "\n",
    "Some example factors of production include\n",
    "\n",
    "- [Physical capital](https://en.wikipedia.org/wiki/Physical_capital), e.g.\n",
    "  machines, buildings, computers, and power stations.  \n",
    "- Labor, e.g. all of the hours of work from different types of employees of a\n",
    "  firm.  \n",
    "- [Human Capital](https://en.wikipedia.org/wiki/Human_capital), e.g. the\n",
    "  knowledge of employees within a firm.  \n",
    "\n",
    "\n",
    "A [production function](https://en.wikipedia.org/wiki/Production_function)\n",
    "maps a set of inputs to the output, e.g. the amount of wheat produced by a\n",
    "farm, or widgets produced in a factory.\n",
    "\n",
    "As an example of the notation, we denote the total units of labor and\n",
    "physical capital used in a factory as $ L $ and $ K $ respectively.\n",
    "\n",
    "If we denote the physical output of the factory as $ Y $, then a production\n",
    "function $ F $ that transforms labor and capital into output might have the\n",
    "form:\n",
    "\n",
    "$$\n",
    "Y = F(K, L)\n",
    "$$\n",
    "\n",
    "\n",
    "<a id='cobb-douglas-example'></a>"
   ]
  },
  {
   "cell_type": "markdown",
   "id": "ed327858",
   "metadata": {},
   "source": [
    "### An Example Production Function\n",
    "\n",
    "Throughout this lecture, we will use the\n",
    "[Cobb-Douglas](https://en.wikipedia.org/wiki/Cobb%E2%80%93Douglas_production_function)\n",
    "production function to help us understand how to create Python\n",
    "functions and why they are useful.\n",
    "\n",
    "The Cobb-Douglas production function has appealing statistical properties when brought to data.\n",
    "\n",
    "This function is displayed below.\n",
    "\n",
    "$$\n",
    "Y = z K^{\\alpha} L^{1-\\alpha}\n",
    "$$\n",
    "\n",
    "The function is parameterized by:\n",
    "\n",
    "- A parameter $ \\alpha \\in [0,1] $, called the “output elasticity of\n",
    "  capital”.  \n",
    "- A value $ z $ called the [Total Factor Productivity](https://en.wikipedia.org/wiki/Total_factor_productivity) (TFP).  "
   ]
  },
  {
   "cell_type": "markdown",
   "id": "c153225e",
   "metadata": {},
   "source": [
    "## What are (Python) Functions?\n",
    "\n",
    "In this class, we will often talk about `function`s.\n",
    "\n",
    "So what is a function?\n",
    "\n",
    "We like to think of a function as a production line in a\n",
    "manufacturing plant: we pass zero or more things to it, operations take place in a\n",
    "set linear sequence, and zero or more things come out.\n",
    "\n",
    "We use functions for the following purposes:\n",
    "\n",
    "- **Re-usability**: Writing code to do a specific task just once, and\n",
    "  reuse the code by calling the function.  \n",
    "- **Organization**: Keep the code for distinct operations separated and\n",
    "  organized.  \n",
    "- **Sharing/collaboration**: Sharing code across multiple projects or\n",
    "  sharing pieces of code with collaborators.  "
   ]
  },
  {
   "cell_type": "markdown",
   "id": "a169f359",
   "metadata": {},
   "source": [
    "## How to Define (Python) Functions?\n",
    "\n",
    "The basic syntax to create our own function is as follows:"
   ]
  },
  {
   "cell_type": "code",
   "execution_count": null,
   "id": "51f94070",
   "metadata": {
    "hide-output": false
   },
   "outputs": [],
   "source": [
    "def function_name(inputs):\n",
    "    # step 1\n",
    "    # step 2\n",
    "    # ...\n",
    "    return outputs"
   ]
  },
  {
   "cell_type": "markdown",
   "id": "708019ca",
   "metadata": {},
   "source": [
    "Here we see two new *keywords*: `def` and `return`.\n",
    "\n",
    "- `def` is used to tell Python we would like to define a new function.  \n",
    "- `return` is used to tell Python what we would like to **return** from a\n",
    "  function.  \n",
    "\n",
    "\n",
    "Let’s look at an example and then discuss each part:"
   ]
  },
  {
   "cell_type": "code",
   "execution_count": null,
   "id": "9c6ee8b0",
   "metadata": {
    "hide-output": false
   },
   "outputs": [],
   "source": [
    "def mean(numbers):\n",
    "    total = sum(numbers)\n",
    "    N = len(numbers)\n",
    "    answer = total / N\n",
    "\n",
    "    return answer"
   ]
  },
  {
   "cell_type": "markdown",
   "id": "f3f7d06c",
   "metadata": {},
   "source": [
    "Here we defined a function `mean` that has one input (`numbers`),\n",
    "does three steps, and has one output (`answer`).\n",
    "\n",
    "Let’s see what happens when we call this function on the list of numbers\n",
    "`[1, 2, 3, 4]`."
   ]
  },
  {
   "cell_type": "code",
   "execution_count": null,
   "id": "866b6033",
   "metadata": {
    "hide-output": false
   },
   "outputs": [],
   "source": [
    "x = [1, 2, 3, 4]\n",
    "the_mean = mean(x)\n",
    "the_mean"
   ]
  },
  {
   "cell_type": "markdown",
   "id": "f29128c5",
   "metadata": {},
   "source": [
    "Additionally, as we saw in the [control flow](https://datascience.quantecon.org/control_flow.html) lecture, indentation\n",
    "controls blocks of code (along with the [scope](#scope) rules).\n",
    "\n",
    "To see this, compare a function with no inputs or return values."
   ]
  },
  {
   "cell_type": "code",
   "execution_count": null,
   "id": "d734df76",
   "metadata": {
    "hide-output": false
   },
   "outputs": [],
   "source": [
    "def f():\n",
    "    print(\"1\")\n",
    "    print(\"2\")\n",
    "f()"
   ]
  },
  {
   "cell_type": "markdown",
   "id": "12e96af9",
   "metadata": {},
   "source": [
    "With the following change of indentation…"
   ]
  },
  {
   "cell_type": "code",
   "execution_count": null,
   "id": "5bf15732",
   "metadata": {
    "hide-output": false
   },
   "outputs": [],
   "source": [
    "def f():\n",
    "    print(\"1\")\n",
    "print(\"2\")\n",
    "f()"
   ]
  },
  {
   "cell_type": "markdown",
   "id": "786faeda",
   "metadata": {},
   "source": [
    "\n",
    "<a id='scope'></a>"
   ]
  },
  {
   "cell_type": "markdown",
   "id": "a9c7a062",
   "metadata": {},
   "source": [
    "### Scope\n",
    "\n",
    "Notice that we named the input to the function `x` and we called the output\n",
    "`the_mean`.\n",
    "\n",
    "When we defined the function, the input was called `numbers` and the output\n",
    "`answer`… what gives?\n",
    "\n",
    "This is an example of a programming concept called\n",
    "[variable scope](http://python-textbok.readthedocs.io/en/1.0/Variables_and_Scope.html).\n",
    "\n",
    "In Python, functions define their own scope for variables.\n",
    "\n",
    "In English, this means that regardless of what name we give an input variable (`x` in this example),\n",
    "the input will always be referred to as `numbers` *inside* the body of the `mean`\n",
    "function.\n",
    "\n",
    "It also means that although we called the output `answer` inside of the\n",
    "function `mean`, that this variable name was only valid inside of our\n",
    "function.\n",
    "\n",
    "To use the output of the function, we had to give it our own name (`the_mean`\n",
    "in this example).\n",
    "\n",
    "Another point to make here is that the intermediate variables we defined inside\n",
    "`mean` (`total` and `N`) are only defined inside of the `mean` function\n",
    "– we can’t access them from outside. We can verify this by trying to see what\n",
    "the value of `total` is:"
   ]
  },
  {
   "cell_type": "code",
   "execution_count": null,
   "id": "27fd48f1",
   "metadata": {
    "hide-output": false
   },
   "outputs": [],
   "source": [
    "def mean(numbers):\n",
    "    total = sum(numbers)\n",
    "    N = len(numbers)\n",
    "    answer = total / N\n",
    "    return answer # or directly return total / N\n",
    "\n",
    "# uncomment the line below and execute to see the error\n",
    "# total"
   ]
  },
  {
   "cell_type": "markdown",
   "id": "99b81bd9",
   "metadata": {},
   "source": [
    "This point can be taken even further:  the same name can be bound\n",
    "to variables inside of blocks of code and in the outer “scope”."
   ]
  },
  {
   "cell_type": "code",
   "execution_count": null,
   "id": "fd933f2a",
   "metadata": {
    "hide-output": false
   },
   "outputs": [],
   "source": [
    "x = 4\n",
    "print(f\"x = {x}\")\n",
    "def f():\n",
    "    x = 5 # a different \"x\"\n",
    "    print(f\"x = {x}\")\n",
    "f() # calls function\n",
    "print(f\"x = {x}\")"
   ]
  },
  {
   "cell_type": "markdown",
   "id": "02f69147",
   "metadata": {},
   "source": [
    "The final point we want to make about scope is that function inputs and output\n",
    "don’t have to be given a name outside the function."
   ]
  },
  {
   "cell_type": "code",
   "execution_count": null,
   "id": "317d1d71",
   "metadata": {
    "hide-output": false
   },
   "outputs": [],
   "source": [
    "mean([10, 20, 30])"
   ]
  },
  {
   "cell_type": "markdown",
   "id": "ccf26605",
   "metadata": {},
   "source": [
    "Notice that we didn’t name the input or the output, but the function was\n",
    "called successfully.\n",
    "\n",
    "Now, we’ll use our new knowledge to define a function which computes the output\n",
    "from a Cobb-Douglas production function with parameters $ z = 1 $ and\n",
    "$ \\alpha = 0.33 $ and takes inputs $ K $ and $ L $."
   ]
  },
  {
   "cell_type": "code",
   "execution_count": null,
   "id": "e8d78675",
   "metadata": {
    "hide-output": false
   },
   "outputs": [],
   "source": [
    "def cobb_douglas(K, L):\n",
    "\n",
    "    # Create alpha and z\n",
    "    z = 1\n",
    "    alpha = 0.33\n",
    "\n",
    "    return z * K**alpha * L**(1 - alpha)"
   ]
  },
  {
   "cell_type": "markdown",
   "id": "28a7248e",
   "metadata": {},
   "source": [
    "We can use this function as we did the mean function."
   ]
  },
  {
   "cell_type": "code",
   "execution_count": null,
   "id": "e5e6ed6b",
   "metadata": {
    "hide-output": false
   },
   "outputs": [],
   "source": [
    "cobb_douglas(1.0, 0.5)"
   ]
  },
  {
   "cell_type": "markdown",
   "id": "0cbe8b6f",
   "metadata": {},
   "source": [
    "\n",
    "<a id='returns-to-scale'></a>"
   ]
  },
  {
   "cell_type": "markdown",
   "id": "124cace9",
   "metadata": {},
   "source": [
    "### Re-using Functions\n",
    "\n",
    "Economists are often interested in this question: how much does output\n",
    "change if we modify our inputs?\n",
    "\n",
    "For example, take a production function $ Y_1 = F(K_1,L_1) $ which produces\n",
    "$ Y_1 $ units of the goods.\n",
    "\n",
    "If we then multiply the inputs each by $ \\gamma $, so that\n",
    "$ K_2 = \\gamma K_1 $ and $ L_2 = \\gamma L_1 $, then the output is\n",
    "\n",
    "$$\n",
    "Y_2 = F(K_2, L_2) = F(\\gamma K_1, \\gamma L_1)\n",
    "$$\n",
    "\n",
    "How does $ Y_1 $ compare to $ Y_2 $?\n",
    "\n",
    "Answering this question involves something called *returns to scale*.\n",
    "\n",
    "Returns to scale tells us whether our inputs are more or less productive as we\n",
    "have more of them.\n",
    "\n",
    "For example, imagine that you run a restaurant. How would you expect the amount\n",
    "of food you could produce would change if you could build an exact replica of\n",
    "your restaurant and kitchen and hire the same number of cooks and waiters? You\n",
    "would probably expect it to double.\n",
    "\n",
    "If, for any $ K, L $, we multiply $ K, L $ by a value $ \\gamma $\n",
    "then\n",
    "\n",
    "- If $ \\frac{Y_2}{Y_1} < \\gamma $ then we say the production function has\n",
    "  decreasing returns to scale.  \n",
    "- If $ \\frac{Y_2}{Y_1} = \\gamma $ then we say the production function has\n",
    "  constant returns to scale.  \n",
    "- If $ \\frac{Y_2}{Y_1} > \\gamma $ then we say the production function has\n",
    "  increasing returns to scale.  \n",
    "\n",
    "\n",
    "Let’s try it and see what our function is!"
   ]
  },
  {
   "cell_type": "code",
   "execution_count": null,
   "id": "a6058af9",
   "metadata": {
    "hide-output": false
   },
   "outputs": [],
   "source": [
    "y1 = cobb_douglas(1.0, 0.5)\n",
    "print(y1)\n",
    "y2 = cobb_douglas(2*1.0, 2*0.5)\n",
    "print(y2)"
   ]
  },
  {
   "cell_type": "markdown",
   "id": "f45d75f8",
   "metadata": {},
   "source": [
    "How did $ Y_1 $ and $ Y_2 $ relate?"
   ]
  },
  {
   "cell_type": "code",
   "execution_count": null,
   "id": "a34e1f1a",
   "metadata": {
    "hide-output": false
   },
   "outputs": [],
   "source": [
    "y2 / y1"
   ]
  },
  {
   "cell_type": "markdown",
   "id": "0a043cda",
   "metadata": {},
   "source": [
    "$ Y_2 $ was exactly double $ Y_1 $!\n",
    "\n",
    "Let’s write a function that will compute the returns to scale for different\n",
    "values of $ K $ and $ L $.\n",
    "\n",
    "This is an example of how writing functions can allow us to re-use code\n",
    "in ways we might not originally anticipate. (You didn’t know we’d be\n",
    "writing a `returns_to_scale` function when we wrote `cobb_douglas`.)"
   ]
  },
  {
   "cell_type": "code",
   "execution_count": null,
   "id": "ef0d1e25",
   "metadata": {
    "hide-output": false
   },
   "outputs": [],
   "source": [
    "def returns_to_scale(K, L, gamma):\n",
    "    y1 = cobb_douglas(K, L)\n",
    "    y2 = cobb_douglas(gamma*K, gamma*L)\n",
    "    y_ratio = y2 / y1\n",
    "    return y_ratio / gamma"
   ]
  },
  {
   "cell_type": "code",
   "execution_count": null,
   "id": "3fdecfe8",
   "metadata": {
    "hide-output": false
   },
   "outputs": [],
   "source": [
    "returns_to_scale(1.0, 0.5, 2.0)"
   ]
  },
  {
   "cell_type": "markdown",
   "id": "33e68317",
   "metadata": {},
   "source": [
    "### Exercise\n",
    "\n",
    "See exercise 1 in the [exercise list](#ex2-4).\n",
    "\n",
    "It turns out that with a little bit of algebra, we can check that this will\n",
    "always hold for our [Cobb-Douglas example](#cobb-douglas-example) above.\n",
    "\n",
    "To show this, take an arbitrary $ K, L $ and multiply the inputs by an\n",
    "arbitrary $ \\gamma $.\n",
    "\n",
    "$$\n",
    "\\begin{aligned}\n",
    "    F(\\gamma K, \\gamma L) &= z (\\gamma K)^{\\alpha} (\\gamma L)^{1-\\alpha}\\\\\n",
    "    &=  z \\gamma^{\\alpha}\\gamma^{1-\\alpha} K^{\\alpha} L^{1-\\alpha}\\\\\n",
    "    &= \\gamma z K^{\\alpha} L^{1-\\alpha} = \\gamma F(K, L)\n",
    "\\end{aligned}\n",
    "$$\n",
    "\n",
    "For an example of a production function that is not CRS, look at a\n",
    "generalization of the Cobb-Douglas production function that has different\n",
    "“output elasticities” for the 2 inputs.\n",
    "\n",
    "$$\n",
    "Y = z K^{\\alpha_1} L^{\\alpha_2}\n",
    "$$\n",
    "\n",
    "Note that if $ \\alpha_2 = 1 - \\alpha_1 $, this is our Cobb-Douglas\n",
    "production function."
   ]
  },
  {
   "cell_type": "markdown",
   "id": "85df28cd",
   "metadata": {},
   "source": [
    "### Exercise\n",
    "\n",
    "See exercise 2 in the [exercise list](#ex2-4).\n",
    "\n",
    "\n",
    "<a id='marginal-products'></a>"
   ]
  },
  {
   "cell_type": "markdown",
   "id": "d08410b9",
   "metadata": {},
   "source": [
    "### Multiple Returns\n",
    "\n",
    "Another valuable element to analyze on production functions is how\n",
    "output changes as we change only one of the inputs. We will call this the\n",
    "marginal product.\n",
    "\n",
    "For example, compare the output using $ K, L $ units of inputs to that with\n",
    "an $ \\epsilon $ units of labor.\n",
    "\n",
    "Then the marginal product of labor (MPL) is defined as\n",
    "\n",
    "$$\n",
    "\\frac{F(K, L + \\varepsilon) - F(K, L)}{\\varepsilon}\n",
    "$$\n",
    "\n",
    "This tells us how much additional output is created relative to the additional\n",
    "input. (Spoiler alert: This should look like the definition for a partial\n",
    "derivative!)\n",
    "\n",
    "If the input can be divided into small units, then we can use calculus to take\n",
    "this limit, using the partial derivative of the production function relative to\n",
    "that input.\n",
    "\n",
    "In this case, we define the marginal product of labor (MPL) and marginal product\n",
    "of capital (MPK) as\n",
    "\n",
    "$$\n",
    "\\begin{aligned}\n",
    "MPL(K, L) &= \\frac{\\partial F(K, L)}{\\partial L}\\\\\n",
    "MPK(K, L) &= \\frac{\\partial F(K, L)}{\\partial K}\n",
    "\\end{aligned}\n",
    "$$\n",
    "\n",
    "In the [Cobb-Douglas](#cobb-douglas-example) example above, this becomes\n",
    "\n",
    "$$\n",
    "\\begin{aligned}\n",
    "MPK(K, L) &= z  \\alpha \\left(\\frac{K}{L} \\right)^{\\alpha - 1}\\\\\n",
    "MPL(K, L) &= (1-\\alpha) z \\left(\\frac{K}{L} \\right)^{\\alpha}\\\\\n",
    "\\end{aligned}\n",
    "$$\n",
    "\n",
    "Let’s test it out with Python! We’ll also see that we can actually return\n",
    "multiple things in a Python function.\n",
    "\n",
    "The syntax for a return statement with multiple items is return item1, item2, ….\n",
    "\n",
    "In this case, we’ll compute both the MPL and the MPK and then return both."
   ]
  },
  {
   "cell_type": "code",
   "execution_count": null,
   "id": "72fc0374",
   "metadata": {
    "hide-output": false
   },
   "outputs": [],
   "source": [
    "def marginal_products(K, L, epsilon):\n",
    "\n",
    "    mpl = (cobb_douglas(K, L + epsilon) - cobb_douglas(K, L)) / epsilon\n",
    "    mpk = (cobb_douglas(K + epsilon, L) - cobb_douglas(K, L)) / epsilon\n",
    "\n",
    "    return mpl, mpk"
   ]
  },
  {
   "cell_type": "code",
   "execution_count": null,
   "id": "8545a70f",
   "metadata": {
    "hide-output": false
   },
   "outputs": [],
   "source": [
    "tup = marginal_products(1.0, 0.5,  1e-4)\n",
    "print(tup)"
   ]
  },
  {
   "cell_type": "markdown",
   "id": "6035e1e0",
   "metadata": {},
   "source": [
    "Instead of using the tuple, these can be directly unpacked to variables."
   ]
  },
  {
   "cell_type": "code",
   "execution_count": null,
   "id": "e0c1bd09",
   "metadata": {
    "hide-output": false
   },
   "outputs": [],
   "source": [
    "mpl, mpk = marginal_products(1.0, 0.5,  1e-4)\n",
    "print(f\"mpl = {mpl}, mpk = {mpk}\")"
   ]
  },
  {
   "cell_type": "markdown",
   "id": "45badf84",
   "metadata": {},
   "source": [
    "We can use this to calculate the marginal products for different `K`, fixing `L`\n",
    "using a comprehension."
   ]
  },
  {
   "cell_type": "code",
   "execution_count": null,
   "id": "a6053dfc",
   "metadata": {
    "hide-output": false
   },
   "outputs": [],
   "source": [
    "Ks = [1.0, 2.0, 3.0]\n",
    "[marginal_products(K, 0.5, 1e-4) for K in Ks] # create a tuple for each K"
   ]
  },
  {
   "cell_type": "markdown",
   "id": "7de9e772",
   "metadata": {},
   "source": [
    "### Documentation\n",
    "\n",
    "In a previous exercise, we asked you to find help for the `cobb_douglas` and\n",
    "`returns_to_scale` functions using `?`.\n",
    "\n",
    "It didn’t provide any useful information.\n",
    "\n",
    "To provide this type of help information, we need to\n",
    "add what Python programmers call a “docstring” to our functions.\n",
    "\n",
    "This is done by putting a string (not assigned to any variable name) as\n",
    "the first line of the *body* of the function (after the line with\n",
    "`def`).\n",
    "\n",
    "Below is a new version of the template we used to define functions."
   ]
  },
  {
   "cell_type": "code",
   "execution_count": null,
   "id": "25101f55",
   "metadata": {
    "hide-output": false
   },
   "outputs": [],
   "source": [
    "def function_name(inputs):\n",
    "    \"\"\"\n",
    "    Docstring\n",
    "    \"\"\"\n",
    "    # step 1\n",
    "    # step 2\n",
    "    # ...\n",
    "    return outputs"
   ]
  },
  {
   "cell_type": "markdown",
   "id": "f823ea86",
   "metadata": {},
   "source": [
    "Let’s re-define our `cobb_douglas` function to include a docstring."
   ]
  },
  {
   "cell_type": "code",
   "execution_count": null,
   "id": "1de0106a",
   "metadata": {
    "hide-output": false
   },
   "outputs": [],
   "source": [
    "def cobb_douglas(K, L):\n",
    "    \"\"\"\n",
    "    Computes the production F(K, L) for a Cobb-Douglas production function\n",
    "\n",
    "    Takes the form F(K, L) = z K^{\\alpha} L^{1 - \\alpha}\n",
    "\n",
    "    We restrict z = 1 and alpha = 0.33\n",
    "    \"\"\"\n",
    "    return 1.0 * K**(0.33) * L**(1.0 - 0.33)"
   ]
  },
  {
   "cell_type": "markdown",
   "id": "dfbc210d",
   "metadata": {},
   "source": [
    "Now when we have Jupyter evaluate `cobb_douglas?`, our message is\n",
    "displayed (or use the Contextual Help window with Jupyterlab and `Ctrl-I` or `Cmd-I`)."
   ]
  },
  {
   "cell_type": "code",
   "execution_count": null,
   "id": "a4a78a8e",
   "metadata": {
    "hide-output": false
   },
   "outputs": [],
   "source": [
    "cobb_douglas?"
   ]
  },
  {
   "cell_type": "markdown",
   "id": "32bcbd3e",
   "metadata": {},
   "source": [
    "We recommend that you always include at least a very simple docstring for\n",
    "nontrivial functions.\n",
    "\n",
    "This is in the same spirit as adding comments to your code — it makes it easier\n",
    "for future readers/users (including yourself) to understand what the code does."
   ]
  },
  {
   "cell_type": "markdown",
   "id": "678a0edf",
   "metadata": {},
   "source": [
    "### Exercise\n",
    "\n",
    "See exercise 3 in the [exercise list](#ex2-4)."
   ]
  },
  {
   "cell_type": "markdown",
   "id": "32af7c30",
   "metadata": {},
   "source": [
    "### Default and Keyword Arguments\n",
    "\n",
    "Functions can have optional arguments.\n",
    "\n",
    "To accomplish this, we must these arguments a *default value* by saying\n",
    "`name=default_value` instead of just `name` as we list the arguments.\n",
    "\n",
    "To demonstrate this functionality, let’s now make $ z $ and $ \\alpha $\n",
    "arguments to our cobb_douglas function!"
   ]
  },
  {
   "cell_type": "code",
   "execution_count": null,
   "id": "1f959ef6",
   "metadata": {
    "hide-output": false
   },
   "outputs": [],
   "source": [
    "def cobb_douglas(K, L, alpha=0.33, z=1):\n",
    "    \"\"\"\n",
    "    Computes the production F(K, L) for a Cobb-Douglas production function\n",
    "\n",
    "    Takes the form F(K, L) = z K^{\\alpha} L^{1 - \\alpha}\n",
    "    \"\"\"\n",
    "    return z * K**(alpha) * L**(1.0 - alpha)"
   ]
  },
  {
   "cell_type": "markdown",
   "id": "2319bd5c",
   "metadata": {},
   "source": [
    "We can now call this function by passing in just K and L. Notice that it will\n",
    "produce same result as earlier because `alpha` and `z` are the same as earlier."
   ]
  },
  {
   "cell_type": "code",
   "execution_count": null,
   "id": "b30d35c3",
   "metadata": {
    "hide-output": false
   },
   "outputs": [],
   "source": [
    "cobb_douglas(1.0, 0.5)"
   ]
  },
  {
   "cell_type": "markdown",
   "id": "4bf5e884",
   "metadata": {},
   "source": [
    "However, we can also set the other arguments of the function by passing\n",
    "more than just K/L."
   ]
  },
  {
   "cell_type": "code",
   "execution_count": null,
   "id": "f8697805",
   "metadata": {
    "hide-output": false
   },
   "outputs": [],
   "source": [
    "cobb_douglas(1.0, 0.5, 0.35, 1.6)"
   ]
  },
  {
   "cell_type": "markdown",
   "id": "8bf86c32",
   "metadata": {},
   "source": [
    "In the example above, we used `alpha = 0.35`, `z = 1.6`.\n",
    "\n",
    "We can also refer to function arguments by their name, instead of only their\n",
    "position (order).\n",
    "\n",
    "To do this, we would write `func_name(arg=value)` for as many of the arguments\n",
    "as we want.\n",
    "\n",
    "Here’s how to do that with our `cobb_douglas` example."
   ]
  },
  {
   "cell_type": "code",
   "execution_count": null,
   "id": "73ea5034",
   "metadata": {
    "hide-output": false
   },
   "outputs": [],
   "source": [
    "cobb_douglas(1.0, 0.5, z = 1.5)"
   ]
  },
  {
   "cell_type": "markdown",
   "id": "daa1508f",
   "metadata": {},
   "source": [
    "### Exercise\n",
    "\n",
    "See exercise 4 in the [exercise list](#ex2-4).\n",
    "\n",
    "In terms of variable scope, the `z` name within the function is\n",
    "different from any other `z` in the outer scope.\n",
    "\n",
    "To be clear,"
   ]
  },
  {
   "cell_type": "code",
   "execution_count": null,
   "id": "9fa51c61",
   "metadata": {
    "hide-output": false
   },
   "outputs": [],
   "source": [
    "x = 5\n",
    "def f(x):\n",
    "    return x\n",
    "f(x) # \"coincidence\" that it has the same name"
   ]
  },
  {
   "cell_type": "markdown",
   "id": "e04c69ac",
   "metadata": {},
   "source": [
    "This is also true with named function arguments, above."
   ]
  },
  {
   "cell_type": "code",
   "execution_count": null,
   "id": "befa36ce",
   "metadata": {
    "hide-output": false
   },
   "outputs": [],
   "source": [
    "z = 1.5\n",
    "cobb_douglas(1.0, 0.5, z = z) # no problem!"
   ]
  },
  {
   "cell_type": "markdown",
   "id": "aafa995a",
   "metadata": {},
   "source": [
    "In that example, the `z` on the left hand side of `z = z` refers\n",
    "to the local variable name in the function whereas the `z` on the\n",
    "right hand side refers to the `z` in the outer scope."
   ]
  },
  {
   "cell_type": "markdown",
   "id": "9893f395",
   "metadata": {},
   "source": [
    "### Aside: Methods\n",
    "\n",
    "As we learned earlier, all variables in Python have a type associated\n",
    "with them.\n",
    "\n",
    "Different types of variables have different functions or operations\n",
    "defined for them.\n",
    "\n",
    "For example, I can divide one number by another or make a string uppercase.\n",
    "\n",
    "It wouldn’t make sense to divide one string by another or make a number\n",
    "uppercase.\n",
    "\n",
    "When certain functionality is closely tied to the type of an object, it\n",
    "is often implemented as a special kind of function known as a **method**.\n",
    "\n",
    "For now, you only need to know two things about methods:\n",
    "\n",
    "1. We call them by doing `variable.method_name(other_arguments)`\n",
    "  instead of `function_name(variable, other_arguments)`.  \n",
    "1. A method is a function, even though we call it using a different\n",
    "  notation.  \n",
    "\n",
    "\n",
    "When we introduced the core data types, we saw many methods defined on\n",
    "these types.\n",
    "\n",
    "Let’s revisit them for the `str`, or string type.\n",
    "\n",
    "Notice that we call each of these functions using the `dot` syntax\n",
    "described above."
   ]
  },
  {
   "cell_type": "code",
   "execution_count": null,
   "id": "7c5ef308",
   "metadata": {
    "hide-output": false
   },
   "outputs": [],
   "source": [
    "s = \"This is my handy string!\""
   ]
  },
  {
   "cell_type": "code",
   "execution_count": null,
   "id": "973ff951",
   "metadata": {
    "hide-output": false
   },
   "outputs": [],
   "source": [
    "s.upper()"
   ]
  },
  {
   "cell_type": "code",
   "execution_count": null,
   "id": "01a313b1",
   "metadata": {
    "hide-output": false
   },
   "outputs": [],
   "source": [
    "s.title()"
   ]
  },
  {
   "cell_type": "markdown",
   "id": "3a5a8f2d",
   "metadata": {},
   "source": [
    "## More on Scope (Optional)\n",
    "\n",
    "Keep in mind that with mathematical functions, the arguments are just dummy names\n",
    "that can be interchanged.\n",
    "\n",
    "That is, the following are identical.\n",
    "\n",
    "$$\n",
    "\\begin{eqnarray}\n",
    "    f(K, L) &= z\\, K^{\\alpha} L^{1-\\alpha}\\\\\n",
    "    f(K_2, L_2) &= z\\, K_2^{\\alpha} L_2^{1-\\alpha}\n",
    "\\end{eqnarray}\n",
    "$$\n",
    "\n",
    "The same concept applies to Python functions, where the arguments are just\n",
    "placeholder names, and our `cobb_douglas` function is identical to"
   ]
  },
  {
   "cell_type": "code",
   "execution_count": null,
   "id": "4204b605",
   "metadata": {
    "hide-output": false
   },
   "outputs": [],
   "source": [
    "def cobb_douglas2(K2, L2): # changed dummy variable names\n",
    "\n",
    "    # Create alpha and z\n",
    "    z = 1\n",
    "    alpha = 0.33\n",
    "\n",
    "    return z * K2**alpha * L2**(1 - alpha)\n",
    "\n",
    "cobb_douglas2(1.0, 0.5)"
   ]
  },
  {
   "cell_type": "markdown",
   "id": "f13deae4",
   "metadata": {},
   "source": [
    "This is an appealing feature of functions for avoiding coding errors: names of variables\n",
    "within the function are localized and won’t clash with those on the outside (with\n",
    "more examples in [scope](#scope)).\n",
    "\n",
    "Importantly, when Python looks for variables\n",
    "matching a particular name, it begins in the most local scope.\n",
    "\n",
    "That is, note that having an `alpha` in the outer scope does not impact the local one."
   ]
  },
  {
   "cell_type": "code",
   "execution_count": null,
   "id": "fae98e83",
   "metadata": {
    "hide-output": false
   },
   "outputs": [],
   "source": [
    "def cobb_douglas3(K, L, alpha): # added new argument\n",
    "\n",
    "    # Create alpha and z\n",
    "    z = 1\n",
    "\n",
    "    return z * K**alpha * L**(1 - alpha) # sees local argument alpha\n",
    "\n",
    "print(cobb_douglas3(1.0, 0.5, 0.2))\n",
    "print(\"Setting alpha, does the result change?\")\n",
    "alpha = 0.5 # in the outer scope\n",
    "print(cobb_douglas3(1.0, 0.5, 0.2))"
   ]
  },
  {
   "cell_type": "markdown",
   "id": "80ff51cd",
   "metadata": {},
   "source": [
    "A crucial element of the above function is that the `alpha` variable\n",
    "was available in the local scope of the function.\n",
    "\n",
    "Consider the alternative where it is not. We have removed the `alpha`\n",
    "function parameter as well as the local definition of `alpha`."
   ]
  },
  {
   "cell_type": "code",
   "execution_count": null,
   "id": "125b7b47",
   "metadata": {
    "hide-output": false
   },
   "outputs": [],
   "source": [
    "def cobb_douglas4(K, L): # added new argument\n",
    "\n",
    "    # Create alpha and z\n",
    "    z = 1\n",
    "\n",
    "    # there are no local alpha in scope!\n",
    "    return z * K**alpha * L**(1 - alpha)\n",
    "\n",
    "alpha = 0.2 # in the outer scope\n",
    "print(f\"alpha = {alpha} gives {cobb_douglas4(1.0, 0.5)}\")\n",
    "alpha = 0.3\n",
    "print(f\"alpha = {alpha} gives {cobb_douglas4(1.0, 0.5)}\")"
   ]
  },
  {
   "cell_type": "markdown",
   "id": "ebcf64ac",
   "metadata": {},
   "source": [
    "The intuition of scoping does not apply only for the “global” vs. “function”\n",
    "naming of variables, but also for nesting.\n",
    "\n",
    "For example, we can define a version of `cobb_douglas` which\n",
    "is also missing a `z` in its inner-most scope, then put the function\n",
    "inside of another function."
   ]
  },
  {
   "cell_type": "code",
   "execution_count": null,
   "id": "8a67056c",
   "metadata": {
    "hide-output": false
   },
   "outputs": [],
   "source": [
    "z = 1\n",
    "def output_given_alpha(alpha):\n",
    "    # Scoping logic:\n",
    "    # 1. local function name doesn't clash with global one\n",
    "    # 2. alpha comes from the function parameter\n",
    "    # 3. z comes from the outer global scope\n",
    "    def cobb_douglas(K, L):\n",
    "        return z * K**alpha * L**(1 - alpha)\n",
    "\n",
    "    # using this function\n",
    "    return cobb_douglas(1.0, 0.5)\n",
    "\n",
    "alpha = 100 # ignored\n",
    "alphas = [0.2, 0.3, 0.5]\n",
    "# comprehension variables also have local scope\n",
    "# and don't clash with the alpha = 100\n",
    "[output_given_alpha(alpha) for alpha in alphas]"
   ]
  },
  {
   "cell_type": "markdown",
   "id": "f9e0bae4",
   "metadata": {},
   "source": [
    "\n",
    "<a id='ex2-4'></a>"
   ]
  },
  {
   "cell_type": "markdown",
   "id": "f2b73d33",
   "metadata": {},
   "source": [
    "## Exercises"
   ]
  },
  {
   "cell_type": "markdown",
   "id": "ef91e793",
   "metadata": {},
   "source": [
    "### Exercise 1\n",
    "\n",
    "What happens if we try different inputs in our Cobb-Douglas production\n",
    "function?"
   ]
  },
  {
   "cell_type": "code",
   "execution_count": null,
   "id": "445b0d2d",
   "metadata": {
    "hide-output": false
   },
   "outputs": [],
   "source": [
    "# Compute returns to scale with different values of `K` and `L` and `gamma`"
   ]
  },
  {
   "cell_type": "markdown",
   "id": "e7e26123",
   "metadata": {},
   "source": [
    "([back to text](#dir2-4-1))"
   ]
  },
  {
   "cell_type": "markdown",
   "id": "1f3b7c40",
   "metadata": {},
   "source": [
    "### Exercise 2\n",
    "\n",
    "Define a function named `var` that takes a list (call it `x`) and\n",
    "computes the variance. This function should use the mean function that we\n",
    "defined earlier.\n",
    "\n",
    "$ \\text{variance} = \\frac{1}{N-1} \\sum_i (x_i - \\text{mean}(x))^2 $"
   ]
  },
  {
   "cell_type": "code",
   "execution_count": null,
   "id": "8eec7210",
   "metadata": {
    "hide-output": false
   },
   "outputs": [],
   "source": [
    "# Your code here."
   ]
  },
  {
   "cell_type": "markdown",
   "id": "c78d5356",
   "metadata": {},
   "source": [
    "([back to text](#dir2-4-2))"
   ]
  },
  {
   "cell_type": "markdown",
   "id": "f448cc63",
   "metadata": {},
   "source": [
    "### Exercise 3\n",
    "\n",
    "Redefine the `returns_to_scale` function and add a docstring.\n",
    "\n",
    "Confirm that it works by running the cell containing `returns_to_scale?` below.\n",
    "\n",
    "*Note*: You do not need to change the actual code in the function — just\n",
    "copy/paste and add a docstring in the correct line."
   ]
  },
  {
   "cell_type": "code",
   "execution_count": null,
   "id": "9dd0022f",
   "metadata": {
    "hide-output": false
   },
   "outputs": [],
   "source": [
    "# re-define the `returns_to_scale` function here"
   ]
  },
  {
   "cell_type": "code",
   "execution_count": null,
   "id": "873d484f",
   "metadata": {
    "hide-output": false
   },
   "outputs": [],
   "source": [
    "# test it here\n",
    "\n",
    "returns_to_scale?"
   ]
  },
  {
   "cell_type": "markdown",
   "id": "59858250",
   "metadata": {},
   "source": [
    "([back to text](#dir2-4-3))"
   ]
  },
  {
   "cell_type": "markdown",
   "id": "a64a570d",
   "metadata": {},
   "source": [
    "### Exercise 4\n",
    "\n",
    "Experiment with the `sep` and `end` arguments to the `print` function.\n",
    "\n",
    "These can *only* be set by name."
   ]
  },
  {
   "cell_type": "code",
   "execution_count": null,
   "id": "a792510c",
   "metadata": {
    "hide-output": false
   },
   "outputs": [],
   "source": [
    "# Your code here."
   ]
  },
  {
   "cell_type": "markdown",
   "id": "aeba2d9f",
   "metadata": {},
   "source": [
    "([back to text](#dir2-4-4))"
   ]
  }
 ],
 "metadata": {
  "date": 1680118914.450777,
  "filename": "functions.md",
  "kernelspec": {
   "display_name": "Python",
   "language": "python3",
   "name": "python3"
  },
  "title": "Functions"
 },
 "nbformat": 4,
 "nbformat_minor": 5
}