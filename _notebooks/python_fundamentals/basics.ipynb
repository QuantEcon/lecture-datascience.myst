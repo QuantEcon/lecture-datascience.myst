{
 "cells": [
  {
   "cell_type": "markdown",
   "id": "76333424",
   "metadata": {},
   "source": [
    "# Basics\n",
    "\n",
    "**Prerequisites**\n",
    "\n",
    "- [Getting Started](https://datascience.quantecon.org/../introduction/getting_started.html)  \n",
    "\n",
    "\n",
    "**Outcomes**\n",
    "\n",
    "- Programming concepts  \n",
    "  - Understand variable assignment  \n",
    "  - Know what a function is and how to figure out what it does  \n",
    "  - Be able to use tab completion  \n",
    "- Numbers in Python  \n",
    "  - Understand how Python represents numbers  \n",
    "  - Know the distinction between `int` and `float`  \n",
    "  - Be familiar with various binary operators for numbers  \n",
    "  - Introduction to the `math` library  \n",
    "- Text (strings) in Python  \n",
    "  - Understand what a string is and when it is useful  \n",
    "  - Learn some of the methods associated with strings  \n",
    "  - Combining strings and output  \n",
    "- True and False (booleans) in Python  \n",
    "  - Understand what a boolean is  \n",
    "  - Become familiar with all binary operators that return booleans  "
   ]
  },
  {
   "cell_type": "markdown",
   "id": "a884b172",
   "metadata": {},
   "source": [
    "## First Steps\n",
    "\n",
    "We are ready to begin writing code!\n",
    "\n",
    "In this section, we will teach you some basic concepts of programming\n",
    "and where to search for help."
   ]
  },
  {
   "cell_type": "markdown",
   "id": "fc2c9688",
   "metadata": {},
   "source": [
    "### Variable Assignment\n",
    "\n",
    "The first thing we will learn is the idea of *variable assignment*.\n",
    "\n",
    "Variable assignment associates a value to a variable.\n",
    "\n",
    "Below, we assign the value “Hello World” to the variable `x`"
   ]
  },
  {
   "cell_type": "code",
   "execution_count": null,
   "id": "17ac977e",
   "metadata": {
    "hide-output": false
   },
   "outputs": [],
   "source": [
    "x = \"Hello World\""
   ]
  },
  {
   "cell_type": "markdown",
   "id": "f62cea03",
   "metadata": {},
   "source": [
    "Once we have assigned a value to a variable, Python will remember this\n",
    "variable as long as the *current* session of Python is still running.\n",
    "\n",
    "Notice how writing `x` into the prompt below outputs the value\n",
    "“Hello World”."
   ]
  },
  {
   "cell_type": "code",
   "execution_count": null,
   "id": "dfdfa1c7",
   "metadata": {
    "hide-output": false
   },
   "outputs": [],
   "source": [
    "x"
   ]
  },
  {
   "cell_type": "markdown",
   "id": "b6e05f30",
   "metadata": {},
   "source": [
    "However, Python returns an error if we ask it about variables that have not yet\n",
    "been created."
   ]
  },
  {
   "cell_type": "code",
   "execution_count": null,
   "id": "5647fb20",
   "metadata": {
    "hide-output": false
   },
   "outputs": [],
   "source": [
    "# uncomment (delete the # and the space) the line below and run\n",
    "# y"
   ]
  },
  {
   "cell_type": "markdown",
   "id": "ba726b21",
   "metadata": {},
   "source": [
    "It is also useful to understand the order in which operations happen.\n",
    "\n",
    "First, the right side of the equal sign is computed.\n",
    "\n",
    "Then, that computed value is stored as the variable to the left of the\n",
    "equal sign."
   ]
  },
  {
   "cell_type": "markdown",
   "id": "7b593ddd",
   "metadata": {},
   "source": [
    "### Exercise\n",
    "\n",
    "See exercise 1 in the [exercise list](#ex).\n",
    "\n",
    "Keep in mind that the variable binds a name to something stored in memory.\n",
    "\n",
    "The name can even be bound to a value of a completely different type."
   ]
  },
  {
   "cell_type": "code",
   "execution_count": null,
   "id": "2a90b425",
   "metadata": {
    "hide-output": false
   },
   "outputs": [],
   "source": [
    "x = 2\n",
    "print(x)\n",
    "x = \"something else\"\n",
    "print(x)"
   ]
  },
  {
   "cell_type": "markdown",
   "id": "67135250",
   "metadata": {},
   "source": [
    "### Code Comments\n",
    "\n",
    "Comments are short notes that you leave for yourself and for others who read your\n",
    "code.\n",
    "\n",
    "They should be used to explain what the code does.\n",
    "\n",
    "A comment is made with the `#`. Python ignores everything in a line that follows a `#`.\n",
    "\n",
    "Let’s practice making some comments."
   ]
  },
  {
   "cell_type": "code",
   "execution_count": null,
   "id": "a40dcff5",
   "metadata": {
    "hide-output": false
   },
   "outputs": [],
   "source": [
    "i = 1  # Assign the value 1 to variable i\n",
    "j = 2  # Assign the value 2 to variable j\n",
    "\n",
    "# We add i and j below this line\n",
    "i + j"
   ]
  },
  {
   "cell_type": "markdown",
   "id": "8574b7f7",
   "metadata": {},
   "source": [
    "## Functions\n",
    "\n",
    "Functions are processes that take an input (or inputs) and produce an output.\n",
    "\n",
    "If we had a function called `f` that took two arguments `x` and\n",
    "`y`, we would write `f(x, y)` to use the function.\n",
    "\n",
    "For example, the function `print` simply prints whatever it is given.\n",
    "Recall the variable we created called `x`."
   ]
  },
  {
   "cell_type": "code",
   "execution_count": null,
   "id": "f26005ae",
   "metadata": {
    "hide-output": false
   },
   "outputs": [],
   "source": [
    "print(x)"
   ]
  },
  {
   "cell_type": "markdown",
   "id": "8f29c731",
   "metadata": {},
   "source": [
    "### Getting Help\n",
    "\n",
    "We can figure out what a function does by asking for help.\n",
    "\n",
    "In Jupyter notebooks, this is done by placing a `?` after the function\n",
    "name (without using parenthesis) and evaluating the cell.\n",
    "\n",
    "For example, we can ask for help on the print function by writing\n",
    "`print?`.\n",
    "\n",
    "Depending on how you launched Jupyter, this will either launch\n",
    "\n",
    "- JupyterLab: display the help in text below the cell.  \n",
    "- Classic Jupyter Notebooks: display a new panel at the bottom of your\n",
    "  screen.  You can exit this panel by hitting the escape key or clicking the x at\n",
    "  the top right of the panel.  "
   ]
  },
  {
   "cell_type": "code",
   "execution_count": null,
   "id": "2b466a6e",
   "metadata": {
    "hide-output": false
   },
   "outputs": [],
   "source": [
    "# print? # remove the comment and <Shift-Enter>"
   ]
  },
  {
   "cell_type": "markdown",
   "id": "8e930cf1",
   "metadata": {},
   "source": [
    "### Exercise\n",
    "\n",
    "See exercise 2 in the [exercise list](#ex).\n",
    "\n",
    "JupyterLab also has a “Contextual Help” (previously called “Inspector”) window.  To use,\n",
    "\n",
    "- Go to the Commands and choose Contextual Help (or Inspector), or select `<Ctrl-I>` (`<Cmd-I>` for OSX users).  \n",
    "- Drag the new inspector pain to dock in the screen next to your code.  \n",
    "- Then, type `print` or any other function\n",
    "  into a cell and see the help.  "
   ]
  },
  {
   "cell_type": "code",
   "execution_count": null,
   "id": "05064779",
   "metadata": {
    "hide-output": false
   },
   "outputs": [],
   "source": [
    "# len? # remove the comment and <Shift-Enter>"
   ]
  },
  {
   "cell_type": "markdown",
   "id": "42f46f65",
   "metadata": {},
   "source": [
    "We will learn much more about functions, including how to write our own, in a\n",
    "future lecture."
   ]
  },
  {
   "cell_type": "markdown",
   "id": "b35eb5cd",
   "metadata": {},
   "source": [
    "## Objects and Types\n",
    "\n",
    "Everything in Python is an *object*.\n",
    "\n",
    "Objects are “things” that contain 1) data and 2) functions that can operate on\n",
    "the data.\n",
    "\n",
    "Sometimes we refer to the functions inside an object as *methods*.\n",
    "\n",
    "We can investigate what data is inside an object and which methods\n",
    "it supports by typing `.` after that particular variable, then\n",
    "hitting `TAB`.\n",
    "\n",
    "It should then list data and method names to the right of the\n",
    "variable name like this:\n",
    "\n",
    "![https://datascience.quantecon.org/_static/introspection.png](https://datascience.quantecon.org/_static/introspection.png)\n",
    "\n",
    "  \n",
    "You can scroll through this list by using the up and down arrows.\n",
    "\n",
    "We often refer to this as “tab completion” or “introspection”.\n",
    "\n",
    "Let’s do this together below. Keep going down until you find the method\n",
    "`split`."
   ]
  },
  {
   "cell_type": "code",
   "execution_count": null,
   "id": "291892e2",
   "metadata": {
    "hide-output": false
   },
   "outputs": [],
   "source": [
    "# Type a period after `x` and then press TAB.\n",
    "x"
   ]
  },
  {
   "cell_type": "markdown",
   "id": "6ddeaf4f",
   "metadata": {},
   "source": [
    "Once you have found the method `split`, you can use the method by adding\n",
    "parenthesis after it.\n",
    "\n",
    "Let’s call the `split` method, which doesn’t have any other required\n",
    "parameters. (Quiz: how would we check that?)"
   ]
  },
  {
   "cell_type": "code",
   "execution_count": null,
   "id": "b039dd94",
   "metadata": {
    "hide-output": false
   },
   "outputs": [],
   "source": [
    "x.split()"
   ]
  },
  {
   "cell_type": "markdown",
   "id": "42aed79f",
   "metadata": {},
   "source": [
    "We often want to identify what kind of object some value is–\n",
    "called its “type”.\n",
    "\n",
    "A “type” is an abstraction which defines a set of behavior for any\n",
    "“instance” of that type i.e. `2.0` and `3.0` are instances\n",
    "of `float`, where `float` has a set of particular common behaviors.\n",
    "\n",
    "In particular, the type determines:\n",
    "\n",
    "- the available data for any “instance” of the type (where each\n",
    "  instance may have different values of the data).  \n",
    "- the methods that can be applied on the object and its data.  \n",
    "\n",
    "\n",
    "We can figure this out by using the `type` function.\n",
    "\n",
    "The `type` function takes a single argument and outputs the type of\n",
    "that argument."
   ]
  },
  {
   "cell_type": "code",
   "execution_count": null,
   "id": "f3d7f45d",
   "metadata": {
    "hide-output": false
   },
   "outputs": [],
   "source": [
    "type(3)"
   ]
  },
  {
   "cell_type": "code",
   "execution_count": null,
   "id": "849d058f",
   "metadata": {
    "hide-output": false
   },
   "outputs": [],
   "source": [
    "type(\"Hello World\")"
   ]
  },
  {
   "cell_type": "code",
   "execution_count": null,
   "id": "f8d1e6e6",
   "metadata": {
    "hide-output": false
   },
   "outputs": [],
   "source": [
    "type([1, 2, 3])"
   ]
  },
  {
   "cell_type": "markdown",
   "id": "b6081708",
   "metadata": {},
   "source": [
    "We will learn more about each of these types (and others!) and how to use them\n",
    "soon, so stay tuned!\n",
    "\n",
    "\n",
    "<a id='modules'></a>"
   ]
  },
  {
   "cell_type": "markdown",
   "id": "5f97071c",
   "metadata": {},
   "source": [
    "## Modules\n",
    "\n",
    "Python takes a modular approach to tools.\n",
    "\n",
    "By this we mean that sets of related tools are bundled together into *packages*.\n",
    "(You may also hear the term modules to describe the same thing.)\n",
    "\n",
    "For example:\n",
    "\n",
    "- `pandas` is a package that implements the tools necessary to do\n",
    "  scalable data analysis.  \n",
    "- `matplotlib` is a package that implements visualization tools.  \n",
    "- `requests` and `urllib` are packages that allow Python to\n",
    "  interface with the internet.  \n",
    "\n",
    "\n",
    "As we move further into the class, being able to\n",
    "access these packages will become very important.\n",
    "\n",
    "We can bring a package’s functionality into our current Python session\n",
    "by writing"
   ]
  },
  {
   "cell_type": "code",
   "execution_count": null,
   "id": "93d4110e",
   "metadata": {
    "hide-output": false
   },
   "outputs": [],
   "source": [
    "import package"
   ]
  },
  {
   "cell_type": "markdown",
   "id": "b625dfdf",
   "metadata": {},
   "source": [
    "Once we have done this, any function or object from that package can\n",
    "be accessed by using `package.name`.\n",
    "\n",
    "Here’s an example."
   ]
  },
  {
   "cell_type": "code",
   "execution_count": null,
   "id": "31842a21",
   "metadata": {
    "hide-output": false
   },
   "outputs": [],
   "source": [
    "import sys   # for dealing with your computer's system\n",
    "sys.version  # information about the Python version in use"
   ]
  },
  {
   "cell_type": "markdown",
   "id": "96f6c889",
   "metadata": {},
   "source": [
    "## Exercise\n",
    "\n",
    "See exercise 3 in the [exercise list](#ex)."
   ]
  },
  {
   "cell_type": "markdown",
   "id": "90337a77",
   "metadata": {},
   "source": [
    "### Module Aliases\n",
    "\n",
    "Some packages have long names (see `matplotlib`, for example) which\n",
    "makes accessing the package functionality somewhat inconvenient.\n",
    "\n",
    "To ease this burden, Python allows us to give aliases or “nicknames” to packages.\n",
    "\n",
    "For example we can write:"
   ]
  },
  {
   "cell_type": "code",
   "execution_count": null,
   "id": "96c6f380",
   "metadata": {
    "hide-output": false
   },
   "outputs": [],
   "source": [
    "import package as p"
   ]
  },
  {
   "cell_type": "markdown",
   "id": "861ddb92",
   "metadata": {},
   "source": [
    "This statement allows us to access the packages functionality as\n",
    "`p.function_name` rather than `package.function_name`.\n",
    "\n",
    "Some common aliases for packages are\n",
    "\n",
    "- `import pandas as pd`  \n",
    "- `import numpy as np`  \n",
    "- `import matplotlib as mpl`  \n",
    "- `import datetime as dt`  \n",
    "\n",
    "\n",
    "While you *can* choose any name for an alias, we suggest that you stick\n",
    "to the common ones.\n",
    "\n",
    "You will learn what these common ones are over time."
   ]
  },
  {
   "cell_type": "markdown",
   "id": "f22ff319",
   "metadata": {},
   "source": [
    "### Exercise\n",
    "\n",
    "See exercise 4 in the [exercise list](#ex)."
   ]
  },
  {
   "cell_type": "markdown",
   "id": "0dd3ec57",
   "metadata": {},
   "source": [
    "## Good Code Habits\n",
    "\n",
    "A common saying in the software engineering world is:\n",
    "\n",
    "> Always code as if the guy who ends up maintaining your code will be\n",
    "a violent psychopath who knows where you live. Code for readability.\n",
    "\n",
    "\n",
    "This might be a dramatic take, but the most important feature of your code\n",
    "after correctness is readability.\n",
    "\n",
    "We encourage you to do **everything** in your power to make your code as readable as possible.\n",
    "\n",
    "Here are some suggestions for how to do so:\n",
    "\n",
    "- Comment frequently. Leaving short notes not only will help others who\n",
    "  use your code, but will also help you interpret your code\n",
    "  after some time has passed.  \n",
    "- **Anytime** you use a comma, place a space immediately afterwards.  \n",
    "- Whitespace is your friend. Don’t write line after line of code – use\n",
    "  blank lines to break it up.  \n",
    "- Don’t let your lines run too long. Some people reading your code will\n",
    "  be on a laptop, so you want to ensure that they don’t need to scroll horizontally\n",
    "  and right to read your code. We recommend no more than 80 characters per line.  "
   ]
  },
  {
   "cell_type": "markdown",
   "id": "8f8b2dbb",
   "metadata": {},
   "source": [
    "## Numbers\n",
    "\n",
    "Python has two types of numbers.\n",
    "\n",
    "1. Integer (`int`): These can only take the values of the integers\n",
    "  i.e. $ \\{\\dots, -2, -1, 0, 1, 2, \\dots\\} $  \n",
    "1. Floating Point Number (`float`): Think of these as any real number\n",
    "  such as $ 1.0 $, $ 3.1415 $, or $ -100.022358923223 $…  \n",
    "\n",
    "\n",
    "The easiest way to differentiate these types of numbers is to find a decimal place\n",
    "after the number.\n",
    "\n",
    "A float will have a decimal place, but an integer will not.\n",
    "\n",
    "Below, we assign integers to the variables `xi` and `zi` and assign\n",
    "floating point numbers to the variables `xf` and `zf`."
   ]
  },
  {
   "cell_type": "code",
   "execution_count": null,
   "id": "8f1aa784",
   "metadata": {
    "hide-output": false
   },
   "outputs": [],
   "source": [
    "xi = 1\n",
    "xf = 1.0\n",
    "zi = 123\n",
    "zf = 1230.5  # Notice -- There are no commas!\n",
    "zf2 = 1_230.5  # If needed, we use `_` to separate numbers for readability"
   ]
  },
  {
   "cell_type": "markdown",
   "id": "0d64f0b4",
   "metadata": {},
   "source": [
    "## Exercise\n",
    "\n",
    "See exercise 5 in the [exercise list](#ex)."
   ]
  },
  {
   "cell_type": "markdown",
   "id": "7bd86066",
   "metadata": {},
   "source": [
    "### Python as a Calculator\n",
    "\n",
    "You can use Python to perform mathematical calculations."
   ]
  },
  {
   "cell_type": "code",
   "execution_count": null,
   "id": "653b17df",
   "metadata": {
    "hide-output": false
   },
   "outputs": [],
   "source": [
    "a = 4\n",
    "b = 2\n",
    "\n",
    "print(\"a + b is\", a + b)\n",
    "print(\"a - b is\", a - b)\n",
    "print(\"a * b is\", a * b)\n",
    "print(\"a / b is\", a / b)\n",
    "print(\"a ** b is\", a**b)\n",
    "print(\"a ^ b is\", a^b)"
   ]
  },
  {
   "cell_type": "markdown",
   "id": "0a1d7834",
   "metadata": {},
   "source": [
    "You likely could have guessed all except the last two.\n",
    "\n",
    "Python uses `**`, not `^`, for exponentiation (raising a number\n",
    "to a power)!\n",
    "\n",
    "Notice also that above `+`, `-` and `**` all returned an integer\n",
    "type, but `/` converted the result to a float.\n",
    "\n",
    "When possible, operations between integers return an integer type.\n",
    "\n",
    "All operations involving a float will result in a float."
   ]
  },
  {
   "cell_type": "code",
   "execution_count": null,
   "id": "9c1c8fb7",
   "metadata": {
    "hide-output": false
   },
   "outputs": [],
   "source": [
    "a = 4\n",
    "b = 2.0\n",
    "\n",
    "print(\"a + b is\", a + b)\n",
    "print(\"a - b is\", a - b)\n",
    "print(\"a * b is\", a * b)\n",
    "print(\"a / b is\", a / b)\n",
    "print(\"a ** b is\", a**b)"
   ]
  },
  {
   "cell_type": "markdown",
   "id": "d943468a",
   "metadata": {},
   "source": [
    "We can also chain together operations.\n",
    "\n",
    "When doing this, Python follows the standard [order of operations](https://en.wikipedia.org/wiki/Order_of_operations) — parenthesis, exponents,\n",
    "multiplication and division, followed by addition and subtraction.\n",
    "\n",
    "For example,"
   ]
  },
  {
   "cell_type": "code",
   "execution_count": null,
   "id": "3c06e910",
   "metadata": {
    "hide-output": false
   },
   "outputs": [],
   "source": [
    "x = 2.0\n",
    "y = 3.0\n",
    "z1 = x + y * x\n",
    "z2 = (x + y) * x"
   ]
  },
  {
   "cell_type": "markdown",
   "id": "893e92c1",
   "metadata": {},
   "source": [
    "What do you think `z1` is?\n",
    "\n",
    "How about `z2`?"
   ]
  },
  {
   "cell_type": "markdown",
   "id": "439795cd",
   "metadata": {},
   "source": [
    "### Exercise\n",
    "\n",
    "See exercise 6 in the [exercise list](#ex)."
   ]
  },
  {
   "cell_type": "markdown",
   "id": "fb799d06",
   "metadata": {},
   "source": [
    "### Other Math Functions\n",
    "\n",
    "We often want to use other math functions on our numbers. Let’s try to\n",
    "calculate sin(2.5)."
   ]
  },
  {
   "cell_type": "code",
   "execution_count": null,
   "id": "19fc41a6",
   "metadata": {
    "hide-output": false
   },
   "outputs": [],
   "source": [
    "sin(2.5)"
   ]
  },
  {
   "cell_type": "markdown",
   "id": "31465e73",
   "metadata": {},
   "source": [
    "As seen above, Python complains that `sin` isn’t defined.\n",
    "\n",
    "The problem here is that the `sin` function – as well as many other\n",
    "standard math functions – are contained in the `math` package.\n",
    "\n",
    "We must begin by importing the math package."
   ]
  },
  {
   "cell_type": "code",
   "execution_count": null,
   "id": "9012d7f4",
   "metadata": {
    "hide-output": false
   },
   "outputs": [],
   "source": [
    "import math"
   ]
  },
  {
   "cell_type": "markdown",
   "id": "960b2911",
   "metadata": {},
   "source": [
    "Now, we can use `math.[TAB]` to see what functions are available to us."
   ]
  },
  {
   "cell_type": "code",
   "execution_count": null,
   "id": "8eae6b83",
   "metadata": {
    "hide-output": false
   },
   "outputs": [],
   "source": [
    "# uncomment, add a period (`.`) and pres TAB\n",
    "# math"
   ]
  },
  {
   "cell_type": "code",
   "execution_count": null,
   "id": "a1abf758",
   "metadata": {
    "hide-output": false
   },
   "outputs": [],
   "source": [
    "# found math.sin!\n",
    "math.sin(2.5)"
   ]
  },
  {
   "cell_type": "markdown",
   "id": "81b2f2b9",
   "metadata": {},
   "source": [
    "### Exercise\n",
    "\n",
    "See exercise 7 in the [exercise list](#ex)."
   ]
  },
  {
   "cell_type": "markdown",
   "id": "b813a9c2",
   "metadata": {},
   "source": [
    "#### Floor/Modulus Division Operators\n",
    "\n",
    "You are less likely to run into the following operators, but understanding\n",
    "that they exist is useful.\n",
    "\n",
    "For two numbers assigned to the variables `x` and `y`,\n",
    "\n",
    "- Floor division: `x // y`  \n",
    "- Modulus division: `x % y`  \n",
    "\n",
    "\n",
    "Remember when you first learned how to do division and you were asked to talk about the quotient\n",
    "and the remainder?\n",
    "\n",
    "That’s what these operators correspond to…\n",
    "\n",
    "Floor division returns the number of times the divisor goes into the dividend (the quotient)\n",
    "and modulus division returns the remainder.\n",
    "\n",
    "An example would be 37 divided by 7:\n",
    "\n",
    "- Floor division would return 5 (7 * 5 = 35)  \n",
    "- Modulus division would return 2 (2 + 35 = 37)  \n",
    "\n",
    "\n",
    "Try it!"
   ]
  },
  {
   "cell_type": "code",
   "execution_count": null,
   "id": "54917099",
   "metadata": {
    "hide-output": false
   },
   "outputs": [],
   "source": [
    "37 // 7"
   ]
  },
  {
   "cell_type": "code",
   "execution_count": null,
   "id": "6e863e0d",
   "metadata": {
    "hide-output": false
   },
   "outputs": [],
   "source": [
    "37 % 7"
   ]
  },
  {
   "cell_type": "markdown",
   "id": "5741b39c",
   "metadata": {},
   "source": [
    "## Strings\n",
    "\n",
    "Textual information is stored in a data type called a string.\n",
    "\n",
    "To denote that you would like something to be stored as a string, you place it\n",
    "inside of quotation marks.\n",
    "\n",
    "For example,"
   ]
  },
  {
   "cell_type": "code",
   "execution_count": null,
   "id": "eb0c6a2a",
   "metadata": {
    "hide-output": false
   },
   "outputs": [],
   "source": [
    "\"this is a string\"  # Notice the quotation marks\n",
    "'this is a string'  # Notice the quotation marks\n",
    "this is not a string  # No quotation marks"
   ]
  },
  {
   "cell_type": "markdown",
   "id": "172047f3",
   "metadata": {},
   "source": [
    "You can use either `\"` or `'` to create a string. Just make sure\n",
    "that you start and end the string with the same one!\n",
    "\n",
    "Notice that if we ask Python to tell us the type of a string, it abbreviates\n",
    "its answer to `str`."
   ]
  },
  {
   "cell_type": "code",
   "execution_count": null,
   "id": "3097f4f3",
   "metadata": {
    "hide-output": false
   },
   "outputs": [],
   "source": [
    "type(\"this is a string\")"
   ]
  },
  {
   "cell_type": "markdown",
   "id": "7f4d29c0",
   "metadata": {},
   "source": [
    "## Exercise\n",
    "\n",
    "See exercise 8 in the [exercise list](#ex)."
   ]
  },
  {
   "cell_type": "markdown",
   "id": "aeb2ccf5",
   "metadata": {},
   "source": [
    "### String Operations\n",
    "\n",
    "Some of the arithmetic operators we saw in the numbers lecture also work\n",
    "on strings:\n",
    "\n",
    "- Put two strings together: `x + y`.  \n",
    "- Repeat the string `x` a total of `n` times: `n * x` (or `x * n`).  "
   ]
  },
  {
   "cell_type": "code",
   "execution_count": null,
   "id": "a6ce2e2e",
   "metadata": {
    "hide-output": false
   },
   "outputs": [],
   "source": [
    "x = \"Hello\"\n",
    "y = \"World\""
   ]
  },
  {
   "cell_type": "code",
   "execution_count": null,
   "id": "672a810a",
   "metadata": {
    "hide-output": false
   },
   "outputs": [],
   "source": [
    "x + y"
   ]
  },
  {
   "cell_type": "code",
   "execution_count": null,
   "id": "e721a5f8",
   "metadata": {
    "hide-output": false
   },
   "outputs": [],
   "source": [
    "3 * x"
   ]
  },
  {
   "cell_type": "markdown",
   "id": "5a52bfb5",
   "metadata": {},
   "source": [
    "What happens if we try `*` with two strings, or `-` or `/`?\n",
    "\n",
    "The best way to find out is to try it!"
   ]
  },
  {
   "cell_type": "code",
   "execution_count": null,
   "id": "ad8be51d",
   "metadata": {
    "hide-output": false
   },
   "outputs": [],
   "source": [
    "a = \"1\"\n",
    "b = \"2\"\n",
    "a * b"
   ]
  },
  {
   "cell_type": "code",
   "execution_count": null,
   "id": "a686eedd",
   "metadata": {
    "hide-output": false
   },
   "outputs": [],
   "source": [
    "a - b"
   ]
  },
  {
   "cell_type": "markdown",
   "id": "fbafda45",
   "metadata": {},
   "source": [
    "### Exercise\n",
    "\n",
    "See exercise 9 in the [exercise list](#ex)."
   ]
  },
  {
   "cell_type": "markdown",
   "id": "71409e67",
   "metadata": {},
   "source": [
    "### String Methods\n",
    "\n",
    "We can use many *methods* to manipulate strings.\n",
    "\n",
    "We will not be able to cover all of them here, but let’s take a look at\n",
    "some of the most useful ones."
   ]
  },
  {
   "cell_type": "code",
   "execution_count": null,
   "id": "ae2cabd1",
   "metadata": {
    "hide-output": false
   },
   "outputs": [],
   "source": [
    "x"
   ]
  },
  {
   "cell_type": "code",
   "execution_count": null,
   "id": "43734dd7",
   "metadata": {
    "hide-output": false
   },
   "outputs": [],
   "source": [
    "x.lower()  # Makes all letters lower case"
   ]
  },
  {
   "cell_type": "code",
   "execution_count": null,
   "id": "e16c6f5f",
   "metadata": {
    "hide-output": false
   },
   "outputs": [],
   "source": [
    "x.upper()  # Makes all letters upper case"
   ]
  },
  {
   "cell_type": "code",
   "execution_count": null,
   "id": "0c674a97",
   "metadata": {
    "hide-output": false
   },
   "outputs": [],
   "source": [
    "x.count(\"l\")  # Counts number of a particular string"
   ]
  },
  {
   "cell_type": "code",
   "execution_count": null,
   "id": "f31b4268",
   "metadata": {
    "hide-output": false
   },
   "outputs": [],
   "source": [
    "x.count(\"ll\")"
   ]
  },
  {
   "cell_type": "markdown",
   "id": "2540be58",
   "metadata": {},
   "source": [
    "### Exercise\n",
    "\n",
    "See exercise 10 in the [exercise list](#ex)."
   ]
  },
  {
   "cell_type": "markdown",
   "id": "b5d65824",
   "metadata": {},
   "source": [
    "### Exercise\n",
    "\n",
    "See exercise 11 in the [exercise list](#ex)."
   ]
  },
  {
   "cell_type": "markdown",
   "id": "f18b9d3a",
   "metadata": {},
   "source": [
    "### String Formatting\n",
    "\n",
    "Sometimes we’d like to reuse some portion of a string repeatedly, but\n",
    "still make some relatively small changes at each usage.\n",
    "\n",
    "We can do this with *string formatting*, which done by using `{}` as a\n",
    "*placeholder* where we’d like to change the string, with a variable name\n",
    "or expression.\n",
    "\n",
    "Let’s look at an example."
   ]
  },
  {
   "cell_type": "code",
   "execution_count": null,
   "id": "5f454275",
   "metadata": {
    "hide-output": false
   },
   "outputs": [],
   "source": [
    "country = \"Vietnam\"\n",
    "GDP = 223.9\n",
    "year = 2017\n",
    "my_string = f\"{country} had ${GDP} billion GDP in {year}\"\n",
    "print(my_string)"
   ]
  },
  {
   "cell_type": "markdown",
   "id": "44932e4e",
   "metadata": {},
   "source": [
    "Rather than just substituting a variable name, you can use a calculation\n",
    "or expression."
   ]
  },
  {
   "cell_type": "code",
   "execution_count": null,
   "id": "ab29e83a",
   "metadata": {
    "hide-output": false
   },
   "outputs": [],
   "source": [
    "print(f\"{5}**2 = {5**2}\")"
   ]
  },
  {
   "cell_type": "markdown",
   "id": "4d0bf20d",
   "metadata": {},
   "source": [
    "Or, using our previous example"
   ]
  },
  {
   "cell_type": "code",
   "execution_count": null,
   "id": "3b510d34",
   "metadata": {
    "hide-output": false
   },
   "outputs": [],
   "source": [
    "my_string = f\"{country} had ${GDP * 1_000_000} GDP in {year}\"\n",
    "print(my_string)"
   ]
  },
  {
   "cell_type": "markdown",
   "id": "970c2294",
   "metadata": {},
   "source": [
    "In these cases, the `f` in front of the string causes Python interpolate\n",
    "any valid expression within the `{}` braces."
   ]
  },
  {
   "cell_type": "markdown",
   "id": "650c78e0",
   "metadata": {},
   "source": [
    "### Exercise\n",
    "\n",
    "See exercise 12 in the [exercise list](#ex).\n",
    "\n",
    "Alternatively, to reuse a formatted string, you can call the `format` method (noting that you do **not** put `f` in front)."
   ]
  },
  {
   "cell_type": "code",
   "execution_count": null,
   "id": "4293caa2",
   "metadata": {
    "hide-output": false
   },
   "outputs": [],
   "source": [
    "gdp_string = \"{country} had ${GDP} billion in {year}\"\n",
    "\n",
    "gdp_string.format(country = \"Vietnam\", GDP = 223.9, year = 2017)"
   ]
  },
  {
   "cell_type": "markdown",
   "id": "709d6732",
   "metadata": {},
   "source": [
    "### Exercise\n",
    "\n",
    "See exercise 13 in the [exercise list](#ex)."
   ]
  },
  {
   "cell_type": "markdown",
   "id": "4d6c6f5c",
   "metadata": {},
   "source": [
    "### Exercise\n",
    "\n",
    "See exercise 14 in the [exercise list](#ex).\n",
    "\n",
    "For more information on what you can do with string formatting (there is *a lot*\n",
    "that can be done…), see the [official Python documentation](https://docs.python.org/3.6/library/string.html) on the subject."
   ]
  },
  {
   "cell_type": "markdown",
   "id": "08057426",
   "metadata": {},
   "source": [
    "## Booleans\n",
    "\n",
    "A boolean is a type that denotes true or false.\n",
    "\n",
    "As you will soon see in the [control flow chapter](https://datascience.quantecon.org/control_flow.html), using\n",
    "boolean values allows you to perform or skip operations depending on whether or\n",
    "not a condition is met.\n",
    "\n",
    "Let’s start by creating some booleans and looking at them."
   ]
  },
  {
   "cell_type": "code",
   "execution_count": null,
   "id": "09e23062",
   "metadata": {
    "hide-output": false
   },
   "outputs": [],
   "source": [
    "x = True\n",
    "y = False\n",
    "\n",
    "type(x)"
   ]
  },
  {
   "cell_type": "code",
   "execution_count": null,
   "id": "550d91a1",
   "metadata": {
    "hide-output": false
   },
   "outputs": [],
   "source": [
    "x"
   ]
  },
  {
   "cell_type": "code",
   "execution_count": null,
   "id": "bbfdd7ed",
   "metadata": {
    "hide-output": false
   },
   "outputs": [],
   "source": [
    "y"
   ]
  },
  {
   "cell_type": "markdown",
   "id": "a140dd6c",
   "metadata": {},
   "source": [
    "### Comparison Operators\n",
    "\n",
    "Rather than directly write `True` or `False`, you will usually\n",
    "create booleans by making a comparison.\n",
    "\n",
    "For example, you might want to evaluate whether the price of a particular asset\n",
    "is greater than or less than some price.\n",
    "\n",
    "For two variables `x` and `y`, we can do the following comparisons:\n",
    "\n",
    "- Greater than: `x > y`  \n",
    "- Less than: `x < y`  \n",
    "- Equal to: `==`  \n",
    "- Greater than or equal to: `x >= y`  \n",
    "- Less than or equal to: `x <= y`  \n",
    "\n",
    "\n",
    "We demonstrate these below."
   ]
  },
  {
   "cell_type": "code",
   "execution_count": null,
   "id": "5e33437f",
   "metadata": {
    "hide-output": false
   },
   "outputs": [],
   "source": [
    "a = 4\n",
    "b = 2\n",
    "\n",
    "print(\"a > b\", \"is\", a > b)\n",
    "print(\"a < b\", \"is\", a < b)\n",
    "print(\"a == b\", \"is\", a == b)\n",
    "print(\"a >= b\", \"is\", a >= b)\n",
    "print(\"a <= b\", \"is\", a <= b)"
   ]
  },
  {
   "cell_type": "markdown",
   "id": "21219731",
   "metadata": {},
   "source": [
    "### Negation\n",
    "\n",
    "Occasionally, determining whether a statement is\n",
    "“not true” or “not false” is more convenient than simply “true” or “false”.\n",
    "\n",
    "This is known as *negating* a statement.\n",
    "\n",
    "In Python, we can negate a boolean using the word `not`."
   ]
  },
  {
   "cell_type": "code",
   "execution_count": null,
   "id": "fbbea8de",
   "metadata": {
    "hide-output": false
   },
   "outputs": [],
   "source": [
    "not False"
   ]
  },
  {
   "cell_type": "code",
   "execution_count": null,
   "id": "998c56b9",
   "metadata": {
    "hide-output": false
   },
   "outputs": [],
   "source": [
    "not True"
   ]
  },
  {
   "cell_type": "markdown",
   "id": "64de1dd3",
   "metadata": {},
   "source": [
    "### Multiple Comparisons (and/or)\n",
    "\n",
    "Sometimes we need to evaluate multiple comparisons at once.\n",
    "\n",
    "This is done by using the words `and` and `or`.\n",
    "\n",
    "However, these are the “mathematical” *and*s and *or*s – so they\n",
    "don’t carry the same meaning as you’d use them in colloquial English.\n",
    "\n",
    "- `a and b` is true only when **both** `a` and `b` are true.  \n",
    "- `a or b` is true whenever at least one of `a` or `b` is true.  \n",
    "\n",
    "\n",
    "For example\n",
    "\n",
    "- The statement “I will accept the new job if the salary is higher\n",
    "  *and* I receive more vacation days” means that you would only accept\n",
    "  the new job if you both receive a higher salary and are given more\n",
    "  vacation days.  \n",
    "- The statement “I will accept the new job if the salary is higher *or*\n",
    "  I receive more vacation days” means that you would accept the job if\n",
    "  (1) they raised your salary, (2) you are given more vacation days, or\n",
    "  (3) they raise your salary and give you more vacation days.  \n",
    "\n",
    "\n",
    "Let’s see some examples."
   ]
  },
  {
   "cell_type": "code",
   "execution_count": null,
   "id": "2901ecc6",
   "metadata": {
    "hide-output": false
   },
   "outputs": [],
   "source": [
    "True and False"
   ]
  },
  {
   "cell_type": "code",
   "execution_count": null,
   "id": "7f2fd101",
   "metadata": {
    "hide-output": false
   },
   "outputs": [],
   "source": [
    "True and True"
   ]
  },
  {
   "cell_type": "code",
   "execution_count": null,
   "id": "3a64b9c3",
   "metadata": {
    "hide-output": false
   },
   "outputs": [],
   "source": [
    "True or False"
   ]
  },
  {
   "cell_type": "code",
   "execution_count": null,
   "id": "1f8d54f5",
   "metadata": {
    "hide-output": false
   },
   "outputs": [],
   "source": [
    "False or False"
   ]
  },
  {
   "cell_type": "code",
   "execution_count": null,
   "id": "94837865",
   "metadata": {
    "hide-output": false
   },
   "outputs": [],
   "source": [
    "# Can chain multiple comparisons together.\n",
    "True and (False or True)"
   ]
  },
  {
   "cell_type": "markdown",
   "id": "be5c5e71",
   "metadata": {},
   "source": [
    "### Exercise\n",
    "\n",
    "See exercise 15 in the [exercise list](#ex)."
   ]
  },
  {
   "cell_type": "markdown",
   "id": "7e68f494",
   "metadata": {},
   "source": [
    "### `all` and `any`\n",
    "\n",
    "We have seen how we can use the words `and` and `or` to process two booleans\n",
    "at a time.\n",
    "\n",
    "The functions `all` and `any` allow us to process an unlimited number of\n",
    "booleans at once.\n",
    "\n",
    "`all(bools)` will return `True` if and only if all the booleans in `bools`\n",
    "is `True` and returns `False` otherwise.\n",
    "\n",
    "`any(bools)` returns `True` whenever one or more of `bools` is `True`.\n",
    "\n",
    "The exercise below will give you a chance to practice."
   ]
  },
  {
   "cell_type": "markdown",
   "id": "20da8604",
   "metadata": {},
   "source": [
    "### Exercise\n",
    "\n",
    "See exercise 16 in the [exercise list](#ex).\n",
    "\n",
    "\n",
    "<a id='ex'></a>"
   ]
  },
  {
   "cell_type": "markdown",
   "id": "d8a7e53d",
   "metadata": {},
   "source": [
    "## Exercises"
   ]
  },
  {
   "cell_type": "markdown",
   "id": "efb7e6a7",
   "metadata": {},
   "source": [
    "### Exercise 1\n",
    "\n",
    "What do you think the value of `z` is after running the code below?"
   ]
  },
  {
   "cell_type": "code",
   "execution_count": null,
   "id": "680b54f7",
   "metadata": {
    "hide-output": false
   },
   "outputs": [],
   "source": [
    "z = 3\n",
    "z = z + 4\n",
    "print(\"z is\", z)"
   ]
  },
  {
   "cell_type": "markdown",
   "id": "64d7bf19",
   "metadata": {},
   "source": [
    "([back to text](#dir1))"
   ]
  },
  {
   "cell_type": "markdown",
   "id": "82e255ff",
   "metadata": {},
   "source": [
    "### Exercise 2\n",
    "\n",
    "Read about out what the `len` function does (by writing len?).\n",
    "\n",
    "What will it produce if we give it the variable `x`?\n",
    "\n",
    "Check whether you were right by running the code `len(x)`.\n",
    "\n",
    "([back to text](#dir2))"
   ]
  },
  {
   "cell_type": "markdown",
   "id": "1bd3ce93",
   "metadata": {},
   "source": [
    "### Exercise 3\n",
    "\n",
    "We can use our introspection skills to investigate a package’s contents.\n",
    "\n",
    "In the cell below, use tab completion to find a function from the `time`\n",
    "module that will display the **local** time.\n",
    "\n",
    "Use `time.FUNC_NAME?` (where `FUNC_NAME` is replaced with the\n",
    "function you found) to see information about that function and\n",
    "then call the function.\n",
    "\n",
    "Look for something to do with the word `local`"
   ]
  },
  {
   "cell_type": "code",
   "execution_count": null,
   "id": "ad1fc332",
   "metadata": {
    "hide-output": false
   },
   "outputs": [],
   "source": [
    "import time\n",
    "# your code here -- notice the comment!"
   ]
  },
  {
   "cell_type": "markdown",
   "id": "b6a13dfe",
   "metadata": {},
   "source": [
    "([back to text](#dir3))"
   ]
  },
  {
   "cell_type": "markdown",
   "id": "10ae81c6",
   "metadata": {},
   "source": [
    "### Exercise 4\n",
    "\n",
    "Try running `import time as t` in the cell below, then see if you can\n",
    "call the function you identified above.\n",
    "\n",
    "Does it work?\n",
    "\n",
    "([back to text](#dir4))"
   ]
  },
  {
   "cell_type": "markdown",
   "id": "4631cc26",
   "metadata": {},
   "source": [
    "### Exercise 5\n",
    "\n",
    "Create the following variables:\n",
    "\n",
    "- `D`: A floating point number with the value 10,000  \n",
    "- `r`: A floating point number with value 0.025  \n",
    "- `T`: An integer with value 30  \n",
    "\n",
    "\n",
    "We will use them in a later exercise."
   ]
  },
  {
   "cell_type": "code",
   "execution_count": null,
   "id": "f6d993fd",
   "metadata": {
    "hide-output": false
   },
   "outputs": [],
   "source": [
    "# your code here!"
   ]
  },
  {
   "cell_type": "markdown",
   "id": "738565b3",
   "metadata": {},
   "source": [
    "([back to text](#dir5))"
   ]
  },
  {
   "cell_type": "markdown",
   "id": "ca4de191",
   "metadata": {},
   "source": [
    "### Exercise 6\n",
    "\n",
    "Remember the variables we created earlier?\n",
    "\n",
    "Let’s compute the present discounted value of a payment ($ D $) made\n",
    "in $ T $ years assuming an interest rate of 2.5%. Save this value to\n",
    "a new variable called `PDV` and print your output.\n",
    "\n",
    "The formula is\n",
    "\n",
    "$$\n",
    "\\text{PDV} = \\frac{D}{(1 + r)^T}\n",
    "$$"
   ]
  },
  {
   "cell_type": "code",
   "execution_count": null,
   "id": "25c45aed",
   "metadata": {
    "hide-output": false
   },
   "outputs": [],
   "source": [
    "# your code here"
   ]
  },
  {
   "cell_type": "markdown",
   "id": "6d40b089",
   "metadata": {},
   "source": [
    "([back to text](#dir6))"
   ]
  },
  {
   "cell_type": "markdown",
   "id": "ba8e97cd",
   "metadata": {},
   "source": [
    "### Exercise 7\n",
    "\n",
    "Verify the “trick” where the percent difference ($ \\frac{x - y}{x} $)\n",
    "between two numbers close to 1 can be well approximated by the difference\n",
    "between the log of the two numbers ($ \\log(x) - \\log(y) $).\n",
    "\n",
    "Use the numbers `x` and `y` below.\n",
    "\n",
    "you will want to use the\n",
    "`math.log` function"
   ]
  },
  {
   "cell_type": "code",
   "execution_count": null,
   "id": "dbb0018c",
   "metadata": {
    "hide-output": false
   },
   "outputs": [],
   "source": [
    "x = 1.05\n",
    "y = 1.02"
   ]
  },
  {
   "cell_type": "markdown",
   "id": "47013bfd",
   "metadata": {},
   "source": [
    "([back to text](#dir7))"
   ]
  },
  {
   "cell_type": "markdown",
   "id": "93e6f45f",
   "metadata": {},
   "source": [
    "### Exercise 8\n",
    "\n",
    "The code below is invalid Python code"
   ]
  },
  {
   "cell_type": "code",
   "execution_count": null,
   "id": "a07e7397",
   "metadata": {
    "hide-output": false
   },
   "outputs": [],
   "source": [
    "x = 'What's wrong with this string'"
   ]
  },
  {
   "cell_type": "markdown",
   "id": "c36e76c0",
   "metadata": {},
   "source": [
    "Can you fix it?\n",
    "\n",
    "Try creating a code cell below and testing things out until you\n",
    "find a solution.\n",
    "\n",
    "([back to text](#dir8))"
   ]
  },
  {
   "cell_type": "markdown",
   "id": "3d3bc6d8",
   "metadata": {},
   "source": [
    "### Exercise 9\n",
    "\n",
    "Using the variables `x` and `y`, how could you create the sentence\n",
    "`Hello World`?\n",
    "\n",
    "Think about how to represent a space as a string.\n",
    "\n",
    "([back to text](#dir9))"
   ]
  },
  {
   "cell_type": "markdown",
   "id": "0e71b36c",
   "metadata": {},
   "source": [
    "### Exercise 10\n",
    "\n",
    "One of our favorite (and most frequently used) string methods is\n",
    "`replace`.\n",
    "\n",
    "It substitutes all occurrences of a particular pattern with a different pattern.\n",
    "\n",
    "For the variable `test` below, use the `replace` method to change the\n",
    "`c` to a `d`.\n",
    "\n",
    "Type `test.replace?` to get some help for how to use the method\n",
    "replace."
   ]
  },
  {
   "cell_type": "code",
   "execution_count": null,
   "id": "718addff",
   "metadata": {
    "hide-output": false
   },
   "outputs": [],
   "source": [
    "test = \"abc\""
   ]
  },
  {
   "cell_type": "markdown",
   "id": "edc9f9ae",
   "metadata": {},
   "source": [
    "([back to text](#dir10))"
   ]
  },
  {
   "cell_type": "markdown",
   "id": "1cb1adf7",
   "metadata": {},
   "source": [
    "### Exercise 11\n",
    "\n",
    "Suppose you are working with price data and encounter the value\n",
    "`\"\\$6.50\"`.\n",
    "\n",
    "We recognize this as being a number representing the quantity “six dollars and fifty cents.”\n",
    "\n",
    "However, Python interprets the value as the string\n",
    "`\"\\$6.50\"`. (Quiz: why is this a problem? Think about the examples above.)\n",
    "\n",
    "In this exercise, your task is to convert the variable `price` below\n",
    "into a number.\n",
    "\n",
    "Once the string is in a suitable format, you can call write\n",
    "`float(clean_price)` to make it a number."
   ]
  },
  {
   "cell_type": "code",
   "execution_count": null,
   "id": "7b190b53",
   "metadata": {
    "hide-output": false
   },
   "outputs": [],
   "source": [
    "price = \"$6.50\""
   ]
  },
  {
   "cell_type": "markdown",
   "id": "3849a7bf",
   "metadata": {},
   "source": [
    "([back to text](#dir11))"
   ]
  },
  {
   "cell_type": "markdown",
   "id": "64371699",
   "metadata": {},
   "source": [
    "### Exercise 12\n",
    "\n",
    "Lookup a country in [World Bank database](https://data.worldbank.org), and\n",
    "format a string showing the growth rate of GDP over the last 2 years.\n",
    "\n",
    "([back to text](#dir12))"
   ]
  },
  {
   "cell_type": "markdown",
   "id": "041546f5",
   "metadata": {},
   "source": [
    "### Exercise 13\n",
    "\n",
    "Instead of hard-coding the values above, try to use the `country`, `GDP` and\n",
    "`year` variables you previously defined.\n",
    "\n",
    "([back to text](#dir13))"
   ]
  },
  {
   "cell_type": "markdown",
   "id": "d3c2a930",
   "metadata": {},
   "source": [
    "### Exercise 14\n",
    "\n",
    "Create a new string and use formatting to produce each of the following\n",
    "statements\n",
    "\n",
    "- “The 1st quarter revenue was 110M”  \n",
    "- “The 2nd quarter revenue was 95M”  \n",
    "- “The 3rd quarter revenue was 100M”  \n",
    "- “The 4th quarter revenue was 130M”  \n",
    "\n",
    "\n",
    "([back to text](#dir14))"
   ]
  },
  {
   "cell_type": "markdown",
   "id": "eb0933fc",
   "metadata": {},
   "source": [
    "### Exercise 15\n",
    "\n",
    "Without typing the commands, determine whether the following statements are\n",
    "true or false.\n",
    "\n",
    "Once you have evaluated whether the command is `True` or `False`, run the\n",
    "code in Python."
   ]
  },
  {
   "cell_type": "code",
   "execution_count": null,
   "id": "ba1dc975",
   "metadata": {
    "hide-output": false
   },
   "outputs": [],
   "source": [
    "x = 2\n",
    "y = 2\n",
    "z = 4\n",
    "\n",
    "# Statement 1\n",
    "x > z\n",
    "\n",
    "# Statement 1\n",
    "x == y\n",
    "\n",
    "# Statement 3\n",
    "(x < y) and (x > y)\n",
    "\n",
    "# Statement 4\n",
    "(x < y) or (x > y)\n",
    "\n",
    "# Statement 5\n",
    "(x <= y) and (x >= y)\n",
    "\n",
    "# Statement 6\n",
    "True and ((x < z) or (x < y))"
   ]
  },
  {
   "cell_type": "code",
   "execution_count": null,
   "id": "d4f197d1",
   "metadata": {
    "hide-output": false
   },
   "outputs": [],
   "source": [
    "# code here!"
   ]
  },
  {
   "cell_type": "markdown",
   "id": "fc55fe01",
   "metadata": {},
   "source": [
    "([back to text](#dir15))"
   ]
  },
  {
   "cell_type": "markdown",
   "id": "76841a0c",
   "metadata": {},
   "source": [
    "### Exercise 16\n",
    "\n",
    "For each of the code cells below, think carefully about what you expect to\n",
    "be returned *before* evaluating the cell.\n",
    "\n",
    "Then evaluate the cell to check your intuitions.\n",
    "\n",
    "NOTE: For now, do not worry about what the `[` and `]` mean – they\n",
    "allow us to create lists which we will learn about in an upcoming lecture."
   ]
  },
  {
   "cell_type": "code",
   "execution_count": null,
   "id": "cab8d7ab",
   "metadata": {
    "hide-output": false
   },
   "outputs": [],
   "source": [
    "all([True, True, True])"
   ]
  },
  {
   "cell_type": "code",
   "execution_count": null,
   "id": "d22090de",
   "metadata": {
    "hide-output": false
   },
   "outputs": [],
   "source": [
    "all([False, True, False])"
   ]
  },
  {
   "cell_type": "code",
   "execution_count": null,
   "id": "604b42c4",
   "metadata": {
    "hide-output": false
   },
   "outputs": [],
   "source": [
    "all([False, False, False])"
   ]
  },
  {
   "cell_type": "code",
   "execution_count": null,
   "id": "2dea41e0",
   "metadata": {
    "hide-output": false
   },
   "outputs": [],
   "source": [
    "any([True, True, True])"
   ]
  },
  {
   "cell_type": "code",
   "execution_count": null,
   "id": "878b5002",
   "metadata": {
    "hide-output": false
   },
   "outputs": [],
   "source": [
    "any([False, True, False])"
   ]
  },
  {
   "cell_type": "code",
   "execution_count": null,
   "id": "db9bac7a",
   "metadata": {
    "hide-output": false
   },
   "outputs": [],
   "source": [
    "any([False, False, False])"
   ]
  },
  {
   "cell_type": "markdown",
   "id": "b1171594",
   "metadata": {},
   "source": [
    "([back to text](#dir16))"
   ]
  }
 ],
 "metadata": {
  "date": 1680159602.5814488,
  "filename": "basics.md",
  "kernelspec": {
   "display_name": "Python",
   "language": "python3",
   "name": "python3"
  },
  "title": "Basics"
 },
 "nbformat": 4,
 "nbformat_minor": 5
}