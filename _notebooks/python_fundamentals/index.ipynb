{
 "cells": [
  {
   "cell_type": "markdown",
   "id": "b319e6d5",
   "metadata": {},
   "source": [
    "# Python Fundamentals\n",
    "\n",
    "In this section, we begin with the basics.\n",
    "\n",
    "We will talk about what a programming language is and how computers use\n",
    "them to perform operations.\n",
    "\n",
    "We discuss why we chose the Python language for this course.\n",
    "\n",
    "We learn about core concepts like variables, data-types, and\n",
    "functions.\n",
    "\n",
    "We will become familiar with the core data-types built into Python,\n",
    "some standard functions we will frequently use, and learn how to define our own functions.\n",
    "\n",
    "By the end, you should have a solid grasp on core Python\n",
    "concepts, be prepared to study the next sections on numerical programming,\n",
    "and feel comfortable handling data."
   ]
  },
  {
   "cell_type": "markdown",
   "id": "532541e8",
   "metadata": {},
   "source": [
    "##   [Basics](https://datascience.quantecon.org/basics.html)"
   ]
  },
  {
   "cell_type": "markdown",
   "id": "f000cf6b",
   "metadata": {},
   "source": [
    "##   [Collections](https://datascience.quantecon.org/collections.html)"
   ]
  },
  {
   "cell_type": "markdown",
   "id": "741ed7f4",
   "metadata": {},
   "source": [
    "##   [Control Flow](https://datascience.quantecon.org/control_flow.html)"
   ]
  },
  {
   "cell_type": "markdown",
   "id": "58a768da",
   "metadata": {},
   "source": [
    "##   [Functions](https://datascience.quantecon.org/functions.html)"
   ]
  }
 ],
 "metadata": {
  "date": 1688529289.4936035,
  "filename": "index.md",
  "kernelspec": {
   "display_name": "Python",
   "language": "python3",
   "name": "python3"
  },
  "title": "Python Fundamentals"
 },
 "nbformat": 4,
 "nbformat_minor": 5
}