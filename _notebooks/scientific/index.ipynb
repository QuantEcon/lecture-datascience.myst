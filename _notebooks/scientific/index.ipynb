{
 "cells": [
  {
   "cell_type": "markdown",
   "id": "461554a1",
   "metadata": {},
   "source": [
    "# Scientific Computing\n",
    "\n",
    "This section discusses several key aspects of scientific computing that enable modern economics, data science, and statistics.\n",
    "\n",
    "As the size of our data and the complexity of our models have increased (and continue doing so), we have become more reliant on computers to perform computations that we simply cannot do by hand.\n",
    "\n",
    "In this section, we will cover\n",
    "\n",
    "- Python’s main numerical library numpy and how to work with its array type.  \n",
    "- A basic introduction to visualizing data with matplotlib.  \n",
    "- A refresher on some key linear algebra concepts.  \n",
    "- A review of basic probability concepts and how to use simulation in learning economics.  \n",
    "- Using a computer to perform optimization.  \n",
    "\n",
    "\n",
    "Many of the tools learned in this section will continue to show up throughout the\n",
    "[pandas](https://datascience.quantecon.org/../pandas/index.html) and [applications](https://datascience.quantecon.org/../applications/index.html) sections.\n",
    "\n",
    "This section has more formal math than the previous material (and there will be more\n",
    "math as you cover certain methods).\n",
    "\n",
    "We expect that students’ mathematical backgrounds will range widely, so for those who have slightly less preparation, please don’t let this scare you.\n",
    "\n",
    "We have found that although understanding these tools will require some extra effort, it will give you a leg up in almost any career you might consider."
   ]
  },
  {
   "cell_type": "markdown",
   "id": "5f9e5f1e",
   "metadata": {},
   "source": [
    "##  [Introduction to Numpy](https://datascience.quantecon.org/numpy_arrays.html)"
   ]
  },
  {
   "cell_type": "markdown",
   "id": "ca8ad6c8",
   "metadata": {},
   "source": [
    "##  [Plotting](https://datascience.quantecon.org/plotting.html)"
   ]
  },
  {
   "cell_type": "markdown",
   "id": "fbdd0718",
   "metadata": {},
   "source": [
    "##  [Applied Linear Algebra](https://datascience.quantecon.org/applied_linalg.html)"
   ]
  },
  {
   "cell_type": "markdown",
   "id": "a3b3d0eb",
   "metadata": {},
   "source": [
    "##  [Randomness](https://datascience.quantecon.org/randomness.html)"
   ]
  },
  {
   "cell_type": "markdown",
   "id": "ea042a32",
   "metadata": {},
   "source": [
    "##  [Optimization](https://datascience.quantecon.org/optimization.html)"
   ]
  }
 ],
 "metadata": {
  "date": 1680159603.2284367,
  "filename": "index.md",
  "kernelspec": {
   "display_name": "Python",
   "language": "python3",
   "name": "python3"
  },
  "title": "Scientific Computing"
 },
 "nbformat": 4,
 "nbformat_minor": 5
}