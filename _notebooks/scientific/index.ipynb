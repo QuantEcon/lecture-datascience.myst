{
 "cells": [
  {
   "cell_type": "markdown",
   "id": "11f92213",
   "metadata": {},
   "source": [
    "# Scientific Computing\n",
    "\n",
    "This section discusses several key aspects of scientific computing that enable modern economics, data science, and statistics.\n",
    "\n",
    "As the size of our data and the complexity of our models have increased (and continue doing so), we have become more reliant on computers to perform computations that we simply cannot do by hand.\n",
    "\n",
    "In this section, we will cover\n",
    "\n",
    "- Python’s main numerical library numpy and how to work with its array type.  \n",
    "- A basic introduction to visualizing data with matplotlib.  \n",
    "- A refresher on some key linear algebra concepts.  \n",
    "- A review of basic probability concepts and how to use simulation in learning economics.  \n",
    "- Using a computer to perform optimization.  \n",
    "\n",
    "\n",
    "Many of the tools learned in this section will continue to show up throughout the\n",
    "[pandas](https://datascience.quantecon.org/../pandas/index.html) and [applications](https://datascience.quantecon.org/../applications/index.html) sections.\n",
    "\n",
    "This section has more formal math than the previous material (and there will be more\n",
    "math as you cover certain methods).\n",
    "\n",
    "We expect that students’ mathematical backgrounds will range widely, so for those who have slightly less preparation, please don’t let this scare you.\n",
    "\n",
    "We have found that although understanding these tools will require some extra effort, it will give you a leg up in almost any career you might consider."
   ]
  },
  {
   "cell_type": "markdown",
   "id": "407230d9",
   "metadata": {},
   "source": [
    "##  [Introduction to Numpy](https://datascience.quantecon.org/numpy_arrays.html)"
   ]
  },
  {
   "cell_type": "markdown",
   "id": "8fecf9d1",
   "metadata": {},
   "source": [
    "##  [Plotting](https://datascience.quantecon.org/plotting.html)"
   ]
  },
  {
   "cell_type": "markdown",
   "id": "bb33315b",
   "metadata": {},
   "source": [
    "##  [Applied Linear Algebra](https://datascience.quantecon.org/applied_linalg.html)"
   ]
  },
  {
   "cell_type": "markdown",
   "id": "fb1f0a70",
   "metadata": {},
   "source": [
    "##  [Randomness](https://datascience.quantecon.org/randomness.html)"
   ]
  },
  {
   "cell_type": "markdown",
   "id": "d9cf1e66",
   "metadata": {},
   "source": [
    "##  [Optimization](https://datascience.quantecon.org/optimization.html)"
   ]
  }
 ],
 "metadata": {
  "date": 1684865753.2130773,
  "filename": "index.md",
  "kernelspec": {
   "display_name": "Python",
   "language": "python3",
   "name": "python3"
  },
  "title": "Scientific Computing"
 },
 "nbformat": 4,
 "nbformat_minor": 5
}