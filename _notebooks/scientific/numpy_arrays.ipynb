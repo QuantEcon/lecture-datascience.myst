{
 "cells": [
  {
   "cell_type": "markdown",
   "id": "37af9a02",
   "metadata": {},
   "source": [
    "# Introduction to Numpy\n",
    "\n",
    "**Prerequisites**\n",
    "\n",
    "- [Python Fundamentals](https://datascience.quantecon.org/../python_fundamentals/index.html)  \n",
    "\n",
    "\n",
    "**Outcomes**\n",
    "\n",
    "- Understand basics about numpy arrays  \n",
    "- Index into multi-dimensional arrays  \n",
    "- Use universal functions/broadcasting to do element-wise operations on arrays  "
   ]
  },
  {
   "cell_type": "markdown",
   "id": "c6c4929a",
   "metadata": {},
   "source": [
    "## Numpy Arrays\n",
    "\n",
    "Now that we have learned the fundamentals of programming in Python, we will learn how we can use Python\n",
    "to perform the computations required in data science and economics. We call these the “scientific Python tools”.\n",
    "\n",
    "The foundational library that helps us perform these computations is known as `numpy` (numerical\n",
    "Python).\n",
    "\n",
    "Numpy’s core contribution is a new data-type called an *array*.\n",
    "\n",
    "An array is similar to a list, but numpy imposes some additional restrictions on how the data inside is organized.\n",
    "\n",
    "These restrictions allow numpy to\n",
    "\n",
    "1. Be more efficient in performing mathematical and scientific computations.  \n",
    "1. Expose functions that allow numpy to do the necessary linear algebra for machine learning and statistics.  \n",
    "\n",
    "\n",
    "Before we get started, please note that the convention for importing the numpy package is to use the\n",
    "nickname `np`:"
   ]
  },
  {
   "cell_type": "code",
   "execution_count": null,
   "id": "58794447",
   "metadata": {
    "hide-output": false
   },
   "outputs": [],
   "source": [
    "import numpy as np"
   ]
  },
  {
   "cell_type": "markdown",
   "id": "31e2e846",
   "metadata": {},
   "source": [
    "### What is an Array?\n",
    "\n",
    "An array is a multi-dimensional grid of values.\n",
    "\n",
    "What does this mean? It is easier to demonstrate than to explain.\n",
    "\n",
    "In this block of code, we build a 1-dimensional array."
   ]
  },
  {
   "cell_type": "code",
   "execution_count": null,
   "id": "bc305d4c",
   "metadata": {
    "hide-output": false
   },
   "outputs": [],
   "source": [
    "# create an array from a list\n",
    "x_1d = np.array([1, 2, 3])\n",
    "print(x_1d)"
   ]
  },
  {
   "cell_type": "markdown",
   "id": "9877527e",
   "metadata": {},
   "source": [
    "You can think of a 1-dimensional array as a list of numbers."
   ]
  },
  {
   "cell_type": "code",
   "execution_count": null,
   "id": "43468145",
   "metadata": {
    "hide-output": false
   },
   "outputs": [],
   "source": [
    "# We can index like we did with lists\n",
    "print(x_1d[0])\n",
    "print(x_1d[0:2])"
   ]
  },
  {
   "cell_type": "markdown",
   "id": "00781dcd",
   "metadata": {},
   "source": [
    "Note that the range of indices does not include the end-point, that\n",
    "is"
   ]
  },
  {
   "cell_type": "code",
   "execution_count": null,
   "id": "b747833a",
   "metadata": {
    "hide-output": false
   },
   "outputs": [],
   "source": [
    "print(x_1d[0:3] == x_1d[:])\n",
    "print(x_1d[0:2])"
   ]
  },
  {
   "cell_type": "markdown",
   "id": "0c76e41f",
   "metadata": {},
   "source": [
    "The differences emerge as we move into higher dimensions.\n",
    "\n",
    "Next, we define a 2-dimensional array (a matrix)"
   ]
  },
  {
   "cell_type": "code",
   "execution_count": null,
   "id": "6ab8c990",
   "metadata": {
    "hide-output": false
   },
   "outputs": [],
   "source": [
    "x_2d = np.array([[1, 2, 3], [4, 5, 6], [7, 8, 9]])\n",
    "print(x_2d)"
   ]
  },
  {
   "cell_type": "markdown",
   "id": "307e839c",
   "metadata": {},
   "source": [
    "Notice that the data is no longer represented as something flat, but rather,\n",
    "as three rows and three columns of numbers.\n",
    "\n",
    "The first question that you might ask yourself is: “how do I access the values in this array?”\n",
    "\n",
    "You access each element by specifying a row first and then a column. For\n",
    "example, if we wanted to access the `6`, we would ask for the (1, 2) element."
   ]
  },
  {
   "cell_type": "code",
   "execution_count": null,
   "id": "589a7ac1",
   "metadata": {
    "hide-output": false
   },
   "outputs": [],
   "source": [
    "print(x_2d[1, 2])  # Indexing into two dimensions!"
   ]
  },
  {
   "cell_type": "markdown",
   "id": "356718dd",
   "metadata": {},
   "source": [
    "Or to get the top left corner…"
   ]
  },
  {
   "cell_type": "code",
   "execution_count": null,
   "id": "7e042a3e",
   "metadata": {
    "hide-output": false
   },
   "outputs": [],
   "source": [
    "print(x_2d[0, 0])  # Indexing into two dimensions!"
   ]
  },
  {
   "cell_type": "markdown",
   "id": "f9925275",
   "metadata": {},
   "source": [
    "To get the first, and then second rows…"
   ]
  },
  {
   "cell_type": "code",
   "execution_count": null,
   "id": "c7cf4d79",
   "metadata": {
    "hide-output": false
   },
   "outputs": [],
   "source": [
    "print(x_2d[0, :])\n",
    "print(x_2d[1, :])"
   ]
  },
  {
   "cell_type": "markdown",
   "id": "6be3cb48",
   "metadata": {},
   "source": [
    "Or the columns…"
   ]
  },
  {
   "cell_type": "code",
   "execution_count": null,
   "id": "21e812b8",
   "metadata": {
    "hide-output": false
   },
   "outputs": [],
   "source": [
    "print(x_2d[:, 0])\n",
    "print(x_2d[:, 1])"
   ]
  },
  {
   "cell_type": "markdown",
   "id": "4ec6dcc8",
   "metadata": {},
   "source": [
    "This continues to generalize, since numpy gives us as many dimensions as we want in an array.\n",
    "\n",
    "For example, we build a 3-dimensional array below."
   ]
  },
  {
   "cell_type": "code",
   "execution_count": null,
   "id": "6026c962",
   "metadata": {
    "hide-output": false
   },
   "outputs": [],
   "source": [
    "x_3d_list = [[[1, 2, 3], [4, 5, 6]], [[10, 20, 30], [40, 50, 60]]]\n",
    "x_3d = np.array(x_3d_list)\n",
    "print(x_3d)"
   ]
  },
  {
   "cell_type": "markdown",
   "id": "4b8ae677",
   "metadata": {},
   "source": [
    "#### Array Indexing\n",
    "\n",
    "Now that there are multiple dimensions, indexing might feel somewhat non-obvious.\n",
    "\n",
    "Do the rows or columns come first? In higher dimensions, what is the order of\n",
    "the index?\n",
    "\n",
    "Notice that the array is built using a list of lists (you could also use tuples!).\n",
    "\n",
    "Indexing into the array will correspond to choosing elements from each list.\n",
    "\n",
    "First, notice that the dimensions give two stacked matrices, which we can access with"
   ]
  },
  {
   "cell_type": "code",
   "execution_count": null,
   "id": "74919f5b",
   "metadata": {
    "hide-output": false
   },
   "outputs": [],
   "source": [
    "print(x_3d[0])\n",
    "print(x_3d[1])"
   ]
  },
  {
   "cell_type": "markdown",
   "id": "e50f1cb9",
   "metadata": {},
   "source": [
    "In the case of the first, it is synonymous with"
   ]
  },
  {
   "cell_type": "code",
   "execution_count": null,
   "id": "6ad2ffb3",
   "metadata": {
    "hide-output": false
   },
   "outputs": [],
   "source": [
    "print(x_3d[0, :, :])"
   ]
  },
  {
   "cell_type": "markdown",
   "id": "416bc238",
   "metadata": {},
   "source": [
    "Let’s work through another example to further clarify this concept with our\n",
    "3-dimensional array.\n",
    "\n",
    "Our goal will be to find the index that retrieves the `4` out of `x_3d`.\n",
    "\n",
    "Recall that when we created `x_3d`, we used the list `[[[1, 2, 3], [4, 5, 6]], [[10, 20, 30], [40, 50, 60]]]`.\n",
    "\n",
    "Notice that the 0 element of that list is `[[1, 2, 3], [4, 5, 6]]`. This is the\n",
    "list that contains the `4` so the first index we would use is a 0."
   ]
  },
  {
   "cell_type": "code",
   "execution_count": null,
   "id": "22ffe7d5",
   "metadata": {
    "hide-output": false
   },
   "outputs": [],
   "source": [
    "print(f\"The 0 element is {x_3d_list[0]}\")\n",
    "print(f\"The 1 element is {x_3d_list[1]}\")"
   ]
  },
  {
   "cell_type": "markdown",
   "id": "67bce21c",
   "metadata": {},
   "source": [
    "We then move to the next lists which were the 0 element of the inner-most dimension. Notice that\n",
    "the two lists at this level `[1, 2, 3]` and `[3, 4, 5]`.\n",
    "\n",
    "The 4 is in the second 1 element (index `1`), so the second index we would choose is 1."
   ]
  },
  {
   "cell_type": "code",
   "execution_count": null,
   "id": "593dd0af",
   "metadata": {
    "hide-output": false
   },
   "outputs": [],
   "source": [
    "print(f\"The 0 element of the 0 element is {x_3d_list[0][0]}\")\n",
    "print(f\"The 1 element of the 0 element is {x_3d_list[0][1]}\")"
   ]
  },
  {
   "cell_type": "markdown",
   "id": "b23b1a4e",
   "metadata": {},
   "source": [
    "Finally, we move to the outer-most dimension, which has a list of numbers\n",
    "`[4, 5, 6]`.\n",
    "\n",
    "The 4 is element 0 of this list, so the third, or outer-most index, would be `0`."
   ]
  },
  {
   "cell_type": "code",
   "execution_count": null,
   "id": "239c1136",
   "metadata": {
    "hide-output": false
   },
   "outputs": [],
   "source": [
    "print(f\"The 0 element of the 1 element of the 0 element is {x_3d_list[0][1][0]}\")"
   ]
  },
  {
   "cell_type": "markdown",
   "id": "61c75ba3",
   "metadata": {},
   "source": [
    "Now we can use these same indices to index into the array. With an array, we can index using a single operation rather than repeated indexing as we did with the list `x_3d_list[0][1][0]`.\n",
    "\n",
    "Let’s test it to see whether we did it correctly!"
   ]
  },
  {
   "cell_type": "code",
   "execution_count": null,
   "id": "cddd9d20",
   "metadata": {
    "hide-output": false
   },
   "outputs": [],
   "source": [
    "print(x_3d[0, 1, 0])"
   ]
  },
  {
   "cell_type": "markdown",
   "id": "1fc038c3",
   "metadata": {},
   "source": [
    "Success!"
   ]
  },
  {
   "cell_type": "markdown",
   "id": "124c8be3",
   "metadata": {},
   "source": [
    "#### Exercise\n",
    "\n",
    "See exercise 1 in the [exercise list](#ex3-1)."
   ]
  },
  {
   "cell_type": "markdown",
   "id": "73595bc1",
   "metadata": {},
   "source": [
    "#### Exercise\n",
    "\n",
    "See exercise 2 in the [exercise list](#ex3-1).\n",
    "\n",
    "We can also select multiple elements at a time – this is called slicing.\n",
    "\n",
    "If we wanted to have an array with just `[1, 2, 3]` then we would do"
   ]
  },
  {
   "cell_type": "code",
   "execution_count": null,
   "id": "f418f3cd",
   "metadata": {
    "hide-output": false
   },
   "outputs": [],
   "source": [
    "print(x_3d[0, 0, :])"
   ]
  },
  {
   "cell_type": "markdown",
   "id": "cd356e31",
   "metadata": {},
   "source": [
    "Notice that we put a `:` on the dimension where we want to select all of the elements. We can also\n",
    "slice out subsets of the elements by doing `start:stop+1`.\n",
    "\n",
    "Notice how the following arrays differ."
   ]
  },
  {
   "cell_type": "code",
   "execution_count": null,
   "id": "ec415cc4",
   "metadata": {
    "hide-output": false
   },
   "outputs": [],
   "source": [
    "print(x_3d[:, 0, :])\n",
    "print(x_3d[:, 0, 0:2])\n",
    "print(x_3d[:, 0, :2])  # the 0  in 0:2 is optional"
   ]
  },
  {
   "cell_type": "markdown",
   "id": "c0823a6c",
   "metadata": {},
   "source": [
    "#### Exercise\n",
    "\n",
    "See exercise 3 in the [exercise list](#ex3-1)."
   ]
  },
  {
   "cell_type": "markdown",
   "id": "30cb9cca",
   "metadata": {},
   "source": [
    "### Array Functionality"
   ]
  },
  {
   "cell_type": "markdown",
   "id": "2f2149b4",
   "metadata": {},
   "source": [
    "#### Array Properties\n",
    "\n",
    "All numpy arrays have various useful properties.\n",
    "\n",
    "Properties are similar to methods in that they’re accessed through\n",
    "the “dot notation.” However, they aren’t a function so we don’t need parentheses.\n",
    "\n",
    "The two most frequently used properties are `shape` and `dtype`.\n",
    "\n",
    "`shape` tells us how many elements are in each array dimension.\n",
    "\n",
    "`dtype` tells us the types of an array’s elements.\n",
    "\n",
    "Let’s do some examples to see these properties in action."
   ]
  },
  {
   "cell_type": "code",
   "execution_count": null,
   "id": "f084dc6c",
   "metadata": {
    "hide-output": false
   },
   "outputs": [],
   "source": [
    "x = np.array([[1, 2, 3], [4, 5, 6]])\n",
    "print(x.shape)\n",
    "print(x.dtype)"
   ]
  },
  {
   "cell_type": "markdown",
   "id": "cd816b31",
   "metadata": {},
   "source": [
    "We’ll use this to practice unpacking a tuple, like `x.shape`, directly into variables."
   ]
  },
  {
   "cell_type": "code",
   "execution_count": null,
   "id": "c35e4397",
   "metadata": {
    "hide-output": false
   },
   "outputs": [],
   "source": [
    "rows, columns = x.shape\n",
    "print(f\"rows = {rows}, columns = {columns}\")"
   ]
  },
  {
   "cell_type": "code",
   "execution_count": null,
   "id": "ced1c2eb",
   "metadata": {
    "hide-output": false
   },
   "outputs": [],
   "source": [
    "x = np.array([True, False, True])\n",
    "print(x.shape)\n",
    "print(x.dtype)"
   ]
  },
  {
   "cell_type": "markdown",
   "id": "53af4f7e",
   "metadata": {},
   "source": [
    "Note that in the above, the `(3,)` represents a tuple of length 1, distinct from a scalar integer `3`."
   ]
  },
  {
   "cell_type": "code",
   "execution_count": null,
   "id": "6b1cbafe",
   "metadata": {
    "hide-output": false
   },
   "outputs": [],
   "source": [
    "x = np.array([\n",
    "    [[1.0, 2.0], [3.0, 4.0], [5.0, 6.0]],\n",
    "    [[7.0, 8.0], [9.0, 10.0], [11.0, 12.0]]\n",
    "])\n",
    "print(x.shape)\n",
    "print(x.dtype)"
   ]
  },
  {
   "cell_type": "markdown",
   "id": "f152758c",
   "metadata": {},
   "source": [
    "#### Creating Arrays\n",
    "\n",
    "It’s usually impractical to define arrays by hand as we have done so far.\n",
    "\n",
    "We’ll often need to create an array with default values and then fill it\n",
    "with other values.\n",
    "\n",
    "We can create arrays with the functions `np.zeros` and `np.ones`.\n",
    "\n",
    "Both functions take a tuple that denotes the shape of an array and creates an\n",
    "array filled with 0s or 1s respectively."
   ]
  },
  {
   "cell_type": "code",
   "execution_count": null,
   "id": "f067133e",
   "metadata": {
    "hide-output": false
   },
   "outputs": [],
   "source": [
    "sizes = (2, 3, 4)\n",
    "x = np.zeros(sizes) # note, a tuple!\n",
    "x"
   ]
  },
  {
   "cell_type": "code",
   "execution_count": null,
   "id": "f404c9f3",
   "metadata": {
    "hide-output": false
   },
   "outputs": [],
   "source": [
    "y = np.ones((4))\n",
    "y"
   ]
  },
  {
   "cell_type": "markdown",
   "id": "66e937cf",
   "metadata": {},
   "source": [
    "#### Broadcasting Operations\n",
    "\n",
    "Two types of operations that will be useful for arrays of any dimension are:\n",
    "\n",
    "1. Operations between an array and a single number.  \n",
    "1. Operations between two arrays of the same shape.  \n",
    "\n",
    "\n",
    "When we perform operations on an array by using a single number, we simply apply that operation to every element of the array."
   ]
  },
  {
   "cell_type": "code",
   "execution_count": null,
   "id": "dc31974e",
   "metadata": {
    "hide-output": false
   },
   "outputs": [],
   "source": [
    "# Using np.ones to create an array\n",
    "x = np.ones((2, 2))\n",
    "print(\"x = \", x)\n",
    "print(\"2 + x = \", 2 + x)\n",
    "print(\"2 - x = \", 2 - x)\n",
    "print(\"2 * x = \", 2 * x)\n",
    "print(\"x / 2 = \", x / 2)"
   ]
  },
  {
   "cell_type": "markdown",
   "id": "ea5425e0",
   "metadata": {},
   "source": [
    "#### Exercise\n",
    "\n",
    "See exercise 4 in the [exercise list](#ex3-1).\n",
    "\n",
    "Operations between two arrays of the same size, in this case `(2, 2)`, simply apply the operation\n",
    "element-wise between the arrays."
   ]
  },
  {
   "cell_type": "code",
   "execution_count": null,
   "id": "9ef2715d",
   "metadata": {
    "hide-output": false
   },
   "outputs": [],
   "source": [
    "x = np.array([[1.0, 2.0], [3.0, 4.0]])\n",
    "y = np.ones((2, 2))\n",
    "print(\"x = \", x)\n",
    "print(\"y = \", y)\n",
    "print(\"x + y = \", x + y)\n",
    "print(\"x - y\", x - y)\n",
    "print(\"(elementwise) x * y = \", x * y)\n",
    "print(\"(elementwise) x / y = \", x / y)"
   ]
  },
  {
   "cell_type": "markdown",
   "id": "6a7d32f6",
   "metadata": {},
   "source": [
    "### Universal Functions\n",
    "\n",
    "We will often need to transform data by applying a function to every element of an array.\n",
    "\n",
    "Numpy has good support for these operations, called *universal functions* or ufuncs for short.\n",
    "\n",
    "The\n",
    "[numpy documentation](https://docs.scipy.org/doc/numpy/reference/ufuncs.html?highlight=ufunc#available-ufuncs)\n",
    "has a list of all available ufuncs.\n",
    "\n",
    ">**Note**\n",
    ">\n",
    ">You should think of operations between a single number and an array, as we\n",
    "just saw, as a ufunc.\n",
    "\n",
    "Below, we will create an array that contains 10 points between 0 and 25."
   ]
  },
  {
   "cell_type": "code",
   "execution_count": null,
   "id": "67b256c2",
   "metadata": {
    "hide-output": false
   },
   "outputs": [],
   "source": [
    "# This is similar to range -- but spits out 50 evenly spaced points from 0.5\n",
    "# to 25.\n",
    "x = np.linspace(0.5, 25, 10)"
   ]
  },
  {
   "cell_type": "markdown",
   "id": "48d4a7e3",
   "metadata": {},
   "source": [
    "We will experiment with some ufuncs below:"
   ]
  },
  {
   "cell_type": "code",
   "execution_count": null,
   "id": "faf0de0d",
   "metadata": {
    "hide-output": false
   },
   "outputs": [],
   "source": [
    "# Applies the sin function to each element of x\n",
    "np.sin(x)"
   ]
  },
  {
   "cell_type": "markdown",
   "id": "abf6d750",
   "metadata": {},
   "source": [
    "Of course, we could do the same thing with a comprehension, but\n",
    "the code would be both less readable and less efficient."
   ]
  },
  {
   "cell_type": "code",
   "execution_count": null,
   "id": "dd7128b3",
   "metadata": {
    "hide-output": false
   },
   "outputs": [],
   "source": [
    "np.array([np.sin(xval) for xval in x])"
   ]
  },
  {
   "cell_type": "markdown",
   "id": "eb2ce5f7",
   "metadata": {},
   "source": [
    "You can use the inspector or the docstrings with `np.<TAB>` to see other available functions, such as"
   ]
  },
  {
   "cell_type": "code",
   "execution_count": null,
   "id": "75f6102f",
   "metadata": {
    "hide-output": false
   },
   "outputs": [],
   "source": [
    "# Takes log of each element of x\n",
    "np.log(x)"
   ]
  },
  {
   "cell_type": "markdown",
   "id": "e4ed1207",
   "metadata": {},
   "source": [
    "A benefit of using the numpy arrays is that numpy has succinct code for combining vectorized operations."
   ]
  },
  {
   "cell_type": "code",
   "execution_count": null,
   "id": "5b4c7a82",
   "metadata": {
    "hide-output": false
   },
   "outputs": [],
   "source": [
    "# Calculate log(z) * z elementwise\n",
    "z = np.array([1,2,3])\n",
    "np.log(z) * z"
   ]
  },
  {
   "cell_type": "markdown",
   "id": "4564648e",
   "metadata": {},
   "source": [
    "### Exercise\n",
    "\n",
    "See exercise 5 in the [exercise list](#ex3-1)."
   ]
  },
  {
   "cell_type": "markdown",
   "id": "b267164f",
   "metadata": {},
   "source": [
    "### Other Useful Array Operations\n",
    "\n",
    "We have barely scratched the surface of what is possible using numpy arrays.\n",
    "\n",
    "We hope you will experiment with other functions from numpy and see how they\n",
    "work.\n",
    "\n",
    "Below, we demonstrate a few more array operations that we find most useful – just to give you an idea\n",
    "of what else you might find.\n",
    "\n",
    "When you’re attempting to do an operation that you feel should be common, the numpy library probably has it.\n",
    "\n",
    "Use Google and tab completion to check this."
   ]
  },
  {
   "cell_type": "code",
   "execution_count": null,
   "id": "008c9f83",
   "metadata": {
    "hide-output": false
   },
   "outputs": [],
   "source": [
    "x = np.linspace(0, 25, 10)"
   ]
  },
  {
   "cell_type": "code",
   "execution_count": null,
   "id": "ec523ed1",
   "metadata": {
    "hide-output": false
   },
   "outputs": [],
   "source": [
    "np.mean(x)"
   ]
  },
  {
   "cell_type": "code",
   "execution_count": null,
   "id": "81868d39",
   "metadata": {
    "hide-output": false
   },
   "outputs": [],
   "source": [
    "np.std(x)"
   ]
  },
  {
   "cell_type": "code",
   "execution_count": null,
   "id": "92eb3b43",
   "metadata": {
    "hide-output": false
   },
   "outputs": [],
   "source": [
    "# np.min, np.median, etc... are also defined\n",
    "np.max(x)"
   ]
  },
  {
   "cell_type": "code",
   "execution_count": null,
   "id": "526c8b65",
   "metadata": {
    "hide-output": false
   },
   "outputs": [],
   "source": [
    "np.diff(x)"
   ]
  },
  {
   "cell_type": "code",
   "execution_count": null,
   "id": "4a51ef8e",
   "metadata": {
    "hide-output": false
   },
   "outputs": [],
   "source": [
    "np.reshape(x, (5, 2))"
   ]
  },
  {
   "cell_type": "markdown",
   "id": "1b1f1424",
   "metadata": {},
   "source": [
    "Note that many of these operations can be called as methods on `x`:"
   ]
  },
  {
   "cell_type": "code",
   "execution_count": null,
   "id": "53b19553",
   "metadata": {
    "hide-output": false
   },
   "outputs": [],
   "source": [
    "print(x.mean())\n",
    "print(x.std())\n",
    "print(x.max())\n",
    "# print(x.diff())  # this one is not a method...\n",
    "print(x.reshape((5, 2)))"
   ]
  },
  {
   "cell_type": "markdown",
   "id": "e092587a",
   "metadata": {},
   "source": [
    "Finally, `np.vectorize` can be conveniently used with numpy broadcasting and any functions."
   ]
  },
  {
   "cell_type": "code",
   "execution_count": null,
   "id": "58e7430e",
   "metadata": {
    "hide-output": false
   },
   "outputs": [],
   "source": [
    "np.random.seed(42)\n",
    "x = np.random.rand(10)\n",
    "print(x)\n",
    "\n",
    "def f(val):\n",
    "    if val < 0.3:\n",
    "        return \"low\"\n",
    "    else:\n",
    "        return \"high\"\n",
    "\n",
    "print(f(0.1)) # scalar, no problem\n",
    "# f(x) # array, fails since f() is scalar\n",
    "f_vec = np.vectorize(f)\n",
    "print(f_vec(x))"
   ]
  },
  {
   "cell_type": "markdown",
   "id": "6ec7336f",
   "metadata": {},
   "source": [
    "Caution: `np.vectorize` is convenient for numpy broadcasting with any function\n",
    "but is not intended to be high performance.\n",
    "\n",
    "When speed matters, directly write a `f` function to work on arrays.\n",
    "\n",
    "\n",
    "<a id='ex3-1'></a>"
   ]
  },
  {
   "cell_type": "markdown",
   "id": "ad83a70c",
   "metadata": {},
   "source": [
    "## Exercises"
   ]
  },
  {
   "cell_type": "markdown",
   "id": "b0146555",
   "metadata": {},
   "source": [
    "### Exercise 1\n",
    "\n",
    "Try indexing into another element of your choice from the\n",
    "3-dimensional array.\n",
    "\n",
    "Building an understanding of indexing means working through this\n",
    "type of operation several times – without skipping steps!\n",
    "\n",
    "([back to text](#dir3-1-1))"
   ]
  },
  {
   "cell_type": "markdown",
   "id": "c1c1b600",
   "metadata": {},
   "source": [
    "### Exercise 2\n",
    "\n",
    "Look at the 2-dimensional array `x_2d`.\n",
    "\n",
    "Does the inner-most index correspond to rows or columns? What does the\n",
    "outer-most index correspond to?\n",
    "\n",
    "Write your thoughts.\n",
    "\n",
    "([back to text](#dir3-1-2))"
   ]
  },
  {
   "cell_type": "markdown",
   "id": "a35dc619",
   "metadata": {},
   "source": [
    "### Exercise 3\n",
    "\n",
    "What would you do to extract the array `[[5, 6], [50, 60]]`?\n",
    "\n",
    "([back to text](#dir3-1-3))"
   ]
  },
  {
   "cell_type": "markdown",
   "id": "9076edda",
   "metadata": {},
   "source": [
    "### Exercise 4\n",
    "\n",
    "Do you recall what multiplication by an integer did for lists?\n",
    "\n",
    "How does this differ?\n",
    "\n",
    "([back to text](#dir3-1-4))"
   ]
  },
  {
   "cell_type": "markdown",
   "id": "aaaa5c5d",
   "metadata": {},
   "source": [
    "### Exercise 5\n",
    "\n",
    "Let’s revisit a bond pricing example we saw in [Control flow](https://datascience.quantecon.org/../python_fundamentals/control_flow.html).\n",
    "\n",
    "Recall that the equation for pricing a bond with coupon payment $ C $,\n",
    "face value $ M $, yield to maturity $ i $, and periods to maturity\n",
    "$ N $ is\n",
    "\n",
    "$$\n",
    "\\begin{align*}\n",
    "    P &= \\left(\\sum_{n=1}^N \\frac{C}{(i+1)^n}\\right) + \\frac{M}{(1+i)^N} \\\\\n",
    "      &= C \\left(\\frac{1 - (1+i)^{-N}}{i} \\right) + M(1+i)^{-N}\n",
    "\\end{align*}\n",
    "$$\n",
    "\n",
    "In the code cell below, we have defined variables for `i`, `M` and `C`.\n",
    "\n",
    "You have two tasks:\n",
    "\n",
    "1. Define a numpy array `N` that contains all maturities between 1 and 10  \n",
    "  look at the `np.arange` function.  \n",
    "1. Using the equation above, determine the bond prices of all maturity levels in your array.  "
   ]
  },
  {
   "cell_type": "code",
   "execution_count": null,
   "id": "a7217b5d",
   "metadata": {
    "hide-output": false
   },
   "outputs": [],
   "source": [
    "i = 0.03\n",
    "M = 100\n",
    "C = 5\n",
    "\n",
    "# Define array here\n",
    "\n",
    "# price bonds here"
   ]
  },
  {
   "cell_type": "markdown",
   "id": "92125c2a",
   "metadata": {},
   "source": [
    "([back to text](#dir3-1-5))"
   ]
  }
 ],
 "metadata": {
  "date": 1684865753.2788734,
  "filename": "numpy_arrays.md",
  "kernelspec": {
   "display_name": "Python",
   "language": "python3",
   "name": "python3"
  },
  "title": "Introduction to Numpy"
 },
 "nbformat": 4,
 "nbformat_minor": 5
}