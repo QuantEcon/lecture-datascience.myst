{
 "cells": [
  {
   "cell_type": "markdown",
   "id": "e9071155",
   "metadata": {},
   "source": [
    "# Plotting\n",
    "\n",
    "**Prerequisites**\n",
    "\n",
    "- [Introduction to Numpy](https://datascience.quantecon.org/numpy_arrays.html)  \n",
    "\n",
    "\n",
    "**Outcomes**\n",
    "\n",
    "- Understand components of matplotlib plots  \n",
    "- Make basic plots  "
   ]
  },
  {
   "cell_type": "code",
   "execution_count": null,
   "id": "4858bee9",
   "metadata": {
    "hide-output": false
   },
   "outputs": [],
   "source": [
    "# Uncomment following line to install on colab\n",
    "#! pip install "
   ]
  },
  {
   "cell_type": "markdown",
   "id": "78c18f94",
   "metadata": {},
   "source": [
    "## Visualization\n",
    "\n",
    "One of the most important outputs of your analysis will be the visualizations that you choose to\n",
    "communicate what you’ve discovered.\n",
    "\n",
    "Here are what some people – whom we think have earned the right to an opinion on this\n",
    "material – have said with respect to data visualizations.\n",
    "\n",
    "> I spend hours thinking about how to get the story across in my visualizations. I don’t mind taking that long because it’s that five minutes of presenting it or someone getting it that can make or break a deal – Goldman Sachs executive\n",
    "\n",
    "\n",
    "We won’t have time to cover “how to make a compelling data visualization” in this lecture.\n",
    "\n",
    "Instead, we will focus on the basics of creating visualizations in Python.\n",
    "\n",
    "This will be a fast introduction, but this material appears in almost every\n",
    "lecture going forward, which will help the concepts sink in.\n",
    "\n",
    "In almost any profession that you pursue, much of what you do involves communicating ideas to others.\n",
    "\n",
    "Data visualization can help you communicate these ideas effectively, and we encourage you to learn\n",
    "more about what makes a useful visualization.\n",
    "\n",
    "We include some references that we have found useful below.\n",
    "\n",
    "- [The Functional Art: An introduction to information graphics and visualization](https://www.amazon.com/The-Functional-Art-introduction-visualization/dp/0321834739/) by Alberto Cairo  \n",
    "- [The Visual Display of Quantitative Information](https://www.amazon.com/Visual-Display-Quantitative-Information/dp/1930824130) by Edward Tufte  \n",
    "- [The Wall Street Journal Guide to Information Graphics: The Dos and Don’ts of Presenting Data, Facts, and Figures](https://www.amazon.com/Street-Journal-Guide-Information-Graphics/dp/0393347281) by Dona M Wong  \n",
    "- [Introduction to Data Visualization](http://paldhous.github.io/ucb/2016/dataviz/index.html)  "
   ]
  },
  {
   "cell_type": "markdown",
   "id": "a2ed18ad",
   "metadata": {},
   "source": [
    "## `matplotlib`\n",
    "\n",
    "The most widely used plotting package in Python is matplotlib.\n",
    "\n",
    "The standard import alias is"
   ]
  },
  {
   "cell_type": "code",
   "execution_count": null,
   "id": "72d5aec9",
   "metadata": {
    "hide-output": false
   },
   "outputs": [],
   "source": [
    "import matplotlib.pyplot as plt\n",
    "import numpy as np"
   ]
  },
  {
   "cell_type": "markdown",
   "id": "f3b7327f",
   "metadata": {},
   "source": [
    "Note above that we are using `matplotlib.pyplot` rather than just `matplotlib`.\n",
    "\n",
    "`pyplot` is a sub-module found in some large packages to further organize functions and types. We are able to give the `plt` alias to this sub-module.\n",
    "\n",
    "Additionally, when we are working in the notebook, we need tell matplotlib to display our images\n",
    "inside of the notebook itself instead of creating new windows with the image.\n",
    "\n",
    "This is done by"
   ]
  },
  {
   "cell_type": "code",
   "execution_count": null,
   "id": "978c5d96",
   "metadata": {
    "hide-output": false
   },
   "outputs": [],
   "source": [
    "%matplotlib inline"
   ]
  },
  {
   "cell_type": "markdown",
   "id": "c14af432",
   "metadata": {},
   "source": [
    "The commands with `%` before them are called [Magics](https://ipython.readthedocs.io/en/stable/interactive/magics.html)."
   ]
  },
  {
   "cell_type": "markdown",
   "id": "dd4e03f8",
   "metadata": {},
   "source": [
    "### First Plot\n",
    "\n",
    "Let’s create our first plot!\n",
    "\n",
    "After creating it, we will walk through the steps one-by-one to understand what they do."
   ]
  },
  {
   "cell_type": "code",
   "execution_count": null,
   "id": "8f81d891",
   "metadata": {
    "hide-output": false
   },
   "outputs": [],
   "source": [
    "# Step 1\n",
    "fig, ax = plt.subplots()\n",
    "\n",
    "# Step 2\n",
    "x = np.linspace(0, 2*np.pi, 100)\n",
    "y = np.sin(x)\n",
    "\n",
    "# Step 3\n",
    "ax.plot(x, y)"
   ]
  },
  {
   "cell_type": "markdown",
   "id": "aa212dc8",
   "metadata": {},
   "source": [
    "1. Create a figure and axis object which stores the information from our graph.  \n",
    "1. Generate data that we will plot.  \n",
    "1. Use the `x` and `y` data, and make a line plot on our axis, `ax`, by calling the `plot` method.  "
   ]
  },
  {
   "cell_type": "markdown",
   "id": "3b4b5016",
   "metadata": {},
   "source": [
    "### Difference between Figure and Axis\n",
    "\n",
    "We’ve found that the easiest way for us to distinguish between the figure and axis objects is to\n",
    "think about them as a framed painting.\n",
    "\n",
    "The axis is the canvas; it is where we “draw” our plots.\n",
    "\n",
    "The figure is the entire framed painting (which inclues the axis itself!).\n",
    "\n",
    "We can also see this by setting certain elements of the figure to different colors."
   ]
  },
  {
   "cell_type": "code",
   "execution_count": null,
   "id": "5b19c426",
   "metadata": {
    "hide-output": false
   },
   "outputs": [],
   "source": [
    "fig, ax = plt.subplots()\n",
    "\n",
    "fig.set_facecolor(\"red\")\n",
    "ax.set_facecolor(\"blue\")"
   ]
  },
  {
   "cell_type": "markdown",
   "id": "574922d4",
   "metadata": {},
   "source": [
    "This difference also means that you can place more than one axis on a figure."
   ]
  },
  {
   "cell_type": "code",
   "execution_count": null,
   "id": "1fe78743",
   "metadata": {
    "hide-output": false
   },
   "outputs": [],
   "source": [
    "# We specified the shape of the axes -- It means we will have two rows and three columns\n",
    "# of axes on our figure\n",
    "fig, axes = plt.subplots(2, 3)\n",
    "\n",
    "fig.set_facecolor(\"gray\")\n",
    "\n",
    "# Can choose hex colors\n",
    "colors = [\"#065535\", \"#89ecda\", \"#ffd1dc\", \"#ff0000\", \"#6897bb\", \"#9400d3\"]\n",
    "\n",
    "# axes is a numpy array and we want to iterate over a flat version of it\n",
    "for (ax, c) in zip(axes.flat, colors):\n",
    "    ax.set_facecolor(c)\n",
    "\n",
    "fig.tight_layout()"
   ]
  },
  {
   "cell_type": "markdown",
   "id": "59cd9c19",
   "metadata": {},
   "source": [
    "### Functionality\n",
    "\n",
    "The matplotlib library is versatile and very flexible.\n",
    "\n",
    "You can see various examples of what it can do on the\n",
    "[matplotlib example gallery](https://matplotlib.org/gallery.html).\n",
    "\n",
    "We work though a few examples to quickly introduce some possibilities.\n",
    "\n",
    "**Bar**"
   ]
  },
  {
   "cell_type": "code",
   "execution_count": null,
   "id": "cf9ce93e",
   "metadata": {
    "hide-output": false
   },
   "outputs": [],
   "source": [
    "countries = [\"CAN\", \"MEX\", \"USA\"]\n",
    "populations = [36.7, 129.2, 325.700]\n",
    "land_area = [3.850, 0.761, 3.790]\n",
    "\n",
    "fig, ax = plt.subplots(2)\n",
    "\n",
    "ax[0].bar(countries, populations, align=\"center\")\n",
    "ax[0].set_title(\"Populations (in millions)\")\n",
    "\n",
    "ax[1].bar(countries, land_area, align=\"center\")\n",
    "ax[1].set_title(\"Land area (in millions miles squared)\")\n",
    "\n",
    "fig.tight_layout()"
   ]
  },
  {
   "cell_type": "markdown",
   "id": "5cd1b2c3",
   "metadata": {},
   "source": [
    "**Scatter and annotation**"
   ]
  },
  {
   "cell_type": "code",
   "execution_count": null,
   "id": "0b57cee0",
   "metadata": {
    "hide-output": false
   },
   "outputs": [],
   "source": [
    "N = 50\n",
    "\n",
    "np.random.seed(42)\n",
    "\n",
    "x = np.random.rand(N)\n",
    "y = np.random.rand(N)\n",
    "colors = np.random.rand(N)\n",
    "area = np.pi * (15 * np.random.rand(N))**2  # 0 to 15 point radii\n",
    "\n",
    "fig, ax = plt.subplots()\n",
    "\n",
    "ax.scatter(x, y, s=area, c=colors, alpha=0.5)\n",
    "\n",
    "ax.annotate(\n",
    "    \"First point\", xy=(x[0], y[0]), xycoords=\"data\",\n",
    "    xytext=(25, -25), textcoords=\"offset points\",\n",
    "    arrowprops=dict(arrowstyle=\"->\", connectionstyle=\"arc3,rad=0.6\")\n",
    ")"
   ]
  },
  {
   "cell_type": "markdown",
   "id": "46e18eb5",
   "metadata": {},
   "source": [
    "**Fill between**"
   ]
  },
  {
   "cell_type": "code",
   "execution_count": null,
   "id": "2492f1cb",
   "metadata": {
    "hide-output": false
   },
   "outputs": [],
   "source": [
    "x = np.linspace(0, 1, 500)\n",
    "y = np.sin(4 * np.pi * x) * np.exp(-5 * x)\n",
    "\n",
    "fig, ax = plt.subplots()\n",
    "\n",
    "ax.grid(True)\n",
    "ax.fill(x, y)"
   ]
  }
 ],
 "metadata": {
  "date": 1673670630.1769793,
  "filename": "plotting.md",
  "kernelspec": {
   "display_name": "Python",
   "language": "python3",
   "name": "python3"
  },
  "title": "Plotting"
 },
 "nbformat": 4,
 "nbformat_minor": 5
}