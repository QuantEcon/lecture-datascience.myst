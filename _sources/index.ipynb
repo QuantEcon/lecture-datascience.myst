{
 "cells": [
  {
   "cell_type": "markdown",
   "id": "1de01745",
   "metadata": {},
   "source": [
    "# Introduction to Economic Modeling and Data Science\n",
    "\n",
    "This website presents a series of lectures on programming, data science, and economics. The emphasis of these materials is not just the programming and statistics necessary to analyze data, but also on interpreting the results through the lens of economics.\n",
    "\n",
    "This work was supported in part by the Center for Innovative Data in Economics Research (CIDER) at the [Vancouver School of Economics](https://economics.ubc.ca/), UBC, funded by the Canada Excellence Research Chair grant.\n",
    "\n",
    "To get an idea of what one can do after taking this course, please take a look at [previous student projects](../theme/projects.md).\n",
    "\n",
    "[Chase Coleman](http://www.chasegcoleman.com/), [Spencer Lyon](http://spencerlyon.com/), [Jesse Perla](http://jesseperla.com/), [More Contributors](../theme/contributors.md).\n",
    "\n",
    "```{admonition} News\n",
    "[QuantEcon](https://quantecon.org) is moving to the [Jupyter Book](https://jupyterbook.org/intro.html)\n",
    "build system for all of its projects. We are a founding member of the\n",
    "[Executable Books Project](https://github.com/executablebooks), an international collaboration to\n",
    "build open source tools that facilitate publishing using the Jupyter\n",
    "ecosystem. Please send feedback to [contact@quantecon.org](mailto:contact@quantecon.org)\n",
    "```\n",
    "\n",
    "## <i class=\"fas fa-concierge-bell\" style=\"color:#1665ad\"></i> [Introduction](../introduction/index.md)\n",
    "Course description, software installation\n",
    "\n",
    "## <i class=\"fab fa-python\" style=\"color:#ffd053\"></i> [Python Fundamentals](../python_fundamentals/index.md)\n",
    "Basic Python programming\n",
    "\n",
    "## <i class=\"fas fa-server\" style=\"color:#d45f6c\"></i> [Scientific Computing](../scientific/index.md)\n",
    "Numerical and scientific methods\n",
    "\n",
    "## <i class=\"fas fa-database\" style=\"color:#6dae5c\"></i> [Working With Data](../pandas/index.md)\n",
    "The \"data\" in data science\n",
    "\n",
    "## <i class=\"fas fa-cogs\" style=\"color:#9933ff\"></i> [Data Science Tools](../tools/index.md)\n",
    "Putting everything together\n",
    "\n",
    "## <i class=\"fas fa-chart-column\" style=\"color:#ff9900\"></i> [Applications](../applications/index.md)\n",
    "Applying our skills to real economic data"
   ]
  }
 ],
 "metadata": {
  "jupytext": {
   "text_representation": {
    "extension": ".md",
    "format_name": "myst"
   }
  },
  "kernelspec": {
   "display_name": "Python 3",
   "language": "python",
   "name": "python3"
  },
  "language_info": {
   "codemirror_mode": {
    "name": "ipython",
    "version": 3
   },
   "file_extension": ".py",
   "mimetype": "text/x-python",
   "name": "python",
   "nbconvert_exporter": "python",
   "pygments_lexer": "ipython3",
   "version": "3.9.19"
  },
  "source_map": [
   10
  ]
 },
 "nbformat": 4,
 "nbformat_minor": 5
}