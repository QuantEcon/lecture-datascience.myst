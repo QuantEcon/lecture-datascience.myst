{
 "cells": [
  {
   "cell_type": "markdown",
   "id": "a3ac70da",
   "metadata": {},
   "source": [
    "(troubleshooting)=\n",
    "# Troubleshooting\n",
    "\n",
    "\n",
    "This troubleshooting page is to help ensure your environment is setup correctly\n",
    "to run this lecture. You can follow {doc}`cloud setup instructions <../introduction/cloud_setup>` or {doc}`local setup instructions <../introduction/local_install>` to set up a standard environment.\n",
    "\n",
    "## Resetting Lectures\n",
    "\n",
    "Here are instructions to restore some or all lectures to their original states.\n",
    "\n",
    "### Local Machines\n",
    "\n",
    "The workflow is a bit different on a local machine. We are assuming that you have followed the {doc}`local setup instructions <../introduction/local_install>`, and have installed GitHub desktop.\n",
    "\n",
    "1. Open GitHub desktop, and navigate to the repository (you can click \"find\" under \"edit\" in the top menu bar, and then type `lecture-datascience.myst`, if you are having trouble.)\n",
    "1. To **reset everything**, click \"discard all changes\" under \"branch\" in the top menu bar.\n",
    "1. To **reset a specific notebook**, right-click the specific file in the changes side tab, and then click \"discard changes.\"\n",
    "1. To **pull the latest from the server**, first make sure you don't have any conflicting changes (i.e., do step (2) above), and then click \"pull\" under \"repository\" in the top menu bar.\n",
    "\n",
    "## Reporting an Issue\n",
    "\n",
    "One way to give feedback is to raise an issue through our [issue tracker](https://github.com/QuantEcon/lecture-datascience.myst/issues).\n",
    "\n",
    "Please be as specific as possible. Tell us where the problem is and as much\n",
    "detail about your local set up as you can provide.\n",
    "\n",
    "Another feedback option is to use our [discourse forum](https://discourse.quantecon.org/).\n",
    "\n",
    "Finally, you can provide direct feedback to [contact@quantecon.org](mailto:contact@quantecon.org)"
   ]
  }
 ],
 "metadata": {
  "jupytext": {
   "text_representation": {
    "extension": ".md",
    "format_name": "myst"
   }
  },
  "kernelspec": {
   "display_name": "Python 3",
   "language": "python",
   "name": "python3"
  },
  "language_info": {
   "codemirror_mode": {
    "name": "ipython",
    "version": 3
   },
   "file_extension": ".py",
   "mimetype": "text/x-python",
   "name": "python",
   "nbconvert_exporter": "python",
   "pygments_lexer": "ipython3",
   "version": "3.9.16"
  },
  "source_map": [
   10
  ]
 },
 "nbformat": 4,
 "nbformat_minor": 5
}