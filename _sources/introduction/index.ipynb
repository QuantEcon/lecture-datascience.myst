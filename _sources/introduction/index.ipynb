{
 "cells": [
  {
   "cell_type": "markdown",
   "id": "4aac7cba",
   "metadata": {},
   "source": [
    "# Introduction\n",
    "\n",
    "In this section, we set the stage for the rest of the course.\n",
    "\n",
    "We will describe our goals and objectives.\n",
    "\n",
    "We will then talk about what a programming language is, how computers use them to do operations, and\n",
    "why we have chosen the Python language.\n",
    "\n",
    "We then present two potential environments for working through this course material:\n",
    "\n",
    "1. A cloud environment in which computations are performed remotely on the cloud and you interact\n",
    "   with this remote computer through your browser.\n",
    "1. A local environment in which you install the appropriate software and all interactions are with\n",
    "   your own computer.\n",
    "\n",
    "At the end of this section, we hope you understand what you'd like to accomplish with these lectures\n",
    "and that you are able to start and use a Jupyter notebook.\n",
    "\n",
    "\n",
    "## <i class=\"fas fa-concierge-bell\" style=\"color:#1665ad\"></i> [Course Description](../introduction/overview.md)\n",
    "\n",
    "## <i class=\"fas fa-concierge-bell\" style=\"color:#1665ad\"></i> [Getting Started](../introduction/getting_started.md)\n",
    "\n",
    "## <i class=\"fas fa-concierge-bell\" style=\"color:#1665ad\"></i> [Cloud Setup](../introduction/cloud_setup.md)\n",
    "\n",
    "## <i class=\"fas fa-concierge-bell\" style=\"color:#1665ad\"></i> [Local Installation](../introduction/local_install.md)\n",
    "\n",
    "## <i class=\"fas fa-concierge-bell\" style=\"color:#1665ad\"></i> [Troubleshooting](../introduction/troubleshooting.md)"
   ]
  }
 ],
 "metadata": {
  "jupytext": {
   "text_representation": {
    "extension": ".md",
    "format_name": "myst"
   }
  },
  "kernelspec": {
   "display_name": "Python 3",
   "language": "python",
   "name": "python3"
  },
  "language_info": {
   "codemirror_mode": {
    "name": "ipython",
    "version": 3
   },
   "file_extension": ".py",
   "mimetype": "text/x-python",
   "name": "python",
   "nbconvert_exporter": "python",
   "pygments_lexer": "ipython3",
   "version": "3.9.19"
  },
  "source_map": [
   10
  ]
 },
 "nbformat": 4,
 "nbformat_minor": 5
}