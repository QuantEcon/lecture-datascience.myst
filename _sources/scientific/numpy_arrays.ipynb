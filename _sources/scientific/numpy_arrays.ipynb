{
 "cells": [
  {
   "cell_type": "markdown",
   "id": "f580def0",
   "metadata": {},
   "source": [
    "# Introduction to Numpy\n",
    "\n",
    "**Prerequisites**\n",
    "\n",
    "- {doc}`Python Fundamentals <../python_fundamentals/index>`\n",
    "\n",
    "**Outcomes**\n",
    "\n",
    "- Understand basics about numpy arrays\n",
    "- Index into multi-dimensional arrays\n",
    "- Use universal functions/broadcasting to do element-wise operations on arrays\n",
    "\n",
    "\n",
    "## Numpy Arrays\n",
    "\n",
    "Now that we have learned the fundamentals of programming in Python, we will learn how we can use Python\n",
    "to perform the computations required in data science and economics. We call these the \"scientific Python tools\".\n",
    "\n",
    "The foundational library that helps us perform these computations is known as `numpy` (numerical\n",
    "Python).\n",
    "\n",
    "Numpy's core contribution is a new data-type called an *array*.\n",
    "\n",
    "An array is similar to a list, but numpy imposes some additional restrictions on how the data inside is organized.\n",
    "\n",
    "These restrictions allow numpy to\n",
    "\n",
    "1. Be more efficient in performing mathematical and scientific computations.\n",
    "1. Expose functions that allow numpy to do the necessary linear algebra for machine learning and statistics.\n",
    "\n",
    "Before we get started, please note that the convention for importing the numpy package is to use the\n",
    "nickname `np`:"
   ]
  },
  {
   "cell_type": "code",
   "execution_count": 1,
   "id": "73ad4a87",
   "metadata": {},
   "outputs": [],
   "source": [
    "import numpy as np"
   ]
  },
  {
   "cell_type": "markdown",
   "id": "7b1efce8",
   "metadata": {},
   "source": [
    "### What is an Array?\n",
    "\n",
    "An array is a multi-dimensional grid of values.\n",
    "\n",
    "What does this mean? It is easier to demonstrate than to explain.\n",
    "\n",
    "In this block of code, we build a 1-dimensional array."
   ]
  },
  {
   "cell_type": "code",
   "execution_count": 2,
   "id": "76cb0356",
   "metadata": {},
   "outputs": [
    {
     "name": "stdout",
     "output_type": "stream",
     "text": [
      "[1 2 3]\n"
     ]
    }
   ],
   "source": [
    "# create an array from a list\n",
    "x_1d = np.array([1, 2, 3])\n",
    "print(x_1d)"
   ]
  },
  {
   "cell_type": "markdown",
   "id": "47b02316",
   "metadata": {},
   "source": [
    "You can think of a 1-dimensional array as a list of numbers."
   ]
  },
  {
   "cell_type": "code",
   "execution_count": 3,
   "id": "30600901",
   "metadata": {},
   "outputs": [
    {
     "name": "stdout",
     "output_type": "stream",
     "text": [
      "1\n",
      "[1 2]\n"
     ]
    }
   ],
   "source": [
    "# We can index like we did with lists\n",
    "print(x_1d[0])\n",
    "print(x_1d[0:2])"
   ]
  },
  {
   "cell_type": "markdown",
   "id": "5a91f08f",
   "metadata": {},
   "source": [
    "Note that the range of indices does not include the end-point, that\n",
    "is"
   ]
  },
  {
   "cell_type": "code",
   "execution_count": 4,
   "id": "e67fecbf",
   "metadata": {},
   "outputs": [
    {
     "name": "stdout",
     "output_type": "stream",
     "text": [
      "[ True  True  True]\n",
      "[1 2]\n"
     ]
    }
   ],
   "source": [
    "print(x_1d[0:3] == x_1d[:])\n",
    "print(x_1d[0:2])"
   ]
  },
  {
   "cell_type": "markdown",
   "id": "b54c9f22",
   "metadata": {},
   "source": [
    "The differences emerge as we move into higher dimensions.\n",
    "\n",
    "Next, we define a 2-dimensional array (a matrix)"
   ]
  },
  {
   "cell_type": "code",
   "execution_count": 5,
   "id": "177356e1",
   "metadata": {},
   "outputs": [
    {
     "name": "stdout",
     "output_type": "stream",
     "text": [
      "[[1 2 3]\n",
      " [4 5 6]\n",
      " [7 8 9]]\n"
     ]
    }
   ],
   "source": [
    "x_2d = np.array([[1, 2, 3], [4, 5, 6], [7, 8, 9]])\n",
    "print(x_2d)"
   ]
  },
  {
   "cell_type": "markdown",
   "id": "50ab210f",
   "metadata": {},
   "source": [
    "Notice that the data is no longer represented as something flat, but rather,\n",
    "as three rows and three columns of numbers.\n",
    "\n",
    "The first question that you might ask yourself is: \"how do I access the values in this array?\"\n",
    "\n",
    "You access each element by specifying a row first and then a column. For\n",
    "example, if we wanted to access the `6`, we would ask for the (1, 2) element."
   ]
  },
  {
   "cell_type": "code",
   "execution_count": 6,
   "id": "e63ee6e8",
   "metadata": {},
   "outputs": [
    {
     "name": "stdout",
     "output_type": "stream",
     "text": [
      "6\n"
     ]
    }
   ],
   "source": [
    "print(x_2d[1, 2])  # Indexing into two dimensions!"
   ]
  },
  {
   "cell_type": "markdown",
   "id": "698b8ee0",
   "metadata": {},
   "source": [
    "Or to get the top left corner..."
   ]
  },
  {
   "cell_type": "code",
   "execution_count": 7,
   "id": "57cb52ec",
   "metadata": {},
   "outputs": [
    {
     "name": "stdout",
     "output_type": "stream",
     "text": [
      "1\n"
     ]
    }
   ],
   "source": [
    "print(x_2d[0, 0])  # Indexing into two dimensions!"
   ]
  },
  {
   "cell_type": "markdown",
   "id": "55296976",
   "metadata": {},
   "source": [
    "To get the first, and then second rows..."
   ]
  },
  {
   "cell_type": "code",
   "execution_count": 8,
   "id": "980272bf",
   "metadata": {},
   "outputs": [
    {
     "name": "stdout",
     "output_type": "stream",
     "text": [
      "[1 2 3]\n",
      "[4 5 6]\n"
     ]
    }
   ],
   "source": [
    "print(x_2d[0, :])\n",
    "print(x_2d[1, :])"
   ]
  },
  {
   "cell_type": "markdown",
   "id": "f21fca7f",
   "metadata": {},
   "source": [
    "Or the columns..."
   ]
  },
  {
   "cell_type": "code",
   "execution_count": 9,
   "id": "82062e7c",
   "metadata": {},
   "outputs": [
    {
     "name": "stdout",
     "output_type": "stream",
     "text": [
      "[1 4 7]\n",
      "[2 5 8]\n"
     ]
    }
   ],
   "source": [
    "print(x_2d[:, 0])\n",
    "print(x_2d[:, 1])"
   ]
  },
  {
   "cell_type": "markdown",
   "id": "c99aff34",
   "metadata": {},
   "source": [
    "This continues to generalize, since numpy gives us as many dimensions as we want in an array.\n",
    "\n",
    "For example, we build a 3-dimensional array below."
   ]
  },
  {
   "cell_type": "code",
   "execution_count": 10,
   "id": "90783673",
   "metadata": {},
   "outputs": [
    {
     "name": "stdout",
     "output_type": "stream",
     "text": [
      "[[[ 1  2  3]\n",
      "  [ 4  5  6]]\n",
      "\n",
      " [[10 20 30]\n",
      "  [40 50 60]]]\n"
     ]
    }
   ],
   "source": [
    "x_3d_list = [[[1, 2, 3], [4, 5, 6]], [[10, 20, 30], [40, 50, 60]]]\n",
    "x_3d = np.array(x_3d_list)\n",
    "print(x_3d)"
   ]
  },
  {
   "cell_type": "markdown",
   "id": "43a231a5",
   "metadata": {},
   "source": [
    "#### Array Indexing\n",
    "\n",
    "Now that there are multiple dimensions, indexing might feel somewhat non-obvious.\n",
    "\n",
    "Do the rows or columns come first? In higher dimensions, what is the order of\n",
    "the index?\n",
    "\n",
    "Notice that the array is built using a list of lists (you could also use tuples!).\n",
    "\n",
    "Indexing into the array will correspond to choosing elements from each list.\n",
    "\n",
    "First, notice that the dimensions give two stacked matrices, which we can access with"
   ]
  },
  {
   "cell_type": "code",
   "execution_count": 11,
   "id": "a239e13c",
   "metadata": {},
   "outputs": [
    {
     "name": "stdout",
     "output_type": "stream",
     "text": [
      "[[1 2 3]\n",
      " [4 5 6]]\n",
      "[[10 20 30]\n",
      " [40 50 60]]\n"
     ]
    }
   ],
   "source": [
    "print(x_3d[0])\n",
    "print(x_3d[1])"
   ]
  },
  {
   "cell_type": "markdown",
   "id": "d4896cc5",
   "metadata": {},
   "source": [
    "In the case of the first, it is synonymous with"
   ]
  },
  {
   "cell_type": "code",
   "execution_count": 12,
   "id": "d2303586",
   "metadata": {},
   "outputs": [
    {
     "name": "stdout",
     "output_type": "stream",
     "text": [
      "[[1 2 3]\n",
      " [4 5 6]]\n"
     ]
    }
   ],
   "source": [
    "print(x_3d[0, :, :])"
   ]
  },
  {
   "cell_type": "markdown",
   "id": "68a81687",
   "metadata": {},
   "source": [
    "Let's work through another example to further clarify this concept with our\n",
    "3-dimensional array.\n",
    "\n",
    "Our goal will be to find the index that retrieves the `4` out of `x_3d`.\n",
    "\n",
    "Recall that when we created `x_3d`, we used the list `[[[1, 2, 3], [4, 5, 6]], [[10, 20, 30], [40, 50, 60]]]`.\n",
    "\n",
    "Notice that the 0 element of that list is `[[1, 2, 3], [4, 5, 6]]`. This is the\n",
    "list that contains the `4` so the first index we would use is a 0."
   ]
  },
  {
   "cell_type": "code",
   "execution_count": 13,
   "id": "8003b4e5",
   "metadata": {},
   "outputs": [
    {
     "name": "stdout",
     "output_type": "stream",
     "text": [
      "The 0 element is [[1, 2, 3], [4, 5, 6]]\n",
      "The 1 element is [[10, 20, 30], [40, 50, 60]]\n"
     ]
    }
   ],
   "source": [
    "print(f\"The 0 element is {x_3d_list[0]}\")\n",
    "print(f\"The 1 element is {x_3d_list[1]}\")"
   ]
  },
  {
   "cell_type": "markdown",
   "id": "f0f6f629",
   "metadata": {},
   "source": [
    "We then move to the next lists which were the 0 element of the inner-most dimension. Notice that\n",
    "the two lists at this level `[1, 2, 3]` and `[3, 4, 5]`.\n",
    "\n",
    "The 4 is in the second 1 element (index `1`), so the second index we would choose is 1."
   ]
  },
  {
   "cell_type": "code",
   "execution_count": 14,
   "id": "7967839e",
   "metadata": {},
   "outputs": [
    {
     "name": "stdout",
     "output_type": "stream",
     "text": [
      "The 0 element of the 0 element is [1, 2, 3]\n",
      "The 1 element of the 0 element is [4, 5, 6]\n"
     ]
    }
   ],
   "source": [
    "print(f\"The 0 element of the 0 element is {x_3d_list[0][0]}\")\n",
    "print(f\"The 1 element of the 0 element is {x_3d_list[0][1]}\")"
   ]
  },
  {
   "cell_type": "markdown",
   "id": "c8913dfc",
   "metadata": {},
   "source": [
    "Finally, we move to the outer-most dimension, which has a list of numbers\n",
    "`[4, 5, 6]`.\n",
    "\n",
    "The 4 is element 0 of this list, so the third, or outer-most index, would be `0`."
   ]
  },
  {
   "cell_type": "code",
   "execution_count": 15,
   "id": "168d8843",
   "metadata": {},
   "outputs": [
    {
     "name": "stdout",
     "output_type": "stream",
     "text": [
      "The 0 element of the 1 element of the 0 element is 4\n"
     ]
    }
   ],
   "source": [
    "print(f\"The 0 element of the 1 element of the 0 element is {x_3d_list[0][1][0]}\")"
   ]
  },
  {
   "cell_type": "markdown",
   "id": "ef6f344a",
   "metadata": {},
   "source": [
    "Now we can use these same indices to index into the array. With an array, we can index using a single operation rather than repeated indexing as we did with the list `x_3d_list[0][1][0]`.\n",
    "\n",
    "Let's test it to see whether we did it correctly!"
   ]
  },
  {
   "cell_type": "code",
   "execution_count": 16,
   "id": "c17ddbe6",
   "metadata": {},
   "outputs": [
    {
     "name": "stdout",
     "output_type": "stream",
     "text": [
      "4\n"
     ]
    }
   ],
   "source": [
    "print(x_3d[0, 1, 0])"
   ]
  },
  {
   "cell_type": "markdown",
   "id": "71567946",
   "metadata": {},
   "source": [
    "Success!\n",
    "\n",
    "````{admonition} Exercise\n",
    ":name: dir3-1-1\n",
    "\n",
    "See exercise 1 in the {ref}`exercise list <ex3-1>`.\n",
    "````\n",
    "\n",
    "````{admonition} Exercise\n",
    ":name: dir3-1-2\n",
    "\n",
    "See exercise 2 in the {ref}`exercise list <ex3-1>`.\n",
    "````\n",
    "\n",
    "We can also select multiple elements at a time -- this is called slicing.\n",
    "\n",
    "If we wanted to have an array with just `[1, 2, 3]` then we would do"
   ]
  },
  {
   "cell_type": "code",
   "execution_count": 17,
   "id": "e8fda5e3",
   "metadata": {},
   "outputs": [
    {
     "name": "stdout",
     "output_type": "stream",
     "text": [
      "[1 2 3]\n"
     ]
    }
   ],
   "source": [
    "print(x_3d[0, 0, :])"
   ]
  },
  {
   "cell_type": "markdown",
   "id": "0136c964",
   "metadata": {},
   "source": [
    "Notice that we put a `:` on the dimension where we want to select all of the elements. We can also\n",
    "slice out subsets of the elements by doing `start:stop+1`.\n",
    "\n",
    "Notice how the following arrays differ."
   ]
  },
  {
   "cell_type": "code",
   "execution_count": 18,
   "id": "ef9b3504",
   "metadata": {},
   "outputs": [
    {
     "name": "stdout",
     "output_type": "stream",
     "text": [
      "[[ 1  2  3]\n",
      " [10 20 30]]\n",
      "[[ 1  2]\n",
      " [10 20]]\n",
      "[[ 1  2]\n",
      " [10 20]]\n"
     ]
    }
   ],
   "source": [
    "print(x_3d[:, 0, :])\n",
    "print(x_3d[:, 0, 0:2])\n",
    "print(x_3d[:, 0, :2])  # the 0  in 0:2 is optional"
   ]
  },
  {
   "cell_type": "markdown",
   "id": "bba10a31",
   "metadata": {},
   "source": [
    "````{admonition} Exercise\n",
    ":name: dir3-1-3\n",
    "\n",
    "See exercise 3 in the {ref}`exercise list <ex3-1>`.\n",
    "````\n",
    "\n",
    "\n",
    "### Array Functionality\n",
    "\n",
    "#### Array Properties\n",
    "\n",
    "All numpy arrays have various useful properties.\n",
    "\n",
    "Properties are similar to methods in that they're accessed through\n",
    "the \"dot notation.\" However, they aren't a function so we don't need parentheses.\n",
    "\n",
    "The two most frequently used properties are `shape` and `dtype`.\n",
    "\n",
    "`shape` tells us how many elements are in each array dimension.\n",
    "\n",
    "`dtype` tells us the types of an array's elements.\n",
    "\n",
    "Let's do some examples to see these properties in action."
   ]
  },
  {
   "cell_type": "code",
   "execution_count": 19,
   "id": "181fe17d",
   "metadata": {},
   "outputs": [
    {
     "name": "stdout",
     "output_type": "stream",
     "text": [
      "(2, 3)\n",
      "int64\n"
     ]
    }
   ],
   "source": [
    "x = np.array([[1, 2, 3], [4, 5, 6]])\n",
    "print(x.shape)\n",
    "print(x.dtype)"
   ]
  },
  {
   "cell_type": "markdown",
   "id": "638b098f",
   "metadata": {},
   "source": [
    "We'll use this to practice unpacking a tuple, like `x.shape`, directly into variables."
   ]
  },
  {
   "cell_type": "code",
   "execution_count": 20,
   "id": "2ae888ac",
   "metadata": {},
   "outputs": [
    {
     "name": "stdout",
     "output_type": "stream",
     "text": [
      "rows = 2, columns = 3\n"
     ]
    }
   ],
   "source": [
    "rows, columns = x.shape\n",
    "print(f\"rows = {rows}, columns = {columns}\")"
   ]
  },
  {
   "cell_type": "code",
   "execution_count": 21,
   "id": "4d928ac9",
   "metadata": {},
   "outputs": [
    {
     "name": "stdout",
     "output_type": "stream",
     "text": [
      "(3,)\n",
      "bool\n"
     ]
    }
   ],
   "source": [
    "x = np.array([True, False, True])\n",
    "print(x.shape)\n",
    "print(x.dtype)"
   ]
  },
  {
   "cell_type": "markdown",
   "id": "5abf8ee4",
   "metadata": {},
   "source": [
    "Note that in the above, the `(3,)` represents a tuple of length 1, distinct from a scalar integer `3`."
   ]
  },
  {
   "cell_type": "code",
   "execution_count": 22,
   "id": "96a988ae",
   "metadata": {},
   "outputs": [
    {
     "name": "stdout",
     "output_type": "stream",
     "text": [
      "(2, 3, 2)\n",
      "float64\n"
     ]
    }
   ],
   "source": [
    "x = np.array([\n",
    "    [[1.0, 2.0], [3.0, 4.0], [5.0, 6.0]],\n",
    "    [[7.0, 8.0], [9.0, 10.0], [11.0, 12.0]]\n",
    "])\n",
    "print(x.shape)\n",
    "print(x.dtype)"
   ]
  },
  {
   "cell_type": "markdown",
   "id": "35f43127",
   "metadata": {},
   "source": [
    "#### Creating Arrays\n",
    "\n",
    "It's usually impractical to define arrays by hand as we have done so far.\n",
    "\n",
    "We'll often need to create an array with default values and then fill it\n",
    "with other values.\n",
    "\n",
    "We can create arrays with the functions `np.zeros` and `np.ones`.\n",
    "\n",
    "Both functions take a tuple that denotes the shape of an array and creates an\n",
    "array filled with 0s or 1s respectively."
   ]
  },
  {
   "cell_type": "code",
   "execution_count": 23,
   "id": "4487738b",
   "metadata": {},
   "outputs": [
    {
     "data": {
      "text/plain": [
       "array([[[0., 0., 0., 0.],\n",
       "        [0., 0., 0., 0.],\n",
       "        [0., 0., 0., 0.]],\n",
       "\n",
       "       [[0., 0., 0., 0.],\n",
       "        [0., 0., 0., 0.],\n",
       "        [0., 0., 0., 0.]]])"
      ]
     },
     "execution_count": 23,
     "metadata": {},
     "output_type": "execute_result"
    }
   ],
   "source": [
    "sizes = (2, 3, 4)\n",
    "x = np.zeros(sizes) # note, a tuple!\n",
    "x"
   ]
  },
  {
   "cell_type": "code",
   "execution_count": 24,
   "id": "9b54b67c",
   "metadata": {},
   "outputs": [
    {
     "data": {
      "text/plain": [
       "array([1., 1., 1., 1.])"
      ]
     },
     "execution_count": 24,
     "metadata": {},
     "output_type": "execute_result"
    }
   ],
   "source": [
    "y = np.ones((4))\n",
    "y"
   ]
  },
  {
   "cell_type": "markdown",
   "id": "57581316",
   "metadata": {},
   "source": [
    "#### Broadcasting Operations\n",
    "\n",
    "Two types of operations that will be useful for arrays of any dimension are:\n",
    "\n",
    "1. Operations between an array and a single number.\n",
    "1. Operations between two arrays of the same shape.\n",
    "\n",
    "When we perform operations on an array by using a single number, we simply apply that operation to every element of the array."
   ]
  },
  {
   "cell_type": "code",
   "execution_count": 25,
   "id": "2084fef8",
   "metadata": {},
   "outputs": [
    {
     "name": "stdout",
     "output_type": "stream",
     "text": [
      "x =  [[1. 1.]\n",
      " [1. 1.]]\n",
      "2 + x =  [[3. 3.]\n",
      " [3. 3.]]\n",
      "2 - x =  [[1. 1.]\n",
      " [1. 1.]]\n",
      "2 * x =  [[2. 2.]\n",
      " [2. 2.]]\n",
      "x / 2 =  [[0.5 0.5]\n",
      " [0.5 0.5]]\n"
     ]
    }
   ],
   "source": [
    "# Using np.ones to create an array\n",
    "x = np.ones((2, 2))\n",
    "print(\"x = \", x)\n",
    "print(\"2 + x = \", 2 + x)\n",
    "print(\"2 - x = \", 2 - x)\n",
    "print(\"2 * x = \", 2 * x)\n",
    "print(\"x / 2 = \", x / 2)"
   ]
  },
  {
   "cell_type": "markdown",
   "id": "68a6b949",
   "metadata": {},
   "source": [
    "````{admonition} Exercise\n",
    ":name: dir3-1-4\n",
    "\n",
    "See exercise 4 in the {ref}`exercise list <ex3-1>`.\n",
    "````\n",
    "\n",
    "Operations between two arrays of the same size, in this case `(2, 2)`, simply apply the operation\n",
    "element-wise between the arrays."
   ]
  },
  {
   "cell_type": "code",
   "execution_count": 26,
   "id": "9a736230",
   "metadata": {},
   "outputs": [
    {
     "name": "stdout",
     "output_type": "stream",
     "text": [
      "x =  [[1. 2.]\n",
      " [3. 4.]]\n",
      "y =  [[1. 1.]\n",
      " [1. 1.]]\n",
      "x + y =  [[2. 3.]\n",
      " [4. 5.]]\n",
      "x - y [[0. 1.]\n",
      " [2. 3.]]\n",
      "(elementwise) x * y =  [[1. 2.]\n",
      " [3. 4.]]\n",
      "(elementwise) x / y =  [[1. 2.]\n",
      " [3. 4.]]\n"
     ]
    }
   ],
   "source": [
    "x = np.array([[1.0, 2.0], [3.0, 4.0]])\n",
    "y = np.ones((2, 2))\n",
    "print(\"x = \", x)\n",
    "print(\"y = \", y)\n",
    "print(\"x + y = \", x + y)\n",
    "print(\"x - y\", x - y)\n",
    "print(\"(elementwise) x * y = \", x * y)\n",
    "print(\"(elementwise) x / y = \", x / y)"
   ]
  },
  {
   "cell_type": "markdown",
   "id": "2c6d04d7",
   "metadata": {},
   "source": [
    "### Universal Functions\n",
    "\n",
    "We will often need to transform data by applying a function to every element of an array.\n",
    "\n",
    "Numpy has good support for these operations, called *universal functions* or ufuncs for short.\n",
    "\n",
    "The\n",
    "[numpy documentation](https://docs.scipy.org/doc/numpy/reference/ufuncs.html?highlight=ufunc#available-ufuncs)\n",
    "has a list of all available ufuncs.\n",
    "\n",
    "```{note}\n",
    "You should think of operations between a single number and an array, as we\n",
    "just saw, as a ufunc.\n",
    "```\n",
    "\n",
    "Below, we will create an array that contains 10 points between 0 and 25."
   ]
  },
  {
   "cell_type": "code",
   "execution_count": 27,
   "id": "3a3afe6a",
   "metadata": {},
   "outputs": [],
   "source": [
    "# This is similar to range -- but spits out 50 evenly spaced points from 0.5\n",
    "# to 25.\n",
    "x = np.linspace(0.5, 25, 10)"
   ]
  },
  {
   "cell_type": "markdown",
   "id": "d0245717",
   "metadata": {},
   "source": [
    "We will experiment with some ufuncs below:"
   ]
  },
  {
   "cell_type": "code",
   "execution_count": 28,
   "id": "5d66d60a",
   "metadata": {},
   "outputs": [
    {
     "data": {
      "text/plain": [
       "array([ 0.47942554, -0.08054223, -0.33229977,  0.68755122, -0.92364381,\n",
       "        0.99966057, -0.9024271 ,  0.64879484, -0.28272056, -0.13235175])"
      ]
     },
     "execution_count": 28,
     "metadata": {},
     "output_type": "execute_result"
    }
   ],
   "source": [
    "# Applies the sin function to each element of x\n",
    "np.sin(x)"
   ]
  },
  {
   "cell_type": "markdown",
   "id": "b767c6c8",
   "metadata": {},
   "source": [
    "Of course, we could do the same thing with a comprehension, but\n",
    "the code would be both less readable and less efficient."
   ]
  },
  {
   "cell_type": "code",
   "execution_count": 29,
   "id": "62539acf",
   "metadata": {},
   "outputs": [
    {
     "data": {
      "text/plain": [
       "array([ 0.47942554, -0.08054223, -0.33229977,  0.68755122, -0.92364381,\n",
       "        0.99966057, -0.9024271 ,  0.64879484, -0.28272056, -0.13235175])"
      ]
     },
     "execution_count": 29,
     "metadata": {},
     "output_type": "execute_result"
    }
   ],
   "source": [
    "np.array([np.sin(xval) for xval in x])"
   ]
  },
  {
   "cell_type": "markdown",
   "id": "62cad824",
   "metadata": {},
   "source": [
    "You can use the inspector or the docstrings with `np.<TAB>` to see other available functions, such as"
   ]
  },
  {
   "cell_type": "code",
   "execution_count": 30,
   "id": "8a8f9957",
   "metadata": {},
   "outputs": [
    {
     "data": {
      "text/plain": [
       "array([-0.69314718,  1.17007125,  1.78245708,  2.15948425,  2.43263822,\n",
       "        2.64696251,  2.82336105,  2.97325942,  3.10358967,  3.21887582])"
      ]
     },
     "execution_count": 30,
     "metadata": {},
     "output_type": "execute_result"
    }
   ],
   "source": [
    "# Takes log of each element of x\n",
    "np.log(x)"
   ]
  },
  {
   "cell_type": "markdown",
   "id": "5c9312e5",
   "metadata": {},
   "source": [
    "A benefit of using the numpy arrays is that numpy has succinct code for combining vectorized operations."
   ]
  },
  {
   "cell_type": "code",
   "execution_count": 31,
   "id": "b5d43a0f",
   "metadata": {},
   "outputs": [
    {
     "data": {
      "text/plain": [
       "array([0.        , 1.38629436, 3.29583687])"
      ]
     },
     "execution_count": 31,
     "metadata": {},
     "output_type": "execute_result"
    }
   ],
   "source": [
    "# Calculate log(z) * z elementwise\n",
    "z = np.array([1,2,3])\n",
    "np.log(z) * z"
   ]
  },
  {
   "cell_type": "markdown",
   "id": "a1d685ea",
   "metadata": {},
   "source": [
    "````{admonition} Exercise\n",
    ":name: dir3-1-5\n",
    "\n",
    "See exercise 5 in the {ref}`exercise list <ex3-1>`.\n",
    "````\n",
    "\n",
    "### Other Useful Array Operations\n",
    "\n",
    "We have barely scratched the surface of what is possible using numpy arrays.\n",
    "\n",
    "We hope you will experiment with other functions from numpy and see how they\n",
    "work.\n",
    "\n",
    "Below, we demonstrate a few more array operations that we find most useful -- just to give you an idea\n",
    "of what else you might find.\n",
    "\n",
    "When you're attempting to do an operation that you feel should be common, the numpy library probably has it.\n",
    "\n",
    "Use Google and tab completion to check this."
   ]
  },
  {
   "cell_type": "code",
   "execution_count": 32,
   "id": "2818b578",
   "metadata": {},
   "outputs": [],
   "source": [
    "x = np.linspace(0, 25, 10)"
   ]
  },
  {
   "cell_type": "code",
   "execution_count": 33,
   "id": "37b65dcf",
   "metadata": {},
   "outputs": [
    {
     "data": {
      "text/plain": [
       "12.5"
      ]
     },
     "execution_count": 33,
     "metadata": {},
     "output_type": "execute_result"
    }
   ],
   "source": [
    "np.mean(x)"
   ]
  },
  {
   "cell_type": "code",
   "execution_count": 34,
   "id": "4d129b92",
   "metadata": {},
   "outputs": [
    {
     "data": {
      "text/plain": [
       "7.9785592313028175"
      ]
     },
     "execution_count": 34,
     "metadata": {},
     "output_type": "execute_result"
    }
   ],
   "source": [
    "np.std(x)"
   ]
  },
  {
   "cell_type": "code",
   "execution_count": 35,
   "id": "85744f13",
   "metadata": {},
   "outputs": [
    {
     "data": {
      "text/plain": [
       "25.0"
      ]
     },
     "execution_count": 35,
     "metadata": {},
     "output_type": "execute_result"
    }
   ],
   "source": [
    "# np.min, np.median, etc... are also defined\n",
    "np.max(x)"
   ]
  },
  {
   "cell_type": "code",
   "execution_count": 36,
   "id": "cc93e5ea",
   "metadata": {},
   "outputs": [
    {
     "data": {
      "text/plain": [
       "array([2.77777778, 2.77777778, 2.77777778, 2.77777778, 2.77777778,\n",
       "       2.77777778, 2.77777778, 2.77777778, 2.77777778])"
      ]
     },
     "execution_count": 36,
     "metadata": {},
     "output_type": "execute_result"
    }
   ],
   "source": [
    "np.diff(x)"
   ]
  },
  {
   "cell_type": "code",
   "execution_count": 37,
   "id": "9d52bc7e",
   "metadata": {},
   "outputs": [
    {
     "data": {
      "text/plain": [
       "array([[ 0.        ,  2.77777778],\n",
       "       [ 5.55555556,  8.33333333],\n",
       "       [11.11111111, 13.88888889],\n",
       "       [16.66666667, 19.44444444],\n",
       "       [22.22222222, 25.        ]])"
      ]
     },
     "execution_count": 37,
     "metadata": {},
     "output_type": "execute_result"
    }
   ],
   "source": [
    "np.reshape(x, (5, 2))"
   ]
  },
  {
   "cell_type": "markdown",
   "id": "0ff74956",
   "metadata": {},
   "source": [
    "Note that many of these operations can be called as methods on `x`:"
   ]
  },
  {
   "cell_type": "code",
   "execution_count": 38,
   "id": "4adee6c3",
   "metadata": {},
   "outputs": [
    {
     "name": "stdout",
     "output_type": "stream",
     "text": [
      "12.5\n",
      "7.9785592313028175\n",
      "25.0\n",
      "[[ 0.          2.77777778]\n",
      " [ 5.55555556  8.33333333]\n",
      " [11.11111111 13.88888889]\n",
      " [16.66666667 19.44444444]\n",
      " [22.22222222 25.        ]]\n"
     ]
    }
   ],
   "source": [
    "print(x.mean())\n",
    "print(x.std())\n",
    "print(x.max())\n",
    "# print(x.diff())  # this one is not a method...\n",
    "print(x.reshape((5, 2)))"
   ]
  },
  {
   "cell_type": "markdown",
   "id": "6d14453f",
   "metadata": {},
   "source": [
    "Finally, `np.vectorize` can be conveniently used with numpy broadcasting and any functions."
   ]
  },
  {
   "cell_type": "code",
   "execution_count": 39,
   "id": "81df456e",
   "metadata": {},
   "outputs": [
    {
     "name": "stdout",
     "output_type": "stream",
     "text": [
      "[0.37454012 0.95071431 0.73199394 0.59865848 0.15601864 0.15599452\n",
      " 0.05808361 0.86617615 0.60111501 0.70807258]\n",
      "low\n",
      "['high' 'high' 'high' 'high' 'low' 'low' 'low' 'high' 'high' 'high']\n"
     ]
    }
   ],
   "source": [
    "np.random.seed(42)\n",
    "x = np.random.rand(10)\n",
    "print(x)\n",
    "\n",
    "def f(val):\n",
    "    if val < 0.3:\n",
    "        return \"low\"\n",
    "    else:\n",
    "        return \"high\"\n",
    "\n",
    "print(f(0.1)) # scalar, no problem\n",
    "# f(x) # array, fails since f() is scalar\n",
    "f_vec = np.vectorize(f)\n",
    "print(f_vec(x))"
   ]
  },
  {
   "cell_type": "markdown",
   "id": "ba9f719d",
   "metadata": {},
   "source": [
    "Caution: `np.vectorize` is convenient for numpy broadcasting with any function\n",
    "but is not intended to be high performance.\n",
    "\n",
    "When speed matters, directly write a `f` function to work on arrays.\n",
    "\n",
    "(ex3-1)=\n",
    "## Exercises\n",
    "\n",
    "### Exercise 1\n",
    "\n",
    "Try indexing into another element of your choice from the\n",
    "3-dimensional array.\n",
    "\n",
    "Building an understanding of indexing means working through this\n",
    "type of operation several times -- without skipping steps!\n",
    "\n",
    "({ref}`back to text <dir3-1-1>`)\n",
    "\n",
    "### Exercise 2\n",
    "\n",
    "Look at the 2-dimensional array `x_2d`.\n",
    "\n",
    "Does the inner-most index correspond to rows or columns? What does the\n",
    "outer-most index correspond to?\n",
    "\n",
    "Write your thoughts.\n",
    "\n",
    "({ref}`back to text <dir3-1-2>`)\n",
    "\n",
    "### Exercise 3\n",
    "\n",
    "What would you do to extract the array `[[5, 6], [50, 60]]`?\n",
    "\n",
    "({ref}`back to text <dir3-1-3>`)\n",
    "\n",
    "### Exercise 4\n",
    "\n",
    "Do you recall what multiplication by an integer did for lists?\n",
    "\n",
    "How does this differ?\n",
    "\n",
    "({ref}`back to text <dir3-1-4>`)\n",
    "\n",
    "### Exercise 5\n",
    "\n",
    "Let's revisit a bond pricing example we saw in {doc}`Control flow <../python_fundamentals/control_flow>`.\n",
    "\n",
    "Recall that the equation for pricing a bond with coupon payment $C$,\n",
    "face value $M$, yield to maturity $i$, and periods to maturity\n",
    "$N$ is\n",
    "\n",
    "$$\n",
    "\\begin{align*}\n",
    "    P &= \\left(\\sum_{n=1}^N \\frac{C}{(i+1)^n}\\right) + \\frac{M}{(1+i)^N} \\\\\n",
    "      &= C \\left(\\frac{1 - (1+i)^{-N}}{i} \\right) + M(1+i)^{-N}\n",
    "\\end{align*}\n",
    "$$\n",
    "\n",
    "In the code cell below, we have defined variables for `i`, `M` and `C`.\n",
    "\n",
    "You have two tasks:\n",
    "\n",
    "1. Define a numpy array `N` that contains all maturities between 1 and 10 \n",
    "\n",
    "    ```{hint}\n",
    "    look at the `np.arange` function.\n",
    "    ```\n",
    "\n",
    "1. Using the equation above, determine the bond prices of all maturity levels in your array."
   ]
  },
  {
   "cell_type": "code",
   "execution_count": 40,
   "id": "07c17efb",
   "metadata": {},
   "outputs": [],
   "source": [
    "i = 0.03\n",
    "M = 100\n",
    "C = 5\n",
    "\n",
    "# Define array here\n",
    "\n",
    "# price bonds here"
   ]
  },
  {
   "cell_type": "markdown",
   "id": "6b1ea348",
   "metadata": {},
   "source": [
    "({ref}`back to text <dir3-1-5>`)"
   ]
  }
 ],
 "metadata": {
  "jupytext": {
   "text_representation": {
    "extension": ".md",
    "format_name": "myst"
   }
  },
  "kernelspec": {
   "display_name": "Python 3",
   "language": "python",
   "name": "python3"
  },
  "language_info": {
   "codemirror_mode": {
    "name": "ipython",
    "version": 3
   },
   "file_extension": ".py",
   "mimetype": "text/x-python",
   "name": "python",
   "nbconvert_exporter": "python",
   "pygments_lexer": "ipython3",
   "version": "3.9.16"
  },
  "source_map": [
   10,
   45,
   47,
   57,
   61,
   65,
   69,
   74,
   77,
   83,
   86,
   96,
   98,
   102,
   104,
   108,
   111,
   115,
   118,
   124,
   128,
   143,
   146,
   150,
   152,
   164,
   167,
   174,
   177,
   184,
   186,
   192,
   194,
   214,
   216,
   223,
   227,
   253,
   257,
   261,
   266,
   270,
   274,
   281,
   295,
   301,
   304,
   315,
   323,
   335,
   344,
   363,
   367,
   371,
   374,
   379,
   381,
   385,
   388,
   392,
   396,
   418,
   422,
   426,
   430,
   435,
   439,
   441,
   445,
   451,
   455,
   470,
   542,
   550
  ]
 },
 "nbformat": 4,
 "nbformat_minor": 5
}