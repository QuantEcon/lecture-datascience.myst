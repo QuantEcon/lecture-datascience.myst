{
 "cells": [
  {
   "cell_type": "markdown",
   "id": "cd4edc2d",
   "metadata": {},
   "source": [
    "# Scientific Computing\n",
    "\n",
    "This section discusses several key aspects of scientific computing that enable modern economics, data science, and statistics.\n",
    "\n",
    "As the size of our data and the complexity of our models have increased (and continue doing so), we have become more reliant on computers to perform computations that we simply cannot do by hand.\n",
    "\n",
    "In this section, we will cover\n",
    "\n",
    "- Python's main numerical library numpy and how to work with its array type.\n",
    "- A basic introduction to visualizing data with matplotlib.\n",
    "- A refresher on some key linear algebra concepts.\n",
    "- A review of basic probability concepts and how to use simulation in learning economics.\n",
    "- Using a computer to perform optimization.\n",
    "\n",
    "Many of the tools learned in this section will continue to show up throughout the\n",
    "{doc}`pandas <../pandas/index>` and {doc}`applications <../applications/index>` sections.\n",
    "\n",
    "```{warning}\n",
    "This section has more formal math than the previous material (and there will be more\n",
    "math as you cover certain methods).\n",
    "\n",
    "We expect that students' mathematical backgrounds will range widely, so for those who have slightly less preparation, please don't let this scare you.\n",
    "\n",
    "We have found that although understanding these tools will require some extra effort, it will give you a leg up in almost any career you might consider.\n",
    "```\n",
    "\n",
    "## <i class=\"fas fa-server\" style=\"color:#d45f6c\"></i> [Introduction to Numpy](../scientific/numpy_arrays.md)\n",
    "\n",
    "## <i class=\"fas fa-server\" style=\"color:#d45f6c\"></i> [Plotting](../scientific/plotting.md)\n",
    "\n",
    "## <i class=\"fas fa-server\" style=\"color:#d45f6c\"></i> [Applied Linear Algebra](../scientific/applied_linalg.md)\n",
    "\n",
    "## <i class=\"fas fa-server\" style=\"color:#d45f6c\"></i> [Randomness](../scientific/randomness.md)\n",
    "\n",
    "## <i class=\"fas fa-server\" style=\"color:#d45f6c\"></i> [Optimization](../scientific/optimization.md)"
   ]
  }
 ],
 "metadata": {
  "jupytext": {
   "text_representation": {
    "extension": ".md",
    "format_name": "myst"
   }
  },
  "kernelspec": {
   "display_name": "Python 3",
   "language": "python",
   "name": "python3"
  },
  "language_info": {
   "codemirror_mode": {
    "name": "ipython",
    "version": 3
   },
   "file_extension": ".py",
   "mimetype": "text/x-python",
   "name": "python",
   "nbconvert_exporter": "python",
   "pygments_lexer": "ipython3",
   "version": "3.9.16"
  },
  "source_map": [
   10
  ]
 },
 "nbformat": 4,
 "nbformat_minor": 5
}