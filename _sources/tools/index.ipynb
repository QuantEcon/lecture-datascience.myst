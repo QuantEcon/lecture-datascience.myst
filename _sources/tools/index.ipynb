{
 "cells": [
  {
   "cell_type": "markdown",
   "id": "b8297871",
   "metadata": {},
   "source": [
    "# Data Science Tools\n",
    "\n",
    "In this part of the course we will piece together the skills that we have learned so far, to build a set of tools that we can use to analyze and understand data.\n",
    "\n",
    "## <i class=\"fas fa-cogs\" style=\"color:#9933ff\"></i> [Intermediate Plotting](../tools/matplotlib.md)\n",
    "\n",
    "## <i class=\"fas fa-cogs\" style=\"color:#9933ff\"></i> [Mapping in Python](../tools/maps.md)\n",
    "\n",
    "## <i class=\"fas fa-cogs\" style=\"color:#9933ff\"></i> [Data Visualization: Rules and Guidelines](../tools/visualization_rules.md)\n",
    "\n",
    "## <i class=\"fas fa-cogs\" style=\"color:#9933ff\"></i> [Regression](../tools/regression.md)\n",
    "\n",
    "## <i class=\"fas fa-cogs\" style=\"color:#9933ff\"></i> [Classification](../tools/classification.md)"
   ]
  }
 ],
 "metadata": {
  "jupytext": {
   "text_representation": {
    "extension": ".md",
    "format_name": "myst"
   }
  },
  "kernelspec": {
   "display_name": "Python 3",
   "language": "python",
   "name": "python3"
  },
  "language_info": {
   "codemirror_mode": {
    "name": "ipython",
    "version": 3
   },
   "file_extension": ".py",
   "mimetype": "text/x-python",
   "name": "python",
   "nbconvert_exporter": "python",
   "pygments_lexer": "ipython3",
   "version": "3.9.19"
  },
  "source_map": [
   10
  ]
 },
 "nbformat": 4,
 "nbformat_minor": 5
}