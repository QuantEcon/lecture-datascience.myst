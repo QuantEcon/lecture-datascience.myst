{
 "cells": [
  {
   "cell_type": "markdown",
   "id": "581e4f30",
   "metadata": {},
   "source": [
    "# DataFrames and Series in Pandas\n",
    "\n",
    "This section of the workshop covers data ingestion, cleaning,\n",
    "manipulation, analysis, and visualization in Python.\n",
    "\n",
    "We build on the skills learned in the {doc}`Python fundamentals <../python_fundamentals/index>` section and teach the\n",
    "[pandas](https://pandas.pydata.org) library.\n",
    "\n",
    "At the end of this section, you will be able to:\n",
    "\n",
    "- Access data stored in a variety of formats\n",
    "- Combine multiple datasets based on observations that link them\n",
    "  together\n",
    "- Perform custom operations on tables of data\n",
    "- Use the split-apply-combine method for analyzing sub-groups of data\n",
    "- Automate static analysis on changing data\n",
    "- Produce publication quality visualizations\n",
    "\n",
    "In the end, our goal with this section is to provide you the\n",
    "necessary skills to -- at a minimum -- **immediately** replicate your current\n",
    "data analysis workflow in Python with no loss of total (computer +\n",
    "human) time.\n",
    "\n",
    "This is a lower bound on the benefits you should expect to receive by\n",
    "studying this section.\n",
    "\n",
    "The expression \"practice makes perfect\" is especially true here.\n",
    "\n",
    "As you work with these tools, both the time to write and the time to run\n",
    "your programs will fall dramatically.\n",
    "\n",
    "## <i class=\"fas fa-database\" style=\"color:#6dae5c\"></i> [Introduction](../pandas/intro.md)\n",
    "\n",
    "## <i class=\"fas fa-database\" style=\"color:#6dae5c\"></i> [Basic Functionality](../pandas/basics.md)\n",
    "\n",
    "## <i class=\"fas fa-database\" style=\"color:#6dae5c\"></i> [The Index](../pandas/the_index.md)\n",
    "\n",
    "## <i class=\"fas fa-database\" style=\"color:#6dae5c\"></i> [Storage Formats](../pandas/storage_formats.md)\n",
    "\n",
    "## <i class=\"fas fa-database\" style=\"color:#6dae5c\"></i> [Cleaning Data](../pandas/data_clean.md)\n",
    "\n",
    "## <i class=\"fas fa-database\" style=\"color:#6dae5c\"></i> [Reshape](../pandas/reshape.md)\n",
    "\n",
    "## <i class=\"fas fa-database\" style=\"color:#6dae5c\"></i> [Merge](../pandas/merge.md)\n",
    "\n",
    "## <i class=\"fas fa-database\" style=\"color:#6dae5c\"></i> [GroupBy](../pandas/groupby.md)\n",
    "\n",
    "## <i class=\"fas fa-database\" style=\"color:#6dae5c\"></i> [Time Series](../pandas/timeseries.md)"
   ]
  }
 ],
 "metadata": {
  "jupytext": {
   "text_representation": {
    "extension": ".md",
    "format_name": "myst"
   }
  },
  "kernelspec": {
   "display_name": "Python 3",
   "language": "python",
   "name": "python3"
  },
  "language_info": {
   "codemirror_mode": {
    "name": "ipython",
    "version": 3
   },
   "file_extension": ".py",
   "mimetype": "text/x-python",
   "name": "python",
   "nbconvert_exporter": "python",
   "pygments_lexer": "ipython3",
   "version": "3.9.19"
  },
  "source_map": [
   10
  ]
 },
 "nbformat": 4,
 "nbformat_minor": 5
}