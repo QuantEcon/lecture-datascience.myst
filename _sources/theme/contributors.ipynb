{
 "cells": [
  {
   "cell_type": "markdown",
   "id": "2e18c703",
   "metadata": {},
   "source": [
    "# Contributors:\n",
    "\n",
    "This project would not have been possible without contributions from the people listed \n",
    "on this page. They were involved in authoring/editing material, designing the website, \n",
    "and providing technological support. We are grateful to each of these individuals for \n",
    "their contributions.\n",
    "\n",
    "## <i class=\"fas fa-user-graduate\" style=\"color:#1665ad\"></i> [Quentin Batista](https://github.com/QBatista)\n",
    "  - Becker Friedman Institute\n",
    "\n",
    "## <i class=\"fas fa-user-graduate\" style=\"color:#1665ad\"></i> [Kim Ruhl](http://kimjruhl.com/)\n",
    "  - UW\n",
    "\n",
    "## <i class=\"fas fa-user-graduate\" style=\"color:#1665ad\"></i> [Thomas Sargent](http://www.tomsargent.com/)\n",
    "  - NYU\n",
    "\n",
    "## <i class=\"fas fa-user-graduate\" style=\"color:#1665ad\"></i> [Paul Schrimpf](https://economics.ubc.ca/faculty-and-staff/paul-schrimpf/)\n",
    "  - UBC\n",
    "\n",
    "## <i class=\"fas fa-user-graduate\" style=\"color:#1665ad\"></i> [Philip Solimine](https://psolimine.net)\n",
    "  - UBC\n",
    "\n",
    "## <i class=\"fas fa-user-graduate\" style=\"color:#1665ad\"></i> [Arnav Sood](https://arnavsood.com)\n",
    "  - UBC\n",
    "\n",
    "## <i class=\"fas fa-user-ninja\" style=\"color:#1665ad\"></i> [Andrij Stachurski](https://drdrij.com/)\n",
    "  - Web Consultant\n",
    "\n",
    "## <i class=\"fas fa-user-graduate\" style=\"color:#1665ad\"></i> [John Stachurski](http://johnstachurski.net)\n",
    "  - ANU\n",
    "\n",
    "## <i class=\"fas fa-user-graduate\" style=\"color:#1665ad\"></i> [Natasha Watkins](https://github.com/natashawatkins)\n",
    "  - UCLA\n",
    "\n",
    "## <i class=\"fas fa-user-graduate\" style=\"color:#1665ad\"></i> [Michael Waugh](http://www.waugheconomics.com/)\n",
    "  - NYU\n",
    "\n",
    "## <i class=\"fas fa-user-graduate\" style=\"color:#1665ad\"></i> [Peifan Wu](https://peifanwu.weebly.com)\n",
    "  - UBC"
   ]
  }
 ],
 "metadata": {
  "jupytext": {
   "text_representation": {
    "extension": ".md",
    "format_name": "myst"
   }
  },
  "kernelspec": {
   "display_name": "Python 3",
   "language": "python",
   "name": "python3"
  },
  "language_info": {
   "codemirror_mode": {
    "name": "ipython",
    "version": 3
   },
   "file_extension": ".py",
   "mimetype": "text/x-python",
   "name": "python",
   "nbconvert_exporter": "python",
   "pygments_lexer": "ipython3",
   "version": "3.9.16"
  },
  "orphan": true,
  "source_map": [
   11
  ]
 },
 "nbformat": 4,
 "nbformat_minor": 5
}