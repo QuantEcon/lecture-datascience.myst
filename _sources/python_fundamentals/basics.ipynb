{
 "cells": [
  {
   "cell_type": "markdown",
   "id": "42738466",
   "metadata": {},
   "source": [
    "# Basics\n",
    "\n",
    "**Prerequisites**\n",
    "\n",
    "- {doc}`Getting Started <../introduction/getting_started>`\n",
    "\n",
    "**Outcomes**\n",
    "\n",
    "- Programming concepts\n",
    "    - Understand variable assignment\n",
    "    - Know what a function is and how to figure out what it does\n",
    "    - Be able to use tab completion\n",
    "- Numbers in Python\n",
    "    - Understand how Python represents numbers\n",
    "    - Know the distinction between `int` and `float`\n",
    "    - Be familiar with various binary operators for numbers\n",
    "    - Introduction to the `math` library\n",
    "- Text (strings) in Python\n",
    "    - Understand what a string is and when it is useful\n",
    "    - Learn some of the methods associated with strings\n",
    "    - Combining strings and output\n",
    "- True and False (booleans) in Python\n",
    "    - Understand what a boolean is\n",
    "    - Become familiar with all binary operators that return booleans\n",
    "\n",
    "\n",
    "## First Steps\n",
    "\n",
    "We are ready to begin writing code!\n",
    "\n",
    "In this section, we will teach you some basic concepts of programming\n",
    "and where to search for help.\n",
    "\n",
    "### Variable Assignment\n",
    "\n",
    "The first thing we will learn is the idea of *variable assignment*.\n",
    "\n",
    "Variable assignment associates a value to a variable.\n",
    "\n",
    "Below, we assign the value \"Hello World\" to the variable `x`"
   ]
  },
  {
   "cell_type": "code",
   "execution_count": 1,
   "id": "9ea3629d",
   "metadata": {},
   "outputs": [],
   "source": [
    "x = \"Hello World\""
   ]
  },
  {
   "cell_type": "markdown",
   "id": "70cb6926",
   "metadata": {},
   "source": [
    "Once we have assigned a value to a variable, Python will remember this\n",
    "variable as long as the *current* session of Python is still running.\n",
    "\n",
    "Notice how writing `x` into the prompt below outputs the value\n",
    "\"Hello World\"."
   ]
  },
  {
   "cell_type": "code",
   "execution_count": 2,
   "id": "db0e4f71",
   "metadata": {},
   "outputs": [
    {
     "data": {
      "text/plain": [
       "'Hello World'"
      ]
     },
     "execution_count": 2,
     "metadata": {},
     "output_type": "execute_result"
    }
   ],
   "source": [
    "x"
   ]
  },
  {
   "cell_type": "markdown",
   "id": "ebdf7275",
   "metadata": {},
   "source": [
    "However, Python returns an error if we ask it about variables that have not yet\n",
    "been created."
   ]
  },
  {
   "cell_type": "code",
   "execution_count": 3,
   "id": "4cf6ca8e",
   "metadata": {},
   "outputs": [],
   "source": [
    "# uncomment (delete the # and the space) the line below and run\n",
    "# y"
   ]
  },
  {
   "cell_type": "markdown",
   "id": "9bf494c5",
   "metadata": {},
   "source": [
    "It is also useful to understand the order in which operations happen.\n",
    "\n",
    "First, the right side of the equal sign is computed.\n",
    "\n",
    "Then, that computed value is stored as the variable to the left of the\n",
    "equal sign.\n",
    "\n",
    "````{admonition} Exercise\n",
    ":name: dir1\n",
    "\n",
    "See exercise 1 in the {ref}`exercise list <ex>`.\n",
    "````\n",
    "\n",
    "Keep in mind that the variable binds a name to something stored in memory.\n",
    "\n",
    "The name can even be bound to a value of a completely different type."
   ]
  },
  {
   "cell_type": "code",
   "execution_count": 4,
   "id": "1713c39a",
   "metadata": {},
   "outputs": [
    {
     "name": "stdout",
     "output_type": "stream",
     "text": [
      "2\n",
      "something else\n"
     ]
    }
   ],
   "source": [
    "x = 2\n",
    "print(x)\n",
    "x = \"something else\"\n",
    "print(x)"
   ]
  },
  {
   "cell_type": "markdown",
   "id": "983d5f7c",
   "metadata": {},
   "source": [
    "### Code Comments\n",
    "\n",
    "Comments are short notes that you leave for yourself and for others who read your\n",
    "code.\n",
    "\n",
    "They should be used to explain what the code does.\n",
    "\n",
    "A comment is made with the `#`. Python ignores everything in a line that follows a `#`.\n",
    "\n",
    "Let's practice making some comments."
   ]
  },
  {
   "cell_type": "code",
   "execution_count": 5,
   "id": "fcea14bb",
   "metadata": {},
   "outputs": [
    {
     "data": {
      "text/plain": [
       "3"
      ]
     },
     "execution_count": 5,
     "metadata": {},
     "output_type": "execute_result"
    }
   ],
   "source": [
    "i = 1  # Assign the value 1 to variable i\n",
    "j = 2  # Assign the value 2 to variable j\n",
    "\n",
    "# We add i and j below this line\n",
    "i + j"
   ]
  },
  {
   "cell_type": "markdown",
   "id": "8d19e8ee",
   "metadata": {},
   "source": [
    "## Functions\n",
    "\n",
    "Functions are processes that take an input (or inputs) and produce an output.\n",
    "\n",
    "If we had a function called `f` that took two arguments `x` and\n",
    "`y`, we would write `f(x, y)` to use the function.\n",
    "\n",
    "For example, the function `print` simply prints whatever it is given.\n",
    "Recall the variable we created called `x`."
   ]
  },
  {
   "cell_type": "code",
   "execution_count": 6,
   "id": "cbb91145",
   "metadata": {},
   "outputs": [
    {
     "name": "stdout",
     "output_type": "stream",
     "text": [
      "something else\n"
     ]
    }
   ],
   "source": [
    "print(x)"
   ]
  },
  {
   "cell_type": "markdown",
   "id": "c5c74b96",
   "metadata": {},
   "source": [
    "### Getting Help\n",
    "\n",
    "We can figure out what a function does by asking for help.\n",
    "\n",
    "In Jupyter notebooks, this is done by placing a `?` after the function\n",
    "name (without using parenthesis) and evaluating the cell.\n",
    "\n",
    "For example, we can ask for help on the print function by writing\n",
    "`print?`.\n",
    "\n",
    "Depending on how you launched Jupyter, this will either launch\n",
    "\n",
    "- JupyterLab: display the help in text below the cell.\n",
    "- Classic Jupyter Notebooks: display a new panel at the bottom of your\n",
    "  screen.  You can exit this panel by hitting the escape key or clicking the x at\n",
    "  the top right of the panel."
   ]
  },
  {
   "cell_type": "code",
   "execution_count": 7,
   "id": "56b44603",
   "metadata": {},
   "outputs": [],
   "source": [
    "# print? # remove the comment and <Shift-Enter>"
   ]
  },
  {
   "cell_type": "markdown",
   "id": "e6fb73be",
   "metadata": {},
   "source": [
    "````{admonition} Exercise\n",
    ":name: dir2\n",
    "\n",
    "See exercise 2 in the {ref}`exercise list <ex>`.\n",
    "````\n",
    "\n",
    "JupyterLab also has a \"Contextual Help\" (previously called \"Inspector\") window.  To use,\n",
    "\n",
    "- Go to the Commands and choose Contextual Help (or Inspector), or select `<Ctrl-I>` (`<Cmd-I>` for OSX users).\n",
    "- Drag the new inspector pain to dock in the screen next to your code.\n",
    "- Then, type `print` or any other function\n",
    "  into a cell and see the help."
   ]
  },
  {
   "cell_type": "code",
   "execution_count": 8,
   "id": "aee6247e",
   "metadata": {},
   "outputs": [],
   "source": [
    "# len? # remove the comment and <Shift-Enter>"
   ]
  },
  {
   "cell_type": "markdown",
   "id": "a7fb906d",
   "metadata": {},
   "source": [
    "  \n",
    "\n",
    "We will learn much more about functions, including how to write our own, in a\n",
    "future lecture.\n",
    "\n",
    "## Objects and Types\n",
    "\n",
    "Everything in Python is an *object*.\n",
    "\n",
    "Objects are \"things\" that contain 1) data and 2) functions that can operate on\n",
    "the data.\n",
    "\n",
    "Sometimes we refer to the functions inside an object as *methods*.\n",
    "\n",
    "We can investigate what data is inside an object and which methods\n",
    "it supports by typing `.` after that particular variable, then\n",
    "hitting `TAB`.\n",
    "\n",
    "It should then list data and method names to the right of the\n",
    "variable name like this:\n",
    "\n",
    "```{figure} ../_static/introspection.png\n",
    ":alt: introspection.png\n",
    "```\n",
    "\n",
    "You can scroll through this list by using the up and down arrows.\n",
    "\n",
    "We often refer to this as \"tab completion\" or \"introspection\".\n",
    "\n",
    "Let's do this together below. Keep going down until you find the method\n",
    "`split`."
   ]
  },
  {
   "cell_type": "code",
   "execution_count": 9,
   "id": "15e3037b",
   "metadata": {},
   "outputs": [
    {
     "data": {
      "text/plain": [
       "'something else'"
      ]
     },
     "execution_count": 9,
     "metadata": {},
     "output_type": "execute_result"
    }
   ],
   "source": [
    "# Type a period after `x` and then press TAB.\n",
    "x"
   ]
  },
  {
   "cell_type": "markdown",
   "id": "749719a7",
   "metadata": {},
   "source": [
    "Once you have found the method `split`, you can use the method by adding\n",
    "parenthesis after it.\n",
    "\n",
    "Let's call the `split` method, which doesn't have any other required\n",
    "parameters. (Quiz: how would we check that?)"
   ]
  },
  {
   "cell_type": "code",
   "execution_count": 10,
   "id": "456e8073",
   "metadata": {},
   "outputs": [
    {
     "data": {
      "text/plain": [
       "['something', 'else']"
      ]
     },
     "execution_count": 10,
     "metadata": {},
     "output_type": "execute_result"
    }
   ],
   "source": [
    "x.split()"
   ]
  },
  {
   "cell_type": "markdown",
   "id": "724ed60e",
   "metadata": {},
   "source": [
    "We often want to identify what kind of object some value is--\n",
    "called its \"type\".\n",
    "\n",
    "A \"type\" is an abstraction which defines a set of behavior for any\n",
    "\"instance\" of that type i.e. `2.0` and `3.0` are instances\n",
    "of `float`, where `float` has a set of particular common behaviors.\n",
    "\n",
    "In particular, the type determines:\n",
    "\n",
    "- the available data for any \"instance\" of the type (where each\n",
    "  instance may have different values of the data).\n",
    "- the methods that can be applied on the object and its data.\n",
    "\n",
    "We can figure this out by using the `type` function.\n",
    "\n",
    "The `type` function takes a single argument and outputs the type of\n",
    "that argument."
   ]
  },
  {
   "cell_type": "code",
   "execution_count": 11,
   "id": "89013455",
   "metadata": {},
   "outputs": [
    {
     "data": {
      "text/plain": [
       "int"
      ]
     },
     "execution_count": 11,
     "metadata": {},
     "output_type": "execute_result"
    }
   ],
   "source": [
    "type(3)"
   ]
  },
  {
   "cell_type": "code",
   "execution_count": 12,
   "id": "96602fb2",
   "metadata": {},
   "outputs": [
    {
     "data": {
      "text/plain": [
       "str"
      ]
     },
     "execution_count": 12,
     "metadata": {},
     "output_type": "execute_result"
    }
   ],
   "source": [
    "type(\"Hello World\")"
   ]
  },
  {
   "cell_type": "code",
   "execution_count": 13,
   "id": "10460148",
   "metadata": {},
   "outputs": [
    {
     "data": {
      "text/plain": [
       "list"
      ]
     },
     "execution_count": 13,
     "metadata": {},
     "output_type": "execute_result"
    }
   ],
   "source": [
    "type([1, 2, 3])"
   ]
  },
  {
   "cell_type": "markdown",
   "id": "31b58eeb",
   "metadata": {},
   "source": [
    "We will learn more about each of these types (and others!) and how to use them\n",
    "soon, so stay tuned!\n",
    "\n",
    "(modules)=\n",
    "## Modules\n",
    "\n",
    "Python takes a modular approach to tools.\n",
    "\n",
    "By this we mean that sets of related tools are bundled together into *packages*.\n",
    "(You may also hear the term modules to describe the same thing.)\n",
    "\n",
    "For example:\n",
    "\n",
    "- `pandas` is a package that implements the tools necessary to do\n",
    "  scalable data analysis.\n",
    "- `matplotlib` is a package that implements visualization tools.\n",
    "- `requests` and `urllib` are packages that allow Python to\n",
    "  interface with the internet.\n",
    "\n",
    "As we move further into the class, being able to\n",
    "access these packages will become very important.\n",
    "\n",
    "We can bring a package's functionality into our current Python session\n",
    "by writing\n",
    "\n",
    "```{code-block} python\n",
    "import package\n",
    "```\n",
    "\n",
    "Once we have done this, any function or object from that package can\n",
    "be accessed by using `package.name`.\n",
    "\n",
    "Here's an example."
   ]
  },
  {
   "cell_type": "code",
   "execution_count": 14,
   "id": "556d8297",
   "metadata": {},
   "outputs": [
    {
     "data": {
      "text/plain": [
       "'3.12.8 | packaged by Anaconda, Inc. | (main, Dec 11 2024, 16:31:09) [GCC 11.2.0]'"
      ]
     },
     "execution_count": 14,
     "metadata": {},
     "output_type": "execute_result"
    }
   ],
   "source": [
    "import sys   # for dealing with your computer's system\n",
    "sys.version  # information about the Python version in use"
   ]
  },
  {
   "cell_type": "markdown",
   "id": "37cdb0e9",
   "metadata": {},
   "source": [
    "````{admonition} Exercise\n",
    ":name: dir3\n",
    "\n",
    "See exercise 3 in the {ref}`exercise list <ex>`.\n",
    "````\n",
    "\n",
    "### Module Aliases\n",
    "\n",
    "Some packages have long names (see `matplotlib`, for example) which\n",
    "makes accessing the package functionality somewhat inconvenient.\n",
    "\n",
    "To ease this burden, Python allows us to give aliases or \"nicknames\" to packages.\n",
    "\n",
    "For example we can write:\n",
    "\n",
    "```{code-block} python\n",
    "import package as p\n",
    "```\n",
    "\n",
    "This statement allows us to access the packages functionality as\n",
    "`p.function_name` rather than `package.function_name`.\n",
    "\n",
    "Some common aliases for packages are\n",
    "\n",
    "- `import pandas as pd`\n",
    "- `import numpy as np`\n",
    "- `import matplotlib as mpl`\n",
    "- `import datetime as dt`\n",
    "\n",
    "While you *can* choose any name for an alias, we suggest that you stick\n",
    "to the common ones.\n",
    "\n",
    "You will learn what these common ones are over time.\n",
    "\n",
    "````{admonition} Exercise\n",
    ":name: dir4\n",
    "\n",
    "See exercise 4 in the {ref}`exercise list <ex>`.\n",
    "````\n",
    "\n",
    "## Good Code Habits\n",
    "\n",
    "A common saying in the software engineering world is:\n",
    "\n",
    "> Always code as if the guy who ends up maintaining your code will be\n",
    "> a violent psychopath who knows where you live. Code for readability.\n",
    "\n",
    "This might be a dramatic take, but the most important feature of your code\n",
    "after correctness is readability.\n",
    "\n",
    "We encourage you to do **everything** in your power to make your code as readable as possible.\n",
    "\n",
    "Here are some suggestions for how to do so:\n",
    "\n",
    "- Comment frequently. Leaving short notes not only will help others who\n",
    "  use your code, but will also help you interpret your code\n",
    "  after some time has passed.\n",
    "- **Anytime** you use a comma, place a space immediately afterwards.\n",
    "- Whitespace is your friend. Don't write line after line of code -- use\n",
    "  blank lines to break it up.\n",
    "- Don't let your lines run too long. Some people reading your code will\n",
    "  be on a laptop, so you want to ensure that they don't need to scroll horizontally\n",
    "  and right to read your code. We recommend no more than 80 characters per line.\n",
    "\n",
    "## Numbers\n",
    "\n",
    "Python has two types of numbers.\n",
    "\n",
    "1. Integer (`int`): These can only take the values of the integers\n",
    "   i.e. $\\{\\dots, -2, -1, 0, 1, 2, \\dots\\}$\n",
    "1. Floating Point Number (`float`): Think of these as any real number\n",
    "   such as $1.0$, $3.1415$, or $-100.022358923223$...\n",
    "\n",
    "The easiest way to differentiate these types of numbers is to find a decimal place\n",
    "after the number.\n",
    "\n",
    "A float will have a decimal place, but an integer will not.\n",
    "\n",
    "Below, we assign integers to the variables `xi` and `zi` and assign\n",
    "floating point numbers to the variables `xf` and `zf`."
   ]
  },
  {
   "cell_type": "code",
   "execution_count": 15,
   "id": "7de3d617",
   "metadata": {},
   "outputs": [],
   "source": [
    "xi = 1\n",
    "xf = 1.0\n",
    "zi = 123\n",
    "zf = 1230.5  # Notice -- There are no commas!\n",
    "zf2 = 1_230.5  # If needed, we use `_` to separate numbers for readability"
   ]
  },
  {
   "cell_type": "markdown",
   "id": "975389fd",
   "metadata": {},
   "source": [
    "````{admonition} Exercise\n",
    ":name: dir5\n",
    "\n",
    "See exercise 5 in the {ref}`exercise list <ex>`.\n",
    "````\n",
    "\n",
    "### Python as a Calculator\n",
    "\n",
    "You can use Python to perform mathematical calculations."
   ]
  },
  {
   "cell_type": "code",
   "execution_count": 16,
   "id": "8844201a",
   "metadata": {},
   "outputs": [
    {
     "name": "stdout",
     "output_type": "stream",
     "text": [
      "a + b is 6\n",
      "a - b is 2\n",
      "a * b is 8\n",
      "a / b is 2.0\n",
      "a ** b is 16\n",
      "a ^ b is 6\n"
     ]
    }
   ],
   "source": [
    "a = 4\n",
    "b = 2\n",
    "\n",
    "print(\"a + b is\", a + b)\n",
    "print(\"a - b is\", a - b)\n",
    "print(\"a * b is\", a * b)\n",
    "print(\"a / b is\", a / b)\n",
    "print(\"a ** b is\", a**b)\n",
    "print(\"a ^ b is\", a^b)"
   ]
  },
  {
   "cell_type": "markdown",
   "id": "50ecc6fa",
   "metadata": {},
   "source": [
    "You likely could have guessed all except the last two.\n",
    "\n",
    "```{warning}\n",
    "Python uses `**`, not `^`, for exponentiation (raising a number\n",
    "to a power)!\n",
    "```\n",
    "\n",
    "Notice also that above `+`, `-` and `**` all returned an integer\n",
    "type, but `/` converted the result to a float.\n",
    "\n",
    "When possible, operations between integers return an integer type.\n",
    "\n",
    "All operations involving a float will result in a float."
   ]
  },
  {
   "cell_type": "code",
   "execution_count": 17,
   "id": "95e9c614",
   "metadata": {},
   "outputs": [
    {
     "name": "stdout",
     "output_type": "stream",
     "text": [
      "a + b is 6.0\n",
      "a - b is 2.0\n",
      "a * b is 8.0\n",
      "a / b is 2.0\n",
      "a ** b is 16.0\n"
     ]
    }
   ],
   "source": [
    "a = 4\n",
    "b = 2.0\n",
    "\n",
    "print(\"a + b is\", a + b)\n",
    "print(\"a - b is\", a - b)\n",
    "print(\"a * b is\", a * b)\n",
    "print(\"a / b is\", a / b)\n",
    "print(\"a ** b is\", a**b)"
   ]
  },
  {
   "cell_type": "markdown",
   "id": "b27b1e52",
   "metadata": {},
   "source": [
    "We can also chain together operations.\n",
    "\n",
    "When doing this, Python follows the standard [order of operations](https://en.wikipedia.org/wiki/Order_of_operations) — parenthesis, exponents,\n",
    "multiplication and division, followed by addition and subtraction.\n",
    "\n",
    "For example,"
   ]
  },
  {
   "cell_type": "code",
   "execution_count": 18,
   "id": "9e6bd7ca",
   "metadata": {},
   "outputs": [],
   "source": [
    "x = 2.0\n",
    "y = 3.0\n",
    "z1 = x + y * x\n",
    "z2 = (x + y) * x"
   ]
  },
  {
   "cell_type": "markdown",
   "id": "e7517539",
   "metadata": {},
   "source": [
    "What do you think `z1` is?\n",
    "\n",
    "How about `z2`?\n",
    "\n",
    "````{admonition} Exercise\n",
    ":name: dir6\n",
    "\n",
    "See exercise 6 in the {ref}`exercise list <ex>`.\n",
    "````\n",
    "\n",
    "### Other Math Functions\n",
    "\n",
    "We often want to use other math functions on our numbers. Let's try to\n",
    "calculate sin(2.5)."
   ]
  },
  {
   "cell_type": "code",
   "execution_count": 19,
   "id": "156986c6",
   "metadata": {
    "tags": [
     "raises-exception"
    ]
   },
   "outputs": [
    {
     "ename": "NameError",
     "evalue": "name 'sin' is not defined",
     "output_type": "error",
     "traceback": [
      "\u001b[0;31m---------------------------------------------------------------------------\u001b[0m",
      "\u001b[0;31mNameError\u001b[0m                                 Traceback (most recent call last)",
      "Cell \u001b[0;32mIn[19], line 1\u001b[0m\n\u001b[0;32m----> 1\u001b[0m \u001b[43msin\u001b[49m(\u001b[38;5;241m2.5\u001b[39m)\n",
      "\u001b[0;31mNameError\u001b[0m: name 'sin' is not defined"
     ]
    }
   ],
   "source": [
    "sin(2.5)"
   ]
  },
  {
   "cell_type": "markdown",
   "id": "36689e7d",
   "metadata": {},
   "source": [
    "As seen above, Python complains that `sin` isn't defined.\n",
    "\n",
    "The problem here is that the `sin` function -- as well as many other\n",
    "standard math functions -- are contained in the `math` package.\n",
    "\n",
    "We must begin by importing the math package."
   ]
  },
  {
   "cell_type": "code",
   "execution_count": 20,
   "id": "c7fba0bd",
   "metadata": {},
   "outputs": [],
   "source": [
    "import math"
   ]
  },
  {
   "cell_type": "markdown",
   "id": "b68cbc06",
   "metadata": {},
   "source": [
    "Now, we can use `math.[TAB]` to see what functions are available to us."
   ]
  },
  {
   "cell_type": "code",
   "execution_count": 21,
   "id": "63d0977d",
   "metadata": {},
   "outputs": [],
   "source": [
    "# uncomment, add a period (`.`) and pres TAB\n",
    "# math"
   ]
  },
  {
   "cell_type": "code",
   "execution_count": 22,
   "id": "dc37e6cb",
   "metadata": {},
   "outputs": [
    {
     "data": {
      "text/plain": [
       "0.5984721441039565"
      ]
     },
     "execution_count": 22,
     "metadata": {},
     "output_type": "execute_result"
    }
   ],
   "source": [
    "# found math.sin!\n",
    "math.sin(2.5)"
   ]
  },
  {
   "cell_type": "markdown",
   "id": "4d21f40b",
   "metadata": {},
   "source": [
    "````{admonition} Exercise\n",
    ":name: dir7\n",
    "\n",
    "See exercise 7 in the {ref}`exercise list <ex>`.\n",
    "````\n",
    "\n",
    "#### Floor/Modulus Division Operators\n",
    "\n",
    "You are less likely to run into the following operators, but understanding\n",
    "that they exist is useful.\n",
    "\n",
    "For two numbers assigned to the variables `x` and `y`,\n",
    "\n",
    "- Floor division: `x // y`\n",
    "- Modulus division: `x % y`\n",
    "\n",
    "Remember when you first learned how to do division and you were asked to talk about the quotient\n",
    "and the remainder?\n",
    "\n",
    "That's what these operators correspond to...\n",
    "\n",
    "Floor division returns the number of times the divisor goes into the dividend (the quotient)\n",
    "and modulus division returns the remainder.\n",
    "\n",
    "An example would be 37 divided by 7:\n",
    "\n",
    "- Floor division would return 5 (7 * 5 = 35)\n",
    "- Modulus division would return 2 (2 + 35 = 37)\n",
    "\n",
    "Try it!"
   ]
  },
  {
   "cell_type": "code",
   "execution_count": 23,
   "id": "192dc750",
   "metadata": {},
   "outputs": [
    {
     "data": {
      "text/plain": [
       "5"
      ]
     },
     "execution_count": 23,
     "metadata": {},
     "output_type": "execute_result"
    }
   ],
   "source": [
    "37 // 7"
   ]
  },
  {
   "cell_type": "code",
   "execution_count": 24,
   "id": "54cc8720",
   "metadata": {},
   "outputs": [
    {
     "data": {
      "text/plain": [
       "2"
      ]
     },
     "execution_count": 24,
     "metadata": {},
     "output_type": "execute_result"
    }
   ],
   "source": [
    "37 % 7"
   ]
  },
  {
   "cell_type": "markdown",
   "id": "83c776dd",
   "metadata": {},
   "source": [
    "## Strings\n",
    "\n",
    "Textual information is stored in a data type called a string.\n",
    "\n",
    "To denote that you would like something to be stored as a string, you place it\n",
    "inside of quotation marks.\n",
    "\n",
    "For example,\n",
    "\n",
    "```{code-block} python\n",
    "\"this is a string\"  # Notice the quotation marks\n",
    "'this is a string'  # Notice the quotation marks\n",
    "this is not a string  # No quotation marks\n",
    "```\n",
    "\n",
    "You can use either `\"` or `'` to create a string. Just make sure\n",
    "that you start and end the string with the same one!\n",
    "\n",
    "Notice that if we ask Python to tell us the type of a string, it abbreviates\n",
    "its answer to `str`."
   ]
  },
  {
   "cell_type": "code",
   "execution_count": 25,
   "id": "f0e34491",
   "metadata": {},
   "outputs": [
    {
     "data": {
      "text/plain": [
       "str"
      ]
     },
     "execution_count": 25,
     "metadata": {},
     "output_type": "execute_result"
    }
   ],
   "source": [
    "type(\"this is a string\")"
   ]
  },
  {
   "cell_type": "markdown",
   "id": "08eef49d",
   "metadata": {},
   "source": [
    "````{admonition} Exercise\n",
    ":name: dir8\n",
    "\n",
    "See exercise 8 in the {ref}`exercise list <ex>`.\n",
    "````\n",
    "\n",
    "\n",
    "### String Operations\n",
    "\n",
    "Some of the arithmetic operators we saw in the numbers lecture also work\n",
    "on strings:\n",
    "\n",
    "- Put two strings together: `x + y`.\n",
    "- Repeat the string `x` a total of `n` times: `n * x` (or `x * n`)."
   ]
  },
  {
   "cell_type": "code",
   "execution_count": 26,
   "id": "19cfb0b6",
   "metadata": {},
   "outputs": [],
   "source": [
    "x = \"Hello\"\n",
    "y = \"World\""
   ]
  },
  {
   "cell_type": "code",
   "execution_count": 27,
   "id": "1a32f32d",
   "metadata": {},
   "outputs": [
    {
     "data": {
      "text/plain": [
       "'HelloWorld'"
      ]
     },
     "execution_count": 27,
     "metadata": {},
     "output_type": "execute_result"
    }
   ],
   "source": [
    "x + y"
   ]
  },
  {
   "cell_type": "code",
   "execution_count": 28,
   "id": "7809d99e",
   "metadata": {},
   "outputs": [
    {
     "data": {
      "text/plain": [
       "'HelloHelloHello'"
      ]
     },
     "execution_count": 28,
     "metadata": {},
     "output_type": "execute_result"
    }
   ],
   "source": [
    "3 * x"
   ]
  },
  {
   "cell_type": "markdown",
   "id": "e30c10ca",
   "metadata": {},
   "source": [
    "What happens if we try `*` with two strings, or `-` or `/`?\n",
    "\n",
    "The best way to find out is to try it!"
   ]
  },
  {
   "cell_type": "code",
   "execution_count": 29,
   "id": "407c0460",
   "metadata": {
    "tags": [
     "raises-exception"
    ]
   },
   "outputs": [
    {
     "ename": "TypeError",
     "evalue": "can't multiply sequence by non-int of type 'str'",
     "output_type": "error",
     "traceback": [
      "\u001b[0;31m---------------------------------------------------------------------------\u001b[0m",
      "\u001b[0;31mTypeError\u001b[0m                                 Traceback (most recent call last)",
      "Cell \u001b[0;32mIn[29], line 3\u001b[0m\n\u001b[1;32m      1\u001b[0m a \u001b[38;5;241m=\u001b[39m \u001b[38;5;124m\"\u001b[39m\u001b[38;5;124m1\u001b[39m\u001b[38;5;124m\"\u001b[39m\n\u001b[1;32m      2\u001b[0m b \u001b[38;5;241m=\u001b[39m \u001b[38;5;124m\"\u001b[39m\u001b[38;5;124m2\u001b[39m\u001b[38;5;124m\"\u001b[39m\n\u001b[0;32m----> 3\u001b[0m \u001b[43ma\u001b[49m\u001b[43m \u001b[49m\u001b[38;5;241;43m*\u001b[39;49m\u001b[43m \u001b[49m\u001b[43mb\u001b[49m\n",
      "\u001b[0;31mTypeError\u001b[0m: can't multiply sequence by non-int of type 'str'"
     ]
    }
   ],
   "source": [
    "a = \"1\"\n",
    "b = \"2\"\n",
    "a * b"
   ]
  },
  {
   "cell_type": "code",
   "execution_count": 30,
   "id": "8502e33f",
   "metadata": {
    "tags": [
     "raises-exception"
    ]
   },
   "outputs": [
    {
     "ename": "TypeError",
     "evalue": "unsupported operand type(s) for -: 'str' and 'str'",
     "output_type": "error",
     "traceback": [
      "\u001b[0;31m---------------------------------------------------------------------------\u001b[0m",
      "\u001b[0;31mTypeError\u001b[0m                                 Traceback (most recent call last)",
      "Cell \u001b[0;32mIn[30], line 1\u001b[0m\n\u001b[0;32m----> 1\u001b[0m \u001b[43ma\u001b[49m\u001b[43m \u001b[49m\u001b[38;5;241;43m-\u001b[39;49m\u001b[43m \u001b[49m\u001b[43mb\u001b[49m\n",
      "\u001b[0;31mTypeError\u001b[0m: unsupported operand type(s) for -: 'str' and 'str'"
     ]
    }
   ],
   "source": [
    "a - b"
   ]
  },
  {
   "cell_type": "markdown",
   "id": "cb36a1d6",
   "metadata": {},
   "source": [
    "````{admonition} Exercise\n",
    ":name: dir9\n",
    "\n",
    "See exercise 9 in the {ref}`exercise list <ex>`.\n",
    "````\n",
    "\n",
    "### String Methods\n",
    "\n",
    "We can use many *methods* to manipulate strings.\n",
    "\n",
    "We will not be able to cover all of them here, but let's take a look at\n",
    "some of the most useful ones."
   ]
  },
  {
   "cell_type": "code",
   "execution_count": 31,
   "id": "2e92eb10",
   "metadata": {},
   "outputs": [
    {
     "data": {
      "text/plain": [
       "'Hello'"
      ]
     },
     "execution_count": 31,
     "metadata": {},
     "output_type": "execute_result"
    }
   ],
   "source": [
    "x"
   ]
  },
  {
   "cell_type": "code",
   "execution_count": 32,
   "id": "ed4f2628",
   "metadata": {},
   "outputs": [
    {
     "data": {
      "text/plain": [
       "'hello'"
      ]
     },
     "execution_count": 32,
     "metadata": {},
     "output_type": "execute_result"
    }
   ],
   "source": [
    "x.lower()  # Makes all letters lower case"
   ]
  },
  {
   "cell_type": "code",
   "execution_count": 33,
   "id": "29e2712f",
   "metadata": {},
   "outputs": [
    {
     "data": {
      "text/plain": [
       "'HELLO'"
      ]
     },
     "execution_count": 33,
     "metadata": {},
     "output_type": "execute_result"
    }
   ],
   "source": [
    "x.upper()  # Makes all letters upper case"
   ]
  },
  {
   "cell_type": "code",
   "execution_count": 34,
   "id": "115ababf",
   "metadata": {},
   "outputs": [
    {
     "data": {
      "text/plain": [
       "2"
      ]
     },
     "execution_count": 34,
     "metadata": {},
     "output_type": "execute_result"
    }
   ],
   "source": [
    "x.count(\"l\")  # Counts number of a particular string"
   ]
  },
  {
   "cell_type": "code",
   "execution_count": 35,
   "id": "fa62538d",
   "metadata": {},
   "outputs": [
    {
     "data": {
      "text/plain": [
       "1"
      ]
     },
     "execution_count": 35,
     "metadata": {},
     "output_type": "execute_result"
    }
   ],
   "source": [
    "x.count(\"ll\")"
   ]
  },
  {
   "cell_type": "markdown",
   "id": "7ecce59b",
   "metadata": {},
   "source": [
    "````{admonition} Exercise\n",
    ":name: dir10\n",
    "\n",
    "See exercise 10 in the {ref}`exercise list <ex>`.\n",
    "````\n",
    "\n",
    "````{admonition} Exercise\n",
    ":name: dir11\n",
    "\n",
    "See exercise 11 in the {ref}`exercise list <ex>`.\n",
    "````\n",
    "\n",
    "### String Formatting\n",
    "\n",
    "Sometimes we'd like to reuse some portion of a string repeatedly, but\n",
    "still make some relatively small changes at each usage.\n",
    "\n",
    "We can do this with *string formatting*, which done by using `{}` as a\n",
    "*placeholder* where we'd like to change the string, with a variable name\n",
    "or expression.\n",
    "\n",
    "Let's look at an example."
   ]
  },
  {
   "cell_type": "code",
   "execution_count": 36,
   "id": "ef627342",
   "metadata": {},
   "outputs": [
    {
     "name": "stdout",
     "output_type": "stream",
     "text": [
      "Vietnam had $223.9 billion GDP in 2017\n"
     ]
    }
   ],
   "source": [
    "country = \"Vietnam\"\n",
    "GDP = 223.9\n",
    "year = 2017\n",
    "my_string = f\"{country} had ${GDP} billion GDP in {year}\"\n",
    "print(my_string)"
   ]
  },
  {
   "cell_type": "markdown",
   "id": "469f98ed",
   "metadata": {},
   "source": [
    "Rather than just substituting a variable name, you can use a calculation\n",
    "or expression."
   ]
  },
  {
   "cell_type": "code",
   "execution_count": 37,
   "id": "3fa3903f",
   "metadata": {},
   "outputs": [
    {
     "name": "stdout",
     "output_type": "stream",
     "text": [
      "5**2 = 25\n"
     ]
    }
   ],
   "source": [
    "print(f\"{5}**2 = {5**2}\")"
   ]
  },
  {
   "cell_type": "markdown",
   "id": "1f691002",
   "metadata": {},
   "source": [
    "Or, using our previous example"
   ]
  },
  {
   "cell_type": "code",
   "execution_count": 38,
   "id": "35e4588e",
   "metadata": {},
   "outputs": [
    {
     "name": "stdout",
     "output_type": "stream",
     "text": [
      "Vietnam had $223900000.0 GDP in 2017\n"
     ]
    }
   ],
   "source": [
    "my_string = f\"{country} had ${GDP * 1_000_000} GDP in {year}\"\n",
    "print(my_string)"
   ]
  },
  {
   "cell_type": "markdown",
   "id": "53be068c",
   "metadata": {},
   "source": [
    "In these cases, the `f` in front of the string causes Python interpolate\n",
    "any valid expression within the `{}` braces.\n",
    "\n",
    "````{admonition} Exercise\n",
    ":name: dir12\n",
    "\n",
    "See exercise 12 in the {ref}`exercise list <ex>`.\n",
    "````\n",
    "\n",
    "Alternatively, to reuse a formatted string, you can call the `format` method (noting that you do **not** put `f` in front)."
   ]
  },
  {
   "cell_type": "code",
   "execution_count": 39,
   "id": "9e24f6e8",
   "metadata": {},
   "outputs": [
    {
     "data": {
      "text/plain": [
       "'Vietnam had $223.9 billion in 2017'"
      ]
     },
     "execution_count": 39,
     "metadata": {},
     "output_type": "execute_result"
    }
   ],
   "source": [
    "gdp_string = \"{country} had ${GDP} billion in {year}\"\n",
    "\n",
    "gdp_string.format(country = \"Vietnam\", GDP = 223.9, year = 2017)"
   ]
  },
  {
   "cell_type": "markdown",
   "id": "4b0afa4a",
   "metadata": {},
   "source": [
    "````{admonition} Exercise\n",
    ":name: dir13\n",
    "\n",
    "See exercise 13 in the {ref}`exercise list <ex>`.\n",
    "````\n",
    "````{admonition} Exercise\n",
    ":name: dir14\n",
    "\n",
    "See exercise 14 in the {ref}`exercise list <ex>`.\n",
    "````\n",
    "\n",
    "For more information on what you can do with string formatting (there is *a lot*\n",
    "that can be done...), see the [official Python documentation](https://docs.python.org/3.6/library/string.html) on the subject.\n",
    "\n",
    "## Booleans\n",
    "\n",
    "A boolean is a type that denotes true or false.\n",
    "\n",
    "As you will soon see in the {doc}`control flow chapter <control_flow>`, using\n",
    "boolean values allows you to perform or skip operations depending on whether or\n",
    "not a condition is met.\n",
    "\n",
    "Let's start by creating some booleans and looking at them."
   ]
  },
  {
   "cell_type": "code",
   "execution_count": 40,
   "id": "c9cfb190",
   "metadata": {},
   "outputs": [
    {
     "data": {
      "text/plain": [
       "bool"
      ]
     },
     "execution_count": 40,
     "metadata": {},
     "output_type": "execute_result"
    }
   ],
   "source": [
    "x = True\n",
    "y = False\n",
    "\n",
    "type(x)"
   ]
  },
  {
   "cell_type": "code",
   "execution_count": 41,
   "id": "ee3abd9c",
   "metadata": {},
   "outputs": [
    {
     "data": {
      "text/plain": [
       "True"
      ]
     },
     "execution_count": 41,
     "metadata": {},
     "output_type": "execute_result"
    }
   ],
   "source": [
    "x"
   ]
  },
  {
   "cell_type": "code",
   "execution_count": 42,
   "id": "ad8bf109",
   "metadata": {},
   "outputs": [
    {
     "data": {
      "text/plain": [
       "False"
      ]
     },
     "execution_count": 42,
     "metadata": {},
     "output_type": "execute_result"
    }
   ],
   "source": [
    "y"
   ]
  },
  {
   "cell_type": "markdown",
   "id": "d039a38c",
   "metadata": {},
   "source": [
    "### Comparison Operators\n",
    "\n",
    "Rather than directly write `True` or `False`, you will usually\n",
    "create booleans by making a comparison.\n",
    "\n",
    "For example, you might want to evaluate whether the price of a particular asset\n",
    "is greater than or less than some price.\n",
    "\n",
    "For two variables `x` and `y`, we can do the following comparisons:\n",
    "\n",
    "- Greater than: `x > y`\n",
    "- Less than: `x < y`\n",
    "- Equal to: `==`\n",
    "- Greater than or equal to: `x >= y`\n",
    "- Less than or equal to: `x <= y`\n",
    "\n",
    "We demonstrate these below."
   ]
  },
  {
   "cell_type": "code",
   "execution_count": 43,
   "id": "c9d1eec1",
   "metadata": {},
   "outputs": [
    {
     "name": "stdout",
     "output_type": "stream",
     "text": [
      "a > b is True\n",
      "a < b is False\n",
      "a == b is False\n",
      "a >= b is True\n",
      "a <= b is False\n"
     ]
    }
   ],
   "source": [
    "a = 4\n",
    "b = 2\n",
    "\n",
    "print(\"a > b\", \"is\", a > b)\n",
    "print(\"a < b\", \"is\", a < b)\n",
    "print(\"a == b\", \"is\", a == b)\n",
    "print(\"a >= b\", \"is\", a >= b)\n",
    "print(\"a <= b\", \"is\", a <= b)"
   ]
  },
  {
   "cell_type": "markdown",
   "id": "a89a2beb",
   "metadata": {},
   "source": [
    "### Negation\n",
    "\n",
    "Occasionally, determining whether a statement is\n",
    "\"not true\" or \"not false\" is more convenient than simply \"true\" or \"false\".\n",
    "\n",
    "This is known as *negating* a statement.\n",
    "\n",
    "In Python, we can negate a boolean using the word `not`."
   ]
  },
  {
   "cell_type": "code",
   "execution_count": 44,
   "id": "73ef23e0",
   "metadata": {},
   "outputs": [
    {
     "data": {
      "text/plain": [
       "True"
      ]
     },
     "execution_count": 44,
     "metadata": {},
     "output_type": "execute_result"
    }
   ],
   "source": [
    "not False"
   ]
  },
  {
   "cell_type": "code",
   "execution_count": 45,
   "id": "7c17dfb0",
   "metadata": {},
   "outputs": [
    {
     "data": {
      "text/plain": [
       "False"
      ]
     },
     "execution_count": 45,
     "metadata": {},
     "output_type": "execute_result"
    }
   ],
   "source": [
    "not True"
   ]
  },
  {
   "cell_type": "markdown",
   "id": "f83086da",
   "metadata": {},
   "source": [
    "### Multiple Comparisons (and/or)\n",
    "\n",
    "Sometimes we need to evaluate multiple comparisons at once.\n",
    "\n",
    "This is done by using the words `and` and `or`.\n",
    "\n",
    "However, these are the \"mathematical\" *and*s and *or*s -- so they\n",
    "don't carry the same meaning as you'd use them in colloquial English.\n",
    "\n",
    "- `a and b` is true only when **both** `a` and `b` are true.\n",
    "- `a or b` is true whenever at least one of `a` or `b` is true.\n",
    "\n",
    "For example\n",
    "\n",
    "- The statement \"I will accept the new job if the salary is higher\n",
    "  *and* I receive more vacation days\" means that you would only accept\n",
    "  the new job if you both receive a higher salary and are given more\n",
    "  vacation days.\n",
    "- The statement \"I will accept the new job if the salary is higher *or*\n",
    "  I receive more vacation days\" means that you would accept the job if\n",
    "  (1) they raised your salary, (2) you are given more vacation days, or\n",
    "  (3) they raise your salary and give you more vacation days.\n",
    "\n",
    "Let's see some examples."
   ]
  },
  {
   "cell_type": "code",
   "execution_count": 46,
   "id": "ce7b2417",
   "metadata": {},
   "outputs": [
    {
     "data": {
      "text/plain": [
       "False"
      ]
     },
     "execution_count": 46,
     "metadata": {},
     "output_type": "execute_result"
    }
   ],
   "source": [
    "True and False"
   ]
  },
  {
   "cell_type": "code",
   "execution_count": 47,
   "id": "eb0071aa",
   "metadata": {},
   "outputs": [
    {
     "data": {
      "text/plain": [
       "True"
      ]
     },
     "execution_count": 47,
     "metadata": {},
     "output_type": "execute_result"
    }
   ],
   "source": [
    "True and True"
   ]
  },
  {
   "cell_type": "code",
   "execution_count": 48,
   "id": "23c84cfb",
   "metadata": {},
   "outputs": [
    {
     "data": {
      "text/plain": [
       "True"
      ]
     },
     "execution_count": 48,
     "metadata": {},
     "output_type": "execute_result"
    }
   ],
   "source": [
    "True or False"
   ]
  },
  {
   "cell_type": "code",
   "execution_count": 49,
   "id": "63cd5885",
   "metadata": {},
   "outputs": [
    {
     "data": {
      "text/plain": [
       "False"
      ]
     },
     "execution_count": 49,
     "metadata": {},
     "output_type": "execute_result"
    }
   ],
   "source": [
    "False or False"
   ]
  },
  {
   "cell_type": "code",
   "execution_count": 50,
   "id": "d92924f6",
   "metadata": {},
   "outputs": [
    {
     "data": {
      "text/plain": [
       "True"
      ]
     },
     "execution_count": 50,
     "metadata": {},
     "output_type": "execute_result"
    }
   ],
   "source": [
    "# Can chain multiple comparisons together.\n",
    "True and (False or True)"
   ]
  },
  {
   "cell_type": "markdown",
   "id": "8f93d184",
   "metadata": {},
   "source": [
    "````{admonition} Exercise\n",
    ":name: dir15\n",
    "\n",
    "See exercise 15 in the {ref}`exercise list <ex>`.\n",
    "````\n",
    "\n",
    "### `all` and `any`\n",
    "\n",
    "We have seen how we can use the words `and` and `or` to process two booleans\n",
    "at a time.\n",
    "\n",
    "The functions `all` and `any` allow us to process an unlimited number of\n",
    "booleans at once.\n",
    "\n",
    "`all(bools)` will return `True` if and only if all the booleans in `bools`\n",
    "is `True` and returns `False` otherwise.\n",
    "\n",
    "`any(bools)` returns `True` whenever one or more of `bools` is `True`.\n",
    "\n",
    "The exercise below will give you a chance to practice.\n",
    "\n",
    "````{admonition} Exercise\n",
    ":name: dir16\n",
    "\n",
    "See exercise 16 in the {ref}`exercise list <ex>`.\n",
    "````\n",
    "\n",
    "(ex)=\n",
    "## Exercises\n",
    "\n",
    "### Exercise 1\n",
    "\n",
    "What do you think the value of `z` is after running the code below?"
   ]
  },
  {
   "cell_type": "code",
   "execution_count": 51,
   "id": "5ae2d5c9",
   "metadata": {
    "tags": [
     "remove-output"
    ]
   },
   "outputs": [
    {
     "name": "stdout",
     "output_type": "stream",
     "text": [
      "z is 7\n"
     ]
    }
   ],
   "source": [
    "z = 3\n",
    "z = z + 4\n",
    "print(\"z is\", z)"
   ]
  },
  {
   "cell_type": "markdown",
   "id": "57187db2",
   "metadata": {},
   "source": [
    "({ref}`back to text <dir1>`)\n",
    "\n",
    "\n",
    "### Exercise 2\n",
    "\n",
    "Read about out what the `len` function does (by writing len?).\n",
    "\n",
    "What will it produce if we give it the variable `x`?\n",
    "\n",
    "Check whether you were right by running the code `len(x)`.\n",
    "\n",
    "({ref}`back to text <dir2>`)\n",
    "\n",
    "### Exercise 3\n",
    "\n",
    "We can use our introspection skills to investigate a package's contents.\n",
    "\n",
    "In the cell below, use tab completion to find a function from the `time`\n",
    "module that will display the **local** time.\n",
    "\n",
    "Use `time.FUNC_NAME?` (where `FUNC_NAME` is replaced with the\n",
    "function you found) to see information about that function and\n",
    "then call the function.\n",
    "\n",
    "```{hint} \n",
    "Look for something to do with the word `local`\n",
    "\n",
    "```"
   ]
  },
  {
   "cell_type": "code",
   "execution_count": 52,
   "id": "dc32de89",
   "metadata": {},
   "outputs": [],
   "source": [
    "import time\n",
    "# your code here -- notice the comment!"
   ]
  },
  {
   "cell_type": "markdown",
   "id": "88bc0d0f",
   "metadata": {},
   "source": [
    "({ref}`back to text <dir3>`)\n",
    "\n",
    "### Exercise 4\n",
    "\n",
    "Try running `import time as t` in the cell below, then see if you can\n",
    "call the function you identified above.\n",
    "\n",
    "Does it work?\n",
    "\n",
    "({ref}`back to text <dir4>`)\n",
    "\n",
    "### Exercise 5\n",
    "\n",
    "Create the following variables:\n",
    "\n",
    "- `D`: A floating point number with the value 10,000\n",
    "- `r`: A floating point number with value 0.025\n",
    "- `T`: An integer with value 30\n",
    "\n",
    "We will use them in a later exercise."
   ]
  },
  {
   "cell_type": "code",
   "execution_count": 53,
   "id": "4f9e0710",
   "metadata": {},
   "outputs": [],
   "source": [
    "# your code here!"
   ]
  },
  {
   "cell_type": "markdown",
   "id": "ab0aeca3",
   "metadata": {},
   "source": [
    "({ref}`back to text <dir5>`)\n",
    "\n",
    "### Exercise 6\n",
    "\n",
    "Remember the variables we created earlier?\n",
    "\n",
    "Let's compute the present discounted value of a payment ($D$) made\n",
    "in $T$ years assuming an interest rate of 2.5%. Save this value to\n",
    "a new variable called `PDV` and print your output.\n",
    "\n",
    "```{hint}\n",
    "The formula is\n",
    "\n",
    "$$\n",
    "\\text{PDV} = \\frac{D}{(1 + r)^T}\n",
    "$$\n",
    "\n",
    "```"
   ]
  },
  {
   "cell_type": "code",
   "execution_count": 54,
   "id": "f3ab5636",
   "metadata": {},
   "outputs": [],
   "source": [
    "# your code here"
   ]
  },
  {
   "cell_type": "markdown",
   "id": "9c8b78e4",
   "metadata": {},
   "source": [
    "({ref}`back to text <dir6>`)\n",
    "\n",
    "### Exercise 7\n",
    "\n",
    "Verify the \"trick\" where the percent difference ($\\frac{x - y}{x}$)\n",
    "between two numbers close to 1 can be well approximated by the difference\n",
    "between the log of the two numbers ($\\log(x) - \\log(y)$).\n",
    "\n",
    "Use the numbers `x` and `y` below.\n",
    "\n",
    "```{hint}\n",
    "you will want to use the\n",
    "`math.log` function\n",
    "```"
   ]
  },
  {
   "cell_type": "code",
   "execution_count": 55,
   "id": "58d83505",
   "metadata": {},
   "outputs": [],
   "source": [
    "x = 1.05\n",
    "y = 1.02"
   ]
  },
  {
   "cell_type": "markdown",
   "id": "0e3a3b17",
   "metadata": {},
   "source": [
    "({ref}`back to text <dir7>`)\n",
    "\n",
    "### Exercise 8\n",
    "\n",
    "The code below is invalid Python code"
   ]
  },
  {
   "cell_type": "code",
   "execution_count": 56,
   "id": "a2e0bfd2",
   "metadata": {
    "tags": [
     "remove-output",
     "raises-exception"
    ]
   },
   "outputs": [
    {
     "ename": "SyntaxError",
     "evalue": "unterminated string literal (detected at line 1) (3344412615.py, line 1)",
     "output_type": "error",
     "traceback": [
      "\u001b[0;36m  Cell \u001b[0;32mIn[56], line 1\u001b[0;36m\u001b[0m\n\u001b[0;31m    x = 'What's wrong with this string'\u001b[0m\n\u001b[0m                                      ^\u001b[0m\n\u001b[0;31mSyntaxError\u001b[0m\u001b[0;31m:\u001b[0m unterminated string literal (detected at line 1)\n"
     ]
    }
   ],
   "source": [
    "x = 'What's wrong with this string'"
   ]
  },
  {
   "cell_type": "markdown",
   "id": "526d08f4",
   "metadata": {},
   "source": [
    "Can you fix it?\n",
    "\n",
    "```{hint}\n",
    "Try creating a code cell below and testing things out until you\n",
    "find a solution.\n",
    "```\n",
    "\n",
    "({ref}`back to text <dir8>`)\n",
    "\n",
    "### Exercise 9\n",
    "\n",
    "Using the variables `x` and `y`, how could you create the sentence\n",
    "`Hello World`?\n",
    "\n",
    "```{hint}\n",
    "Think about how to represent a space as a string.\n",
    "```\n",
    "\n",
    "({ref}`back to text <dir9>`)\n",
    "\n",
    "### Exercise 10\n",
    "\n",
    "One of our favorite (and most frequently used) string methods is\n",
    "`replace`.\n",
    "\n",
    "It substitutes all occurrences of a particular pattern with a different pattern.\n",
    "\n",
    "For the variable `test` below, use the `replace` method to change the\n",
    "`c` to a `d`.\n",
    "\n",
    "```{hint}\n",
    "Type `test.replace?` to get some help for how to use the method\n",
    "replace.\n",
    "```"
   ]
  },
  {
   "cell_type": "code",
   "execution_count": 57,
   "id": "eeeda2d0",
   "metadata": {},
   "outputs": [],
   "source": [
    "test = \"abc\""
   ]
  },
  {
   "cell_type": "markdown",
   "id": "7640062e",
   "metadata": {},
   "source": [
    "({ref}`back to text <dir10>`)\n",
    "\n",
    "### Exercise 11\n",
    "\n",
    "Suppose you are working with price data and encounter the value\n",
    "`\"$6.50\"`.\n",
    "\n",
    "We recognize this as being a number representing the quantity \"six dollars and fifty cents.\"\n",
    "\n",
    "However, Python interprets the value as the string\n",
    "`\"$6.50\"`. (Quiz: why is this a problem? Think about the examples above.)\n",
    "\n",
    "In this exercise, your task is to convert the variable `price` below\n",
    "into a number.\n",
    "\n",
    "```{hint}\n",
    "Once the string is in a suitable format, you can call write\n",
    "`float(clean_price)` to make it a number.\n",
    "```"
   ]
  },
  {
   "cell_type": "code",
   "execution_count": 58,
   "id": "a8881b49",
   "metadata": {},
   "outputs": [],
   "source": [
    "price = \"$6.50\""
   ]
  },
  {
   "cell_type": "markdown",
   "id": "57a68f65",
   "metadata": {},
   "source": [
    "({ref}`back to text <dir11>`)\n",
    "\n",
    "### Exercise 12\n",
    "\n",
    "Lookup a country in [World Bank database](https://data.worldbank.org), and\n",
    "format a string showing the growth rate of GDP over the last 2 years.\n",
    "\n",
    "({ref}`back to text <dir12>`)\n",
    "\n",
    "### Exercise 13\n",
    "\n",
    "Instead of hard-coding the values above, try to use the `country`, `GDP` and\n",
    "`year` variables you previously defined.\n",
    "\n",
    "({ref}`back to text <dir13>`)\n",
    "\n",
    "### Exercise 14\n",
    "\n",
    "Create a new string and use formatting to produce each of the following\n",
    "statements\n",
    "\n",
    "- \"The 1st quarter revenue was 110M\"\n",
    "- \"The 2nd quarter revenue was 95M\"\n",
    "- \"The 3rd quarter revenue was 100M\"\n",
    "- \"The 4th quarter revenue was 130M\"\n",
    "\n",
    "({ref}`back to text <dir14>`)\n",
    "\n",
    "### Exercise 15\n",
    "\n",
    "Without typing the commands, determine whether the following statements are\n",
    "true or false.\n",
    "\n",
    "Once you have evaluated whether the command is `True` or `False`, run the\n",
    "code in Python."
   ]
  },
  {
   "cell_type": "code",
   "execution_count": 59,
   "id": "44262362",
   "metadata": {
    "tags": [
     "remove-output"
    ]
   },
   "outputs": [
    {
     "data": {
      "text/plain": [
       "True"
      ]
     },
     "execution_count": 59,
     "metadata": {},
     "output_type": "execute_result"
    }
   ],
   "source": [
    "x = 2\n",
    "y = 2\n",
    "z = 4\n",
    "\n",
    "# Statement 1\n",
    "x > z\n",
    "\n",
    "# Statement 1\n",
    "x == y\n",
    "\n",
    "# Statement 3\n",
    "(x < y) and (x > y)\n",
    "\n",
    "# Statement 4\n",
    "(x < y) or (x > y)\n",
    "\n",
    "# Statement 5\n",
    "(x <= y) and (x >= y)\n",
    "\n",
    "# Statement 6\n",
    "True and ((x < z) or (x < y))"
   ]
  },
  {
   "cell_type": "code",
   "execution_count": 60,
   "id": "6583ec89",
   "metadata": {},
   "outputs": [],
   "source": [
    "# code here!"
   ]
  },
  {
   "cell_type": "markdown",
   "id": "d265c19d",
   "metadata": {},
   "source": [
    "({ref}`back to text <dir15>`)\n",
    "\n",
    "### Exercise 16\n",
    "\n",
    "For each of the code cells below, think carefully about what you expect to\n",
    "be returned *before* evaluating the cell.\n",
    "\n",
    "Then evaluate the cell to check your intuitions.\n",
    "\n",
    "NOTE: For now, do not worry about what the `[` and `]` mean -- they\n",
    "allow us to create lists which we will learn about in an upcoming lecture."
   ]
  },
  {
   "cell_type": "code",
   "execution_count": 61,
   "id": "04fb046e",
   "metadata": {
    "tags": [
     "remove-output"
    ]
   },
   "outputs": [
    {
     "data": {
      "text/plain": [
       "True"
      ]
     },
     "execution_count": 61,
     "metadata": {},
     "output_type": "execute_result"
    }
   ],
   "source": [
    "all([True, True, True])"
   ]
  },
  {
   "cell_type": "code",
   "execution_count": 62,
   "id": "a30dfcc7",
   "metadata": {
    "tags": [
     "remove-output"
    ]
   },
   "outputs": [
    {
     "data": {
      "text/plain": [
       "False"
      ]
     },
     "execution_count": 62,
     "metadata": {},
     "output_type": "execute_result"
    }
   ],
   "source": [
    "all([False, True, False])"
   ]
  },
  {
   "cell_type": "code",
   "execution_count": 63,
   "id": "bcd1971c",
   "metadata": {
    "tags": [
     "remove-output"
    ]
   },
   "outputs": [
    {
     "data": {
      "text/plain": [
       "False"
      ]
     },
     "execution_count": 63,
     "metadata": {},
     "output_type": "execute_result"
    }
   ],
   "source": [
    "all([False, False, False])"
   ]
  },
  {
   "cell_type": "code",
   "execution_count": 64,
   "id": "4c82981b",
   "metadata": {
    "tags": [
     "remove-output"
    ]
   },
   "outputs": [
    {
     "data": {
      "text/plain": [
       "True"
      ]
     },
     "execution_count": 64,
     "metadata": {},
     "output_type": "execute_result"
    }
   ],
   "source": [
    "any([True, True, True])"
   ]
  },
  {
   "cell_type": "code",
   "execution_count": 65,
   "id": "4f2c45c2",
   "metadata": {
    "tags": [
     "remove-output"
    ]
   },
   "outputs": [
    {
     "data": {
      "text/plain": [
       "True"
      ]
     },
     "execution_count": 65,
     "metadata": {},
     "output_type": "execute_result"
    }
   ],
   "source": [
    "any([False, True, False])"
   ]
  },
  {
   "cell_type": "code",
   "execution_count": 66,
   "id": "580919eb",
   "metadata": {
    "tags": [
     "remove-output"
    ]
   },
   "outputs": [
    {
     "data": {
      "text/plain": [
       "False"
      ]
     },
     "execution_count": 66,
     "metadata": {},
     "output_type": "execute_result"
    }
   ],
   "source": [
    "any([False, False, False])"
   ]
  },
  {
   "cell_type": "markdown",
   "id": "514cae0f",
   "metadata": {},
   "source": [
    "({ref}`back to text <dir16>`)"
   ]
  }
 ],
 "metadata": {
  "jupytext": {
   "text_representation": {
    "extension": ".md",
    "format_name": "myst"
   }
  },
  "kernelspec": {
   "display_name": "Python 3",
   "language": "python",
   "name": "python3"
  },
  "language_info": {
   "codemirror_mode": {
    "name": "ipython",
    "version": 3
   },
   "file_extension": ".py",
   "mimetype": "text/x-python",
   "name": "python",
   "nbconvert_exporter": "python",
   "pygments_lexer": "ipython3",
   "version": "3.12.8"
  },
  "source_map": [
   10,
   53,
   55,
   63,
   65,
   70,
   73,
   92,
   97,
   110,
   116,
   128,
   130,
   149,
   151,
   166,
   168,
   201,
   204,
   212,
   214,
   234,
   238,
   242,
   244,
   280,
   283,
   366,
   372,
   384,
   394,
   410,
   419,
   428,
   433,
   450,
   455,
   464,
   466,
   470,
   475,
   478,
   511,
   515,
   517,
   540,
   542,
   559,
   564,
   568,
   570,
   576,
   585,
   590,
   605,
   609,
   613,
   617,
   621,
   623,
   648,
   654,
   659,
   661,
   665,
   668,
   681,
   685,
   711,
   718,
   722,
   724,
   744,
   753,
   764,
   768,
   770,
   797,
   801,
   805,
   809,
   813,
   816,
   852,
   857,
   888,
   891,
   913,
   915,
   936,
   938,
   955,
   958,
   966,
   969,
   1006,
   1008,
   1030,
   1032,
   1070,
   1095,
   1097,
   1111,
   1116,
   1121,
   1126,
   1131,
   1136,
   1139
  ]
 },
 "nbformat": 4,
 "nbformat_minor": 5
}