{
 "cells": [
  {
   "cell_type": "markdown",
   "id": "548256a4",
   "metadata": {},
   "source": [
    "# Python Fundamentals\n",
    "\n",
    "In this section, we begin with the basics.\n",
    "\n",
    "We will talk about what a programming language is and how computers use\n",
    "them to perform operations.\n",
    "\n",
    "We discuss why we chose the Python language for this course.\n",
    "\n",
    "We learn about core concepts like variables, data-types, and\n",
    "functions.\n",
    "\n",
    "We will become familiar with the core data-types built into Python,\n",
    "some standard functions we will frequently use, and learn how to define our own functions.\n",
    "\n",
    "By the end, you should have a solid grasp on core Python\n",
    "concepts, be prepared to study the next sections on numerical programming,\n",
    "and feel comfortable handling data.\n",
    "\n",
    "## <i class=\"fab fa-python\" style=\"color:#ffd053\"></i>  [Basics](../python_fundamentals/basics.md)\n",
    "\n",
    "## <i class=\"fab fa-python\" style=\"color:#ffd053\"></i>  [Collections](../python_fundamentals/collections.md)\n",
    "\n",
    "## <i class=\"fab fa-python\" style=\"color:#ffd053\"></i>  [Control Flow](../python_fundamentals/control_flow.md)\n",
    "\n",
    "## <i class=\"fab fa-python\" style=\"color:#ffd053\"></i>  [Functions](../python_fundamentals/functions.md)"
   ]
  }
 ],
 "metadata": {
  "jupytext": {
   "text_representation": {
    "extension": ".md",
    "format_name": "myst"
   }
  },
  "kernelspec": {
   "display_name": "Python 3",
   "language": "python",
   "name": "python3"
  },
  "language_info": {
   "codemirror_mode": {
    "name": "ipython",
    "version": 3
   },
   "file_extension": ".py",
   "mimetype": "text/x-python",
   "name": "python",
   "nbconvert_exporter": "python",
   "pygments_lexer": "ipython3",
   "version": "3.9.19"
  },
  "source_map": [
   10
  ]
 },
 "nbformat": 4,
 "nbformat_minor": 5
}