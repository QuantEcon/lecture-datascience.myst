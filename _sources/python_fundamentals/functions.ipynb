{
 "cells": [
  {
   "cell_type": "markdown",
   "id": "ccefa07f",
   "metadata": {},
   "source": [
    "# Functions\n",
    "\n",
    "**Prerequisites**\n",
    "\n",
    "- {doc}`Getting Started <../introduction/getting_started>`\n",
    "- {doc}`Basics <basics>`\n",
    "- {doc}`Collections <collections>`\n",
    "- {doc}`Control Flow <control_flow>`\n",
    "\n",
    "**Outcomes**\n",
    "\n",
    "- Economic Production Functions\n",
    "    - Understand the basics of production functions in economics\n",
    "- Functions\n",
    "    - Know how to define your own function\n",
    "    - Know how to find and write your own function documentation\n",
    "    - Know why we use functions\n",
    "    - Understand scoping rules and blocks\n",
    "\n",
    "\n",
    "(production_functions)=\n",
    "## Application: Production Functions\n",
    "\n",
    "Production functions are useful when modeling the economics of firms producing\n",
    "goods or the aggregate output in an economy.\n",
    "\n",
    "Though the term \"function\" is used in a mathematical sense here, we will be making\n",
    "tight connections between the programming of mathematical functions and Python\n",
    "functions.\n",
    "\n",
    "### Factors of Production\n",
    "\n",
    "The [factors of production](https://en.wikipedia.org/wiki/Factors_of_production)\n",
    "are the inputs used in the production of some sort of output.\n",
    "\n",
    "Some example factors of production include\n",
    "\n",
    "- [Physical capital](https://en.wikipedia.org/wiki/Physical_capital), e.g.\n",
    "  machines, buildings, computers, and power stations.\n",
    "- Labor, e.g. all of the hours of work from different types of employees of a\n",
    "  firm.\n",
    "- [Human Capital](https://en.wikipedia.org/wiki/Human_capital), e.g. the\n",
    "  knowledge of employees within a firm.\n",
    "\n",
    "A [production function](https://en.wikipedia.org/wiki/Production_function)\n",
    "maps a set of inputs to the output, e.g. the amount of wheat produced by a\n",
    "farm, or widgets produced in a factory.\n",
    "\n",
    "As an example of the notation, we denote the total units of labor and\n",
    "physical capital used in a factory as $L$ and $K$ respectively.\n",
    "\n",
    "If we denote the physical output of the factory as $Y$, then a production\n",
    "function $F$ that transforms labor and capital into output might have the\n",
    "form:\n",
    "\n",
    "$$\n",
    "Y = F(K, L)\n",
    "$$\n",
    "\n",
    "(cobb_douglas_example)=\n",
    "### An Example Production Function\n",
    "\n",
    "Throughout this lecture, we will use the\n",
    "[Cobb-Douglas](https://en.wikipedia.org/wiki/Cobb%E2%80%93Douglas_production_function)\n",
    "production function to help us understand how to create Python\n",
    "functions and why they are useful.\n",
    "\n",
    "The Cobb-Douglas production function has appealing statistical properties when brought to data.\n",
    "\n",
    "This function is displayed below.\n",
    "\n",
    "$$\n",
    "Y = z K^{\\alpha} L^{1-\\alpha}\n",
    "$$\n",
    "\n",
    "The function is parameterized by:\n",
    "\n",
    "- A parameter $\\alpha \\in [0,1]$, called the \"output elasticity of\n",
    "  capital\".\n",
    "- A value $z$ called the [Total Factor Productivity](https://en.wikipedia.org/wiki/Total_factor_productivity) (TFP).\n",
    "\n",
    "## What are (Python) Functions?\n",
    "\n",
    "In this class, we will often talk about `function`s.\n",
    "\n",
    "So what is a function?\n",
    "\n",
    "We like to think of a function as a production line in a\n",
    "manufacturing plant: we pass zero or more things to it, operations take place in a\n",
    "set linear sequence, and zero or more things come out.\n",
    "\n",
    "We use functions for the following purposes:\n",
    "\n",
    "- **Re-usability**: Writing code to do a specific task just once, and\n",
    "  reuse the code by calling the function.\n",
    "- **Organization**: Keep the code for distinct operations separated and\n",
    "  organized.\n",
    "- **Sharing/collaboration**: Sharing code across multiple projects or\n",
    "  sharing pieces of code with collaborators.\n",
    "\n",
    "## How to Define (Python) Functions?\n",
    "\n",
    "The basic syntax to create our own function is as follows:\n",
    "\n",
    "```{code-block} python\n",
    "def function_name(inputs):\n",
    "    # step 1\n",
    "    # step 2\n",
    "    # ...\n",
    "    return outputs\n",
    "```\n",
    "\n",
    "Here we see two new *keywords*: `def` and `return`.\n",
    "\n",
    "- `def` is used to tell Python we would like to define a new function.\n",
    "- `return` is used to tell Python what we would like to **return** from a\n",
    "  function.\n",
    "\n",
    "Let's look at an example and then discuss each part:"
   ]
  },
  {
   "cell_type": "code",
   "execution_count": 1,
   "id": "be0d16bc",
   "metadata": {},
   "outputs": [],
   "source": [
    "def mean(numbers):\n",
    "    total = sum(numbers)\n",
    "    N = len(numbers)\n",
    "    answer = total / N\n",
    "\n",
    "    return answer"
   ]
  },
  {
   "cell_type": "markdown",
   "id": "2a3b029f",
   "metadata": {},
   "source": [
    "Here we defined a function `mean` that has one input (`numbers`),\n",
    "does three steps, and has one output (`answer`).\n",
    "\n",
    "Let's see what happens when we call this function on the list of numbers\n",
    "`[1, 2, 3, 4]`."
   ]
  },
  {
   "cell_type": "code",
   "execution_count": 2,
   "id": "0fc19d51",
   "metadata": {},
   "outputs": [
    {
     "data": {
      "text/plain": [
       "2.5"
      ]
     },
     "execution_count": 2,
     "metadata": {},
     "output_type": "execute_result"
    }
   ],
   "source": [
    "x = [1, 2, 3, 4]\n",
    "the_mean = mean(x)\n",
    "the_mean"
   ]
  },
  {
   "cell_type": "markdown",
   "id": "7fd2a637",
   "metadata": {},
   "source": [
    "Additionally, as we saw in the {doc}`control flow <control_flow>` lecture, indentation\n",
    "controls blocks of code (along with the {ref}`scope <scope>` rules).\n",
    "\n",
    "To see this, compare a function with no inputs or return values."
   ]
  },
  {
   "cell_type": "code",
   "execution_count": 3,
   "id": "0743d467",
   "metadata": {},
   "outputs": [
    {
     "name": "stdout",
     "output_type": "stream",
     "text": [
      "1\n",
      "2\n"
     ]
    }
   ],
   "source": [
    "def f():\n",
    "    print(\"1\")\n",
    "    print(\"2\")\n",
    "f()"
   ]
  },
  {
   "cell_type": "markdown",
   "id": "a6bede6f",
   "metadata": {},
   "source": [
    "With the following change of indentation..."
   ]
  },
  {
   "cell_type": "code",
   "execution_count": 4,
   "id": "082e26c3",
   "metadata": {},
   "outputs": [
    {
     "name": "stdout",
     "output_type": "stream",
     "text": [
      "2\n",
      "1\n"
     ]
    }
   ],
   "source": [
    "def f():\n",
    "    print(\"1\")\n",
    "print(\"2\")\n",
    "f()"
   ]
  },
  {
   "cell_type": "markdown",
   "id": "cb664a45",
   "metadata": {},
   "source": [
    "(scope)=\n",
    "### Scope\n",
    "\n",
    "Notice that we named the input to the function `x` and we called the output\n",
    "`the_mean`.\n",
    "\n",
    "When we defined the function, the input was called `numbers` and the output\n",
    "`answer`... what gives?\n",
    "\n",
    "This is an example of a programming concept called\n",
    "[variable scope](http://python-textbok.readthedocs.io/en/1.0/Variables_and_Scope.html).\n",
    "\n",
    "In Python, functions define their own scope for variables.\n",
    "\n",
    "In English, this means that regardless of what name we give an input variable (`x` in this example),\n",
    "the input will always be referred to as `numbers` *inside* the body of the `mean`\n",
    "function.\n",
    "\n",
    "It also means that although we called the output `answer` inside of the\n",
    "function `mean`, that this variable name was only valid inside of our\n",
    "function.\n",
    "\n",
    "To use the output of the function, we had to give it our own name (`the_mean`\n",
    "in this example).\n",
    "\n",
    "Another point to make here is that the intermediate variables we defined inside\n",
    "`mean` (`total` and `N`) are only defined inside of the `mean` function\n",
    "-- we can't access them from outside. We can verify this by trying to see what\n",
    "the value of `total` is:"
   ]
  },
  {
   "cell_type": "code",
   "execution_count": 5,
   "id": "5c4aa671",
   "metadata": {},
   "outputs": [],
   "source": [
    "def mean(numbers):\n",
    "    total = sum(numbers)\n",
    "    N = len(numbers)\n",
    "    answer = total / N\n",
    "    return answer # or directly return total / N\n",
    "\n",
    "# uncomment the line below and execute to see the error\n",
    "# total"
   ]
  },
  {
   "cell_type": "markdown",
   "id": "e214d3d8",
   "metadata": {},
   "source": [
    "This point can be taken even further:  the same name can be bound\n",
    "to variables inside of blocks of code and in the outer \"scope\"."
   ]
  },
  {
   "cell_type": "code",
   "execution_count": 6,
   "id": "f8fef290",
   "metadata": {},
   "outputs": [
    {
     "name": "stdout",
     "output_type": "stream",
     "text": [
      "x = 4\n",
      "x = 5\n",
      "x = 4\n"
     ]
    }
   ],
   "source": [
    "x = 4\n",
    "print(f\"x = {x}\")\n",
    "def f():\n",
    "    x = 5 # a different \"x\"\n",
    "    print(f\"x = {x}\")\n",
    "f() # calls function\n",
    "print(f\"x = {x}\")"
   ]
  },
  {
   "cell_type": "markdown",
   "id": "a5496cf6",
   "metadata": {},
   "source": [
    "The final point we want to make about scope is that function inputs and output\n",
    "don't have to be given a name outside the function."
   ]
  },
  {
   "cell_type": "code",
   "execution_count": 7,
   "id": "97c1b751",
   "metadata": {},
   "outputs": [
    {
     "data": {
      "text/plain": [
       "20.0"
      ]
     },
     "execution_count": 7,
     "metadata": {},
     "output_type": "execute_result"
    }
   ],
   "source": [
    "mean([10, 20, 30])"
   ]
  },
  {
   "cell_type": "markdown",
   "id": "016df26a",
   "metadata": {},
   "source": [
    "Notice that we didn't name the input or the output, but the function was\n",
    "called successfully.\n",
    "\n",
    "Now, we'll use our new knowledge to define a function which computes the output\n",
    "from a Cobb-Douglas production function with parameters $z = 1$ and\n",
    "$\\alpha = 0.33$ and takes inputs $K$ and $L$."
   ]
  },
  {
   "cell_type": "code",
   "execution_count": 8,
   "id": "03e723b0",
   "metadata": {},
   "outputs": [],
   "source": [
    "def cobb_douglas(K, L):\n",
    "\n",
    "    # Create alpha and z\n",
    "    z = 1\n",
    "    alpha = 0.33\n",
    "\n",
    "    return z * K**alpha * L**(1 - alpha)"
   ]
  },
  {
   "cell_type": "markdown",
   "id": "15d47009",
   "metadata": {},
   "source": [
    "We can use this function as we did the mean function."
   ]
  },
  {
   "cell_type": "code",
   "execution_count": 9,
   "id": "3a0ebcac",
   "metadata": {},
   "outputs": [
    {
     "data": {
      "text/plain": [
       "0.6285066872609142"
      ]
     },
     "execution_count": 9,
     "metadata": {},
     "output_type": "execute_result"
    }
   ],
   "source": [
    "cobb_douglas(1.0, 0.5)"
   ]
  },
  {
   "cell_type": "markdown",
   "id": "c106b95b",
   "metadata": {},
   "source": [
    "(returns_to_scale)=\n",
    "### Re-using Functions\n",
    "\n",
    "Economists are often interested in this question: how much does output\n",
    "change if we modify our inputs?\n",
    "\n",
    "For example, take a production function $Y_1 = F(K_1,L_1)$ which produces\n",
    "$Y_1$ units of the goods.\n",
    "\n",
    "If we then multiply the inputs each by $\\gamma$, so that\n",
    "$K_2 = \\gamma K_1$ and $L_2 = \\gamma L_1$, then the output is\n",
    "\n",
    "$$\n",
    "Y_2 = F(K_2, L_2) = F(\\gamma K_1, \\gamma L_1)\n",
    "$$\n",
    "\n",
    "How does $Y_1$ compare to $Y_2$?\n",
    "\n",
    "Answering this question involves something called *returns to scale*.\n",
    "\n",
    "Returns to scale tells us whether our inputs are more or less productive as we\n",
    "have more of them.\n",
    "\n",
    "For example, imagine that you run a restaurant. How would you expect the amount\n",
    "of food you could produce would change if you could build an exact replica of\n",
    "your restaurant and kitchen and hire the same number of cooks and waiters? You\n",
    "would probably expect it to double.\n",
    "\n",
    "If, for any $K, L$, we multiply $K, L$ by a value $\\gamma$\n",
    "then\n",
    "\n",
    "* If $\\frac{Y_2}{Y_1} < \\gamma$ then we say the production function has\n",
    "  decreasing returns to scale.\n",
    "* If $\\frac{Y_2}{Y_1} = \\gamma$ then we say the production function has\n",
    "  constant returns to scale.\n",
    "* If $\\frac{Y_2}{Y_1} > \\gamma$ then we say the production function has\n",
    "  increasing returns to scale.\n",
    "\n",
    "Let's try it and see what our function is!"
   ]
  },
  {
   "cell_type": "code",
   "execution_count": 10,
   "id": "08b9ffc1",
   "metadata": {},
   "outputs": [
    {
     "name": "stdout",
     "output_type": "stream",
     "text": [
      "0.6285066872609142\n",
      "1.2570133745218284\n"
     ]
    }
   ],
   "source": [
    "y1 = cobb_douglas(1.0, 0.5)\n",
    "print(y1)\n",
    "y2 = cobb_douglas(2*1.0, 2*0.5)\n",
    "print(y2)"
   ]
  },
  {
   "cell_type": "markdown",
   "id": "6a25e634",
   "metadata": {},
   "source": [
    "How did $Y_1$ and $Y_2$ relate?"
   ]
  },
  {
   "cell_type": "code",
   "execution_count": 11,
   "id": "9d0dc2ba",
   "metadata": {},
   "outputs": [
    {
     "data": {
      "text/plain": [
       "2.0"
      ]
     },
     "execution_count": 11,
     "metadata": {},
     "output_type": "execute_result"
    }
   ],
   "source": [
    "y2 / y1"
   ]
  },
  {
   "cell_type": "markdown",
   "id": "44c9a0c0",
   "metadata": {},
   "source": [
    "$Y_2$ was exactly double $Y_1$!\n",
    "\n",
    "Let's write a function that will compute the returns to scale for different\n",
    "values of $K$ and $L$.\n",
    "\n",
    "This is an example of how writing functions can allow us to re-use code\n",
    "in ways we might not originally anticipate. (You didn't know we'd be\n",
    "writing a `returns_to_scale` function when we wrote `cobb_douglas`.)"
   ]
  },
  {
   "cell_type": "code",
   "execution_count": 12,
   "id": "a0da9267",
   "metadata": {},
   "outputs": [],
   "source": [
    "def returns_to_scale(K, L, gamma):\n",
    "    y1 = cobb_douglas(K, L)\n",
    "    y2 = cobb_douglas(gamma*K, gamma*L)\n",
    "    y_ratio = y2 / y1\n",
    "    return y_ratio / gamma"
   ]
  },
  {
   "cell_type": "code",
   "execution_count": 13,
   "id": "d5591564",
   "metadata": {},
   "outputs": [
    {
     "data": {
      "text/plain": [
       "1.0"
      ]
     },
     "execution_count": 13,
     "metadata": {},
     "output_type": "execute_result"
    }
   ],
   "source": [
    "returns_to_scale(1.0, 0.5, 2.0)"
   ]
  },
  {
   "cell_type": "markdown",
   "id": "518233a8",
   "metadata": {},
   "source": [
    "````{admonition} Exercise\n",
    ":name: dir2-4-1\n",
    "\n",
    "See exercise 1 in the {ref}`exercise list <ex2-4>`.\n",
    "````\n",
    "\n",
    "It turns out that with a little bit of algebra, we can check that this will\n",
    "always hold for our {ref}`Cobb-Douglas example <cobb_douglas_example>` above.\n",
    "\n",
    "To show this, take an arbitrary $K, L$ and multiply the inputs by an\n",
    "arbitrary $\\gamma$.\n",
    "\n",
    "$$\n",
    "\\begin{aligned}\n",
    "    F(\\gamma K, \\gamma L) &= z (\\gamma K)^{\\alpha} (\\gamma L)^{1-\\alpha}\\\\\n",
    "    &=  z \\gamma^{\\alpha}\\gamma^{1-\\alpha} K^{\\alpha} L^{1-\\alpha}\\\\\n",
    "    &= \\gamma z K^{\\alpha} L^{1-\\alpha} = \\gamma F(K, L)\n",
    "\\end{aligned}\n",
    "$$\n",
    "\n",
    "For an example of a production function that is not CRS, look at a\n",
    "generalization of the Cobb-Douglas production function that has different\n",
    "\"output elasticities\" for the 2 inputs.\n",
    "\n",
    "$$\n",
    "Y = z K^{\\alpha_1} L^{\\alpha_2}\n",
    "$$\n",
    "\n",
    "Note that if $\\alpha_2 = 1 - \\alpha_1$, this is our Cobb-Douglas\n",
    "production function.\n",
    "\n",
    "````{admonition} Exercise\n",
    ":name: dir2-4-2\n",
    "\n",
    "See exercise 2 in the {ref}`exercise list <ex2-4>`.\n",
    "````\n",
    "\n",
    "(marginal_products)=\n",
    "### Multiple Returns\n",
    "\n",
    "Another valuable element to analyze on production functions is how\n",
    "output changes as we change only one of the inputs. We will call this the\n",
    "marginal product.\n",
    "\n",
    "For example, compare the output using $K, L$ units of inputs to that with\n",
    "an $\\epsilon$ units of labor.\n",
    "\n",
    "Then the marginal product of labor (MPL) is defined as\n",
    "\n",
    "$$\n",
    "\\frac{F(K, L + \\varepsilon) - F(K, L)}{\\varepsilon}\n",
    "$$\n",
    "\n",
    "This tells us how much additional output is created relative to the additional\n",
    "input. (Spoiler alert: This should look like the definition for a partial\n",
    "derivative!)\n",
    "\n",
    "If the input can be divided into small units, then we can use calculus to take\n",
    "this limit, using the partial derivative of the production function relative to\n",
    "that input.\n",
    "\n",
    "In this case, we define the marginal product of labor (MPL) and marginal product\n",
    "of capital (MPK) as\n",
    "\n",
    "$$\n",
    "\\begin{aligned}\n",
    "MPL(K, L) &= \\frac{\\partial F(K, L)}{\\partial L}\\\\\n",
    "MPK(K, L) &= \\frac{\\partial F(K, L)}{\\partial K}\n",
    "\\end{aligned}\n",
    "$$\n",
    "\n",
    "In the {ref}`Cobb-Douglas <cobb_douglas_example>` example above, this becomes\n",
    "\n",
    "$$\n",
    "\\begin{aligned}\n",
    "MPK(K, L) &= z  \\alpha \\left(\\frac{K}{L} \\right)^{\\alpha - 1}\\\\\n",
    "MPL(K, L) &= (1-\\alpha) z \\left(\\frac{K}{L} \\right)^{\\alpha}\\\\\n",
    "\\end{aligned}\n",
    "$$\n",
    "\n",
    "Let's test it out with Python! We'll also see that we can actually return\n",
    "multiple things in a Python function.\n",
    "\n",
    "The syntax for a return statement with multiple items is return item1, item2, ....\n",
    "\n",
    "In this case, we'll compute both the MPL and the MPK and then return both."
   ]
  },
  {
   "cell_type": "code",
   "execution_count": 14,
   "id": "6ad0017b",
   "metadata": {},
   "outputs": [],
   "source": [
    "def marginal_products(K, L, epsilon):\n",
    "\n",
    "    mpl = (cobb_douglas(K, L + epsilon) - cobb_douglas(K, L)) / epsilon\n",
    "    mpk = (cobb_douglas(K + epsilon, L) - cobb_douglas(K, L)) / epsilon\n",
    "\n",
    "    return mpl, mpk"
   ]
  },
  {
   "cell_type": "code",
   "execution_count": 15,
   "id": "d568e219",
   "metadata": {},
   "outputs": [
    {
     "name": "stdout",
     "output_type": "stream",
     "text": [
      "(0.8421711708284096, 0.20740025904131265)\n"
     ]
    }
   ],
   "source": [
    "tup = marginal_products(1.0, 0.5,  1e-4)\n",
    "print(tup)"
   ]
  },
  {
   "cell_type": "markdown",
   "id": "72648339",
   "metadata": {},
   "source": [
    "Instead of using the tuple, these can be directly unpacked to variables."
   ]
  },
  {
   "cell_type": "code",
   "execution_count": 16,
   "id": "66a64fce",
   "metadata": {},
   "outputs": [
    {
     "name": "stdout",
     "output_type": "stream",
     "text": [
      "mpl = 0.8421711708284096, mpk = 0.20740025904131265\n"
     ]
    }
   ],
   "source": [
    "mpl, mpk = marginal_products(1.0, 0.5,  1e-4)\n",
    "print(f\"mpl = {mpl}, mpk = {mpk}\")"
   ]
  },
  {
   "cell_type": "markdown",
   "id": "fd1e2ba9",
   "metadata": {},
   "source": [
    "We can use this to calculate the marginal products for different `K`, fixing `L`\n",
    "using a comprehension."
   ]
  },
  {
   "cell_type": "code",
   "execution_count": 17,
   "id": "32fa8211",
   "metadata": {},
   "outputs": [
    {
     "data": {
      "text/plain": [
       "[(0.8421711708284096, 0.20740025904131265),\n",
       " (1.058620425367085, 0.13035463304111872),\n",
       " (1.2101811517950534, 0.09934539767386674)]"
      ]
     },
     "execution_count": 17,
     "metadata": {},
     "output_type": "execute_result"
    }
   ],
   "source": [
    "Ks = [1.0, 2.0, 3.0]\n",
    "[marginal_products(K, 0.5, 1e-4) for K in Ks] # create a tuple for each K"
   ]
  },
  {
   "cell_type": "markdown",
   "id": "b1705e9b",
   "metadata": {},
   "source": [
    "### Documentation\n",
    "\n",
    "In a previous exercise, we asked you to find help for the `cobb_douglas` and\n",
    "`returns_to_scale` functions using `?`.\n",
    "\n",
    "It didn't provide any useful information.\n",
    "\n",
    "To provide this type of help information, we need to\n",
    "add what Python programmers call a \"docstring\" to our functions.\n",
    "\n",
    "This is done by putting a string (not assigned to any variable name) as\n",
    "the first line of the *body* of the function (after the line with\n",
    "`def`).\n",
    "\n",
    "Below is a new version of the template we used to define functions.\n",
    "\n",
    "```{code-block} python\n",
    "def function_name(inputs):\n",
    "    \"\"\"\n",
    "    Docstring\n",
    "    \"\"\"\n",
    "    # step 1\n",
    "    # step 2\n",
    "    # ...\n",
    "    return outputs\n",
    "```\n",
    "\n",
    "Let's re-define our `cobb_douglas` function to include a docstring."
   ]
  },
  {
   "cell_type": "code",
   "execution_count": 18,
   "id": "fb05b95a",
   "metadata": {},
   "outputs": [],
   "source": [
    "def cobb_douglas(K, L):\n",
    "    \"\"\"\n",
    "    Computes the production F(K, L) for a Cobb-Douglas production function\n",
    "\n",
    "    Takes the form F(K, L) = z K^{\\alpha} L^{1 - \\alpha}\n",
    "\n",
    "    We restrict z = 1 and alpha = 0.33\n",
    "    \"\"\"\n",
    "    return 1.0 * K**(0.33) * L**(1.0 - 0.33)"
   ]
  },
  {
   "cell_type": "markdown",
   "id": "5f271fba",
   "metadata": {},
   "source": [
    "Now when we have Jupyter evaluate `cobb_douglas?`, our message is\n",
    "displayed (or use the Contextual Help window with Jupyterlab and `Ctrl-I` or `Cmd-I`)."
   ]
  },
  {
   "cell_type": "code",
   "execution_count": 19,
   "id": "da5ca1e0",
   "metadata": {},
   "outputs": [],
   "source": [
    "cobb_douglas?"
   ]
  },
  {
   "cell_type": "markdown",
   "id": "8af0de0d",
   "metadata": {},
   "source": [
    "We recommend that you always include at least a very simple docstring for\n",
    "nontrivial functions.\n",
    "\n",
    "This is in the same spirit as adding comments to your code — it makes it easier\n",
    "for future readers/users (including yourself) to understand what the code does.\n",
    "\n",
    "````{admonition} Exercise\n",
    ":name: dir2-4-3\n",
    "\n",
    "See exercise 3 in the {ref}`exercise list <ex2-4>`.\n",
    "````\n",
    "\n",
    "### Default and Keyword Arguments\n",
    "\n",
    "Functions can have optional arguments.\n",
    "\n",
    "To accomplish this, we must these arguments a *default value* by saying\n",
    "`name=default_value` instead of just `name` as we list the arguments.\n",
    "\n",
    "To demonstrate this functionality, let's now make $z$ and $\\alpha$\n",
    "arguments to our cobb_douglas function!"
   ]
  },
  {
   "cell_type": "code",
   "execution_count": 20,
   "id": "97a15302",
   "metadata": {},
   "outputs": [],
   "source": [
    "def cobb_douglas(K, L, alpha=0.33, z=1):\n",
    "    \"\"\"\n",
    "    Computes the production F(K, L) for a Cobb-Douglas production function\n",
    "\n",
    "    Takes the form F(K, L) = z K^{\\alpha} L^{1 - \\alpha}\n",
    "    \"\"\"\n",
    "    return z * K**(alpha) * L**(1.0 - alpha)"
   ]
  },
  {
   "cell_type": "markdown",
   "id": "999ca467",
   "metadata": {},
   "source": [
    "We can now call this function by passing in just K and L. Notice that it will\n",
    "produce same result as earlier because `alpha` and `z` are the same as earlier."
   ]
  },
  {
   "cell_type": "code",
   "execution_count": 21,
   "id": "77c40049",
   "metadata": {},
   "outputs": [
    {
     "data": {
      "text/plain": [
       "0.6285066872609142"
      ]
     },
     "execution_count": 21,
     "metadata": {},
     "output_type": "execute_result"
    }
   ],
   "source": [
    "cobb_douglas(1.0, 0.5)"
   ]
  },
  {
   "cell_type": "markdown",
   "id": "fb022d91",
   "metadata": {},
   "source": [
    "However, we can also set the other arguments of the function by passing\n",
    "more than just K/L."
   ]
  },
  {
   "cell_type": "code",
   "execution_count": 22,
   "id": "b50a00f2",
   "metadata": {},
   "outputs": [
    {
     "data": {
      "text/plain": [
       "1.0196485018554098"
      ]
     },
     "execution_count": 22,
     "metadata": {},
     "output_type": "execute_result"
    }
   ],
   "source": [
    "cobb_douglas(1.0, 0.5, 0.35, 1.6)"
   ]
  },
  {
   "cell_type": "markdown",
   "id": "ffe3709c",
   "metadata": {},
   "source": [
    "In the example above, we used `alpha = 0.35`, `z = 1.6`.\n",
    "\n",
    "We can also refer to function arguments by their name, instead of only their\n",
    "position (order).\n",
    "\n",
    "To do this, we would write `func_name(arg=value)` for as many of the arguments\n",
    "as we want.\n",
    "\n",
    "Here's how to do that with our `cobb_douglas` example."
   ]
  },
  {
   "cell_type": "code",
   "execution_count": 23,
   "id": "4cf61bea",
   "metadata": {},
   "outputs": [
    {
     "data": {
      "text/plain": [
       "0.9427600308913713"
      ]
     },
     "execution_count": 23,
     "metadata": {},
     "output_type": "execute_result"
    }
   ],
   "source": [
    "cobb_douglas(1.0, 0.5, z = 1.5)"
   ]
  },
  {
   "cell_type": "markdown",
   "id": "c5790853",
   "metadata": {},
   "source": [
    "````{admonition} Exercise\n",
    ":name: dir2-4-4\n",
    "\n",
    "See exercise 4 in the {ref}`exercise list <ex2-4>`.\n",
    "````\n",
    "\n",
    "In terms of variable scope, the `z` name within the function is\n",
    "different from any other `z` in the outer scope.\n",
    "\n",
    "To be clear,"
   ]
  },
  {
   "cell_type": "code",
   "execution_count": 24,
   "id": "e4d4bbc1",
   "metadata": {},
   "outputs": [
    {
     "data": {
      "text/plain": [
       "5"
      ]
     },
     "execution_count": 24,
     "metadata": {},
     "output_type": "execute_result"
    }
   ],
   "source": [
    "x = 5\n",
    "def f(x):\n",
    "    return x\n",
    "f(x) # \"coincidence\" that it has the same name"
   ]
  },
  {
   "cell_type": "markdown",
   "id": "a0dd4c7d",
   "metadata": {},
   "source": [
    "This is also true with named function arguments, above."
   ]
  },
  {
   "cell_type": "code",
   "execution_count": 25,
   "id": "6e5f5afe",
   "metadata": {},
   "outputs": [
    {
     "data": {
      "text/plain": [
       "0.9427600308913713"
      ]
     },
     "execution_count": 25,
     "metadata": {},
     "output_type": "execute_result"
    }
   ],
   "source": [
    "z = 1.5\n",
    "cobb_douglas(1.0, 0.5, z = z) # no problem!"
   ]
  },
  {
   "cell_type": "markdown",
   "id": "e55b9ea7",
   "metadata": {},
   "source": [
    "In that example, the `z` on the left hand side of `z = z` refers\n",
    "to the local variable name in the function whereas the `z` on the\n",
    "right hand side refers to the `z` in the outer scope.\n",
    "\n",
    "\n",
    "\n",
    "### Aside: Methods\n",
    "\n",
    "As we learned earlier, all variables in Python have a type associated\n",
    "with them.\n",
    "\n",
    "Different types of variables have different functions or operations\n",
    "defined for them.\n",
    "\n",
    "For example, I can divide one number by another or make a string uppercase.\n",
    "\n",
    "It wouldn't make sense to divide one string by another or make a number\n",
    "uppercase.\n",
    "\n",
    "When certain functionality is closely tied to the type of an object, it\n",
    "is often implemented as a special kind of function known as a **method**.\n",
    "\n",
    "For now, you only need to know two things about methods:\n",
    "\n",
    "1. We call them by doing `variable.method_name(other_arguments)`\n",
    "   instead of `function_name(variable, other_arguments)`.\n",
    "1. A method is a function, even though we call it using a different\n",
    "   notation.\n",
    "\n",
    "When we introduced the core data types, we saw many methods defined on\n",
    "these types.\n",
    "\n",
    "Let's revisit them for the `str`, or string type.\n",
    "\n",
    "Notice that we call each of these functions using the `dot` syntax\n",
    "described above."
   ]
  },
  {
   "cell_type": "code",
   "execution_count": 26,
   "id": "156951c6",
   "metadata": {},
   "outputs": [],
   "source": [
    "s = \"This is my handy string!\""
   ]
  },
  {
   "cell_type": "code",
   "execution_count": 27,
   "id": "2dd863c4",
   "metadata": {},
   "outputs": [
    {
     "data": {
      "text/plain": [
       "'THIS IS MY HANDY STRING!'"
      ]
     },
     "execution_count": 27,
     "metadata": {},
     "output_type": "execute_result"
    }
   ],
   "source": [
    "s.upper()"
   ]
  },
  {
   "cell_type": "code",
   "execution_count": 28,
   "id": "60336583",
   "metadata": {},
   "outputs": [
    {
     "data": {
      "text/plain": [
       "'This Is My Handy String!'"
      ]
     },
     "execution_count": 28,
     "metadata": {},
     "output_type": "execute_result"
    }
   ],
   "source": [
    "s.title()"
   ]
  },
  {
   "cell_type": "markdown",
   "id": "b7613624",
   "metadata": {},
   "source": [
    "### Creating Custom Types\n",
    "\n",
    "Python allows for Object-Oriented Programming (OOP), allowing you to define your own custom types and merge together some sets of parameters with custom methods. This can help you streamline your code by making it more modular.\n",
    "\n",
    "We are used to defining variables like `x = dict(\"a\": 1, \"b\": 2)` and then using notation like `x[\"a\"]` to access the value of `1`. We can also define our own custom types and use them in similar ways.\n",
    "\n",
    "For example, a simple class that stores two variables would look like this:"
   ]
  },
  {
   "cell_type": "code",
   "execution_count": 29,
   "id": "5ccbdb36",
   "metadata": {},
   "outputs": [],
   "source": [
    "class A:\n",
    "  def __init__(self, x, y):\n",
    "    self.x = x\n",
    "    self.y = y"
   ]
  },
  {
   "cell_type": "markdown",
   "id": "107bee88",
   "metadata": {},
   "source": [
    "Used both internal and external to classes, the `__init__` method is a special method that is called when an object is created. It is used to initialize the object's state. The `self` argument refers to the object itself. The `self` argument is always the first argument of any method in a class. The `self` argument is not passed in when the method is called, but Python will pass in the object itself when the method is called.\n",
    "\n",
    "A class, defined by the `class` keyword, is a blueprint for an object. It defines the attributes and methods that an object will have. An object is an instance of a class that has been created and assigned to a variable. It is created by calling the class name as if it were a function. When you call the class name, the object is created and the `__init__` method is called by default."
   ]
  },
  {
   "cell_type": "code",
   "execution_count": 30,
   "id": "a75bd57b",
   "metadata": {},
   "outputs": [
    {
     "data": {
      "text/plain": [
       "False"
      ]
     },
     "execution_count": 30,
     "metadata": {},
     "output_type": "execute_result"
    }
   ],
   "source": [
    "a = A(1, 2)\n",
    "b = A(3, 4)\n",
    "# Notice that these are different objects\n",
    "a == b"
   ]
  },
  {
   "cell_type": "markdown",
   "id": "073c64a7",
   "metadata": {},
   "source": [
    "You can see that `a` and `b` are both instances of the `A` class by using the `type` function."
   ]
  },
  {
   "cell_type": "code",
   "execution_count": 31,
   "id": "54bff798",
   "metadata": {},
   "outputs": [
    {
     "data": {
      "text/plain": [
       "__main__.A"
      ]
     },
     "execution_count": 31,
     "metadata": {},
     "output_type": "execute_result"
    }
   ],
   "source": [
    "type(a)"
   ]
  },
  {
   "cell_type": "markdown",
   "id": "6ee9fc4e",
   "metadata": {},
   "source": [
    "Point at the debugger to see the `a.x` etc. fields\n",
    "You can access the attributes of an object using the dot notation. For example, to access the `x` attribute of the `a` object, you would use `a.x`."
   ]
  },
  {
   "cell_type": "code",
   "execution_count": 32,
   "id": "cf460669",
   "metadata": {},
   "outputs": [
    {
     "name": "stdout",
     "output_type": "stream",
     "text": [
      "a.x = 1 and a.y = 2\n"
     ]
    }
   ],
   "source": [
    "print(f\"a.x = {a.x} and a.y = {a.y}\")"
   ]
  },
  {
   "cell_type": "markdown",
   "id": "9edf0611",
   "metadata": {},
   "source": [
    "In addition to attributes, objects can also have methods. Methods are functions that are defined inside of a class. They are accessed using the dot notation as well. For example, let's define a method that adds the `x` and `y` attributes of an object."
   ]
  },
  {
   "cell_type": "code",
   "execution_count": 33,
   "id": "228019aa",
   "metadata": {},
   "outputs": [],
   "source": [
    "class B:\n",
    "  def __init__(self, x, y):\n",
    "    self.x = x\n",
    "    self.y = y\n",
    "\n",
    "  def add(self):\n",
    "    return self.x + self.y"
   ]
  },
  {
   "cell_type": "markdown",
   "id": "85d9fd99",
   "metadata": {},
   "source": [
    "We can now create an object of type `B` and call the `add` method, in the same way that we called methods on built-in types (like the `.upper()` method on a string.)"
   ]
  },
  {
   "cell_type": "code",
   "execution_count": 34,
   "id": "31e1fe4d",
   "metadata": {},
   "outputs": [
    {
     "name": "stdout",
     "output_type": "stream",
     "text": [
      "3\n"
     ]
    }
   ],
   "source": [
    "b = B(1, 2)\n",
    "print(b.add())"
   ]
  },
  {
   "cell_type": "markdown",
   "id": "96bdedee",
   "metadata": {},
   "source": [
    "Using custom classes can often be a helpful way to organize your code and make it more modular, by grouping together related variables and functions. Understanding how to create and use custom classes is also a key part of understanding how Python works under the hood, and can be crucial to using some of the more advanced Python packages (like [PyTorch](https://pytorch.org/tutorials/beginner/basics/quickstart_tutorial.html).)\n",
    "\n",
    "````{admonition} Exercise\n",
    ":name: dir2-4-5\n",
    "\n",
    "See exercise 5 in the {ref}`exercise list <ex2-4>`.\n",
    "````\n",
    "\n",
    "\n",
    "## More on Scope (Optional)\n",
    "\n",
    "Keep in mind that with mathematical functions, the arguments are just dummy names\n",
    "that can be interchanged.\n",
    "\n",
    "That is, the following are identical.\n",
    "\n",
    "$$\n",
    "\\begin{eqnarray}\n",
    "    f(K, L) &= z\\, K^{\\alpha} L^{1-\\alpha}\\\\\n",
    "    f(K_2, L_2) &= z\\, K_2^{\\alpha} L_2^{1-\\alpha}\n",
    "\\end{eqnarray}\n",
    "$$\n",
    "\n",
    "The same concept applies to Python functions, where the arguments are just\n",
    "placeholder names, and our `cobb_douglas` function is identical to"
   ]
  },
  {
   "cell_type": "code",
   "execution_count": 35,
   "id": "491493dd",
   "metadata": {},
   "outputs": [
    {
     "data": {
      "text/plain": [
       "0.6285066872609142"
      ]
     },
     "execution_count": 35,
     "metadata": {},
     "output_type": "execute_result"
    }
   ],
   "source": [
    "def cobb_douglas2(K2, L2): # changed dummy variable names\n",
    "\n",
    "    # Create alpha and z\n",
    "    z = 1\n",
    "    alpha = 0.33\n",
    "\n",
    "    return z * K2**alpha * L2**(1 - alpha)\n",
    "\n",
    "cobb_douglas2(1.0, 0.5)"
   ]
  },
  {
   "cell_type": "markdown",
   "id": "82ec006b",
   "metadata": {},
   "source": [
    "This is an appealing feature of functions for avoiding coding errors: names of variables\n",
    "within the function are localized and won't clash with those on the outside (with\n",
    "more examples in {ref}`scope <scope>`).\n",
    "\n",
    "Importantly, when Python looks for variables\n",
    "matching a particular name, it begins in the most local scope.\n",
    "\n",
    "That is, note that having an `alpha` in the outer scope does not impact the local one."
   ]
  },
  {
   "cell_type": "code",
   "execution_count": 36,
   "id": "180d9a91",
   "metadata": {},
   "outputs": [
    {
     "name": "stdout",
     "output_type": "stream",
     "text": [
      "0.5743491774985174\n",
      "Setting alpha, does the result change?\n",
      "0.5743491774985174\n"
     ]
    }
   ],
   "source": [
    "def cobb_douglas3(K, L, alpha): # added new argument\n",
    "\n",
    "    # Create alpha and z\n",
    "    z = 1\n",
    "\n",
    "    return z * K**alpha * L**(1 - alpha) # sees local argument alpha\n",
    "\n",
    "print(cobb_douglas3(1.0, 0.5, 0.2))\n",
    "print(\"Setting alpha, does the result change?\")\n",
    "alpha = 0.5 # in the outer scope\n",
    "print(cobb_douglas3(1.0, 0.5, 0.2))"
   ]
  },
  {
   "cell_type": "markdown",
   "id": "49e358fb",
   "metadata": {},
   "source": [
    "A crucial element of the above function is that the `alpha` variable\n",
    "was available in the local scope of the function.\n",
    "\n",
    "Consider the alternative where it is not. We have removed the `alpha`\n",
    "function parameter as well as the local definition of `alpha`."
   ]
  },
  {
   "cell_type": "code",
   "execution_count": 37,
   "id": "d87db97e",
   "metadata": {},
   "outputs": [
    {
     "name": "stdout",
     "output_type": "stream",
     "text": [
      "alpha = 0.2 gives 0.5743491774985174\n",
      "alpha = 0.3 gives 0.6155722066724582\n"
     ]
    }
   ],
   "source": [
    "def cobb_douglas4(K, L): # added new argument\n",
    "\n",
    "    # Create alpha and z\n",
    "    z = 1\n",
    "\n",
    "    # there are no local alpha in scope!\n",
    "    return z * K**alpha * L**(1 - alpha)\n",
    "\n",
    "alpha = 0.2 # in the outer scope\n",
    "print(f\"alpha = {alpha} gives {cobb_douglas4(1.0, 0.5)}\")\n",
    "alpha = 0.3\n",
    "print(f\"alpha = {alpha} gives {cobb_douglas4(1.0, 0.5)}\")"
   ]
  },
  {
   "cell_type": "markdown",
   "id": "0cffb07d",
   "metadata": {},
   "source": [
    "The intuition of scoping does not apply only for the \"global\" vs. \"function\"\n",
    "naming of variables, but also for nesting.\n",
    "\n",
    "For example, we can define a version of `cobb_douglas` which\n",
    "is also missing a `z` in its inner-most scope, then put the function\n",
    "inside of another function."
   ]
  },
  {
   "cell_type": "code",
   "execution_count": 38,
   "id": "27700080",
   "metadata": {},
   "outputs": [
    {
     "data": {
      "text/plain": [
       "[0.5743491774985174, 0.6155722066724582, 0.7071067811865476]"
      ]
     },
     "execution_count": 38,
     "metadata": {},
     "output_type": "execute_result"
    }
   ],
   "source": [
    "z = 1\n",
    "def output_given_alpha(alpha):\n",
    "    # Scoping logic:\n",
    "    # 1. local function name doesn't clash with global one\n",
    "    # 2. alpha comes from the function parameter\n",
    "    # 3. z comes from the outer global scope\n",
    "    def cobb_douglas(K, L):\n",
    "        return z * K**alpha * L**(1 - alpha)\n",
    "\n",
    "    # using this function\n",
    "    return cobb_douglas(1.0, 0.5)\n",
    "\n",
    "alpha = 100 # ignored\n",
    "alphas = [0.2, 0.3, 0.5]\n",
    "# comprehension variables also have local scope\n",
    "# and don't clash with the alpha = 100\n",
    "[output_given_alpha(alpha) for alpha in alphas]"
   ]
  },
  {
   "cell_type": "markdown",
   "id": "6f294e95",
   "metadata": {},
   "source": [
    "(ex2-4)=\n",
    "## Exercises\n",
    "\n",
    "### Exercise 1\n",
    "\n",
    "What happens if we try different inputs in our Cobb-Douglas production\n",
    "function?"
   ]
  },
  {
   "cell_type": "code",
   "execution_count": 39,
   "id": "7c247acc",
   "metadata": {},
   "outputs": [],
   "source": [
    "# Compute returns to scale with different values of `K` and `L` and `gamma`"
   ]
  },
  {
   "cell_type": "markdown",
   "id": "75c73756",
   "metadata": {},
   "source": [
    "({ref}`back to text <dir2-4-1>`)\n",
    "\n",
    "### Exercise 2\n",
    "\n",
    "Define a function named `var` that takes a list (call it `x`) and\n",
    "computes the variance. This function should use the mean function that we\n",
    "defined earlier.\n",
    "\n",
    "```{hint}\n",
    "\n",
    "$\\text{variance} = \\frac{1}{N-1} \\sum_i (x_i - \\text{mean}(x))^2$\n",
    "\n",
    "```"
   ]
  },
  {
   "cell_type": "code",
   "execution_count": 40,
   "id": "4236f3e9",
   "metadata": {},
   "outputs": [],
   "source": [
    "# Your code here."
   ]
  },
  {
   "cell_type": "markdown",
   "id": "05d0f328",
   "metadata": {},
   "source": [
    "({ref}`back to text <dir2-4-2>`)\n",
    "\n",
    "### Exercise 3\n",
    "\n",
    "Redefine the `returns_to_scale` function and add a docstring.\n",
    "\n",
    "Confirm that it works by running the cell containing `returns_to_scale?` below.\n",
    "\n",
    "*Note*: You do not need to change the actual code in the function — just\n",
    "copy/paste and add a docstring in the correct line."
   ]
  },
  {
   "cell_type": "code",
   "execution_count": 41,
   "id": "bb6d2f9a",
   "metadata": {},
   "outputs": [],
   "source": [
    "# re-define the `returns_to_scale` function here"
   ]
  },
  {
   "cell_type": "code",
   "execution_count": 42,
   "id": "5bbc4396",
   "metadata": {
    "tags": [
     "remove-output"
    ]
   },
   "outputs": [],
   "source": [
    "# test it here\n",
    "\n",
    "returns_to_scale?"
   ]
  },
  {
   "cell_type": "markdown",
   "id": "745e4247",
   "metadata": {},
   "source": [
    "({ref}`back to text <dir2-4-3>`)\n",
    "\n",
    "### Exercise 4\n",
    "\n",
    "Experiment with the `sep` and `end` arguments to the `print` function.\n",
    "\n",
    "These can *only* be set by name."
   ]
  },
  {
   "cell_type": "code",
   "execution_count": 43,
   "id": "f464578f",
   "metadata": {},
   "outputs": [],
   "source": [
    "# Your code here."
   ]
  },
  {
   "cell_type": "markdown",
   "id": "eb00a72e",
   "metadata": {},
   "source": [
    "({ref}`back to text <dir2-4-4>`)\n",
    "\n",
    "### Exercise 5\n",
    "\n",
    "Define a custom class called `CobbDouglas` that collects the parameters `z` and `alpha` as attributes, and has a method called `produce` that takes `K` and `L` as arguments and returns the output from the Cobb-Douglas production function."
   ]
  },
  {
   "cell_type": "code",
   "execution_count": 44,
   "id": "ab0ba693",
   "metadata": {},
   "outputs": [],
   "source": [
    "# Your code here."
   ]
  },
  {
   "cell_type": "markdown",
   "id": "a705bde1",
   "metadata": {},
   "source": [
    "Now create an instance of the `CobbDouglas` class called `cobb_douglas1` with `z = 1` and `alpha = 0.33`. Use the `produce` method to compute the output when `K = 1` and `L = 0.5`."
   ]
  },
  {
   "cell_type": "code",
   "execution_count": 45,
   "id": "384695f1",
   "metadata": {},
   "outputs": [],
   "source": [
    "# Your code here."
   ]
  },
  {
   "cell_type": "markdown",
   "id": "9b767162",
   "metadata": {},
   "source": [
    "({ref}`back to text <dir2-4-5>`)"
   ]
  }
 ],
 "metadata": {
  "jupytext": {
   "text_representation": {
    "extension": ".md",
    "format_name": "myst"
   }
  },
  "kernelspec": {
   "display_name": "Python 3",
   "language": "python",
   "name": "python3"
  },
  "language_info": {
   "codemirror_mode": {
    "name": "ipython",
    "version": 3
   },
   "file_extension": ".py",
   "mimetype": "text/x-python",
   "name": "python",
   "nbconvert_exporter": "python",
   "pygments_lexer": "ipython3",
   "version": "3.9.17"
  },
  "source_map": [
   10,
   132,
   139,
   147,
   151,
   158,
   163,
   167,
   172,
   204,
   213,
   218,
   226,
   231,
   233,
   242,
   250,
   254,
   256,
   298,
   303,
   307,
   309,
   320,
   328,
   330,
   419,
   428,
   431,
   435,
   438,
   443,
   446,
   477,
   487,
   492,
   494,
   518,
   526,
   531,
   533,
   538,
   540,
   552,
   554,
   567,
   572,
   576,
   579,
   618,
   622,
   626,
   628,
   639,
   644,
   650,
   655,
   659,
   661,
   665,
   667,
   672,
   680,
   684,
   687,
   715,
   725,
   736,
   748,
   756,
   769,
   778,
   796,
   805,
   807,
   823,
   825,
   838,
   842,
   847,
   857,
   859,
   867,
   869,
   873,
   875
  ]
 },
 "nbformat": 4,
 "nbformat_minor": 5
}