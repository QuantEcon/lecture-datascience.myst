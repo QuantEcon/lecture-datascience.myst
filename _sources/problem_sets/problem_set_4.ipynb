{
 "cells": [
  {
   "cell_type": "markdown",
   "id": "e3a19875",
   "metadata": {},
   "source": [
    "# Problem Set 4\n",
    "\n",
    "See \"Check Your Understanding\" from {doc}`Applied Linear Algebra <../scientific/applied_linalg>`, {doc}`Randomness <../scientific/randomness>`, and {doc}`Optimization <../scientific/optimization>`\n",
    "\n",
    "## Question 1\n",
    "\n",
    "Alice is a stock broker who owns two types of assets: A and B. She owns 100\n",
    "units of asset A and 50 units of asset B. The current interest rate is 5%.\n",
    "Each of the A assets have a remaining duration of 6 years and pay\n",
    "$1500$ dollars each year while each of the B assets have a remaining duration\n",
    "of 4 years and pay $500$ dollars each year (assume the first payment starts at the beginning of the\n",
    "first year and hence, should not be discounted).\n",
    "\n",
    "Alice would like to retire if she\n",
    "can sell her assets for more than $1 million. Use vector addition, scalar\n",
    "multiplication, and dot products to determine whether she can retire."
   ]
  },
  {
   "cell_type": "code",
   "execution_count": 1,
   "id": "89c406a2",
   "metadata": {},
   "outputs": [],
   "source": [
    "r = 0.05\n",
    "\n",
    "# your code here"
   ]
  },
  {
   "cell_type": "markdown",
   "id": "17322bb4",
   "metadata": {},
   "source": [
    "## Question 2\n",
    "\n",
    "As in {doc}`Applied Linear Algebra <../scientific/applied_linalg>`:\n",
    "\n",
    "Consider an economy where in any given year, $\\alpha = 3\\%$ of workers lose their jobs and\n",
    "$\\phi = 12\\%$ of unemployed workers find jobs.\n",
    "\n",
    "Define the vector $x_0 = \\begin{bmatrix} 600,000 & 200,000 \\end{bmatrix}$ as the number of\n",
    "employed and unemployed workers (respectively) at time $0$ in the economy.\n",
    "\n",
    "Adapting the code from the lecture notes, plot the unemployment rate over time in this economy for $t = 0, \\ldots 20$ (i.e. number of unemployed over total number of workers)."
   ]
  },
  {
   "cell_type": "code",
   "execution_count": 2,
   "id": "fcc341cf",
   "metadata": {},
   "outputs": [],
   "source": [
    "# your code here"
   ]
  },
  {
   "cell_type": "markdown",
   "id": "f4e9162a",
   "metadata": {},
   "source": [
    "Continue the simulation for 1000 periods to find a long-run unemployment rate."
   ]
  },
  {
   "cell_type": "code",
   "execution_count": 3,
   "id": "7b1ce998",
   "metadata": {},
   "outputs": [],
   "source": [
    "# your code here"
   ]
  },
  {
   "cell_type": "markdown",
   "id": "11ab8389",
   "metadata": {},
   "source": [
    "Adapt the lecture notes code to use the matrix you set up for the evolution equation, and\n",
    "find the (left) eigenvector associated with the unit eigenvalue.  Rescale this as required (i.e.\n",
    "it is only unique up to a scaling parameter) to find the stationary unemployment rate. Compare to the simulated\n",
    "one."
   ]
  },
  {
   "cell_type": "code",
   "execution_count": 4,
   "id": "220ee4a9",
   "metadata": {},
   "outputs": [],
   "source": [
    "# your code here"
   ]
  },
  {
   "cell_type": "markdown",
   "id": "c8176df1",
   "metadata": {},
   "source": [
    "<!---\n",
    "## Question 4\n",
    "\n",
    "Adapt our unemployment example to add in an additional category: a probationary period where a firm is deciding if they want to make\n",
    "an employee a permanent offer.  Now, in any given year\n",
    "-  $\\alpha = 3\\%$ of workers with full job offers lose their jobs.\n",
    "-  $\\phi = 12\\%$ of unemployed workers find a \"probationary\" job (i.e., they cannot get the permanent job directly).\n",
    "-  Probation lasts for exactly an entire period, at which point $\\lambda = 60\\%$ of the employees get a permanent job offer, while the remainder become unemployed.\n",
    "\n",
    "Define the vector $x_0 = \\begin{bmatrix} 600,000 & 200,000 & 100,000\\end{bmatrix}$ as the number of\n",
    "fully employed, unemployed, and probationary workers (respectively) at time $0$ in the economy.\n",
    "\n",
    "Adapting the code from the lecture notes, plot the mass of all three types of employment situations in this economy for $t = 0, \\ldots 20$.\n",
    "\n",
    "```{code-cell} python\n",
    "# your code here\n",
    "```\n",
    "-->\n",
    "\n",
    "## Question 3\n",
    "\n",
    "Wikipedia and other credible statistics sources tell us that the mean and\n",
    "variance of the Uniform(0, 1) distribution are (1/2, 1/12) respectively.\n",
    "\n",
    "How could we check whether the numpy random numbers approximate these\n",
    "values? (*hint*: some functions in {doc}`Introduction to Numpy <../scientific/numpy_arrays>` and {doc}`Randomness <../scientific/randomness>` might be useful)"
   ]
  },
  {
   "cell_type": "code",
   "execution_count": 5,
   "id": "12ed140a",
   "metadata": {},
   "outputs": [],
   "source": [
    "# your code here"
   ]
  },
  {
   "cell_type": "markdown",
   "id": "d23a8c82",
   "metadata": {},
   "source": [
    "## Question 4\n",
    "\n",
    "Assume you have been given the opportunity to choose between one of three financial assets.\n",
    "\n",
    "You will be given the asset for free, allowed to hold it indefinitely, and will keep all payoffs.\n",
    "\n",
    "Also assume the assets' payoffs are distributed as follows (the notations are the same as in \"Continuous Distributions\" subsection of {doc}`Randomness <../scientific/randomness>`):\n",
    "\n",
    "1. Normal with $\\mu = 10, \\sigma = 5$\n",
    "1. Gamma with $k = 5.3, \\theta = 2$\n",
    "1. Gamma with $k = 5, \\theta = 2$\n",
    "\n",
    "Use `scipy.stats` to answer the following questions:\n",
    "\n",
    "- Which asset has the highest average returns?\n",
    "- Which asset has the highest median returns?\n",
    "- Which asset has the lowest coefficient of variation, i.e., standard deviation divided by mean?\n",
    "- Which asset would you choose? Why? (There is not a single right answer here. Just be creative and express your preferences.)\n",
    "\n",
    "You can find the official documentation of `scipy.stats` [here](https://docs.scipy.org/doc/scipy/reference/stats.html)"
   ]
  },
  {
   "cell_type": "code",
   "execution_count": 6,
   "id": "6e45ac9e",
   "metadata": {},
   "outputs": [],
   "source": [
    "# your code here"
   ]
  },
  {
   "cell_type": "markdown",
   "id": "1e1d307d",
   "metadata": {},
   "source": [
    "## Question 5\n",
    "\n",
    "Take the example with preferences over bananas (B) and apples (A) in {doc}`Optimization <../scientific/optimization>`\n",
    "\n",
    "The consumer solves the following problem:\n",
    "\n",
    "$$\n",
    "\\begin{aligned}\n",
    "\\max_{A, B} & B^{\\alpha}A^{1-\\alpha}\\\\\n",
    "\\text{s.t. } & p_A A + B \\leq W\n",
    "\\end{aligned}\n",
    "$$\n",
    "\n",
    "Fix $p_A = 2$ and $\\alpha = 0.33$.  Make a grid of ``W`` between ``1`` and ``3`` and then plot the optimal ratio of B to A."
   ]
  },
  {
   "cell_type": "code",
   "execution_count": 7,
   "id": "03d264db",
   "metadata": {},
   "outputs": [],
   "source": [
    "p_A = 2\n",
    "alpha = 0.33\n",
    "\n",
    "# Your code here"
   ]
  },
  {
   "cell_type": "markdown",
   "id": "cbd808a8",
   "metadata": {},
   "source": [
    "Do the same graph for $\\alpha = 0.5$ and compare/interpret."
   ]
  },
  {
   "cell_type": "code",
   "execution_count": 8,
   "id": "04fa5721",
   "metadata": {},
   "outputs": [],
   "source": [
    "# Your code here"
   ]
  },
  {
   "cell_type": "markdown",
   "id": "c928b9c8",
   "metadata": {},
   "source": [
    "<!---\n",
    ".. Next year...\n",
    ".. **TODO assignment?** See how the marginal utility changes as you take alpha towards 0 or 1, and explain.  Then look at how the indifference curves change.\n",
    ".. **TODO assignment?** Numerically demonstrate the wealth effect and the income effect in a graph using the optimization approach.  Maybe look at another utility function such as log utility?\n",
    "-->\n",
    "\n",
    "## Question 6\n",
    "Normalize the price of potato chips to be $1$ and set the price of chocolate bars to be $q$.\n",
    "\n",
    "Using a similar approach as seen in the apples/bananas example above, solve for the optimal\n",
    "basket of potato chips and chocolate bars.\n",
    "\n",
    "$$\n",
    "\\begin{aligned}\n",
    "\\max_{P, C} & -(P - 20)^2 - 2 * (C - 1)^2\\\\\n",
    "\\text{s.t. } & P + q C \\leq W\n",
    "\\end{aligned}\n",
    "$$\n",
    "\n",
    "Hint:  When analyzing bliss points, as in {doc}`Optimization <../scientific/optimization>`, we need to consider that they may not reach the bliss point.  Remember that in the algebra for our problems, we were only able to substitute using the budget constraint if the budget constraint is binding under optimal consumption bundles.\n",
    "\n",
    "Fix the price for chocolate bars to be $q = 10$\n",
    "\n",
    "Find the optimal quantity of $C$ and $P$ for $W = 20$"
   ]
  },
  {
   "cell_type": "code",
   "execution_count": 9,
   "id": "dcbda643",
   "metadata": {},
   "outputs": [],
   "source": [
    "W = 20\n",
    "q = 10\n",
    "\n",
    "# Your code here"
   ]
  },
  {
   "cell_type": "markdown",
   "id": "b6553f25",
   "metadata": {},
   "source": [
    "Now, do the same thing for a grid of $W$ between $20$ and $50$ and plot the optimal $C$ and $P$ in a single graph."
   ]
  },
  {
   "cell_type": "code",
   "execution_count": 10,
   "id": "08638bb9",
   "metadata": {},
   "outputs": [],
   "source": [
    "# Your code here"
   ]
  },
  {
   "cell_type": "markdown",
   "id": "4b81fc25",
   "metadata": {},
   "source": [
    "## Question 7\n",
    "\n",
    "Let's revisit the unemployment example from the {doc}`Applied Linear Algebra <../scientific/applied_linalg>`.\n",
    "\n",
    "We'll repeat necessary details here.\n",
    "\n",
    "Consider an economy where in any given year, $\\alpha = 5\\%$ of workers lose their jobs, and\n",
    "$\\phi = 10\\%$ of unemployed workers find jobs.\n",
    "\n",
    "Initially, 90% of the 1,000,000 workers are employed.\n",
    "\n",
    "Suppose that the average employed worker earns 10 dollars while an unemployed worker\n",
    "earns 1 dollar per period.\n",
    "\n",
    "With this, do the following:\n",
    "\n",
    "* Represent this problem as a Markov chain by defining the three components defined above"
   ]
  },
  {
   "cell_type": "code",
   "execution_count": 11,
   "id": "c7fa8863",
   "metadata": {},
   "outputs": [],
   "source": [
    "# define components here"
   ]
  },
  {
   "cell_type": "markdown",
   "id": "2afa009b",
   "metadata": {},
   "source": [
    "* Construct an instance of the QuantEcon MarkovChain using the objects defined in part 1."
   ]
  },
  {
   "cell_type": "code",
   "execution_count": 12,
   "id": "17ca9713",
   "metadata": {},
   "outputs": [],
   "source": [
    "# construct the Markov chain"
   ]
  },
  {
   "cell_type": "markdown",
   "id": "8117eab6",
   "metadata": {},
   "source": [
    "* Simulate the Markov chain 5 times for 50 time periods starting from an employment state and plot the chains over time (see helper code below)."
   ]
  },
  {
   "cell_type": "code",
   "execution_count": 13,
   "id": "7236a482",
   "metadata": {},
   "outputs": [],
   "source": [
    "n = 50\n",
    "M = 5\n",
    "\n",
    "# uncomment the lines below and fill in the blanks\n",
    "# sim = XXXXX.simulate(n, init = XXXXX, num_reps = M)\n",
    "# fig, ax = plt.subplots(figsize=(10, 8))\n",
    "# ax.plot(range(n), sim.T, alpha=0.4)"
   ]
  },
  {
   "cell_type": "markdown",
   "id": "423cdf3d",
   "metadata": {},
   "source": [
    "* Using the approach above, simulate the Markov chain `M=20` times for 50 time periods. Instead of starting from an employment state, start off the `M` in proportion to the initial condition above (i.e. 90% of them in an employment state and 10% in an unemployment state). (Hint: you can pass a list to the `init` parameter in the `simulate` function.)\n",
    "\n",
    "With this simulation, plot the average proportion of `M` agents in the employment state (i.e. it should start at 0.90 from the initial condition)."
   ]
  },
  {
   "cell_type": "code",
   "execution_count": 14,
   "id": "38472a65",
   "metadata": {},
   "outputs": [],
   "source": [
    "# define components here"
   ]
  },
  {
   "cell_type": "markdown",
   "id": "c975c2af",
   "metadata": {},
   "source": [
    "* Calculate the steady-state of the Markov chain and compare results from this simulation to the steady-state unemployment rate for the Markov chain (on a similar graph)."
   ]
  },
  {
   "cell_type": "code",
   "execution_count": 15,
   "id": "d896f7e1",
   "metadata": {},
   "outputs": [],
   "source": [
    "# define components here"
   ]
  },
  {
   "cell_type": "markdown",
   "id": "6c135bf2",
   "metadata": {},
   "source": [
    "* Determine the average long-run payment for a worker in this setting. (Hint: Think about the stationary distribution)"
   ]
  },
  {
   "cell_type": "code",
   "execution_count": 16,
   "id": "c87292f2",
   "metadata": {},
   "outputs": [],
   "source": [
    "# define components here\n",
    "\n",
    "# construct Markov chain\n",
    "\n",
    "\n",
    "# Long-run average payment"
   ]
  }
 ],
 "metadata": {
  "jupytext": {
   "text_representation": {
    "extension": ".md",
    "format_name": "myst"
   }
  },
  "kernelspec": {
   "display_name": "Python 3",
   "language": "python",
   "name": "python3"
  },
  "language_info": {
   "codemirror_mode": {
    "name": "ipython",
    "version": 3
   },
   "file_extension": ".py",
   "mimetype": "text/x-python",
   "name": "python",
   "nbconvert_exporter": "python",
   "pygments_lexer": "ipython3",
   "version": "3.9.16"
  },
  "orphan": true,
  "source_map": [
   11,
   30,
   34,
   48,
   50,
   54,
   56,
   63,
   65,
   94,
   96,
   119,
   121,
   138,
   143,
   147,
   149,
   176,
   181,
   185,
   187,
   207,
   209,
   213,
   215,
   219,
   227,
   233,
   235,
   239,
   241,
   245
  ]
 },
 "nbformat": 4,
 "nbformat_minor": 5
}