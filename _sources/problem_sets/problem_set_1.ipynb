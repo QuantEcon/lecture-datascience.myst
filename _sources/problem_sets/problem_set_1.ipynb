{
 "cells": [
  {
   "cell_type": "markdown",
   "id": "ff370a37",
   "metadata": {},
   "source": [
    "# Problem Set 1\n",
    "\n",
    "See \"Check Your Understanding\" from {doc}`Basics <../python_fundamentals/basics>` and {doc}`Collections <../python_fundamentals/collections>`\n",
    "\n",
    "## Question 1\n",
    "\n",
    "Below this cell, add\n",
    "\n",
    "1. A Markdown cell with\n",
    "   -  two levels of headings;\n",
    "   -  a numbered list (We ask for a list in Markdown, not a Python list object);\n",
    "   -  an unnumbered list (again not a Python list object);\n",
    "   -  text with a `*` and a `-` sign (hint: look at this cell and [escape characters](https://www.markdownguide.org/basic-syntax/#characters-you-can-escape))\n",
    "   -  backticked code (see [https://github.com/adam-p/markdown-here/wiki/Markdown-Cheatsheet](https://github.com/adam-p/markdown-here/wiki/Markdown-Cheatsheet))\n",
    "1. A Markdown cell with\n",
    "   - the [quadratic formula](https://en.wikipedia.org/wiki/Quadratic_formula) embedded in the cell using [LaTeX](https://jupyter-notebook.readthedocs.io/en/stable/examples/Notebook/Typesetting%20Equations.html)\n",
    "\n",
    "## Question 2\n",
    "\n",
    "Complete the following code, which sets up variables `a, b,` and `c`, to find the roots using the quadratic formula.\n",
    "\n",
    "$$\n",
    "x=\\frac{-b\\pm\\sqrt{b^2-4ac}}{2a}\n",
    "$$\n",
    "\n",
    "Note: because there are two roots, you will need to calculate two values of `x`"
   ]
  },
  {
   "cell_type": "code",
   "execution_count": 1,
   "id": "bb4da75f",
   "metadata": {},
   "outputs": [],
   "source": [
    "a = 1.0\n",
    "b = 2.0\n",
    "c = 1.0\n",
    "# Your code goes here"
   ]
  },
  {
   "cell_type": "markdown",
   "id": "abe38e8c",
   "metadata": {},
   "source": [
    "## Question 3\n",
    "\n",
    "In the cell below, use tab completion to find a function from the time\n",
    "module that displays the **local** time.\n",
    "\n",
    "Use `time.FUNC_NAME?` (where `FUNC_NAME` is replaced with the name\n",
    "of the function you found) to see information about that function,\n",
    "then call the function. (Hint: look for something involving the word\n",
    "`local`)."
   ]
  },
  {
   "cell_type": "code",
   "execution_count": 2,
   "id": "0f257fa4",
   "metadata": {},
   "outputs": [],
   "source": [
    "import time\n",
    "# Your code goes here\n",
    "# time. # uncomment and hit <TAB> to see functions"
   ]
  },
  {
   "cell_type": "markdown",
   "id": "c6c9dd01",
   "metadata": {},
   "source": [
    "Hint: if you are using an online jupyter server, the time will be based on\n",
    "the server settings.  If it doesn't match your location, don't worry about it.\n",
    "\n",
    "## Question 4\n",
    "\n",
    "Create the following variables:\n",
    "\n",
    "- `D`: A floating point number with the value 10,000\n",
    "- `r`: A floating point number with the value 0.025\n",
    "- `T`: An integer with the value 30\n",
    "\n",
    "Compute the present discounted value of a payment (`D`) made\n",
    "in `T` years, assuming an interest rate of 2.5%. Save this value to\n",
    "a new variable called `PDV` and print your output.\n",
    "\n",
    "Hint: The formula is\n",
    "\n",
    "$$\n",
    "\\text{PDV} = \\frac{D}{(1 + r)^T}\n",
    "$$"
   ]
  },
  {
   "cell_type": "code",
   "execution_count": 3,
   "id": "8228727d",
   "metadata": {},
   "outputs": [],
   "source": [
    "# Your code goes here"
   ]
  },
  {
   "cell_type": "markdown",
   "id": "6767ad82",
   "metadata": {},
   "source": [
    "## Question 5\n",
    "\n",
    "How could you use the variables `x` and `y` to create the sentence\n",
    "`Hello World` ?\n",
    "\n",
    "Hint: Think about how to represent a space as a string."
   ]
  },
  {
   "cell_type": "code",
   "execution_count": 4,
   "id": "80504b9e",
   "metadata": {},
   "outputs": [],
   "source": [
    "x = \"Hello\"\n",
    "y = \"World\"\n",
    "# Your code goes here"
   ]
  },
  {
   "cell_type": "markdown",
   "id": "f6e3f49b",
   "metadata": {},
   "source": [
    "## Question 6\n",
    "\n",
    "Suppose you are working with price data and come across the value\n",
    "`\"€6.50\"`.\n",
    "\n",
    "When Python tries to interpret this value, it sees the value as the string\n",
    "`\"€6.50\"` instead of the number `6.50`. (Quiz: why is this a\n",
    "problem? Think about the examples above.)\n",
    "\n",
    "In this exercise, your task is to convert the variable `price` below\n",
    "into a number.\n",
    "\n",
    "*Hint*: Once the string is in a suitable format, you can call\n",
    "`float(clean_price)` to make it a number."
   ]
  },
  {
   "cell_type": "code",
   "execution_count": 5,
   "id": "f0a3d4a2",
   "metadata": {},
   "outputs": [],
   "source": [
    "price = \"€6.50\"\n",
    "# Your code goes here"
   ]
  },
  {
   "cell_type": "markdown",
   "id": "69d49c2c",
   "metadata": {},
   "source": [
    "## Question 7\n",
    "\n",
    "Use Python formatting (e.g. `print(f\"text {somecode}\")` where `somecode` is a valid expression or variable name) to produce the following\n",
    "output.\n",
    "\n",
    "```{code-block} none\n",
    "The 1st quarter revenue was $110M\n",
    "The 2nd quarter revenue was $95M\n",
    "The 3rd quarter revenue was $100M\n",
    "The 4th quarter revenue was $130M\n",
    "```"
   ]
  },
  {
   "cell_type": "code",
   "execution_count": 6,
   "id": "0c24f507",
   "metadata": {},
   "outputs": [],
   "source": [
    "# Your code goes here"
   ]
  },
  {
   "cell_type": "markdown",
   "id": "f701b82b",
   "metadata": {},
   "source": [
    "## Question 8\n",
    "\n",
    "Define two lists y and z.\n",
    "\n",
    "They can contain **anything you want**.\n",
    "\n",
    "Check what happens when you do y + z.\n",
    "When you have finished that, try 2 * x and x * 2 where x represents the object you created from y + z.\n",
    "\n",
    "Briefly explain."
   ]
  },
  {
   "cell_type": "code",
   "execution_count": 7,
   "id": "9e05d60e",
   "metadata": {},
   "outputs": [],
   "source": [
    "y = [] # fill me in!\n",
    "z = [] # fill me in!\n",
    "# Your code goes here"
   ]
  }
 ],
 "metadata": {
  "jupytext": {
   "text_representation": {
    "extension": ".md",
    "format_name": "myst"
   }
  },
  "kernelspec": {
   "display_name": "Python 3",
   "language": "python",
   "name": "python3"
  },
  "language_info": {
   "codemirror_mode": {
    "name": "ipython",
    "version": 3
   },
   "file_extension": ".py",
   "mimetype": "text/x-python",
   "name": "python",
   "nbconvert_exporter": "python",
   "pygments_lexer": "ipython3",
   "version": "3.12.7"
  },
  "orphan": true,
  "source_map": [
   11,
   40,
   45,
   57,
   61,
   84,
   86,
   95,
   99,
   116,
   119,
   133,
   135,
   148
  ]
 },
 "nbformat": 4,
 "nbformat_minor": 5
}