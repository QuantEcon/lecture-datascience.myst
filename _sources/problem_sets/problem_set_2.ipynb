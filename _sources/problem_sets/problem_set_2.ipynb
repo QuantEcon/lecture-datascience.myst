{
 "cells": [
  {
   "cell_type": "markdown",
   "id": "dca8ed5d",
   "metadata": {},
   "source": [
    "# Problem Set 2\n",
    "\n",
    "See \"Check Your Understanding\" from {doc}`Collections <../python_fundamentals/collections>` and {doc}`Control Flow <../python_fundamentals/control_flow>`\n",
    "\n",
    "Note:  unless stated otherwise, the timing of streams of payoffs is immediately at\n",
    "time `0` where appropriate.  For example, dividends $\\{d_1, d_2, \\ldots d_{\\infty}\\}$\n",
    "should be valued as $d_1 + \\beta d_2 + \\beta^2 d_3 \\ldots = \\sum_{j=0}^{\\infty} \\beta^j d_j$.\n",
    "\n",
    "This timing is consistent with the lectures and most economics, but is different from the timing assumptions\n",
    "of some finance models.\n",
    "\n",
    "## Question 1-4\n",
    "\n",
    "Consider a bond that pays a $500 dividend once a quarter.\n",
    "\n",
    "It pays in the months of March, June, September, and December.\n",
    "\n",
    "It promises to do so for 10 years after you purchase it (start in January 2019).\n",
    "\n",
    "You discount the future at rate $r = 0.005$ per _month_.\n",
    "\n",
    "### Question 1\n",
    "\n",
    "How much do you value the asset in January 2019?"
   ]
  },
  {
   "cell_type": "code",
   "execution_count": 1,
   "id": "b76741d8",
   "metadata": {},
   "outputs": [],
   "source": [
    "# Your code goes here"
   ]
  },
  {
   "cell_type": "markdown",
   "id": "8804ce61",
   "metadata": {},
   "source": [
    "### Question 2\n",
    "\n",
    "Consider a different asset that pays a lump sum at its expiration date rather than a quarterly dividend of $500 dollars, how much would this asset need to pay in December 2028 (the final payment date of the quarterly asset) for the two assets to be equally valued?"
   ]
  },
  {
   "cell_type": "code",
   "execution_count": 2,
   "id": "15cdcab5",
   "metadata": {},
   "outputs": [],
   "source": [
    "# Your code goes here"
   ]
  },
  {
   "cell_type": "markdown",
   "id": "0241f908",
   "metadata": {},
   "source": [
    "### Question 3\n",
    "\n",
    "How much should you be willing to pay if your friend bought the quarterly asset (from the main text) in January\n",
    "2019 but wanted to sell it to you in October 2019?"
   ]
  },
  {
   "cell_type": "code",
   "execution_count": 3,
   "id": "8d0e8bd0",
   "metadata": {},
   "outputs": [],
   "source": [
    "# Your code goes here"
   ]
  },
  {
   "cell_type": "markdown",
   "id": "e8fae1a5",
   "metadata": {},
   "source": [
    "### Question 4\n",
    "\n",
    "If you already knew that your discount rate would change annually according to the\n",
    "table below, at what price would you value the quarterly asset (from the main text) in January 2019?\n",
    "\n",
    "*Hint*: There are various ways to do this... One way might include a zipped loop for years and a\n",
    "second loop for months.\n",
    "\n",
    "*More Challenging*: Can you create the list of interest rates without calculating each year individually?\n",
    "\n",
    "\n",
    "\n",
    "\n",
    "\n",
    "\n",
    "\n",
    "\n",
    "\n",
    "\n",
    "\n",
    "\n",
    "\n",
    "\n",
    "\n",
    "\n",
    "\n",
    "\n",
    "\n",
    "\n",
    "\n",
    "\n",
    "\n",
    "\n",
    "\n",
    "\n",
    "\n",
    "\n",
    "\n",
    "\n",
    "\n",
    "\n",
    "\n",
    "\n",
    "\n",
    "\n",
    "\n",
    "\n",
    "\n",
    "\n",
    "\n",
    "\n",
    "\n",
    "\n",
    "\n",
    "|Year|Discount Rate|\n",
    "|:----:|:-------------:|\n",
    "|2019|0.005|\n",
    "|2020|0.00475|\n",
    "|2021|0.0045|\n",
    "|2022|0.00425|\n",
    "|2023|0.004|\n",
    "|2024|0.00375|\n",
    "|2025|0.0035|\n",
    "|2026|0.00325|\n",
    "|2027|0.003|\n",
    "|2028|0.00275|\n",
    "\n",
    "Hint: create appropriate collections typing from the data directly in the code.  You cannot parse the\n",
    "text table directly."
   ]
  },
  {
   "cell_type": "code",
   "execution_count": 4,
   "id": "500e9c5f",
   "metadata": {},
   "outputs": [],
   "source": [
    "# Your code goes here"
   ]
  },
  {
   "cell_type": "markdown",
   "id": "cda8c053",
   "metadata": {},
   "source": [
    "## Questions 5-6\n",
    "\n",
    "Companies often invest in training their employees to raise their\n",
    "productivity. Economists sometimes wonder why companies\n",
    "spend money on training employees when this incentivizes other companies to poach\n",
    "their employees with higher salaries since the employees gain human capital from training.\n",
    "\n",
    "Imagine it costs a company 25,000 dollars to teach their employees Python, but\n",
    "it also raises their output by 2,500 dollars per month. The company discounts the future\n",
    "at rate of $r = 0.01$ per month.\n",
    "\n",
    "### Question 5\n",
    "\n",
    "For how many full months does an employee need to stay at a company for that company to make a profit for\n",
    "paying for their employees' Python training?"
   ]
  },
  {
   "cell_type": "code",
   "execution_count": 5,
   "id": "443882e7",
   "metadata": {},
   "outputs": [],
   "source": [
    "# Your code goes here"
   ]
  },
  {
   "cell_type": "markdown",
   "id": "22ca6a24",
   "metadata": {},
   "source": [
    "### Question 6\n",
    "\n",
    "Imagine that 3/4 of the employees stay for 8 months and 1/4 of the employees stay\n",
    "for 24 months. Is it worth it for the company to invest in employee Python training?"
   ]
  },
  {
   "cell_type": "code",
   "execution_count": 6,
   "id": "090ba70c",
   "metadata": {},
   "outputs": [],
   "source": [
    "# Your code goes here"
   ]
  },
  {
   "cell_type": "markdown",
   "id": "557e62fe",
   "metadata": {},
   "source": [
    "## Question 7 and 8\n",
    "\n",
    "Take the following stock market data, including a stock ticker, price, and company name:\n",
    "\n",
    "\n",
    "\n",
    "\n",
    "\n",
    "\n",
    "\n",
    "\n",
    "\n",
    "\n",
    "\n",
    "\n",
    "\n",
    "\n",
    "\n",
    "\n",
    "\n",
    "\n",
    "\n",
    "\n",
    "\n",
    "\n",
    "\n",
    "\n",
    "\n",
    "|Ticker|Price|Name|\n",
    "|:------:|:-------:|:----------------:|\n",
    "|AAPL|175.96|Apple Inc.|\n",
    "|GOOGL|0.00475|Alphabet Inc.|\n",
    "|TVIX|0.0045|Credit Suisse AG|\n",
    "\n",
    "Hint: create appropriate collections typing from the data directly in the code.  You cannot parse the table directly.\n",
    "\n",
    "### Question 7\n",
    "\n",
    "- Create a new dict which associates ticker with its price.  i.e. the dict key should be a string, the dict value should be a number, and you can ignore the name.\n",
    "- Display a list of the underlying stock tickers using the dictionary.  Hint:\n",
    "  use `.<TAB>` on your dictionary to look for methods to get the list"
   ]
  },
  {
   "cell_type": "code",
   "execution_count": 7,
   "id": "fa220547",
   "metadata": {},
   "outputs": [],
   "source": [
    "# Your code goes here"
   ]
  },
  {
   "cell_type": "markdown",
   "id": "1fb8d1a7",
   "metadata": {},
   "source": [
    "### Question 8 (More Challenging)\n",
    "\n",
    "Using the same data,\n",
    "\n",
    "- Create a new dict, whose values are dictionaries that have a price and name key. These keys should associate the stock tickers with both its stock price and the company name.\n",
    "- Display a list of the underlying stock names (i.e. not the ticker symbol) using the dictionary. Hint: use a comprehension."
   ]
  },
  {
   "cell_type": "code",
   "execution_count": 8,
   "id": "05d41774",
   "metadata": {},
   "outputs": [],
   "source": [
    "# Your code goes here"
   ]
  },
  {
   "cell_type": "markdown",
   "id": "b807a506",
   "metadata": {},
   "source": [
    "## Question 9 (More Challenging)\n",
    "\n",
    "Imagine that we'd like to invest in a small startup company. We have secret\n",
    "information (given to us from a legal source, like statistics, so that we\n",
    "aren't insider trading or anything like that...) that the startup will have\n",
    "4,000 dollars of profits for its first 5 years,\n",
    "then 20,000 dollars of profits for the next 10 years, and\n",
    "then 50,000 dollars of profits for the 10 years after that.\n",
    "\n",
    "After year 25, the company will go under and pay 0 profits.\n",
    "\n",
    "The company would like you to buy 50% of its shares, which means that you\n",
    "will receive 50% of all of the future profits.\n",
    "\n",
    "If you discount the future at $r = 0.05$, how much would you be willing to pay?\n",
    "\n",
    "Hint: Think of this in terms of NPV; you should use some conditional\n",
    "statements.\n",
    "\n",
    "*More Challenging*: Can you think of a way to use the summation equations from the lectures\n",
    "to check your work!?"
   ]
  },
  {
   "cell_type": "code",
   "execution_count": 9,
   "id": "defe3115",
   "metadata": {},
   "outputs": [
    {
     "name": "stdout",
     "output_type": "stream",
     "text": [
      "replace with your code!\n",
      "replace with your code!\n",
      "replace with your code!\n",
      "replace with your code!\n",
      "replace with your code!\n",
      "replace with your code!\n",
      "replace with your code!\n",
      "replace with your code!\n",
      "replace with your code!\n",
      "replace with your code!\n",
      "replace with your code!\n",
      "replace with your code!\n",
      "replace with your code!\n",
      "replace with your code!\n",
      "replace with your code!\n",
      "replace with your code!\n",
      "replace with your code!\n",
      "replace with your code!\n",
      "replace with your code!\n",
      "replace with your code!\n",
      "replace with your code!\n",
      "replace with your code!\n",
      "replace with your code!\n",
      "replace with your code!\n",
      "replace with your code!\n"
     ]
    }
   ],
   "source": [
    "profits_0_5 = 4000\n",
    "profits_5_15 = 20_000\n",
    "profits_15_25 = 50_000\n",
    "\n",
    "willingness_to_pay = 0.0\n",
    "for year in range(25):\n",
    "    print(\"replace with your code!\")"
   ]
  },
  {
   "cell_type": "markdown",
   "id": "0d8a77d7",
   "metadata": {},
   "source": [
    "## Question 10 (More Challenging)\n",
    "\n",
    "For the tuple `foo` below, use a combination of `zip`, `range`, and `len` to mimic `enumerate(foo)`. Verify that your proposed solution is correct by converting each to a list and checking equality with == HINT: You can see what the answer should look like by starting with `list(enumerate(foo))`."
   ]
  },
  {
   "cell_type": "code",
   "execution_count": 10,
   "id": "3bb76219",
   "metadata": {},
   "outputs": [],
   "source": [
    "foo = (\"good\", \"luck!\")\n",
    "# Your code goes here"
   ]
  },
  {
   "cell_type": "markdown",
   "id": "8c730bcf",
   "metadata": {},
   "source": [
    "## Question 11\n",
    "\n",
    "In economics, when an individual has knowledge, skills, or education that provides them with a\n",
    "source of future income, we call it [human capital](https://en.wikipedia.org/wiki/Human_capital).\n",
    "When a student graduating from high school is considering whether to continue with post-secondary\n",
    "education, they may consider that it gives them higher-paying jobs in the future, but requires that\n",
    "they commence work only after graduation.\n",
    "\n",
    "Consider the simplified example where a student has perfectly forecastable employment and is given two choices:\n",
    "\n",
    "1. Begin working immediately and make 40,000 dollars a year until they retire 40 years later.\n",
    "1. Pay 5,000 dollars a year for the next 4 years to attend university and then get a job paying\n",
    "   50,000 dollars a year until they retire 40 years after making the college attendance decision.\n",
    "\n",
    "Should the student enroll in school if the discount rate is $r = 0.05$?"
   ]
  },
  {
   "cell_type": "code",
   "execution_count": 11,
   "id": "d4c56dfe",
   "metadata": {},
   "outputs": [],
   "source": [
    "# Discount rate\n",
    "r = 0.05\n",
    "\n",
    "# High school wage\n",
    "w_hs = 40_000\n",
    "\n",
    "# College wage and cost of college\n",
    "c_college = 5_000\n",
    "w_college = 50_000\n",
    "\n",
    "# Compute npv of being a hs worker\n",
    "\n",
    "# Compute npv of attending college\n",
    "\n",
    "# Compute npv of being a college worker\n",
    "\n",
    "# Is npv_collegeworker - npv_collegecost > npv_hsworker"
   ]
  }
 ],
 "metadata": {
  "jupytext": {
   "text_representation": {
    "extension": ".md",
    "format_name": "myst"
   }
  },
  "kernelspec": {
   "display_name": "Python 3",
   "language": "python",
   "name": "python3"
  },
  "language_info": {
   "codemirror_mode": {
    "name": "ipython",
    "version": 3
   },
   "file_extension": ".py",
   "mimetype": "text/x-python",
   "name": "python",
   "nbconvert_exporter": "python",
   "pygments_lexer": "ipython3",
   "version": "3.9.16"
  },
  "orphan": true,
  "source_map": [
   11,
   38,
   40,
   46,
   48,
   55,
   57,
   129,
   131,
   149,
   151,
   158,
   160,
   204,
   206,
   215,
   217,
   241,
   249,
   255,
   258,
   276
  ]
 },
 "nbformat": 4,
 "nbformat_minor": 5
}