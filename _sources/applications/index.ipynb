{
 "cells": [
  {
   "cell_type": "markdown",
   "id": "cc853f2a",
   "metadata": {},
   "source": [
    "# Applications\n",
    "\n",
    "In this part of the course, we will begin to apply the skills that you have learned. This\n",
    "includes using familiar tools in new applications and learning new tools that can be used for\n",
    "special types of analysis.\n",
    "\n",
    "## <i class=\"fas fa-cogs\" style=\"color:#1665ad\"></i> [Data Visualization: Rules and Guidelines](../applications/visualization_rules.md)\n",
    "\n",
    "## <i class=\"fas fa-cogs\" style=\"color:#1665ad\"></i> [Regression](../applications/regression.md)\n",
    "\n",
    "## <i class=\"fas fa-cogs\" style=\"color:#1665ad\"></i> [Case Study: Recidivism](../applications/recidivism.md)\n",
    "\n",
    "## <i class=\"fas fa-cogs\" style=\"color:#1665ad\"></i> [Mapping in Python](../applications/maps.md)\n",
    "\n",
    "## <i class=\"fas fa-cogs\" style=\"color:#1665ad\"></i> [Classification](../applications/classification.md)\n",
    "\n",
    "## <i class=\"fas fa-cogs\" style=\"color:#1665ad\"></i> [Working with Text](../applications/working_with_text.md)\n",
    "\n",
    "## <i class=\"fas fa-cogs\" style=\"color:#1665ad\"></i> [Machine Learning in Economics](../applications/ml_in_economics.md)\n",
    "\n",
    "## <i class=\"fas fa-cogs\" style=\"color:#1665ad\"></i> [Heterogeneous Effects](../applications/heterogeneity.md)\n",
    "\n",
    "## <i class=\"fas fa-cogs\" style=\"color:#1665ad\"></i> [Social and Economic Networks](../applications/networks.md)"
   ]
  }
 ],
 "metadata": {
  "jupytext": {
   "text_representation": {
    "extension": ".md",
    "format_name": "myst"
   }
  },
  "kernelspec": {
   "display_name": "Python 3",
   "language": "python",
   "name": "python3"
  },
  "language_info": {
   "codemirror_mode": {
    "name": "ipython",
    "version": 3
   },
   "file_extension": ".py",
   "mimetype": "text/x-python",
   "name": "python",
   "nbconvert_exporter": "python",
   "pygments_lexer": "ipython3",
   "version": "3.9.16"
  },
  "source_map": [
   10
  ]
 },
 "nbformat": 4,
 "nbformat_minor": 5
}